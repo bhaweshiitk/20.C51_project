{
  "nbformat": 4,
  "nbformat_minor": 0,
  "metadata": {
    "colab": {
      "name": "20.C51 - Graduate Project.ipynb",
      "provenance": [],
      "collapsed_sections": [],
      "include_colab_link": true
    },
    "kernelspec": {
      "name": "python3",
      "display_name": "Python 3"
    },
    "language_info": {
      "name": "python"
    },
    "accelerator": "GPU"
  },
  "cells": [
    {
      "cell_type": "markdown",
      "metadata": {
        "id": "view-in-github",
        "colab_type": "text"
      },
      "source": [
        "<a href=\"https://colab.research.google.com/github/bhaweshiitk/20.C51_project/blob/main/20_C51_Graduate_Project.ipynb\" target=\"_parent\"><img src=\"https://colab.research.google.com/assets/colab-badge.svg\" alt=\"Open In Colab\"/></a>"
      ]
    },
    {
      "cell_type": "code",
      "source": [
        "import matplotlib.pyplot as plt\n",
        "from torch.utils.data import Dataset, DataLoader\n",
        "import pandas as pd\n",
        "import numpy as np\n",
        "import matplotlib\n",
        "import torch\n",
        "from torch import nn\n",
        "from torch.nn import functional as F\n",
        "from sklearn.model_selection import train_test_split\n",
        "! pip install Bio\n",
        "!pip install umap-learn\n",
        "from Bio import SeqIO\n",
        "import umap"
      ],
      "metadata": {
        "colab": {
          "base_uri": "https://localhost:8080/"
        },
        "id": "JRZq9zAWfzW3",
        "outputId": "47efccfe-c127-4ab7-891e-caae7cce9ce4"
      },
      "execution_count": 1,
      "outputs": [
        {
          "output_type": "stream",
          "name": "stdout",
          "text": [
            "Requirement already satisfied: Bio in /usr/local/lib/python3.7/dist-packages (1.3.8)\n",
            "Requirement already satisfied: requests in /usr/local/lib/python3.7/dist-packages (from Bio) (2.23.0)\n",
            "Requirement already satisfied: mygene in /usr/local/lib/python3.7/dist-packages (from Bio) (3.2.2)\n",
            "Requirement already satisfied: biopython>=1.79 in /usr/local/lib/python3.7/dist-packages (from Bio) (1.79)\n",
            "Requirement already satisfied: tqdm in /usr/local/lib/python3.7/dist-packages (from Bio) (4.64.0)\n",
            "Requirement already satisfied: numpy in /usr/local/lib/python3.7/dist-packages (from biopython>=1.79->Bio) (1.21.6)\n",
            "Requirement already satisfied: biothings-client>=0.2.6 in /usr/local/lib/python3.7/dist-packages (from mygene->Bio) (0.2.6)\n",
            "Requirement already satisfied: certifi>=2017.4.17 in /usr/local/lib/python3.7/dist-packages (from requests->Bio) (2021.10.8)\n",
            "Requirement already satisfied: idna<3,>=2.5 in /usr/local/lib/python3.7/dist-packages (from requests->Bio) (2.10)\n",
            "Requirement already satisfied: chardet<4,>=3.0.2 in /usr/local/lib/python3.7/dist-packages (from requests->Bio) (3.0.4)\n",
            "Requirement already satisfied: urllib3!=1.25.0,!=1.25.1,<1.26,>=1.21.1 in /usr/local/lib/python3.7/dist-packages (from requests->Bio) (1.24.3)\n",
            "Requirement already satisfied: umap-learn in /usr/local/lib/python3.7/dist-packages (0.5.3)\n",
            "Requirement already satisfied: tqdm in /usr/local/lib/python3.7/dist-packages (from umap-learn) (4.64.0)\n",
            "Requirement already satisfied: numpy>=1.17 in /usr/local/lib/python3.7/dist-packages (from umap-learn) (1.21.6)\n",
            "Requirement already satisfied: scikit-learn>=0.22 in /usr/local/lib/python3.7/dist-packages (from umap-learn) (1.0.2)\n",
            "Requirement already satisfied: pynndescent>=0.5 in /usr/local/lib/python3.7/dist-packages (from umap-learn) (0.5.6)\n",
            "Requirement already satisfied: scipy>=1.0 in /usr/local/lib/python3.7/dist-packages (from umap-learn) (1.4.1)\n",
            "Requirement already satisfied: numba>=0.49 in /usr/local/lib/python3.7/dist-packages (from umap-learn) (0.51.2)\n",
            "Requirement already satisfied: llvmlite<0.35,>=0.34.0.dev0 in /usr/local/lib/python3.7/dist-packages (from numba>=0.49->umap-learn) (0.34.0)\n",
            "Requirement already satisfied: setuptools in /usr/local/lib/python3.7/dist-packages (from numba>=0.49->umap-learn) (57.4.0)\n",
            "Requirement already satisfied: joblib>=0.11 in /usr/local/lib/python3.7/dist-packages (from pynndescent>=0.5->umap-learn) (1.1.0)\n",
            "Requirement already satisfied: threadpoolctl>=2.0.0 in /usr/local/lib/python3.7/dist-packages (from scikit-learn>=0.22->umap-learn) (3.1.0)\n"
          ]
        }
      ]
    },
    {
      "cell_type": "code",
      "source": [
        ""
      ],
      "metadata": {
        "id": "fSM0-PWxt2Ht"
      },
      "execution_count": 1,
      "outputs": []
    },
    {
      "cell_type": "code",
      "execution_count": 99,
      "metadata": {
        "id": "OxCVvG5wHokf",
        "colab": {
          "base_uri": "https://localhost:8080/"
        },
        "outputId": "793a03d2-685c-48af-b474-fd11853fd454"
      },
      "outputs": [
        {
          "output_type": "stream",
          "name": "stdout",
          "text": [
            "--2022-05-08 21:48:55--  https://raw.githubusercontent.com/bhaweshiitk/3.C51_project/main/megares_modified_annotations_v2.00.csv\n",
            "Resolving raw.githubusercontent.com (raw.githubusercontent.com)... 185.199.108.133, 185.199.109.133, 185.199.110.133, ...\n",
            "Connecting to raw.githubusercontent.com (raw.githubusercontent.com)|185.199.108.133|:443... connected.\n",
            "HTTP request sent, awaiting response... 200 OK\n",
            "Length: 948917 (927K) [text/plain]\n",
            "Saving to: ‘megares_modified_annotations_v2.00.csv.4’\n",
            "\n",
            "\r          megares_m   0%[                    ]       0  --.-KB/s               \rmegares_modified_an 100%[===================>] 926.68K  --.-KB/s    in 0.006s  \n",
            "\n",
            "2022-05-08 21:48:55 (160 MB/s) - ‘megares_modified_annotations_v2.00.csv.4’ saved [948917/948917]\n",
            "\n",
            "--2022-05-08 21:48:55--  https://raw.githubusercontent.com/bhaweshiitk/3.C51_project/main/megares_modified_database_v2.00.fasta\n",
            "Resolving raw.githubusercontent.com (raw.githubusercontent.com)... 185.199.108.133, 185.199.109.133, 185.199.110.133, ...\n",
            "Connecting to raw.githubusercontent.com (raw.githubusercontent.com)|185.199.108.133|:443... connected.\n",
            "HTTP request sent, awaiting response... 200 OK\n",
            "Length: 8637235 (8.2M) [text/plain]\n",
            "Saving to: ‘megares_modified_database_v2.00.fasta.4’\n",
            "\n",
            "megares_modified_da 100%[===================>]   8.24M  --.-KB/s    in 0.04s   \n",
            "\n",
            "2022-05-08 21:48:55 (193 MB/s) - ‘megares_modified_database_v2.00.fasta.4’ saved [8637235/8637235]\n",
            "\n"
          ]
        }
      ],
      "source": [
        "# Import data\n",
        "! wget https://raw.githubusercontent.com/bhaweshiitk/3.C51_project/main/megares_modified_annotations_v2.00.csv\n",
        "! wget https://raw.githubusercontent.com/bhaweshiitk/3.C51_project/main/megares_modified_database_v2.00.fasta"
      ]
    },
    {
      "cell_type": "code",
      "source": [
        "# Process data\n",
        "train_annotations = pd.read_csv(\"./megares_modified_annotations_v2.00.csv\")\n",
        "train_annotations.shape"
      ],
      "metadata": {
        "id": "5V-TEbEjHwTL",
        "colab": {
          "base_uri": "https://localhost:8080/"
        },
        "outputId": "6007c08a-12b1-4e62-fb54-161cb6645e0b"
      },
      "execution_count": 100,
      "outputs": [
        {
          "output_type": "execute_result",
          "data": {
            "text/plain": [
              "(7868, 5)"
            ]
          },
          "metadata": {},
          "execution_count": 100
        }
      ]
    },
    {
      "cell_type": "code",
      "source": [
        "train_annotations.head()"
      ],
      "metadata": {
        "colab": {
          "base_uri": "https://localhost:8080/",
          "height": 206
        },
        "id": "GVd7nK-EgtTp",
        "outputId": "073587ff-ead7-40b3-c082-c1db6365667d"
      },
      "execution_count": 101,
      "outputs": [
        {
          "output_type": "execute_result",
          "data": {
            "text/plain": [
              "                                              header   type            class  \\\n",
              "0  MEG_1|Drugs|Aminoglycosides|Aminoglycoside-res...  Drugs  Aminoglycosides   \n",
              "1  MEG_2|Drugs|Aminoglycosides|Aminoglycoside-res...  Drugs  Aminoglycosides   \n",
              "2  MEG_3|Drugs|Aminoglycosides|Aminoglycoside-res...  Drugs  Aminoglycosides   \n",
              "3  MEG_4|Drugs|Aminoglycosides|Aminoglycoside-res...  Drugs  Aminoglycosides   \n",
              "4  MEG_5|Drugs|Aminoglycosides|Aminoglycoside-res...  Drugs  Aminoglycosides   \n",
              "\n",
              "                                           mechanism group  \n",
              "0  Aminoglycoside-resistant 16S ribosomal subunit...  A16S  \n",
              "1  Aminoglycoside-resistant 16S ribosomal subunit...  A16S  \n",
              "2  Aminoglycoside-resistant 16S ribosomal subunit...  A16S  \n",
              "3  Aminoglycoside-resistant 16S ribosomal subunit...  A16S  \n",
              "4  Aminoglycoside-resistant 16S ribosomal subunit...  A16S  "
            ],
            "text/html": [
              "\n",
              "  <div id=\"df-f86851ca-6c84-460c-a0e3-7b4609b84b4e\">\n",
              "    <div class=\"colab-df-container\">\n",
              "      <div>\n",
              "<style scoped>\n",
              "    .dataframe tbody tr th:only-of-type {\n",
              "        vertical-align: middle;\n",
              "    }\n",
              "\n",
              "    .dataframe tbody tr th {\n",
              "        vertical-align: top;\n",
              "    }\n",
              "\n",
              "    .dataframe thead th {\n",
              "        text-align: right;\n",
              "    }\n",
              "</style>\n",
              "<table border=\"1\" class=\"dataframe\">\n",
              "  <thead>\n",
              "    <tr style=\"text-align: right;\">\n",
              "      <th></th>\n",
              "      <th>header</th>\n",
              "      <th>type</th>\n",
              "      <th>class</th>\n",
              "      <th>mechanism</th>\n",
              "      <th>group</th>\n",
              "    </tr>\n",
              "  </thead>\n",
              "  <tbody>\n",
              "    <tr>\n",
              "      <th>0</th>\n",
              "      <td>MEG_1|Drugs|Aminoglycosides|Aminoglycoside-res...</td>\n",
              "      <td>Drugs</td>\n",
              "      <td>Aminoglycosides</td>\n",
              "      <td>Aminoglycoside-resistant 16S ribosomal subunit...</td>\n",
              "      <td>A16S</td>\n",
              "    </tr>\n",
              "    <tr>\n",
              "      <th>1</th>\n",
              "      <td>MEG_2|Drugs|Aminoglycosides|Aminoglycoside-res...</td>\n",
              "      <td>Drugs</td>\n",
              "      <td>Aminoglycosides</td>\n",
              "      <td>Aminoglycoside-resistant 16S ribosomal subunit...</td>\n",
              "      <td>A16S</td>\n",
              "    </tr>\n",
              "    <tr>\n",
              "      <th>2</th>\n",
              "      <td>MEG_3|Drugs|Aminoglycosides|Aminoglycoside-res...</td>\n",
              "      <td>Drugs</td>\n",
              "      <td>Aminoglycosides</td>\n",
              "      <td>Aminoglycoside-resistant 16S ribosomal subunit...</td>\n",
              "      <td>A16S</td>\n",
              "    </tr>\n",
              "    <tr>\n",
              "      <th>3</th>\n",
              "      <td>MEG_4|Drugs|Aminoglycosides|Aminoglycoside-res...</td>\n",
              "      <td>Drugs</td>\n",
              "      <td>Aminoglycosides</td>\n",
              "      <td>Aminoglycoside-resistant 16S ribosomal subunit...</td>\n",
              "      <td>A16S</td>\n",
              "    </tr>\n",
              "    <tr>\n",
              "      <th>4</th>\n",
              "      <td>MEG_5|Drugs|Aminoglycosides|Aminoglycoside-res...</td>\n",
              "      <td>Drugs</td>\n",
              "      <td>Aminoglycosides</td>\n",
              "      <td>Aminoglycoside-resistant 16S ribosomal subunit...</td>\n",
              "      <td>A16S</td>\n",
              "    </tr>\n",
              "  </tbody>\n",
              "</table>\n",
              "</div>\n",
              "      <button class=\"colab-df-convert\" onclick=\"convertToInteractive('df-f86851ca-6c84-460c-a0e3-7b4609b84b4e')\"\n",
              "              title=\"Convert this dataframe to an interactive table.\"\n",
              "              style=\"display:none;\">\n",
              "        \n",
              "  <svg xmlns=\"http://www.w3.org/2000/svg\" height=\"24px\"viewBox=\"0 0 24 24\"\n",
              "       width=\"24px\">\n",
              "    <path d=\"M0 0h24v24H0V0z\" fill=\"none\"/>\n",
              "    <path d=\"M18.56 5.44l.94 2.06.94-2.06 2.06-.94-2.06-.94-.94-2.06-.94 2.06-2.06.94zm-11 1L8.5 8.5l.94-2.06 2.06-.94-2.06-.94L8.5 2.5l-.94 2.06-2.06.94zm10 10l.94 2.06.94-2.06 2.06-.94-2.06-.94-.94-2.06-.94 2.06-2.06.94z\"/><path d=\"M17.41 7.96l-1.37-1.37c-.4-.4-.92-.59-1.43-.59-.52 0-1.04.2-1.43.59L10.3 9.45l-7.72 7.72c-.78.78-.78 2.05 0 2.83L4 21.41c.39.39.9.59 1.41.59.51 0 1.02-.2 1.41-.59l7.78-7.78 2.81-2.81c.8-.78.8-2.07 0-2.86zM5.41 20L4 18.59l7.72-7.72 1.47 1.35L5.41 20z\"/>\n",
              "  </svg>\n",
              "      </button>\n",
              "      \n",
              "  <style>\n",
              "    .colab-df-container {\n",
              "      display:flex;\n",
              "      flex-wrap:wrap;\n",
              "      gap: 12px;\n",
              "    }\n",
              "\n",
              "    .colab-df-convert {\n",
              "      background-color: #E8F0FE;\n",
              "      border: none;\n",
              "      border-radius: 50%;\n",
              "      cursor: pointer;\n",
              "      display: none;\n",
              "      fill: #1967D2;\n",
              "      height: 32px;\n",
              "      padding: 0 0 0 0;\n",
              "      width: 32px;\n",
              "    }\n",
              "\n",
              "    .colab-df-convert:hover {\n",
              "      background-color: #E2EBFA;\n",
              "      box-shadow: 0px 1px 2px rgba(60, 64, 67, 0.3), 0px 1px 3px 1px rgba(60, 64, 67, 0.15);\n",
              "      fill: #174EA6;\n",
              "    }\n",
              "\n",
              "    [theme=dark] .colab-df-convert {\n",
              "      background-color: #3B4455;\n",
              "      fill: #D2E3FC;\n",
              "    }\n",
              "\n",
              "    [theme=dark] .colab-df-convert:hover {\n",
              "      background-color: #434B5C;\n",
              "      box-shadow: 0px 1px 3px 1px rgba(0, 0, 0, 0.15);\n",
              "      filter: drop-shadow(0px 1px 2px rgba(0, 0, 0, 0.3));\n",
              "      fill: #FFFFFF;\n",
              "    }\n",
              "  </style>\n",
              "\n",
              "      <script>\n",
              "        const buttonEl =\n",
              "          document.querySelector('#df-f86851ca-6c84-460c-a0e3-7b4609b84b4e button.colab-df-convert');\n",
              "        buttonEl.style.display =\n",
              "          google.colab.kernel.accessAllowed ? 'block' : 'none';\n",
              "\n",
              "        async function convertToInteractive(key) {\n",
              "          const element = document.querySelector('#df-f86851ca-6c84-460c-a0e3-7b4609b84b4e');\n",
              "          const dataTable =\n",
              "            await google.colab.kernel.invokeFunction('convertToInteractive',\n",
              "                                                     [key], {});\n",
              "          if (!dataTable) return;\n",
              "\n",
              "          const docLinkHtml = 'Like what you see? Visit the ' +\n",
              "            '<a target=\"_blank\" href=https://colab.research.google.com/notebooks/data_table.ipynb>data table notebook</a>'\n",
              "            + ' to learn more about interactive tables.';\n",
              "          element.innerHTML = '';\n",
              "          dataTable['output_type'] = 'display_data';\n",
              "          await google.colab.output.renderOutput(dataTable, element);\n",
              "          const docLink = document.createElement('div');\n",
              "          docLink.innerHTML = docLinkHtml;\n",
              "          element.appendChild(docLink);\n",
              "        }\n",
              "      </script>\n",
              "    </div>\n",
              "  </div>\n",
              "  "
            ]
          },
          "metadata": {},
          "execution_count": 101
        }
      ]
    },
    {
      "cell_type": "code",
      "source": [
        "train_annotations['Seq_name'] = train_annotations['header'].str.split('|').str[0:2].apply('|'.join)\n",
        "train_annotations['mechanism'] = train_annotations['header'].str.split('|').str[3]"
      ],
      "metadata": {
        "id": "cpLUmYDlkeoy"
      },
      "execution_count": 102,
      "outputs": []
    },
    {
      "cell_type": "code",
      "source": [
        "fasta_sequences = SeqIO.parse(open(\"./megares_modified_database_v2.00.fasta\"),'fasta')\n",
        "sequence_dict = {}\n",
        "for fasta in fasta_sequences:\n",
        "    name, sequence = fasta.id, str(fasta.seq)\n",
        "    name = \"|\".join((name.split(\"|\", 2))[0:2])\n",
        "    sequence_dict[name] = sequence\n",
        "sequence_df = pd.DataFrame(sequence_dict.items(), columns=['Seq_name', 'Sequence'])\n",
        "sequence_df.shape"
      ],
      "metadata": {
        "colab": {
          "base_uri": "https://localhost:8080/"
        },
        "id": "Cke-vmzYg8J3",
        "outputId": "dc882c42-58fa-47af-b84f-a4c5f33a801a"
      },
      "execution_count": 103,
      "outputs": [
        {
          "output_type": "execute_result",
          "data": {
            "text/plain": [
              "(7868, 2)"
            ]
          },
          "metadata": {},
          "execution_count": 103
        }
      ]
    },
    {
      "cell_type": "code",
      "source": [
        "sequence_df.head()"
      ],
      "metadata": {
        "colab": {
          "base_uri": "https://localhost:8080/",
          "height": 206
        },
        "id": "1flcUDs5jip4",
        "outputId": "37c4609e-fede-40c2-c9b4-3366aef4e3f8"
      },
      "execution_count": 104,
      "outputs": [
        {
          "output_type": "execute_result",
          "data": {
            "text/plain": [
              "      Seq_name                                           Sequence\n",
              "0  MEG_1|Drugs  AGAATTTGATCTTGGTTCAGATTGAACGCTGGCGGCGTGGATGAGG...\n",
              "1  MEG_2|Drugs  AGGTAAGGAGGTGATCCAACCGCAGGTTCCCCTACGGTTACCTTGT...\n",
              "2  MEG_3|Drugs  TTTTGTTTGGAGAGTTTGATCCTGGCTCAGGACGAACGCTGGCGGC...\n",
              "3  MEG_4|Drugs  AGAGATTGAACATAAGAGTTTGATCCTGGCTCAGATTGAACGCTGG...\n",
              "4  MEG_5|Drugs  AGAGTTTGATCCTGGCTCAGGACGAACGCTGGCGGCGTGCTTAACA..."
            ],
            "text/html": [
              "\n",
              "  <div id=\"df-a5c8070b-35af-41fc-843e-d7a520786c4f\">\n",
              "    <div class=\"colab-df-container\">\n",
              "      <div>\n",
              "<style scoped>\n",
              "    .dataframe tbody tr th:only-of-type {\n",
              "        vertical-align: middle;\n",
              "    }\n",
              "\n",
              "    .dataframe tbody tr th {\n",
              "        vertical-align: top;\n",
              "    }\n",
              "\n",
              "    .dataframe thead th {\n",
              "        text-align: right;\n",
              "    }\n",
              "</style>\n",
              "<table border=\"1\" class=\"dataframe\">\n",
              "  <thead>\n",
              "    <tr style=\"text-align: right;\">\n",
              "      <th></th>\n",
              "      <th>Seq_name</th>\n",
              "      <th>Sequence</th>\n",
              "    </tr>\n",
              "  </thead>\n",
              "  <tbody>\n",
              "    <tr>\n",
              "      <th>0</th>\n",
              "      <td>MEG_1|Drugs</td>\n",
              "      <td>AGAATTTGATCTTGGTTCAGATTGAACGCTGGCGGCGTGGATGAGG...</td>\n",
              "    </tr>\n",
              "    <tr>\n",
              "      <th>1</th>\n",
              "      <td>MEG_2|Drugs</td>\n",
              "      <td>AGGTAAGGAGGTGATCCAACCGCAGGTTCCCCTACGGTTACCTTGT...</td>\n",
              "    </tr>\n",
              "    <tr>\n",
              "      <th>2</th>\n",
              "      <td>MEG_3|Drugs</td>\n",
              "      <td>TTTTGTTTGGAGAGTTTGATCCTGGCTCAGGACGAACGCTGGCGGC...</td>\n",
              "    </tr>\n",
              "    <tr>\n",
              "      <th>3</th>\n",
              "      <td>MEG_4|Drugs</td>\n",
              "      <td>AGAGATTGAACATAAGAGTTTGATCCTGGCTCAGATTGAACGCTGG...</td>\n",
              "    </tr>\n",
              "    <tr>\n",
              "      <th>4</th>\n",
              "      <td>MEG_5|Drugs</td>\n",
              "      <td>AGAGTTTGATCCTGGCTCAGGACGAACGCTGGCGGCGTGCTTAACA...</td>\n",
              "    </tr>\n",
              "  </tbody>\n",
              "</table>\n",
              "</div>\n",
              "      <button class=\"colab-df-convert\" onclick=\"convertToInteractive('df-a5c8070b-35af-41fc-843e-d7a520786c4f')\"\n",
              "              title=\"Convert this dataframe to an interactive table.\"\n",
              "              style=\"display:none;\">\n",
              "        \n",
              "  <svg xmlns=\"http://www.w3.org/2000/svg\" height=\"24px\"viewBox=\"0 0 24 24\"\n",
              "       width=\"24px\">\n",
              "    <path d=\"M0 0h24v24H0V0z\" fill=\"none\"/>\n",
              "    <path d=\"M18.56 5.44l.94 2.06.94-2.06 2.06-.94-2.06-.94-.94-2.06-.94 2.06-2.06.94zm-11 1L8.5 8.5l.94-2.06 2.06-.94-2.06-.94L8.5 2.5l-.94 2.06-2.06.94zm10 10l.94 2.06.94-2.06 2.06-.94-2.06-.94-.94-2.06-.94 2.06-2.06.94z\"/><path d=\"M17.41 7.96l-1.37-1.37c-.4-.4-.92-.59-1.43-.59-.52 0-1.04.2-1.43.59L10.3 9.45l-7.72 7.72c-.78.78-.78 2.05 0 2.83L4 21.41c.39.39.9.59 1.41.59.51 0 1.02-.2 1.41-.59l7.78-7.78 2.81-2.81c.8-.78.8-2.07 0-2.86zM5.41 20L4 18.59l7.72-7.72 1.47 1.35L5.41 20z\"/>\n",
              "  </svg>\n",
              "      </button>\n",
              "      \n",
              "  <style>\n",
              "    .colab-df-container {\n",
              "      display:flex;\n",
              "      flex-wrap:wrap;\n",
              "      gap: 12px;\n",
              "    }\n",
              "\n",
              "    .colab-df-convert {\n",
              "      background-color: #E8F0FE;\n",
              "      border: none;\n",
              "      border-radius: 50%;\n",
              "      cursor: pointer;\n",
              "      display: none;\n",
              "      fill: #1967D2;\n",
              "      height: 32px;\n",
              "      padding: 0 0 0 0;\n",
              "      width: 32px;\n",
              "    }\n",
              "\n",
              "    .colab-df-convert:hover {\n",
              "      background-color: #E2EBFA;\n",
              "      box-shadow: 0px 1px 2px rgba(60, 64, 67, 0.3), 0px 1px 3px 1px rgba(60, 64, 67, 0.15);\n",
              "      fill: #174EA6;\n",
              "    }\n",
              "\n",
              "    [theme=dark] .colab-df-convert {\n",
              "      background-color: #3B4455;\n",
              "      fill: #D2E3FC;\n",
              "    }\n",
              "\n",
              "    [theme=dark] .colab-df-convert:hover {\n",
              "      background-color: #434B5C;\n",
              "      box-shadow: 0px 1px 3px 1px rgba(0, 0, 0, 0.15);\n",
              "      filter: drop-shadow(0px 1px 2px rgba(0, 0, 0, 0.3));\n",
              "      fill: #FFFFFF;\n",
              "    }\n",
              "  </style>\n",
              "\n",
              "      <script>\n",
              "        const buttonEl =\n",
              "          document.querySelector('#df-a5c8070b-35af-41fc-843e-d7a520786c4f button.colab-df-convert');\n",
              "        buttonEl.style.display =\n",
              "          google.colab.kernel.accessAllowed ? 'block' : 'none';\n",
              "\n",
              "        async function convertToInteractive(key) {\n",
              "          const element = document.querySelector('#df-a5c8070b-35af-41fc-843e-d7a520786c4f');\n",
              "          const dataTable =\n",
              "            await google.colab.kernel.invokeFunction('convertToInteractive',\n",
              "                                                     [key], {});\n",
              "          if (!dataTable) return;\n",
              "\n",
              "          const docLinkHtml = 'Like what you see? Visit the ' +\n",
              "            '<a target=\"_blank\" href=https://colab.research.google.com/notebooks/data_table.ipynb>data table notebook</a>'\n",
              "            + ' to learn more about interactive tables.';\n",
              "          element.innerHTML = '';\n",
              "          dataTable['output_type'] = 'display_data';\n",
              "          await google.colab.output.renderOutput(dataTable, element);\n",
              "          const docLink = document.createElement('div');\n",
              "          docLink.innerHTML = docLinkHtml;\n",
              "          element.appendChild(docLink);\n",
              "        }\n",
              "      </script>\n",
              "    </div>\n",
              "  </div>\n",
              "  "
            ]
          },
          "metadata": {},
          "execution_count": 104
        }
      ]
    },
    {
      "cell_type": "code",
      "source": [
        "df = pd.merge(train_annotations[['Seq_name', 'type', 'class','mechanism','group']], \n",
        "              sequence_df, how = \"inner\", on = [\"Seq_name\"])\n",
        "df.shape"
      ],
      "metadata": {
        "colab": {
          "base_uri": "https://localhost:8080/"
        },
        "id": "q5zu98sXlMgt",
        "outputId": "e19956bf-2313-43b6-fc6d-0ff240e1f275"
      },
      "execution_count": 105,
      "outputs": [
        {
          "output_type": "execute_result",
          "data": {
            "text/plain": [
              "(7868, 6)"
            ]
          },
          "metadata": {},
          "execution_count": 105
        }
      ]
    },
    {
      "cell_type": "code",
      "source": [
        "df.head()"
      ],
      "metadata": {
        "colab": {
          "base_uri": "https://localhost:8080/",
          "height": 206
        },
        "id": "bQHOPUI0lk84",
        "outputId": "f5ce1def-da2d-468c-bc0a-73885e67be7c"
      },
      "execution_count": 106,
      "outputs": [
        {
          "output_type": "execute_result",
          "data": {
            "text/plain": [
              "      Seq_name   type            class  \\\n",
              "0  MEG_1|Drugs  Drugs  Aminoglycosides   \n",
              "1  MEG_2|Drugs  Drugs  Aminoglycosides   \n",
              "2  MEG_3|Drugs  Drugs  Aminoglycosides   \n",
              "3  MEG_4|Drugs  Drugs  Aminoglycosides   \n",
              "4  MEG_5|Drugs  Drugs  Aminoglycosides   \n",
              "\n",
              "                                           mechanism group  \\\n",
              "0  Aminoglycoside-resistant_16S_ribosomal_subunit...  A16S   \n",
              "1  Aminoglycoside-resistant_16S_ribosomal_subunit...  A16S   \n",
              "2  Aminoglycoside-resistant_16S_ribosomal_subunit...  A16S   \n",
              "3  Aminoglycoside-resistant_16S_ribosomal_subunit...  A16S   \n",
              "4  Aminoglycoside-resistant_16S_ribosomal_subunit...  A16S   \n",
              "\n",
              "                                            Sequence  \n",
              "0  AGAATTTGATCTTGGTTCAGATTGAACGCTGGCGGCGTGGATGAGG...  \n",
              "1  AGGTAAGGAGGTGATCCAACCGCAGGTTCCCCTACGGTTACCTTGT...  \n",
              "2  TTTTGTTTGGAGAGTTTGATCCTGGCTCAGGACGAACGCTGGCGGC...  \n",
              "3  AGAGATTGAACATAAGAGTTTGATCCTGGCTCAGATTGAACGCTGG...  \n",
              "4  AGAGTTTGATCCTGGCTCAGGACGAACGCTGGCGGCGTGCTTAACA...  "
            ],
            "text/html": [
              "\n",
              "  <div id=\"df-4fa49d16-0ea7-4daf-9de9-23edf9da15b7\">\n",
              "    <div class=\"colab-df-container\">\n",
              "      <div>\n",
              "<style scoped>\n",
              "    .dataframe tbody tr th:only-of-type {\n",
              "        vertical-align: middle;\n",
              "    }\n",
              "\n",
              "    .dataframe tbody tr th {\n",
              "        vertical-align: top;\n",
              "    }\n",
              "\n",
              "    .dataframe thead th {\n",
              "        text-align: right;\n",
              "    }\n",
              "</style>\n",
              "<table border=\"1\" class=\"dataframe\">\n",
              "  <thead>\n",
              "    <tr style=\"text-align: right;\">\n",
              "      <th></th>\n",
              "      <th>Seq_name</th>\n",
              "      <th>type</th>\n",
              "      <th>class</th>\n",
              "      <th>mechanism</th>\n",
              "      <th>group</th>\n",
              "      <th>Sequence</th>\n",
              "    </tr>\n",
              "  </thead>\n",
              "  <tbody>\n",
              "    <tr>\n",
              "      <th>0</th>\n",
              "      <td>MEG_1|Drugs</td>\n",
              "      <td>Drugs</td>\n",
              "      <td>Aminoglycosides</td>\n",
              "      <td>Aminoglycoside-resistant_16S_ribosomal_subunit...</td>\n",
              "      <td>A16S</td>\n",
              "      <td>AGAATTTGATCTTGGTTCAGATTGAACGCTGGCGGCGTGGATGAGG...</td>\n",
              "    </tr>\n",
              "    <tr>\n",
              "      <th>1</th>\n",
              "      <td>MEG_2|Drugs</td>\n",
              "      <td>Drugs</td>\n",
              "      <td>Aminoglycosides</td>\n",
              "      <td>Aminoglycoside-resistant_16S_ribosomal_subunit...</td>\n",
              "      <td>A16S</td>\n",
              "      <td>AGGTAAGGAGGTGATCCAACCGCAGGTTCCCCTACGGTTACCTTGT...</td>\n",
              "    </tr>\n",
              "    <tr>\n",
              "      <th>2</th>\n",
              "      <td>MEG_3|Drugs</td>\n",
              "      <td>Drugs</td>\n",
              "      <td>Aminoglycosides</td>\n",
              "      <td>Aminoglycoside-resistant_16S_ribosomal_subunit...</td>\n",
              "      <td>A16S</td>\n",
              "      <td>TTTTGTTTGGAGAGTTTGATCCTGGCTCAGGACGAACGCTGGCGGC...</td>\n",
              "    </tr>\n",
              "    <tr>\n",
              "      <th>3</th>\n",
              "      <td>MEG_4|Drugs</td>\n",
              "      <td>Drugs</td>\n",
              "      <td>Aminoglycosides</td>\n",
              "      <td>Aminoglycoside-resistant_16S_ribosomal_subunit...</td>\n",
              "      <td>A16S</td>\n",
              "      <td>AGAGATTGAACATAAGAGTTTGATCCTGGCTCAGATTGAACGCTGG...</td>\n",
              "    </tr>\n",
              "    <tr>\n",
              "      <th>4</th>\n",
              "      <td>MEG_5|Drugs</td>\n",
              "      <td>Drugs</td>\n",
              "      <td>Aminoglycosides</td>\n",
              "      <td>Aminoglycoside-resistant_16S_ribosomal_subunit...</td>\n",
              "      <td>A16S</td>\n",
              "      <td>AGAGTTTGATCCTGGCTCAGGACGAACGCTGGCGGCGTGCTTAACA...</td>\n",
              "    </tr>\n",
              "  </tbody>\n",
              "</table>\n",
              "</div>\n",
              "      <button class=\"colab-df-convert\" onclick=\"convertToInteractive('df-4fa49d16-0ea7-4daf-9de9-23edf9da15b7')\"\n",
              "              title=\"Convert this dataframe to an interactive table.\"\n",
              "              style=\"display:none;\">\n",
              "        \n",
              "  <svg xmlns=\"http://www.w3.org/2000/svg\" height=\"24px\"viewBox=\"0 0 24 24\"\n",
              "       width=\"24px\">\n",
              "    <path d=\"M0 0h24v24H0V0z\" fill=\"none\"/>\n",
              "    <path d=\"M18.56 5.44l.94 2.06.94-2.06 2.06-.94-2.06-.94-.94-2.06-.94 2.06-2.06.94zm-11 1L8.5 8.5l.94-2.06 2.06-.94-2.06-.94L8.5 2.5l-.94 2.06-2.06.94zm10 10l.94 2.06.94-2.06 2.06-.94-2.06-.94-.94-2.06-.94 2.06-2.06.94z\"/><path d=\"M17.41 7.96l-1.37-1.37c-.4-.4-.92-.59-1.43-.59-.52 0-1.04.2-1.43.59L10.3 9.45l-7.72 7.72c-.78.78-.78 2.05 0 2.83L4 21.41c.39.39.9.59 1.41.59.51 0 1.02-.2 1.41-.59l7.78-7.78 2.81-2.81c.8-.78.8-2.07 0-2.86zM5.41 20L4 18.59l7.72-7.72 1.47 1.35L5.41 20z\"/>\n",
              "  </svg>\n",
              "      </button>\n",
              "      \n",
              "  <style>\n",
              "    .colab-df-container {\n",
              "      display:flex;\n",
              "      flex-wrap:wrap;\n",
              "      gap: 12px;\n",
              "    }\n",
              "\n",
              "    .colab-df-convert {\n",
              "      background-color: #E8F0FE;\n",
              "      border: none;\n",
              "      border-radius: 50%;\n",
              "      cursor: pointer;\n",
              "      display: none;\n",
              "      fill: #1967D2;\n",
              "      height: 32px;\n",
              "      padding: 0 0 0 0;\n",
              "      width: 32px;\n",
              "    }\n",
              "\n",
              "    .colab-df-convert:hover {\n",
              "      background-color: #E2EBFA;\n",
              "      box-shadow: 0px 1px 2px rgba(60, 64, 67, 0.3), 0px 1px 3px 1px rgba(60, 64, 67, 0.15);\n",
              "      fill: #174EA6;\n",
              "    }\n",
              "\n",
              "    [theme=dark] .colab-df-convert {\n",
              "      background-color: #3B4455;\n",
              "      fill: #D2E3FC;\n",
              "    }\n",
              "\n",
              "    [theme=dark] .colab-df-convert:hover {\n",
              "      background-color: #434B5C;\n",
              "      box-shadow: 0px 1px 3px 1px rgba(0, 0, 0, 0.15);\n",
              "      filter: drop-shadow(0px 1px 2px rgba(0, 0, 0, 0.3));\n",
              "      fill: #FFFFFF;\n",
              "    }\n",
              "  </style>\n",
              "\n",
              "      <script>\n",
              "        const buttonEl =\n",
              "          document.querySelector('#df-4fa49d16-0ea7-4daf-9de9-23edf9da15b7 button.colab-df-convert');\n",
              "        buttonEl.style.display =\n",
              "          google.colab.kernel.accessAllowed ? 'block' : 'none';\n",
              "\n",
              "        async function convertToInteractive(key) {\n",
              "          const element = document.querySelector('#df-4fa49d16-0ea7-4daf-9de9-23edf9da15b7');\n",
              "          const dataTable =\n",
              "            await google.colab.kernel.invokeFunction('convertToInteractive',\n",
              "                                                     [key], {});\n",
              "          if (!dataTable) return;\n",
              "\n",
              "          const docLinkHtml = 'Like what you see? Visit the ' +\n",
              "            '<a target=\"_blank\" href=https://colab.research.google.com/notebooks/data_table.ipynb>data table notebook</a>'\n",
              "            + ' to learn more about interactive tables.';\n",
              "          element.innerHTML = '';\n",
              "          dataTable['output_type'] = 'display_data';\n",
              "          await google.colab.output.renderOutput(dataTable, element);\n",
              "          const docLink = document.createElement('div');\n",
              "          docLink.innerHTML = docLinkHtml;\n",
              "          element.appendChild(docLink);\n",
              "        }\n",
              "      </script>\n",
              "    </div>\n",
              "  </div>\n",
              "  "
            ]
          },
          "metadata": {},
          "execution_count": 106
        }
      ]
    },
    {
      "cell_type": "code",
      "source": [
        "df[\"class\"].value_counts()"
      ],
      "metadata": {
        "colab": {
          "base_uri": "https://localhost:8080/"
        },
        "id": "EL0y7gTvqHSH",
        "outputId": "00b1f3eb-4c74-4cdc-a66d-2fc1baa2595b"
      },
      "execution_count": 107,
      "outputs": [
        {
          "output_type": "execute_result",
          "data": {
            "text/plain": [
              "betalactams                                        3911\n",
              "Aminoglycosides                                     773\n",
              "Drug and biocide resistance                         363\n",
              "Glycopeptides                                       299\n",
              "Fluoroquinolones                                    296\n",
              "Tetracyclines                                       294\n",
              "MLS                                                 270\n",
              "Multi-metal resistance                              226\n",
              "Phenicol                                            145\n",
              "Trimethoprim                                        135\n",
              "Copper resistance                                   117\n",
              "Multi-drug resistance                               113\n",
              "Sulfonamides                                        103\n",
              "Multi-biocide resistance                             98\n",
              "Lipopeptides                                         95\n",
              "Rifampin                                             70\n",
              "Fosfomycin                                           62\n",
              "Mercury resistance                                   62\n",
              "Biocide and metal resistance                         55\n",
              "Aminocoumarins                                       39\n",
              "Drug and biocide and metal resistance                39\n",
              "Arsenic resistance                                   34\n",
              "Nickel resistance                                    28\n",
              "Elfamycins                                           22\n",
              "Mycobacterium tuberculosis-specific Drug             21\n",
              "Metronidazole                                        17\n",
              "Zinc resistance                                      16\n",
              "Acid resistance                                      16\n",
              "Nucleosides                                          15\n",
              "Chromium resistance                                  15\n",
              "Phenolic compound resistance                         13\n",
              "Cationic antimicrobial peptides                      13\n",
              "Tellurium resistance                                 12\n",
              "Peroxide resistance                                  12\n",
              "Fusidic acid                                         10\n",
              "Iron resistance                                       7\n",
              "Bacitracin                                            6\n",
              "Mupirocin                                             5\n",
              "Lead resistance                                       5\n",
              "Acetate resistance                                    4\n",
              "Drug and metal resistance                             4\n",
              "Sodium resistance                                     4\n",
              "Paraquat resistance                                   3\n",
              "Tungsten Resistance                                   3\n",
              "Aluminum resistance                                   2\n",
              "Thiopeptides                                          2\n",
              "Quaternary Ammonium Compounds (QACs) resistance       2\n",
              "Polyamine resistance                                  2\n",
              "Cobalt resistance                                     2\n",
              "Naphthoquinone                                        1\n",
              "Gold resistance                                       1\n",
              "Oxazolidinone                                         1\n",
              "Pactamycin                                            1\n",
              "Pleuromutilin                                         1\n",
              "Cadmium resistance                                    1\n",
              "Biguanide resistance                                  1\n",
              "Tetracenomycin                                        1\n",
              "Name: class, dtype: int64"
            ]
          },
          "metadata": {},
          "execution_count": 107
        }
      ]
    },
    {
      "cell_type": "code",
      "source": [
        "df[\"mechanism\"].value_counts()"
      ],
      "metadata": {
        "colab": {
          "base_uri": "https://localhost:8080/"
        },
        "id": "wPRA-64Wm2e8",
        "outputId": "aded3c77-7ae8-4183-8b45-358f2032c518"
      },
      "execution_count": 108,
      "outputs": [
        {
          "output_type": "execute_result",
          "data": {
            "text/plain": [
              "Class_A_betalactamases                 1580\n",
              "Class_C_betalactamases                  950\n",
              "Class_D_betalactamases                  900\n",
              "Class_B_betalactamases                  410\n",
              "Aminoglycoside_N-acetyltransferases     359\n",
              "                                       ... \n",
              "Tetracenomycin_MFS_efflux_pump            1\n",
              "Tunicamycin_resistance_protein            1\n",
              "Chromate_ABC_efflux_pump                  1\n",
              "Biguanide_cation_efflux                   1\n",
              "Sulfonamide_monooxygenase                 1\n",
              "Name: mechanism, Length: 219, dtype: int64"
            ]
          },
          "metadata": {},
          "execution_count": 108
        }
      ]
    },
    {
      "cell_type": "code",
      "source": [
        "# Label for prediction into major class of antibiotic resistance\n",
        "label_1 = ['Aminoglycosides', 'betalactams', 'Glycopeptides', 'Tetracyclines', 'MLS', 'Fluoroquinolones', 'Trimethoprim',\n",
        "           'Phenicol', 'Sulfonamides', 'Sulfonamides', 'Lipopeptides']"
      ],
      "metadata": {
        "id": "QzZzQC0Am9Qj"
      },
      "execution_count": 109,
      "outputs": []
    },
    {
      "cell_type": "code",
      "source": [
        "df['labels'] = df[\"class\"]\n",
        "df.loc[~df['labels'].isin(label_1),'labels'] = \"other\""
      ],
      "metadata": {
        "id": "BYX3Z0TWrIYr"
      },
      "execution_count": 110,
      "outputs": []
    },
    {
      "cell_type": "code",
      "source": [
        "df.labels.value_counts()"
      ],
      "metadata": {
        "colab": {
          "base_uri": "https://localhost:8080/"
        },
        "id": "52DtXYPWsOyq",
        "outputId": "2994e6fa-8cc3-41fc-c2ae-3a02e1efaecf"
      },
      "execution_count": 111,
      "outputs": [
        {
          "output_type": "execute_result",
          "data": {
            "text/plain": [
              "betalactams         3911\n",
              "other               1547\n",
              "Aminoglycosides      773\n",
              "Glycopeptides        299\n",
              "Fluoroquinolones     296\n",
              "Tetracyclines        294\n",
              "MLS                  270\n",
              "Phenicol             145\n",
              "Trimethoprim         135\n",
              "Sulfonamides         103\n",
              "Lipopeptides          95\n",
              "Name: labels, dtype: int64"
            ]
          },
          "metadata": {},
          "execution_count": 111
        }
      ]
    },
    {
      "cell_type": "code",
      "source": [
        "X = df.Sequence.values\n",
        "y = df.labels.values\n",
        "print(X.shape, y.shape)\n",
        "index_to_remove = []\n",
        "for (i, seq) in enumerate(X):\n",
        "  if set(seq.upper())!={\"A\", \"T\", \"C\", \"G\"}:\n",
        "    index_to_remove.append(i)\n",
        "index_to_remove\n",
        "X = np.delete(X, index_to_remove, axis=0)\n",
        "y = np.delete(y, index_to_remove, axis=0)\n",
        "print(X.shape, y.shape)\n"
      ],
      "metadata": {
        "id": "00_0y1pRn_Yj",
        "outputId": "4f041ea8-169b-4ddd-f21b-756521b7b6e5",
        "colab": {
          "base_uri": "https://localhost:8080/"
        }
      },
      "execution_count": 112,
      "outputs": [
        {
          "output_type": "stream",
          "name": "stdout",
          "text": [
            "(7868,) (7868,)\n",
            "(7819,) (7819,)\n"
          ]
        }
      ]
    },
    {
      "cell_type": "code",
      "source": [
        "code = {'A': 1, 'C': 2, 'G': 3, 'T': 4}\n",
        "label_code_1 = {\"betalactams\":0, \"Aminoglycosides\":1, \"Glycopeptides\":2, \"Fluoroquinolones\":3, \"Tetracyclines\":4, \"MLS\":5,\n",
        "                 'Trimethoprim':6,'Phenicol':7,  'Sulfonamides':8, 'Lipopeptides':9,\"other\":10}"
      ],
      "metadata": {
        "id": "g4Gr9oXiFegw"
      },
      "execution_count": 113,
      "outputs": []
    },
    {
      "cell_type": "code",
      "source": [
        "\n",
        "import torch.nn.functional as F\n",
        "\n",
        "def encode(seq, label, labels_dict):\n",
        "  label_int = labels_dict[label]\n",
        "  enc_seq = [code[x] for x in seq.upper()]\n",
        "  return [torch.LongTensor(enc_seq[0:2000]), torch.LongTensor([label_int]), len(enc_seq)]\n",
        "\n",
        "class SequenceDataset(Dataset):\n",
        "    def __init__(self, X, y, labels_dict):\n",
        "        \n",
        "        self.X = X \n",
        "        self.y = y \n",
        "        self.labels_dict =labels_dict\n",
        "        self.len=len(self.X)      \n",
        "\n",
        "    def __getitem__(self, index):\n",
        "        # your implementation here: \n",
        "        X_elem, y_elem, length_seq = encode(self.X[index], self.y[index], labels_dict=self.labels_dict)\n",
        "        return F.pad(X_elem, pad=(0, 2000 - len(X_elem))), y_elem\n",
        "\n",
        "    def __len__(self):\n",
        "        return self.len\n",
        "    \n",
        "\n",
        "\n"
      ],
      "metadata": {
        "id": "gCuT6FUUabV-"
      },
      "execution_count": 114,
      "outputs": []
    },
    {
      "cell_type": "code",
      "source": [
        "X_train, X_test, y_train, y_test = train_test_split(X, y, test_size=0.2) \n",
        "X_train, X_val, y_train, y_val = train_test_split(X_train, y_train, test_size=0.1) \n",
        "X_train, X_val, y_train, y_val = train_test_split(X_train, y_train, test_size=0.1) "
      ],
      "metadata": {
        "id": "ej_a5GcBluHB"
      },
      "execution_count": 115,
      "outputs": []
    },
    {
      "cell_type": "code",
      "source": [
        "train_data = SequenceDataset(X_train, y_train, labels_dict=label_code_1)\n",
        "val_data = SequenceDataset(X_val, y_val, labels_dict=label_code_1)\n",
        "test_data = SequenceDataset(X_test, y_test, labels_dict=label_code_1)\n",
        "\n",
        "batch_size = 32\n",
        "train_dataloader = DataLoader(train_data, batch_size=batch_size, shuffle=True)# fill in code here\n",
        "val_dataloader = DataLoader(val_data, batch_size=batch_size, shuffle=True)# fill in code here\n",
        "test_dataloader = DataLoader(test_data, batch_size=batch_size, shuffle=True)# fill in code here"
      ],
      "metadata": {
        "id": "idK8K6IlluJe"
      },
      "execution_count": 116,
      "outputs": []
    },
    {
      "cell_type": "code",
      "source": [
        "class cnn1d(nn.Module):\n",
        "    def __init__(self, label_count = len(label_code_1)):\n",
        "        super(cnn1d, self).__init__()\n",
        "        self.embedding = nn.Embedding(5, 2*label_count)\n",
        "        self.conv1 = nn.Conv1d(2*label_count, 64, kernel_size = 3, padding='same')\n",
        "        self.maxpool1 = nn.MaxPool1d(kernel_size=5)\n",
        "        self.conv2 = nn.Conv1d(64, 64, kernel_size=3, padding=\"same\")\n",
        "        self.maxpool2 = nn.MaxPool1d(kernel_size=5)\n",
        "        self.conv3 = nn.Conv1d(64, 64, kernel_size=3, padding=\"same\")\n",
        "        self.maxpool3 = nn.MaxPool1d(kernel_size=5)\n",
        "        self.dense = nn.Sequential(nn.Linear(1024, 256), \n",
        "                             nn.ReLU(), nn.Linear(256, 64),\n",
        "                             nn.ReLU(), nn.Linear(64, label_count))\n",
        "\n",
        "    def forward(self, x, hook = True):\n",
        "        \"\"\"Extract first fully connected feature vector\"\"\"\n",
        "        # Apply convolutions\n",
        "        x = self.embedding(x)\n",
        "        x = self.conv1(x.permute(0, 2, 1))\n",
        "        x = self.maxpool1(x)\n",
        "        x = self.conv2(x)\n",
        "        x = self.maxpool2(x)\n",
        "        x = self.conv3(x)\n",
        "        if hook:\n",
        "          h = x.register_hook(self.activations_hook)\n",
        "\n",
        "        x = self.maxpool3(x)\n",
        "        x = torch.flatten(x, 1)\n",
        "        x = self.dense(x)\n",
        "        \n",
        "        return x\n",
        "    \n",
        "    def activations_hook(self, grad):\n",
        "        self.gradients = grad\n",
        "\n",
        "    def get_activations_gradient(self):\n",
        "        return self.gradients\n",
        "\n",
        "    def get_activations(self, x):\n",
        "        x = self.embedding(x)\n",
        "        x = self.conv1(x.permute(0, 2, 1))\n",
        "        x = self.maxpool1(x)\n",
        "        x = self.conv2(x)\n",
        "        x = self.maxpool2(x)\n",
        "        x = self.conv3(x)\n",
        "        return x"
      ],
      "metadata": {
        "id": "iUq1fL6lluWC"
      },
      "execution_count": 117,
      "outputs": []
    },
    {
      "cell_type": "code",
      "source": [
        "device = torch.device(\"cuda:0\" if torch.cuda.is_available() else \"cpu\")\n"
      ],
      "metadata": {
        "id": "iw27PCJx0qA7"
      },
      "execution_count": 118,
      "outputs": []
    },
    {
      "cell_type": "code",
      "source": [
        "model = cnn1d()\n",
        "model = model.to(device)\n",
        "\n"
      ],
      "metadata": {
        "id": "bqhJCoEnpu1u"
      },
      "execution_count": 119,
      "outputs": []
    },
    {
      "cell_type": "code",
      "source": [
        "optimizer = torch.optim.Adam(list(model.parameters()), lr=1e-3) "
      ],
      "metadata": {
        "id": "MziD84g10ydh"
      },
      "execution_count": 120,
      "outputs": []
    },
    {
      "cell_type": "code",
      "source": [
        "def train(model, dataloader, optimizer, device):\n",
        "    \n",
        "    '''\n",
        "    A function to train on the entire dataset for one epoch.\n",
        "    \n",
        "    Args: \n",
        "        model (torch.nn.Module): Your sequence classifier \n",
        "        dataloader (torch.utils.data.Dataloader): DataLoader object for the train data\n",
        "        optimizer (torch.optim.Optimizer): Optimizer object to interface gradient calculation and optimization \n",
        "        device (str): Your device\n",
        "        \n",
        "    Returns: \n",
        "        float: loss averaged over all the batches \n",
        "    \n",
        "    '''\n",
        "\n",
        "    batch_loss = []\n",
        "    model.train() # Set model to training mode \n",
        "    train_loss = 0 \n",
        "    count = 0\n",
        "    for batch in dataloader:    \n",
        "        seq, label = batch\n",
        "        seq = seq.to(device)\n",
        "        label = label.to(device)\n",
        "        \n",
        "        y_pred = model(seq)\n",
        "        loss = nn.functional.cross_entropy(y_pred, label.squeeze())# fill in loss here\n",
        "        train_loss += loss*len(label)\n",
        "        count += len(label)\n",
        "        batch_loss.append(loss.item())\n",
        "        \n",
        "        # run backpropagation given the loss you defined\n",
        "        optimizer.zero_grad()\n",
        "        loss.backward()\n",
        "        optimizer.step()\n",
        "    train_loss = train_loss/count\n",
        "    return np.array(batch_loss).mean(), train_loss.detach().cpu().numpy()\n",
        "\n",
        "\n",
        "def validate(model, dataloader, device):\n",
        "    \n",
        "    '''\n",
        "    A function to validate on the validation dataset for one epoch.\n",
        "    \n",
        "    Args: \n",
        "        model (torch.nn.Module): Your sequence classifier \n",
        "        dataloader (torch.utils.data.Dataloader): DataLoader object for the validation data\n",
        "        device (str): Your device\n",
        "        \n",
        "    Returns: \n",
        "        float: loss averaged over all the batches \n",
        "    \n",
        "    '''\n",
        "    \n",
        "    batch_loss = []\n",
        "    model.eval() # Set model to evaluation mode \n",
        "    val_loss = 0\n",
        "    count = 0\n",
        "    with torch.no_grad():    \n",
        "        for batch in dataloader:\n",
        "            seq, label = batch\n",
        "            seq = seq.to(device)\n",
        "            label = label.to(device)\n",
        "            y_pred = model(seq , hook=False)\n",
        "            loss = nn.functional.cross_entropy(y_pred, label.squeeze())# fill in loss here\n",
        "            val_loss += loss*len(label)\n",
        "            count += len(label)\n",
        "            batch_loss.append(loss.item())\n",
        "            # validate your model on each batch here \n",
        "        val_loss = val_loss/count     \n",
        "    return np.array(batch_loss).mean(), val_loss.detach().cpu().numpy()  "
      ],
      "metadata": {
        "id": "n1_df_vIpu4K"
      },
      "execution_count": 121,
      "outputs": []
    },
    {
      "cell_type": "code",
      "source": [
        "print(\"epoch\", \"train loss\", \"validation loss\")\n",
        "\n",
        "val_loss_curve = []\n",
        "train_loss_curve = []\n",
        "\n",
        "for epoch in range(8):\n",
        "    \n",
        "    # Compute train your model on training data\n",
        "    epoch_loss, train_loss = train(model, train_dataloader, optimizer,  device=0)\n",
        "    \n",
        "    # Validate your on validation data \n",
        "    _, val_loss = validate(model, val_dataloader, device=0) \n",
        "    \n",
        "    # Record train and loss performance \n",
        "    train_loss_curve.append(epoch_loss)\n",
        "    val_loss_curve.append(val_loss)\n",
        "    \n",
        "    # The learning rate scheduler records the validation loss \n",
        "    # scheduler.step(val_loss)\n",
        "    \n",
        "    print(epoch, train_loss, val_loss)"
      ],
      "metadata": {
        "id": "jwJ0Vn8ypu6n",
        "outputId": "da084ee7-f751-4eba-92c0-3712a6bf0b68",
        "colab": {
          "base_uri": "https://localhost:8080/"
        }
      },
      "execution_count": 122,
      "outputs": [
        {
          "output_type": "stream",
          "name": "stdout",
          "text": [
            "epoch train loss validation loss\n",
            "0 1.1992701 0.9707465\n",
            "1 0.7251819 0.6696199\n",
            "2 0.48664233 0.530297\n",
            "3 0.328911 0.46570063\n",
            "4 0.22916895 0.46890217\n",
            "5 0.16008416 0.48030835\n",
            "6 0.08859788 0.5317809\n",
            "7 0.05337384 0.66112345\n"
          ]
        }
      ]
    },
    {
      "cell_type": "code",
      "source": [
        "pred_labels = []\n",
        "true_labels = []\n",
        "test_loss = 0\n",
        "with torch.no_grad():\n",
        "  model.eval()\n",
        "  for batch in test_dataloader:\n",
        "    seq, label = batch\n",
        "    seq = seq.to(device)\n",
        "    label = label.to(device)\n",
        "    logits = model(seq, hook = False)\n",
        "    test_loss += nn.functional.cross_entropy(logits, label.squeeze())*len(label)\n",
        "    preds = logits.max(1).indices\n",
        "    true_labels.extend(list(label.squeeze().detach().cpu().numpy()))\n",
        "    pred_labels.extend(list(preds.squeeze().detach().cpu().numpy()))\n",
        "test_loss = test_loss/len(test_data)\n",
        "test_acc = (np.array(true_labels) == np.array(pred_labels)).mean()\n",
        "print(\"Test loss is {}\".format(test_loss))\n",
        "print(\"Test Acc is {}\".format(test_acc))"
      ],
      "metadata": {
        "id": "xu2EDPd2pu8f",
        "outputId": "19bcc881-00a0-4d51-ee0e-fd0112bf5dc2",
        "colab": {
          "base_uri": "https://localhost:8080/"
        }
      },
      "execution_count": 123,
      "outputs": [
        {
          "output_type": "stream",
          "name": "stdout",
          "text": [
            "Test loss is 0.48988962173461914\n",
            "Test Acc is 0.9060102301790282\n"
          ]
        }
      ]
    },
    {
      "cell_type": "code",
      "source": [
        "import cv2\n",
        "\n",
        "\n",
        "def highlight(model, seq, label, n_channels, label_dict, threshold_imp=0.15):\n",
        "    \"\"\"\n",
        "    Highlights sub-sequences important for classification using Grad-CAM technique.\n",
        "\n",
        "    model: Trained model\n",
        "    seq: sequence\n",
        "    label: ground truth label of sequence\n",
        "    n_channel: no of channels\n",
        "    label_dict: dictionary containing the resistant class to label mapping\n",
        "    threshold_imp: Percentage of sequence to be highlighted according to Grad-CAM importance.\n",
        "    :return:\n",
        "    \"\"\"\n",
        "    code = {'A': 1, 'C': 2, 'G': 3, 'T': 4}\n",
        "    seq = seq.upper()\n",
        "    resiatance_class = label\n",
        "    def encode_seq(seq, label, label_dict):\n",
        "      \n",
        "      enc_seq = []\n",
        "      for x in seq.upper():\n",
        "        enc_seq.append(code[x])\n",
        "      if len(enc_seq)<2000:\n",
        "        enc_seq = enc_seq + [0]*(2000-len(enc_seq))\n",
        "      # print(label_dict[label])\n",
        "\n",
        "      return [torch.LongTensor(enc_seq[0:2000]), torch.LongTensor([label_dict[label]]), len(enc_seq)]\n",
        "\n",
        "\n",
        "    enc_seq, label, seq_len = encode_seq(seq, label, label_dict)\n",
        "    enc_seq= enc_seq.to(device)\n",
        "    label = label.to(device)\n",
        "    enc_seq = enc_seq.unsqueeze(dim=0)\n",
        "    gradients = model.get_activations_gradient()\n",
        "    pooled_gradients = torch.mean(gradients, dim=[0, 1])\n",
        "    activations = model.get_activations(enc_seq).detach()\n",
        "    for i in range(n_channels):\n",
        "      activations[:, i, :] *= pooled_gradients[i]\n",
        "    \n",
        "    heatmap = torch.mean(activations, dim=1).squeeze()\n",
        "    \n",
        "    heatmap = F.relu(heatmap)\n",
        "    heatmap /= torch.max(heatmap)\n",
        "    length = len(heatmap)\n",
        "    heatmap = heatmap.reshape((length, 1))\n",
        "    heatmap = heatmap.tile([1, length])\n",
        "    heatmap = cv2.resize(heatmap.detach().cpu().numpy(), (2000, 2000))\n",
        "    heatmap = heatmap[:, 0]\n",
        "    k=int(2000 * threshold_imp)\n",
        "    \n",
        "    threshold = np.partition(heatmap.flatten(), -k)[-k]\n",
        "    print(\"Highlighting important part of sequence for predicting resiatnce class '\" + resiatance_class+ \"' in green....\")\n",
        "    for i in range(len(seq)):\n",
        "      if i%100 == 0:\n",
        "        print('')\n",
        "      if (heatmap[i] >= threshold) :\n",
        "          print(\"\\033[92m\"+ seq[i], end = '', flush=True)\n",
        "      else:\n",
        "          print(\"\\033[94m\"+ seq[i], end = '', flush=True)\n",
        "\n",
        "\n",
        "\n"
      ],
      "metadata": {
        "id": "gd26hAbjdA2y"
      },
      "execution_count": 124,
      "outputs": []
    },
    {
      "cell_type": "code",
      "source": [
        "highlight(model, X_test[0], y_test[0], n_channels=64, label_dict = label_code_1,  threshold_imp=0.1)"
      ],
      "metadata": {
        "colab": {
          "base_uri": "https://localhost:8080/"
        },
        "id": "5nuEZUzmgYa4",
        "outputId": "6917e031-ec8f-4955-ac92-b8cfaa6fb822"
      },
      "execution_count": 126,
      "outputs": [
        {
          "output_type": "stream",
          "name": "stdout",
          "text": [
            "Highlighting important part of sequence for predicting resiatnce class 'betalactams' in green....\n",
            "\n",
            "\u001b[94mA\u001b[94mT\u001b[94mT\u001b[94mT\u001b[94mT\u001b[94mG\u001b[94mA\u001b[94mA\u001b[94mA\u001b[94mA\u001b[94mA\u001b[94mG\u001b[94mT\u001b[94mT\u001b[94mA\u001b[94mA\u001b[94mT\u001b[94mA\u001b[94mT\u001b[94mT\u001b[94mT\u001b[94mT\u001b[94mT\u001b[94mA\u001b[94mA\u001b[94mT\u001b[94mT\u001b[94mG\u001b[94mT\u001b[94mA\u001b[94mA\u001b[94mT\u001b[94mT\u001b[94mG\u001b[94mC\u001b[94mT\u001b[94mT\u001b[94mT\u001b[94mA\u001b[94mG\u001b[94mT\u001b[94mT\u001b[94mT\u001b[94mT\u001b[94mA\u001b[94mA\u001b[94mG\u001b[94mT\u001b[94mG\u001b[94mC\u001b[94mA\u001b[94mT\u001b[92mG\u001b[92mT\u001b[92mA\u001b[92mA\u001b[92mT\u001b[92mT\u001b[92mC\u001b[92mA\u001b[92mA\u001b[92mA\u001b[92mC\u001b[92mA\u001b[92mG\u001b[92mT\u001b[92mT\u001b[92mC\u001b[92mA\u001b[92mC\u001b[92mA\u001b[92mT\u001b[92mG\u001b[92mC\u001b[92mC\u001b[92mA\u001b[92mA\u001b[92mA\u001b[92mG\u001b[92mA\u001b[92mG\u001b[92mT\u001b[92mT\u001b[92mA\u001b[92mA\u001b[92mA\u001b[92mT\u001b[92mG\u001b[92mA\u001b[92mT\u001b[92mT\u001b[92mT\u001b[92mA\u001b[92mG\u001b[92mA\u001b[92mA\u001b[92mA\u001b[92mA\u001b[92mA\u001b[94mA\n",
            "\u001b[94mA\u001b[94mA\u001b[94mT\u001b[94mA\u001b[94mT\u001b[94mA\u001b[94mA\u001b[94mT\u001b[94mG\u001b[94mC\u001b[94mT\u001b[94mC\u001b[94mA\u001b[94mT\u001b[94mA\u001b[94mT\u001b[94mT\u001b[94mG\u001b[94mG\u001b[94mT\u001b[94mG\u001b[94mT\u001b[94mT\u001b[94mT\u001b[94mA\u001b[94mT\u001b[94mG\u001b[94mC\u001b[94mT\u001b[94mT\u001b[94mT\u001b[94mA\u001b[94mG\u001b[94mA\u001b[94mT\u001b[94mA\u001b[94mC\u001b[94mT\u001b[94mA\u001b[94mA\u001b[94mA\u001b[94mA\u001b[94mG\u001b[94mT\u001b[94mG\u001b[94mG\u001b[94mT\u001b[94mA\u001b[94mA\u001b[94mG\u001b[94mG\u001b[94mA\u001b[94mA\u001b[94mG\u001b[94mT\u001b[94mA\u001b[94mA\u001b[94mA\u001b[94mA\u001b[94mT\u001b[94mT\u001b[94mT\u001b[94mA\u001b[94mA\u001b[94mT\u001b[94mT\u001b[94mC\u001b[94mA\u001b[94mG\u001b[94mA\u001b[94mT\u001b[94mA\u001b[94mA\u001b[94mG\u001b[94mA\u001b[94mG\u001b[94mA\u001b[94mT\u001b[94mT\u001b[94mT\u001b[94mG\u001b[94mC\u001b[94mC\u001b[94mT\u001b[94mA\u001b[94mT\u001b[94mG\u001b[94mC\u001b[94mT\u001b[94mT\u001b[94mC\u001b[94mA\u001b[94mA\u001b[94mC\u001b[94mT\u001b[94mT\u001b[94mC\u001b[94mA\u001b[94mA\u001b[94mA\n",
            "\u001b[94mA\u001b[94mG\u001b[94mC\u001b[94mG\u001b[94mA\u001b[94mT\u001b[94mA\u001b[94mA\u001b[94mA\u001b[94mT\u001b[94mA\u001b[92mG\u001b[92mT\u001b[92mG\u001b[92mC\u001b[94mT\u001b[94mA\u001b[94mT\u001b[94mT\u001b[94mT\u001b[94mT\u001b[94mG\u001b[94mT\u001b[94mT\u001b[94mA\u001b[94mG\u001b[94mA\u001b[94mA\u001b[94mC\u001b[94mA\u001b[94mA\u001b[94mG\u001b[94mT\u001b[94mA\u001b[94mC\u001b[94mC\u001b[94mT\u001b[94mT\u001b[94mA\u001b[94mT\u001b[94mA\u001b[94mA\u001b[94mT\u001b[94mA\u001b[94mA\u001b[94mG\u001b[94mT\u001b[94mT\u001b[94mA\u001b[94mA\u001b[94mA\u001b[94mT\u001b[94mA\u001b[94mA\u001b[94mA\u001b[94mA\u001b[94mA\u001b[94mA\u001b[94mG\u001b[94mT\u001b[94mA\u001b[94mC\u001b[94mA\u001b[94mT\u001b[94mA\u001b[94mT\u001b[94mT\u001b[94mA\u001b[94mA\u001b[94mC\u001b[94mA\u001b[94mA\u001b[94mA\u001b[94mG\u001b[94mA\u001b[94mT\u001b[94mG\u001b[94mA\u001b[94mT\u001b[94mA\u001b[94mT\u001b[94mA\u001b[94mG\u001b[94mT\u001b[94mT\u001b[94mG\u001b[94mC\u001b[94mT\u001b[94mT\u001b[94mA\u001b[94mT\u001b[94mT\u001b[94mC\u001b[94mT\u001b[94mC\u001b[94mC\u001b[94mT\u001b[94mA\u001b[94mT\u001b[94mT\n",
            "\u001b[94mT\u001b[94mT\u001b[94mA\u001b[94mG\u001b[94mA\u001b[94mA\u001b[94mA\u001b[94mA\u001b[94mA\u001b[94mT\u001b[94mA\u001b[94mT\u001b[94mG\u001b[94mT\u001b[94mA\u001b[94mG\u001b[94mG\u001b[94mA\u001b[94mA\u001b[94mA\u001b[94mA\u001b[94mG\u001b[94mA\u001b[94mT\u001b[94mA\u001b[94mT\u001b[94mC\u001b[94mA\u001b[94mC\u001b[94mT\u001b[94mT\u001b[94mT\u001b[94mA\u001b[94mA\u001b[94mA\u001b[94mA\u001b[94mG\u001b[94mC\u001b[94mA\u001b[94mC\u001b[94mT\u001b[94mT\u001b[94mA\u001b[94mT\u001b[94mT\u001b[94mG\u001b[94mA\u001b[94mG\u001b[94mG\u001b[94mC\u001b[94mT\u001b[94mT\u001b[94mC\u001b[94mA\u001b[94mA\u001b[94mT\u001b[94mG\u001b[94mA\u001b[94mC\u001b[94mA\u001b[94mT\u001b[94mA\u001b[94mT\u001b[94mA\u001b[94mG\u001b[94mT\u001b[94mG\u001b[94mA\u001b[94mT\u001b[94mA\u001b[94mA\u001b[92mT\u001b[92mA\u001b[92mC\u001b[92mA\u001b[92mG\u001b[92mC\u001b[92mA\u001b[92mA\u001b[92mA\u001b[92mC\u001b[92mA\u001b[92mA\u001b[92mT\u001b[92mA\u001b[92mA\u001b[92mA\u001b[92mA\u001b[92mT\u001b[92mT\u001b[92mA\u001b[92mT\u001b[92mA\u001b[92mA\u001b[92mA\u001b[92mA\u001b[94mG\u001b[94mA\u001b[94mA\u001b[94mA\n",
            "\u001b[94mT\u001b[94mC\u001b[94mG\u001b[94mG\u001b[94mT\u001b[94mG\u001b[94mG\u001b[94mA\u001b[94mA\u001b[94mT\u001b[94mC\u001b[94mA\u001b[94mA\u001b[94mA\u001b[94mA\u001b[94mA\u001b[94mA\u001b[94mG\u001b[94mT\u001b[94mT\u001b[94mA\u001b[94mA\u001b[94mA\u001b[94mC\u001b[94mA\u001b[94mA\u001b[94mC\u001b[94mG\u001b[94mT\u001b[94mC\u001b[94mT\u001b[94mA\u001b[94mA\u001b[94mA\u001b[94mA\u001b[94mG\u001b[94mA\u001b[94mA\u001b[94mC\u001b[94mT\u001b[94mA\u001b[94mG\u001b[94mG\u001b[94mA\u001b[94mG\u001b[94mA\u001b[94mT\u001b[94mA\u001b[94mA\u001b[94mA\u001b[94mG\u001b[94mT\u001b[94mA\u001b[94mA\u001b[94mC\u001b[94mA\u001b[94mA\u001b[94mA\u001b[94mT\u001b[94mC\u001b[94mC\u001b[94mA\u001b[94mG\u001b[94mT\u001b[94mT\u001b[94mA\u001b[94mG\u001b[94mA\u001b[94mT\u001b[94mA\u001b[94mT\u001b[94mG\u001b[94mA\u001b[94mG\u001b[94mA\u001b[94mT\u001b[94mA\u001b[94mG\u001b[94mA\u001b[92mA\u001b[92mT\u001b[92mT\u001b[92mA\u001b[92mA\u001b[92mA\u001b[92mT\u001b[92mT\u001b[92mA\u001b[92mC\u001b[92mT\u001b[92mA\u001b[92mT\u001b[92mT\u001b[92mC\u001b[92mA\u001b[92mC\u001b[92mC\u001b[92mA\u001b[92mA\u001b[92mA\n",
            "\u001b[92mG\u001b[92mA\u001b[92mG\u001b[92mC\u001b[92mA\u001b[92mA\u001b[92mA\u001b[92mA\u001b[92mA\u001b[92mA\u001b[92mG\u001b[92mA\u001b[92mT\u001b[92mA\u001b[92mC\u001b[92mT\u001b[92mT\u001b[92mC\u001b[92mA\u001b[92mA\u001b[92mC\u001b[92mA\u001b[94mC\u001b[94mC\u001b[94mT\u001b[94mG\u001b[94mC\u001b[94mT\u001b[94mG\u001b[94mC\u001b[94mT\u001b[94mT\u001b[94mT\u001b[94mC\u001b[94mG\u001b[94mG\u001b[94mT\u001b[94mA\u001b[94mA\u001b[94mG\u001b[94mA\u001b[94mC\u001b[94mT\u001b[94mT\u001b[94mT\u001b[94mA\u001b[94mA\u001b[94mA\u001b[94mT\u001b[94mA\u001b[94mA\u001b[94mA\u001b[92mC\u001b[92mT\u001b[92mT\u001b[92mA\u001b[92mT\u001b[92mC\u001b[92mG\u001b[92mC\u001b[92mA\u001b[92mA\u001b[92mA\u001b[92mT\u001b[92mG\u001b[92mG\u001b[92mA\u001b[92mA\u001b[92mA\u001b[92mA\u001b[92mT\u001b[92mT\u001b[92mA\u001b[92mA\u001b[92mG\u001b[92mC\u001b[92mA\u001b[92mA\u001b[92mA\u001b[92mG\u001b[92mA\u001b[92mA\u001b[92mA\u001b[92mA\u001b[92mC\u001b[92mA\u001b[92mA\u001b[92mA\u001b[92mA\u001b[92mA\u001b[92mA\u001b[92mT\u001b[92mT\u001b[92mC\u001b[92mT\u001b[92mT\u001b[92mA\u001b[92mC\u001b[92mT\u001b[94mT\n",
            "\u001b[94mG\u001b[94mA\u001b[94mT\u001b[94mT\u001b[94mT\u001b[94mA\u001b[94mA\u001b[94mT\u001b[94mG\u001b[94mT\u001b[94mT\u001b[94mA\u001b[94mA\u001b[94mA\u001b[94mT\u001b[94mA\u001b[94mA\u001b[94mT\u001b[94mA\u001b[94mA\u001b[94mA\u001b[94mA\u001b[94mG\u001b[94mC\u001b[94mG\u001b[94mG\u001b[94mA\u001b[94mG\u001b[94mA\u001b[94mT\u001b[94mA\u001b[94mC\u001b[94mT\u001b[94mT\u001b[94mT\u001b[94mA\u001b[94mA\u001b[94mT\u001b[94mT\u001b[94mA\u001b[94mA\u001b[94mA\u001b[94mG\u001b[94mA\u001b[94mC\u001b[94mG\u001b[94mG\u001b[94mT\u001b[94mG\u001b[94mT\u001b[94mT\u001b[94mC\u001b[94mC\u001b[94mA\u001b[94mA\u001b[94mA\u001b[94mA\u001b[94mG\u001b[94mA\u001b[94mC\u001b[94mT\u001b[94mA\u001b[94mT\u001b[94mA\u001b[94mA\u001b[94mG\u001b[94mG\u001b[94mT\u001b[94mT\u001b[94mG\u001b[94mC\u001b[94mT\u001b[94mG\u001b[94mA\u001b[94mT\u001b[94mA\u001b[94mA\u001b[94mA\u001b[94mA\u001b[94mG\u001b[94mT\u001b[94mG\u001b[94mG\u001b[94mT\u001b[94mC\u001b[94mA\u001b[94mA\u001b[94mG\u001b[94mC\u001b[94mA\u001b[94mA\u001b[94mT\u001b[94mA\u001b[94mA\u001b[94mC\u001b[94mA\u001b[94mT\u001b[94mA\u001b[94mT\u001b[94mG\n",
            "\u001b[94mC\u001b[94mT\u001b[94mT\u001b[94mC\u001b[94mT\u001b[94mA\u001b[94mG\u001b[94mA\u001b[94mA\u001b[94mA\u001b[94mT\u001b[94mG\u001b[94mA\u001b[94mT\u001b[94mG\u001b[94mT\u001b[94mT\u001b[94mG\u001b[94mC\u001b[94mT\u001b[94mT\u001b[94mT\u001b[94mT\u001b[94mG\u001b[94mT\u001b[94mT\u001b[94mT\u001b[94mA\u001b[94mT\u001b[94mC\u001b[94mC\u001b[94mT\u001b[94mA\u001b[94mA\u001b[94mG\u001b[94mG\u001b[94mG\u001b[94mC\u001b[94mC\u001b[94mA\u001b[94mA\u001b[94mT\u001b[94mC\u001b[94mT\u001b[94mG\u001b[94mA\u001b[94mA\u001b[94mC\u001b[94mC\u001b[94mT\u001b[94mA\u001b[94mT\u001b[94mT\u001b[94mG\u001b[94mT\u001b[92mT\u001b[92mT\u001b[92mT\u001b[92mA\u001b[92mG\u001b[92mT\u001b[92mC\u001b[92mA\u001b[92mT\u001b[92mT\u001b[92mT\u001b[92mT\u001b[92mT\u001b[92mA\u001b[92mC\u001b[92mG\u001b[92mA\u001b[92mA\u001b[92mT\u001b[92mA\u001b[92mA\u001b[92mA\u001b[92mG\u001b[92mA\u001b[92mC\u001b[92mA\u001b[92mA\u001b[92mT\u001b[92mA\u001b[92mA\u001b[92mA\u001b[92mA\u001b[92mG\u001b[92mT\u001b[94mG\u001b[94mA\u001b[94mT\u001b[94mA\u001b[94mA\u001b[94mG\u001b[94mC\u001b[94mC\u001b[94mA\u001b[94mA\u001b[94mA\n",
            "\u001b[94mT\u001b[94mG\u001b[94mA\u001b[94mT\u001b[94mA\u001b[94mA\u001b[94mG\u001b[94mT\u001b[94mT\u001b[94mG\u001b[94mA\u001b[94mT\u001b[94mA\u001b[94mA\u001b[94mG\u001b[94mT\u001b[94mG\u001b[94mA\u001b[94mA\u001b[94mA\u001b[94mC\u001b[94mC\u001b[94mG\u001b[94mC\u001b[94mC\u001b[94mA\u001b[94mA\u001b[94mG\u001b[94mA\u001b[94mG\u001b[94mT\u001b[94mG\u001b[94mT\u001b[94mA\u001b[94mA\u001b[94mT\u001b[94mG\u001b[94mA\u001b[94mA\u001b[94mG\u001b[94mG\u001b[94mA\u001b[94mA\u001b[94mT\u001b[94mT\u001b[94mT\u001b[94mT\u001b[94mA\u001b[94mA"
          ]
        }
      ]
    },
    {
      "cell_type": "code",
      "source": [
        "from sklearn.metrics import confusion_matrix\n",
        "cmat = confusion_matrix(true_labels, pred_labels)\n",
        "cmat"
      ],
      "metadata": {
        "id": "ZTCe4Zhupu_C",
        "outputId": "4da30895-1a0f-42a9-e614-047ac2d408db",
        "colab": {
          "base_uri": "https://localhost:8080/"
        }
      },
      "execution_count": 29,
      "outputs": [
        {
          "output_type": "execute_result",
          "data": {
            "text/plain": [
              "array([[755,   1,   1,   0,   0,   0,   0,   0,   0,   0,  23],\n",
              "       [  4, 144,   1,   0,   0,   4,   0,   0,   0,   0,  11],\n",
              "       [  1,   2,  41,   0,   0,   0,   0,   0,   0,   0,   8],\n",
              "       [  0,   0,   0,  47,   0,   0,   0,   0,   0,   0,   3],\n",
              "       [  1,   0,   0,   0,  42,   0,   0,   0,   0,   0,  12],\n",
              "       [  0,   3,   0,   0,   0,  43,   1,   0,   0,   0,   7],\n",
              "       [  0,   1,   0,   0,   0,   0,  25,   0,   0,   0,   0],\n",
              "       [  0,   0,   0,   0,   2,   0,   0,  24,   0,   0,   2],\n",
              "       [  0,   2,   0,   0,   0,   1,   0,   0,  12,   0,   4],\n",
              "       [  0,   0,   0,   0,   0,   0,   0,   0,   0,  16,   6],\n",
              "       [  8,   8,   3,   1,   7,   7,   3,   1,   0,   1, 275]])"
            ]
          },
          "metadata": {},
          "execution_count": 29
        }
      ]
    },
    {
      "cell_type": "code",
      "source": [
        "import seaborn as sns\n",
        "sns.set(rc = {'figure.figsize':(14,7)})\n",
        "\n",
        "fig, ax = plt.subplots()\n",
        "sns.heatmap(cmat, annot=cmat, fmt=\"\",  ax=ax, yticklabels=(label_code_1.keys()),\n",
        "            xticklabels=label_code_1.keys())\n",
        "plt.show()"
      ],
      "metadata": {
        "id": "WJ9s6EuPluYo",
        "outputId": "bd38fbd8-a701-4403-dbf5-9e3526be950e",
        "colab": {
          "base_uri": "https://localhost:8080/",
          "height": 515
        }
      },
      "execution_count": 30,
      "outputs": [
        {
          "output_type": "display_data",
          "data": {
            "text/plain": [
              "<Figure size 1008x504 with 2 Axes>"
            ],
            "image/png": "[encoded data removed]"
          },
          "metadata": {}
        }
      ]
    },
    {
      "cell_type": "markdown",
      "source": [
        "### Visualizing embeddings"
      ],
      "metadata": {
        "id": "PGMtUc3_OXNt"
      }
    },
    {
      "cell_type": "code",
      "source": [
        "model_cut = torch.nn.Sequential(*(list(model.children())[:-1]), model.dense[:-2])\n",
        "model_cut"
      ],
      "metadata": {
        "id": "1N_A2Drw4mYP",
        "outputId": "99b6cabc-ec53-4463-8752-226985b1b869",
        "colab": {
          "base_uri": "https://localhost:8080/"
        }
      },
      "execution_count": 31,
      "outputs": [
        {
          "output_type": "execute_result",
          "data": {
            "text/plain": [
              "Sequential(\n",
              "  (0): Embedding(5, 22)\n",
              "  (1): Conv1d(22, 64, kernel_size=(3,), stride=(1,), padding=same)\n",
              "  (2): MaxPool1d(kernel_size=5, stride=5, padding=0, dilation=1, ceil_mode=False)\n",
              "  (3): Conv1d(64, 64, kernel_size=(3,), stride=(1,), padding=same)\n",
              "  (4): MaxPool1d(kernel_size=5, stride=5, padding=0, dilation=1, ceil_mode=False)\n",
              "  (5): Conv1d(64, 64, kernel_size=(3,), stride=(1,), padding=same)\n",
              "  (6): MaxPool1d(kernel_size=5, stride=5, padding=0, dilation=1, ceil_mode=False)\n",
              "  (7): Sequential(\n",
              "    (0): Linear(in_features=1024, out_features=256, bias=True)\n",
              "    (1): ReLU()\n",
              "    (2): Linear(in_features=256, out_features=64, bias=True)\n",
              "  )\n",
              ")"
            ]
          },
          "metadata": {},
          "execution_count": 31
        }
      ]
    },
    {
      "cell_type": "code",
      "source": [
        "# model_cut = nn.Sequential(*[model.children for i in range(1)])\n",
        "# model_cut\n",
        "embedding_list = []\n",
        "label_list = []\n",
        "model_cut.eval() # Set model to evaluation mode \n",
        "with torch.no_grad():    \n",
        "    for batch in train_dataloader:\n",
        "        seq, label = batch\n",
        "        seq = seq.to(device)\n",
        "        label = label.to(device)\n",
        "        seq = model_cut[0](seq)\n",
        "\n",
        "        # print(x.shape)\n",
        "        # Apply pooling\n",
        "        seq = model_cut[1](seq.permute(0, 2, 1))\n",
        "        seq = model_cut[2:7](seq)\n",
        "        seq = torch.flatten(seq, 1)\n",
        "        y_pred = model_cut[7](seq)\n",
        "        label_list.extend(list(label.squeeze().detach().cpu().numpy()))\n",
        "        embedding_list.extend(list(y_pred.detach().cpu().numpy()))\n",
        "        \n",
        "            # validate your model on each batch here"
      ],
      "metadata": {
        "id": "rmctoVeGuaCz"
      },
      "execution_count": 32,
      "outputs": []
    },
    {
      "cell_type": "code",
      "source": [
        "embedding_list = np.array(embedding_list)\n",
        "label_list = np.array(label_list)\n",
        "embedding_list.shape, label_list.shape"
      ],
      "metadata": {
        "colab": {
          "base_uri": "https://localhost:8080/"
        },
        "id": "oKHX2U-K9IeK",
        "outputId": "938b24fa-8287-4e39-ab40-25501f1d3b69"
      },
      "execution_count": 33,
      "outputs": [
        {
          "output_type": "execute_result",
          "data": {
            "text/plain": [
              "((5066, 64), (5066,))"
            ]
          },
          "metadata": {},
          "execution_count": 33
        }
      ]
    },
    {
      "cell_type": "code",
      "source": [
        ""
      ],
      "metadata": {
        "id": "kE0dMme5KSW2"
      },
      "execution_count": 33,
      "outputs": []
    },
    {
      "cell_type": "code",
      "source": [
        "label_value = [list(label_code_1.keys())[list(label_code_1.values()).index(p)] for p in label_list]"
      ],
      "metadata": {
        "id": "IkA5dhho-v1x"
      },
      "execution_count": 34,
      "outputs": []
    },
    {
      "cell_type": "code",
      "source": [
        "len(label_list), len(label_value)"
      ],
      "metadata": {
        "id": "PA6EJA-6CpU7",
        "outputId": "87d1cc3c-2179-4797-ae3c-48fe48bc1084",
        "colab": {
          "base_uri": "https://localhost:8080/"
        }
      },
      "execution_count": 35,
      "outputs": [
        {
          "output_type": "execute_result",
          "data": {
            "text/plain": [
              "(5066, 5066)"
            ]
          },
          "metadata": {},
          "execution_count": 35
        }
      ]
    },
    {
      "cell_type": "code",
      "source": [
        "df_embedding = pd.DataFrame(data = (embedding_list))\n",
        "# df_embedding[\"label\"] = np.array(label_value)\n",
        "df_embedding.head()"
      ],
      "metadata": {
        "id": "edP6ojCH9oHi",
        "outputId": "a56b2cbe-74a1-4589-f30e-900261d7087c",
        "colab": {
          "base_uri": "https://localhost:8080/",
          "height": 299
        }
      },
      "execution_count": 36,
      "outputs": [
        {
          "output_type": "execute_result",
          "data": {
            "text/plain": [
              "          0          1          2          3          4          5   \\\n",
              "0  -5.180491  -4.710653   3.622375 -11.767183  -6.073835 -16.239166   \n",
              "1  -4.716846  -6.268273  -3.331977 -10.699911 -16.050379 -21.381552   \n",
              "2  10.521194  -6.863743  12.951810  -5.896161  -2.860942  -4.093426   \n",
              "3  -7.879229  -5.636399  -1.026817 -12.095274 -15.455815 -16.688883   \n",
              "4 -10.874008 -11.784307  -6.323926 -17.488720  -0.997161 -10.198265   \n",
              "\n",
              "          6          7          8         9   ...         54         55  \\\n",
              "0 -11.446517 -13.178117  -6.972323  8.781693  ...  -6.996031 -17.223925   \n",
              "1 -11.295735 -14.814437 -11.630027  1.182802  ...  -5.319213 -27.456221   \n",
              "2  -9.037148  -7.944071  -6.307921  3.946252  ... -12.576155 -11.859887   \n",
              "3 -10.005733 -14.570750 -10.532986 -4.059414  ...  -4.330997 -20.939049   \n",
              "4  -7.953485 -10.272104  -8.668417  2.838175  ...   8.621029 -10.814806   \n",
              "\n",
              "          56         57         58         59         60        61         62  \\\n",
              "0 -14.729697   5.952487   4.987808  -1.882254 -11.572859  1.260268   6.773810   \n",
              "1  -4.388151   0.369268  10.845751  -7.262179 -17.707645 -1.908848  12.852293   \n",
              "2  11.684576   6.847918   9.164274 -13.623578 -11.384058  0.735598  12.158822   \n",
              "3  -6.226022   2.061647   7.679591 -12.649323 -19.028534  2.872930  12.192994   \n",
              "4 -18.381275  13.403172   7.994885  -9.567950 -13.985735  1.438637  -6.576044   \n",
              "\n",
              "          63  \n",
              "0 -15.699851  \n",
              "1 -23.711052  \n",
              "2 -13.554318  \n",
              "3 -22.675568  \n",
              "4   2.059122  \n",
              "\n",
              "[5 rows x 64 columns]"
            ],
            "text/html": [
              "\n",
              "  <div id=\"df-64c8a084-6ee4-4c91-8d5b-b5445dabcb15\">\n",
              "    <div class=\"colab-df-container\">\n",
              "      <div>\n",
              "<style scoped>\n",
              "    .dataframe tbody tr th:only-of-type {\n",
              "        vertical-align: middle;\n",
              "    }\n",
              "\n",
              "    .dataframe tbody tr th {\n",
              "        vertical-align: top;\n",
              "    }\n",
              "\n",
              "    .dataframe thead th {\n",
              "        text-align: right;\n",
              "    }\n",
              "</style>\n",
              "<table border=\"1\" class=\"dataframe\">\n",
              "  <thead>\n",
              "    <tr style=\"text-align: right;\">\n",
              "      <th></th>\n",
              "      <th>0</th>\n",
              "      <th>1</th>\n",
              "      <th>2</th>\n",
              "      <th>3</th>\n",
              "      <th>4</th>\n",
              "      <th>5</th>\n",
              "      <th>6</th>\n",
              "      <th>7</th>\n",
              "      <th>8</th>\n",
              "      <th>9</th>\n",
              "      <th>...</th>\n",
              "      <th>54</th>\n",
              "      <th>55</th>\n",
              "      <th>56</th>\n",
              "      <th>57</th>\n",
              "      <th>58</th>\n",
              "      <th>59</th>\n",
              "      <th>60</th>\n",
              "      <th>61</th>\n",
              "      <th>62</th>\n",
              "      <th>63</th>\n",
              "    </tr>\n",
              "  </thead>\n",
              "  <tbody>\n",
              "    <tr>\n",
              "      <th>0</th>\n",
              "      <td>-5.180491</td>\n",
              "      <td>-4.710653</td>\n",
              "      <td>3.622375</td>\n",
              "      <td>-11.767183</td>\n",
              "      <td>-6.073835</td>\n",
              "      <td>-16.239166</td>\n",
              "      <td>-11.446517</td>\n",
              "      <td>-13.178117</td>\n",
              "      <td>-6.972323</td>\n",
              "      <td>8.781693</td>\n",
              "      <td>...</td>\n",
              "      <td>-6.996031</td>\n",
              "      <td>-17.223925</td>\n",
              "      <td>-14.729697</td>\n",
              "      <td>5.952487</td>\n",
              "      <td>4.987808</td>\n",
              "      <td>-1.882254</td>\n",
              "      <td>-11.572859</td>\n",
              "      <td>1.260268</td>\n",
              "      <td>6.773810</td>\n",
              "      <td>-15.699851</td>\n",
              "    </tr>\n",
              "    <tr>\n",
              "      <th>1</th>\n",
              "      <td>-4.716846</td>\n",
              "      <td>-6.268273</td>\n",
              "      <td>-3.331977</td>\n",
              "      <td>-10.699911</td>\n",
              "      <td>-16.050379</td>\n",
              "      <td>-21.381552</td>\n",
              "      <td>-11.295735</td>\n",
              "      <td>-14.814437</td>\n",
              "      <td>-11.630027</td>\n",
              "      <td>1.182802</td>\n",
              "      <td>...</td>\n",
              "      <td>-5.319213</td>\n",
              "      <td>-27.456221</td>\n",
              "      <td>-4.388151</td>\n",
              "      <td>0.369268</td>\n",
              "      <td>10.845751</td>\n",
              "      <td>-7.262179</td>\n",
              "      <td>-17.707645</td>\n",
              "      <td>-1.908848</td>\n",
              "      <td>12.852293</td>\n",
              "      <td>-23.711052</td>\n",
              "    </tr>\n",
              "    <tr>\n",
              "      <th>2</th>\n",
              "      <td>10.521194</td>\n",
              "      <td>-6.863743</td>\n",
              "      <td>12.951810</td>\n",
              "      <td>-5.896161</td>\n",
              "      <td>-2.860942</td>\n",
              "      <td>-4.093426</td>\n",
              "      <td>-9.037148</td>\n",
              "      <td>-7.944071</td>\n",
              "      <td>-6.307921</td>\n",
              "      <td>3.946252</td>\n",
              "      <td>...</td>\n",
              "      <td>-12.576155</td>\n",
              "      <td>-11.859887</td>\n",
              "      <td>11.684576</td>\n",
              "      <td>6.847918</td>\n",
              "      <td>9.164274</td>\n",
              "      <td>-13.623578</td>\n",
              "      <td>-11.384058</td>\n",
              "      <td>0.735598</td>\n",
              "      <td>12.158822</td>\n",
              "      <td>-13.554318</td>\n",
              "    </tr>\n",
              "    <tr>\n",
              "      <th>3</th>\n",
              "      <td>-7.879229</td>\n",
              "      <td>-5.636399</td>\n",
              "      <td>-1.026817</td>\n",
              "      <td>-12.095274</td>\n",
              "      <td>-15.455815</td>\n",
              "      <td>-16.688883</td>\n",
              "      <td>-10.005733</td>\n",
              "      <td>-14.570750</td>\n",
              "      <td>-10.532986</td>\n",
              "      <td>-4.059414</td>\n",
              "      <td>...</td>\n",
              "      <td>-4.330997</td>\n",
              "      <td>-20.939049</td>\n",
              "      <td>-6.226022</td>\n",
              "      <td>2.061647</td>\n",
              "      <td>7.679591</td>\n",
              "      <td>-12.649323</td>\n",
              "      <td>-19.028534</td>\n",
              "      <td>2.872930</td>\n",
              "      <td>12.192994</td>\n",
              "      <td>-22.675568</td>\n",
              "    </tr>\n",
              "    <tr>\n",
              "      <th>4</th>\n",
              "      <td>-10.874008</td>\n",
              "      <td>-11.784307</td>\n",
              "      <td>-6.323926</td>\n",
              "      <td>-17.488720</td>\n",
              "      <td>-0.997161</td>\n",
              "      <td>-10.198265</td>\n",
              "      <td>-7.953485</td>\n",
              "      <td>-10.272104</td>\n",
              "      <td>-8.668417</td>\n",
              "      <td>2.838175</td>\n",
              "      <td>...</td>\n",
              "      <td>8.621029</td>\n",
              "      <td>-10.814806</td>\n",
              "      <td>-18.381275</td>\n",
              "      <td>13.403172</td>\n",
              "      <td>7.994885</td>\n",
              "      <td>-9.567950</td>\n",
              "      <td>-13.985735</td>\n",
              "      <td>1.438637</td>\n",
              "      <td>-6.576044</td>\n",
              "      <td>2.059122</td>\n",
              "    </tr>\n",
              "  </tbody>\n",
              "</table>\n",
              "<p>5 rows × 64 columns</p>\n",
              "</div>\n",
              "      <button class=\"colab-df-convert\" onclick=\"convertToInteractive('df-64c8a084-6ee4-4c91-8d5b-b5445dabcb15')\"\n",
              "              title=\"Convert this dataframe to an interactive table.\"\n",
              "              style=\"display:none;\">\n",
              "        \n",
              "  <svg xmlns=\"http://www.w3.org/2000/svg\" height=\"24px\"viewBox=\"0 0 24 24\"\n",
              "       width=\"24px\">\n",
              "    <path d=\"M0 0h24v24H0V0z\" fill=\"none\"/>\n",
              "    <path d=\"M18.56 5.44l.94 2.06.94-2.06 2.06-.94-2.06-.94-.94-2.06-.94 2.06-2.06.94zm-11 1L8.5 8.5l.94-2.06 2.06-.94-2.06-.94L8.5 2.5l-.94 2.06-2.06.94zm10 10l.94 2.06.94-2.06 2.06-.94-2.06-.94-.94-2.06-.94 2.06-2.06.94z\"/><path d=\"M17.41 7.96l-1.37-1.37c-.4-.4-.92-.59-1.43-.59-.52 0-1.04.2-1.43.59L10.3 9.45l-7.72 7.72c-.78.78-.78 2.05 0 2.83L4 21.41c.39.39.9.59 1.41.59.51 0 1.02-.2 1.41-.59l7.78-7.78 2.81-2.81c.8-.78.8-2.07 0-2.86zM5.41 20L4 18.59l7.72-7.72 1.47 1.35L5.41 20z\"/>\n",
              "  </svg>\n",
              "      </button>\n",
              "      \n",
              "  <style>\n",
              "    .colab-df-container {\n",
              "      display:flex;\n",
              "      flex-wrap:wrap;\n",
              "      gap: 12px;\n",
              "    }\n",
              "\n",
              "    .colab-df-convert {\n",
              "      background-color: #E8F0FE;\n",
              "      border: none;\n",
              "      border-radius: 50%;\n",
              "      cursor: pointer;\n",
              "      display: none;\n",
              "      fill: #1967D2;\n",
              "      height: 32px;\n",
              "      padding: 0 0 0 0;\n",
              "      width: 32px;\n",
              "    }\n",
              "\n",
              "    .colab-df-convert:hover {\n",
              "      background-color: #E2EBFA;\n",
              "      box-shadow: 0px 1px 2px rgba(60, 64, 67, 0.3), 0px 1px 3px 1px rgba(60, 64, 67, 0.15);\n",
              "      fill: #174EA6;\n",
              "    }\n",
              "\n",
              "    [theme=dark] .colab-df-convert {\n",
              "      background-color: #3B4455;\n",
              "      fill: #D2E3FC;\n",
              "    }\n",
              "\n",
              "    [theme=dark] .colab-df-convert:hover {\n",
              "      background-color: #434B5C;\n",
              "      box-shadow: 0px 1px 3px 1px rgba(0, 0, 0, 0.15);\n",
              "      filter: drop-shadow(0px 1px 2px rgba(0, 0, 0, 0.3));\n",
              "      fill: #FFFFFF;\n",
              "    }\n",
              "  </style>\n",
              "\n",
              "      <script>\n",
              "        const buttonEl =\n",
              "          document.querySelector('#df-64c8a084-6ee4-4c91-8d5b-b5445dabcb15 button.colab-df-convert');\n",
              "        buttonEl.style.display =\n",
              "          google.colab.kernel.accessAllowed ? 'block' : 'none';\n",
              "\n",
              "        async function convertToInteractive(key) {\n",
              "          const element = document.querySelector('#df-64c8a084-6ee4-4c91-8d5b-b5445dabcb15');\n",
              "          const dataTable =\n",
              "            await google.colab.kernel.invokeFunction('convertToInteractive',\n",
              "                                                     [key], {});\n",
              "          if (!dataTable) return;\n",
              "\n",
              "          const docLinkHtml = 'Like what you see? Visit the ' +\n",
              "            '<a target=\"_blank\" href=https://colab.research.google.com/notebooks/data_table.ipynb>data table notebook</a>'\n",
              "            + ' to learn more about interactive tables.';\n",
              "          element.innerHTML = '';\n",
              "          dataTable['output_type'] = 'display_data';\n",
              "          await google.colab.output.renderOutput(dataTable, element);\n",
              "          const docLink = document.createElement('div');\n",
              "          docLink.innerHTML = docLinkHtml;\n",
              "          element.appendChild(docLink);\n",
              "        }\n",
              "      </script>\n",
              "    </div>\n",
              "  </div>\n",
              "  "
            ]
          },
          "metadata": {},
          "execution_count": 36
        }
      ]
    },
    {
      "cell_type": "code",
      "source": [
        "fit = umap.UMAP()\n",
        "# Use default parameters?"
      ],
      "metadata": {
        "id": "ElSTwyJORaKM"
      },
      "execution_count": 37,
      "outputs": []
    },
    {
      "cell_type": "code",
      "source": [
        "reduced_embedding = fit.fit_transform(df_embedding)"
      ],
      "metadata": {
        "id": "hGDwR4j1t96S",
        "colab": {
          "base_uri": "https://localhost:8080/"
        },
        "outputId": "9bc7c7c2-7243-4073-ded0-5c75f470e85d"
      },
      "execution_count": 38,
      "outputs": [
        {
          "output_type": "stream",
          "name": "stderr",
          "text": [
            "/usr/local/lib/python3.7/dist-packages/numba/np/ufunc/parallel.py:363: NumbaWarning: The TBB threading layer requires TBB version 2019.5 or later i.e., TBB_INTERFACE_VERSION >= 11005. Found TBB_INTERFACE_VERSION = 9107. The TBB threading layer is disabled.\n",
            "  warnings.warn(problem)\n"
          ]
        }
      ]
    },
    {
      "cell_type": "code",
      "source": [
        "reduced_embedding = pd.DataFrame(reduced_embedding, columns=['dim1', 'dim2'])\n",
        "reduced_embedding[\"label\"] = np.array(label_value)"
      ],
      "metadata": {
        "id": "IttTIGZUEVDG"
      },
      "execution_count": 39,
      "outputs": []
    },
    {
      "cell_type": "code",
      "source": [
        "sns.relplot(data=reduced_embedding, x=\"dim1\", y='dim2',\n",
        "                hue='label', hue_order=label_code_1.keys(), aspect=1.61, alpha = 0.1)\n",
        "plt.show()"
      ],
      "metadata": {
        "id": "nyg-iiD9JNkt",
        "outputId": "80978565-0f52-4f0b-903c-92d6b426ef3e",
        "colab": {
          "base_uri": "https://localhost:8080/",
          "height": 365
        }
      },
      "execution_count": 40,
      "outputs": [
        {
          "output_type": "display_data",
          "data": {
            "text/plain": [
              "<Figure size 713.7x360 with 1 Axes>"
            ],
            "image/png": "[encoded data removed]"
          },
          "metadata": {}
        }
      ]
    },
    {
      "cell_type": "markdown",
      "source": [
        "# Multitask Learning (Joint Class and Mechanism of Antibiotic Resistance Prediction)"
      ],
      "metadata": {
        "id": "kEdAa4bSoFR8"
      }
    },
    {
      "cell_type": "code",
      "source": [
        "# Creating mechanism label for known important antibiotic resistance mechanism\n",
        "df[\"labels_2\"] = \"other\"\n",
        "df.loc[(df['mechanism'].str.contains(\"nucleotidyltransferases\")),'labels_2'] = \"nucleotidyltransferases\"\n",
        "df.loc[(df['mechanism'].str.contains(\"methyltransferases\")),'labels_2'] = \"methyltransferases\"\n",
        "df.loc[(df['mechanism'].str.contains(\"phosphotransferases\")),'labels_2'] = \"phosphotransferases\"\n",
        "df.loc[(df['mechanism'].str.contains(\"acetyltransferases\")),'labels_2'] = \"acetyltransferases\"\n",
        "df.loc[(df['mechanism'].str.contains(\"Quinolone_resistance_protein_Qnr\")),'labels_2'] = \"Quinolone_resistance_protein_Qnr\"\n",
        "df.loc[(df['mechanism'].str.contains(\"Dihydrofolate_reductase\")),'labels_2'] = \"Dihydrofolate_reductase\"\n",
        "df.loc[(df['mechanism'].str.contains(\"Tetracycline_resistance_ribosomal_protection_proteins\")),\n",
        "       'labels_2'] = \"Tetracycline_resistance_ribosomal_protection_proteins\"\n",
        "df.loc[(df['mechanism'].str.contains(\"efflux_pump\")),'labels_2'] = \"efflux_pump\"\n",
        "df.loc[(df['mechanism'].str.contains(\"Fluoroquinolone-resistant_DNA_topoisomerases\")),'labels_2'] = \"Fluoroquinolone-resistant_DNA_topoisomerases\"\n",
        "df.loc[(df['mechanism'] == \"Class_A_betalactamases\"),'labels_2'] = \"Class_A_betalactamases\"\n",
        "df.loc[(df['mechanism'] == \"Class_B_betalactamases\"),'labels_2'] = \"Class_B_betalactamases\"\n",
        "df.loc[(df['mechanism'] == \"Class_C_betalactamases\"),'labels_2'] = \"Class_C_betalactamases\"\n",
        "df.loc[(df['mechanism'] == \"Class_D_betalactamases\"),'labels_2'] = \"Class_D_betalactamases\"\n",
        "label_code_2 = {}\n",
        "labels_2 = [\"nucleotidyltransferases\", \"methyltransferases\", \"phosphotransferases\",\n",
        "            \"acetyltransferases\", \"Quinolone_resistance_protein_Qnr\", \"Dihydrofolate_reductase\", \"efflux_pump\",\n",
        "            \"Tetracycline_resistance_ribosomal_protection_proteins\", \"Fluoroquinolone-resistant_DNA_topoisomerases\",\n",
        "            \"Class_A_betalactamases\", \"Class_B_betalactamases\", \"Class_C_betalactamases\",\"Class_D_betalactamases\", \"other\"]\n",
        "for (i, elem) in enumerate(labels_2):\n",
        "  label_code_2[elem] = i"
      ],
      "metadata": {
        "id": "LqtnSFAboItN"
      },
      "execution_count": 41,
      "outputs": []
    },
    {
      "cell_type": "code",
      "source": [
        "df.labels_2.value_counts()"
      ],
      "metadata": {
        "id": "grLDE1iM-TS2",
        "outputId": "60a3fa79-591f-4889-937e-efcf5bc19862",
        "colab": {
          "base_uri": "https://localhost:8080/"
        }
      },
      "execution_count": 42,
      "outputs": [
        {
          "output_type": "execute_result",
          "data": {
            "text/plain": [
              "other                                                    1642\n",
              "Class_A_betalactamases                                   1580\n",
              "Class_C_betalactamases                                    950\n",
              "Class_D_betalactamases                                    900\n",
              "efflux_pump                                               826\n",
              "acetyltransferases                                        445\n",
              "Class_B_betalactamases                                    410\n",
              "nucleotidyltransferases                                   296\n",
              "Quinolone_resistance_protein_Qnr                          173\n",
              "methyltransferases                                        145\n",
              "Dihydrofolate_reductase                                   135\n",
              "Tetracycline_resistance_ribosomal_protection_proteins     134\n",
              "phosphotransferases                                       122\n",
              "Fluoroquinolone-resistant_DNA_topoisomerases              110\n",
              "Name: labels_2, dtype: int64"
            ]
          },
          "metadata": {},
          "execution_count": 42
        }
      ]
    },
    {
      "cell_type": "code",
      "source": [
        "X = df.Sequence.values\n",
        "y = np.array([df.labels.values, df.labels_2.values]).transpose()\n",
        "print(X.shape, y.shape)\n",
        "index_to_remove = []\n",
        "for (i, seq) in enumerate(X):\n",
        "  if set(seq.upper())!={\"A\", \"T\", \"C\", \"G\"}:\n",
        "    index_to_remove.append(i)\n",
        "index_to_remove\n",
        "X = np.delete(X, index_to_remove, axis=0)\n",
        "y = np.delete(y, index_to_remove, axis=0)\n",
        "\n",
        "print(X.shape,y.shape)"
      ],
      "metadata": {
        "id": "oWR3uFPA_W-K",
        "outputId": "4c22bbe5-917c-45b4-eddb-cd58a3a30086",
        "colab": {
          "base_uri": "https://localhost:8080/"
        }
      },
      "execution_count": 43,
      "outputs": [
        {
          "output_type": "stream",
          "name": "stdout",
          "text": [
            "(7868,) (7868, 2)\n",
            "(7819,) (7819, 2)\n"
          ]
        }
      ]
    },
    {
      "cell_type": "code",
      "source": [
        "X_train, X_test, y_train, y_test = train_test_split(X, y, test_size=0.2) \n",
        "X_train, X_val, y_train, y_val = train_test_split(X_train, y_train, test_size=0.1) \n",
        "X_train, X_val, y_train, y_val = train_test_split(X_train, y_train, test_size=0.1) "
      ],
      "metadata": {
        "id": "q4XRBVVs_XAb"
      },
      "execution_count": 44,
      "outputs": []
    },
    {
      "cell_type": "code",
      "source": [
        "import torch.nn.functional as F\n",
        "\n",
        "def encode_multitask(seq, label, labels_dict1, labels_dict2):\n",
        "  label_int1 = labels_dict1[label[0]]\n",
        "  label_int2 = labels_dict2[label[1]]\n",
        "  enc_seq = [code[x] for x in seq.upper()]\n",
        "  return [torch.LongTensor(enc_seq[0:2000]), torch.LongTensor([label_int1, label_int2]), len(enc_seq)]\n",
        "\n",
        "class SequenceDatasetMultitask(Dataset):\n",
        "    def __init__(self, X, y, labels_dict1, labels_dict2):\n",
        "        \n",
        "        self.X = X \n",
        "        self.y = y \n",
        "        self.labels_dict1 =labels_dict1\n",
        "        self.labels_dict2 = labels_dict2\n",
        "        self.len=len(self.X)      \n",
        "\n",
        "    def __getitem__(self, index):\n",
        "        # your implementation here: \n",
        "        X_elem, y_elem, length_seq = encode_multitask(self.X[index], self.y[index], \n",
        "                                                      labels_dict1=self.labels_dict1, labels_dict2 = self.labels_dict2)\n",
        "        return F.pad(X_elem, pad=(0, 2000 - len(X_elem))), y_elem\n",
        "\n",
        "    def __len__(self):\n",
        "        return self.len\n",
        "    \n",
        "\n",
        "\n"
      ],
      "metadata": {
        "id": "a0IqGLW3zRfG"
      },
      "execution_count": 45,
      "outputs": []
    },
    {
      "cell_type": "code",
      "source": [
        "\n",
        "train_data = SequenceDatasetMultitask(X_train, y_train, labels_dict1 = label_code_1, labels_dict2 = label_code_2)\n",
        "val_data = SequenceDatasetMultitask(X_val, y_val, labels_dict1 = label_code_1, labels_dict2 = label_code_2)\n",
        "test_data = SequenceDatasetMultitask(X_test, y_test, labels_dict1 = label_code_1, labels_dict2 = label_code_2)\n",
        "\n",
        "batch_size = 32\n",
        "train_dataloader = DataLoader(train_data, batch_size=batch_size, shuffle=True)# fill in code here\n",
        "val_dataloader = DataLoader(val_data, batch_size=batch_size, shuffle=True)# fill in code here\n",
        "test_dataloader = DataLoader(test_data, batch_size=batch_size, shuffle=True)# fill in code here"
      ],
      "metadata": {
        "id": "6tGg2g_LAuBr"
      },
      "execution_count": 46,
      "outputs": []
    },
    {
      "cell_type": "code",
      "source": [
        "class cnn1d_multitask(nn.Module):\n",
        "    def __init__(self, label_count1 = len(label_code_1), label_count2 = len(label_code_2)):\n",
        "        super(cnn1d_multitask, self).__init__()\n",
        "        count = 2*(label_count1+label_count2)\n",
        "        self.embedding = nn.Embedding(5, count)\n",
        "        self.conv1 = nn.Conv1d(count, 64, kernel_size = 3, padding='same')\n",
        "        self.maxpool1 = nn.MaxPool1d(kernel_size=5)\n",
        "        self.conv2 = nn.Conv1d(64, 64, kernel_size=3, padding=\"same\")\n",
        "        self.maxpool2 = nn.MaxPool1d(kernel_size=5)\n",
        "        self.conv3 = nn.Conv1d(64, 64, kernel_size=3, padding=\"same\")\n",
        "        self.maxpool3 = nn.MaxPool1d(kernel_size=5)\n",
        "        self.dense1 = nn.Sequential(nn.Linear(1024, 256), \n",
        "                             nn.ReLU(), nn.Linear(256, 64),\n",
        "                             nn.ReLU(), nn.Linear(64, label_count1))\n",
        "        self.dense2 = nn.Sequential(nn.Linear(1024, 256), \n",
        "                             nn.ReLU(), nn.Linear(256, 64),\n",
        "                             nn.ReLU(), nn.Linear(64, label_count2))\n",
        "\n",
        "    def forward(self, x):\n",
        "        \"\"\"Extract first fully connected feature vector\"\"\"\n",
        "        x = self.embedding(x)\n",
        "        \n",
        "        x = self.conv1(x.permute(0, 2, 1))\n",
        "        x = self.maxpool1(x)\n",
        "        x = self.conv2(x)\n",
        "        x = self.maxpool2(x)\n",
        "        x = self.conv3(x)\n",
        "        x = self.maxpool3(x)\n",
        "        x = torch.flatten(x, 1)\n",
        "        x1 = self.dense1(x)\n",
        "        x2 = self.dense2(x)\n",
        "        \n",
        "        return x1, x2"
      ],
      "metadata": {
        "id": "4WbnzWp3wseK"
      },
      "execution_count": 47,
      "outputs": []
    },
    {
      "cell_type": "code",
      "source": [
        "model = cnn1d_multitask(label_count1=len(label_code_2), label_count2 = len(label_code_2))\n",
        "model = model.to(device)"
      ],
      "metadata": {
        "id": "-wYecjaBAuEC"
      },
      "execution_count": 48,
      "outputs": []
    },
    {
      "cell_type": "code",
      "source": [
        "model"
      ],
      "metadata": {
        "id": "4pzdcks5BYVc",
        "outputId": "83dc2e5c-bba8-42a1-8487-f17d09bf4cf4",
        "colab": {
          "base_uri": "https://localhost:8080/"
        }
      },
      "execution_count": 49,
      "outputs": [
        {
          "output_type": "execute_result",
          "data": {
            "text/plain": [
              "cnn1d_multitask(\n",
              "  (embedding): Embedding(5, 56)\n",
              "  (conv1): Conv1d(56, 64, kernel_size=(3,), stride=(1,), padding=same)\n",
              "  (maxpool1): MaxPool1d(kernel_size=5, stride=5, padding=0, dilation=1, ceil_mode=False)\n",
              "  (conv2): Conv1d(64, 64, kernel_size=(3,), stride=(1,), padding=same)\n",
              "  (maxpool2): MaxPool1d(kernel_size=5, stride=5, padding=0, dilation=1, ceil_mode=False)\n",
              "  (conv3): Conv1d(64, 64, kernel_size=(3,), stride=(1,), padding=same)\n",
              "  (maxpool3): MaxPool1d(kernel_size=5, stride=5, padding=0, dilation=1, ceil_mode=False)\n",
              "  (dense1): Sequential(\n",
              "    (0): Linear(in_features=1024, out_features=256, bias=True)\n",
              "    (1): ReLU()\n",
              "    (2): Linear(in_features=256, out_features=64, bias=True)\n",
              "    (3): ReLU()\n",
              "    (4): Linear(in_features=64, out_features=14, bias=True)\n",
              "  )\n",
              "  (dense2): Sequential(\n",
              "    (0): Linear(in_features=1024, out_features=256, bias=True)\n",
              "    (1): ReLU()\n",
              "    (2): Linear(in_features=256, out_features=64, bias=True)\n",
              "    (3): ReLU()\n",
              "    (4): Linear(in_features=64, out_features=14, bias=True)\n",
              "  )\n",
              ")"
            ]
          },
          "metadata": {},
          "execution_count": 49
        }
      ]
    },
    {
      "cell_type": "code",
      "source": [
        "def train_multitask(model, dataloader, optimizer, device):\n",
        "    \n",
        "    '''\n",
        "    A function to train on the entire dataset for one epoch.\n",
        "    \n",
        "    Args: \n",
        "        model (torch.nn.Module): Your sequence classifier \n",
        "        dataloader (torch.utils.data.Dataloader): DataLoader object for the train data\n",
        "        optimizer (torch.optim.Optimizer): Optimizer object to interface gradient calculation and optimization \n",
        "        device (str): Your device\n",
        "        \n",
        "    Returns: \n",
        "        float: loss averaged over all the batches \n",
        "    \n",
        "    '''\n",
        "\n",
        "    batch_loss = []\n",
        "    model.train() # Set model to training mode \n",
        "    train_loss = 0 \n",
        "    count = 0\n",
        "    for batch in dataloader:    \n",
        "        seq, label = batch\n",
        "        seq = seq.to(device)\n",
        "        label = label.to(device)\n",
        "        \n",
        "        y_pred = model(seq)\n",
        "        loss1 = nn.functional.cross_entropy(y_pred[0], label.squeeze()[:, 0])# fill in loss here\n",
        "        loss2 = nn.functional.cross_entropy(y_pred[1], label.squeeze()[:, 1])\n",
        "        loss = (loss1+loss2)/2\n",
        "        train_loss += (loss)*len(label)\n",
        "        count += len(label)\n",
        "        batch_loss.append(loss.item())\n",
        "        \n",
        "        # run backpropagation given the loss you defined\n",
        "        optimizer.zero_grad()\n",
        "        loss.backward()\n",
        "        optimizer.step()\n",
        "    train_loss = train_loss/count\n",
        "    return np.array(batch_loss).mean(), train_loss.detach().cpu().numpy() \n",
        "\n",
        "\n",
        "def validate_multitask(model, dataloader, device):\n",
        "    \n",
        "    '''\n",
        "    A function to validate on the validation dataset for one epoch.\n",
        "    \n",
        "    Args: \n",
        "        model (torch.nn.Module): Your sequence classifier \n",
        "        dataloader (torch.utils.data.Dataloader): DataLoader object for the validation data\n",
        "        device (str): Your device\n",
        "        \n",
        "    Returns: \n",
        "        float: loss averaged over all the batches \n",
        "    \n",
        "    '''\n",
        "    batch_loss = []\n",
        "    val_loss = 0\n",
        "    count = 0\n",
        "    model.eval() # Set model to evaluation mode \n",
        "    with torch.no_grad():    \n",
        "        for batch in dataloader:\n",
        "            seq, label = batch\n",
        "            seq = seq.to(device)\n",
        "            label = label.to(device)\n",
        "            y_pred = model(seq)\n",
        "            \n",
        "            loss1 = nn.functional.cross_entropy(y_pred[0], label.squeeze()[:, 0])# fill in loss here\n",
        "            loss2 = nn.functional.cross_entropy(y_pred[1], label.squeeze()[:, 1])\n",
        "            loss = (loss1+loss2)/2\n",
        "            val_loss += loss*len(label)\n",
        "            count += len(label)\n",
        "            batch_loss.append(loss.item())\n",
        "            # validate your model on each batch here \n",
        "        val_loss = val_loss/count     \n",
        "    return np.array(batch_loss).mean(), val_loss.detach().cpu().numpy()    "
      ],
      "metadata": {
        "id": "Em_vDb85x15H"
      },
      "execution_count": 50,
      "outputs": []
    },
    {
      "cell_type": "code",
      "source": [
        "optimizer = torch.optim.Adam(list(model.parameters()), lr=0.5*1e-3) "
      ],
      "metadata": {
        "id": "cUNn7m_9GGxH"
      },
      "execution_count": 51,
      "outputs": []
    },
    {
      "cell_type": "code",
      "source": [
        "print(\"epoch\", \"train loss\", \"validation loss\")\n",
        "\n",
        "val_loss_curve = []\n",
        "train_loss_curve = []\n",
        "\n",
        "for epoch in range(8):\n",
        "    \n",
        "    # Compute train your model on training data\n",
        "    epoch_loss, train_loss = train_multitask(model, train_dataloader, optimizer,  device=device)\n",
        "    \n",
        "    # Validate your on validation data \n",
        "    epoch_loss , val_loss = validate_multitask(model, val_dataloader, device=device) \n",
        "    \n",
        "    # Record train and loss performance \n",
        "    train_loss_curve.append(epoch_loss)\n",
        "    val_loss_curve.append(val_loss)\n",
        "    \n",
        "    # The learning rate scheduler records the validation loss \n",
        "    # scheduler.step(val_loss)\n",
        "    \n",
        "    print(epoch, train_loss, val_loss)"
      ],
      "metadata": {
        "id": "lMmyEkNHAuGV",
        "outputId": "8b06c082-b47b-4cdb-968f-9c9cb593a91b",
        "colab": {
          "base_uri": "https://localhost:8080/"
        }
      },
      "execution_count": 52,
      "outputs": [
        {
          "output_type": "stream",
          "name": "stdout",
          "text": [
            "epoch train loss validation loss\n",
            "0 1.3903732 1.0835927\n",
            "1 0.9709047 0.7436942\n",
            "2 0.6076863 0.49315366\n",
            "3 0.39693502 0.39372104\n",
            "4 0.26761296 0.32774675\n",
            "5 0.17214946 0.32282892\n",
            "6 0.11597881 0.3219447\n",
            "7 0.06882454 0.36861214\n"
          ]
        }
      ]
    },
    {
      "cell_type": "code",
      "source": [
        "pred_labels_class = []\n",
        "pred_labels_mechanism = []\n",
        "true_labels_class = []\n",
        "true_labels_mechanism = []\n",
        "test_loss = 0\n",
        "with torch.no_grad():\n",
        "  model.eval()\n",
        "  for batch in test_dataloader:\n",
        "    seq, label = batch\n",
        "    seq = seq.to(device)\n",
        "    label = label.to(device)\n",
        "    logits = model(seq)\n",
        "    loss1 = nn.functional.cross_entropy(logits[0], label.squeeze()[:, 0])# fill in loss here\n",
        "    loss2 = nn.functional.cross_entropy(logits[1], label.squeeze()[:, 1])\n",
        "    loss = (loss1+loss2)/2\n",
        "    test_loss += loss*len(label)\n",
        "    preds1 = logits[0].max(1).indices\n",
        "    preds2 = logits[1].max(1).indices\n",
        "    true_labels_class.extend(list(label.squeeze().detach().cpu().numpy()[:, 0]))\n",
        "    true_labels_mechanism.extend(list(label.squeeze().detach().cpu().numpy()[:, 1]))\n",
        "\n",
        "    pred_labels_class.extend(list(preds1.squeeze().detach().cpu().numpy()))\n",
        "    pred_labels_mechanism.extend(list(preds2.squeeze().detach().cpu().numpy()))\n",
        "test_loss = test_loss/len(test_data)\n",
        "test_loss = test_loss.detach().cpu().numpy()\n",
        "print(\"Test loss is {}\".format(test_loss))\n",
        "class_acc = (np.array(true_labels_class) ==  np.array(pred_labels_class)).mean()\n",
        "mechanism_acc = (np.array(true_labels_mechanism) ==  np.array(pred_labels_mechanism)).mean()\n",
        "\n",
        "print(\"Test Acc for Class Prediction is {}\".format(class_acc))\n",
        "print(\"Test Acc for Mechanism Prediction is {}\".format(mechanism_acc))"
      ],
      "metadata": {
        "id": "40J_xtUH4izK",
        "outputId": "4e75a9e4-6793-4b8b-aba4-3ecb9ba9a14c",
        "colab": {
          "base_uri": "https://localhost:8080/"
        }
      },
      "execution_count": 53,
      "outputs": [
        {
          "output_type": "stream",
          "name": "stdout",
          "text": [
            "Test loss is 0.4339591860771179\n",
            "Test Acc for Class Prediction is 0.9092071611253197\n",
            "Test Acc for Mechanism Prediction is 0.9002557544757033\n"
          ]
        }
      ]
    },
    {
      "cell_type": "code",
      "source": [
        "cmat = confusion_matrix(true_labels_class, pred_labels_class)"
      ],
      "metadata": {
        "id": "qbN5VP0nAuLA"
      },
      "execution_count": 54,
      "outputs": []
    },
    {
      "cell_type": "code",
      "source": [
        "sns.set(rc = {'figure.figsize':(12,8)})\n",
        "fig, ax = plt.subplots()\n",
        "sns.heatmap(cmat, annot=cmat, fmt=\"\",  ax=ax, yticklabels=(label_code_1.keys()),\n",
        "            xticklabels=label_code_1.keys())\n",
        "plt.show()"
      ],
      "metadata": {
        "id": "JIKY0igMAuNb",
        "outputId": "9e969daa-6033-4bb1-a5d3-49e9a337d73b",
        "colab": {
          "base_uri": "https://localhost:8080/",
          "height": 570
        }
      },
      "execution_count": 55,
      "outputs": [
        {
          "output_type": "display_data",
          "data": {
            "text/plain": [
              "<Figure size 864x576 with 2 Axes>"
            ],
            "image/png": "[encoded data removed]"
          },
          "metadata": {}
        }
      ]
    },
    {
      "cell_type": "code",
      "source": [
        "cmat = confusion_matrix(true_labels_mechanism, pred_labels_mechanism)"
      ],
      "metadata": {
        "id": "vtcCa-e_HGgj"
      },
      "execution_count": 56,
      "outputs": []
    },
    {
      "cell_type": "code",
      "source": [
        "sns.set(rc = {'figure.figsize':(16,10)})\n",
        "fig, ax = plt.subplots()\n",
        "sns.heatmap(cmat, annot=cmat, fmt=\"\",  ax=ax, yticklabels=(label_code_2.keys()),\n",
        "            xticklabels=label_code_2.keys())\n",
        "plt.show()"
      ],
      "metadata": {
        "id": "wBeqxkPkHELf",
        "outputId": "044ba2dd-4a98-43fd-9ef8-6784ed6fb4ef",
        "colab": {
          "base_uri": "https://localhost:8080/",
          "height": 886
        }
      },
      "execution_count": 57,
      "outputs": [
        {
          "output_type": "display_data",
          "data": {
            "text/plain": [
              "<Figure size 1152x720 with 2 Axes>"
            ],
            "image/png": "[encoded data removed]"
          },
          "metadata": {}
        }
      ]
    },
    {
      "cell_type": "code",
      "source": [
        "model_cut = torch.nn.Sequential(*(list(model.children())[:-1]), model.dense1[:-2])\n",
        "model_cut"
      ],
      "metadata": {
        "id": "STuAfKq0AuP7",
        "outputId": "b156facc-6c1c-49ad-a6e3-fbab887cce42",
        "colab": {
          "base_uri": "https://localhost:8080/"
        }
      },
      "execution_count": 58,
      "outputs": [
        {
          "output_type": "execute_result",
          "data": {
            "text/plain": [
              "Sequential(\n",
              "  (0): Embedding(5, 56)\n",
              "  (1): Conv1d(56, 64, kernel_size=(3,), stride=(1,), padding=same)\n",
              "  (2): MaxPool1d(kernel_size=5, stride=5, padding=0, dilation=1, ceil_mode=False)\n",
              "  (3): Conv1d(64, 64, kernel_size=(3,), stride=(1,), padding=same)\n",
              "  (4): MaxPool1d(kernel_size=5, stride=5, padding=0, dilation=1, ceil_mode=False)\n",
              "  (5): Conv1d(64, 64, kernel_size=(3,), stride=(1,), padding=same)\n",
              "  (6): MaxPool1d(kernel_size=5, stride=5, padding=0, dilation=1, ceil_mode=False)\n",
              "  (7): Sequential(\n",
              "    (0): Linear(in_features=1024, out_features=256, bias=True)\n",
              "    (1): ReLU()\n",
              "    (2): Linear(in_features=256, out_features=64, bias=True)\n",
              "    (3): ReLU()\n",
              "    (4): Linear(in_features=64, out_features=14, bias=True)\n",
              "  )\n",
              "  (8): Sequential(\n",
              "    (0): Linear(in_features=1024, out_features=256, bias=True)\n",
              "    (1): ReLU()\n",
              "    (2): Linear(in_features=256, out_features=64, bias=True)\n",
              "  )\n",
              ")"
            ]
          },
          "metadata": {},
          "execution_count": 58
        }
      ]
    },
    {
      "cell_type": "code",
      "source": [
        "\n",
        "embedding_list = []\n",
        "label_list = []\n",
        "model_cut.eval() # Set model to evaluation mode \n",
        "with torch.no_grad():    \n",
        "    for batch in train_dataloader:\n",
        "        seq, label = batch\n",
        "        seq = seq.to(device)\n",
        "        label = label.to(device)\n",
        "        seq = model_cut[0](seq)\n",
        "\n",
        "       \n",
        "        seq = model_cut[1](seq.permute(0, 2, 1))\n",
        "        seq = model_cut[2:7](seq)\n",
        "        seq = torch.flatten(seq, 1)\n",
        "        y_pred = model_cut[7](seq)\n",
        "        label_list.extend(list(label.squeeze().detach().cpu().numpy()))\n",
        "        embedding_list.extend(list(y_pred.detach().cpu().numpy()))\n",
        "        \n"
      ],
      "metadata": {
        "id": "1H-Vnb5lLDj_"
      },
      "execution_count": 59,
      "outputs": []
    },
    {
      "cell_type": "code",
      "source": [
        "embedding_list = np.array(embedding_list)\n",
        "label_list = np.array(label_list)\n",
        "embedding_list.shape, label_list.shape"
      ],
      "metadata": {
        "id": "F28rLH0uLDmm",
        "outputId": "47d7a6c2-1377-4fc6-fd26-6c7b340044ac",
        "colab": {
          "base_uri": "https://localhost:8080/"
        }
      },
      "execution_count": 60,
      "outputs": [
        {
          "output_type": "execute_result",
          "data": {
            "text/plain": [
              "((5066, 14), (5066, 2))"
            ]
          },
          "metadata": {},
          "execution_count": 60
        }
      ]
    },
    {
      "cell_type": "code",
      "source": [
        "label_value = [list(label_code_1.keys())[list(label_code_1.values()).index(p[0])] for p in label_list]"
      ],
      "metadata": {
        "id": "08t5Z5IuLDpB"
      },
      "execution_count": 61,
      "outputs": []
    },
    {
      "cell_type": "code",
      "source": [
        "df_embedding = pd.DataFrame(data = (embedding_list))\n",
        "df_embedding.head()"
      ],
      "metadata": {
        "id": "KYT4mdUYLDrj",
        "outputId": "42ef1eb5-9caf-4c17-a339-aa6ffeaa6b37",
        "colab": {
          "base_uri": "https://localhost:8080/",
          "height": 206
        }
      },
      "execution_count": 62,
      "outputs": [
        {
          "output_type": "execute_result",
          "data": {
            "text/plain": [
              "          0         1         2         3          4         5          6   \\\n",
              "0   2.367198 -6.125642  4.205846 -0.466574   7.903477 -5.012899 -23.388611   \n",
              "1  -6.945889 -5.474922 -0.292193 -4.190458  17.257874 -1.722819 -24.668770   \n",
              "2   6.254613 -1.292339 -2.941459 -7.968405   1.291804  6.281189 -14.373535   \n",
              "3  26.457663  2.351928  5.969804 -4.978248   3.017218  3.198935 -23.977345   \n",
              "4  15.575648 -0.098202  0.819664 -5.306401  -3.139427  4.504228 -12.823869   \n",
              "\n",
              "          7         8          9          10         11         12         13  \n",
              "0 -10.019985 -1.040367  17.120131   8.893755 -12.376473 -17.577696 -22.408398  \n",
              "1   3.073214  0.036026   2.050728   8.490242 -23.756905 -21.013243 -24.141560  \n",
              "2  -0.105501 -0.464446   1.010178  12.232016  -8.941304 -11.217405 -11.120739  \n",
              "3   2.116664  1.343092   5.637090   5.343403 -17.828070 -20.347826 -14.335220  \n",
              "4   2.665681  0.786136  -0.973117   9.769176 -12.040255  -9.311193  -9.282864  "
            ],
            "text/html": [
              "\n",
              "  <div id=\"df-7ef836df-919c-4c23-bcb0-a0b0c5eace35\">\n",
              "    <div class=\"colab-df-container\">\n",
              "      <div>\n",
              "<style scoped>\n",
              "    .dataframe tbody tr th:only-of-type {\n",
              "        vertical-align: middle;\n",
              "    }\n",
              "\n",
              "    .dataframe tbody tr th {\n",
              "        vertical-align: top;\n",
              "    }\n",
              "\n",
              "    .dataframe thead th {\n",
              "        text-align: right;\n",
              "    }\n",
              "</style>\n",
              "<table border=\"1\" class=\"dataframe\">\n",
              "  <thead>\n",
              "    <tr style=\"text-align: right;\">\n",
              "      <th></th>\n",
              "      <th>0</th>\n",
              "      <th>1</th>\n",
              "      <th>2</th>\n",
              "      <th>3</th>\n",
              "      <th>4</th>\n",
              "      <th>5</th>\n",
              "      <th>6</th>\n",
              "      <th>7</th>\n",
              "      <th>8</th>\n",
              "      <th>9</th>\n",
              "      <th>10</th>\n",
              "      <th>11</th>\n",
              "      <th>12</th>\n",
              "      <th>13</th>\n",
              "    </tr>\n",
              "  </thead>\n",
              "  <tbody>\n",
              "    <tr>\n",
              "      <th>0</th>\n",
              "      <td>2.367198</td>\n",
              "      <td>-6.125642</td>\n",
              "      <td>4.205846</td>\n",
              "      <td>-0.466574</td>\n",
              "      <td>7.903477</td>\n",
              "      <td>-5.012899</td>\n",
              "      <td>-23.388611</td>\n",
              "      <td>-10.019985</td>\n",
              "      <td>-1.040367</td>\n",
              "      <td>17.120131</td>\n",
              "      <td>8.893755</td>\n",
              "      <td>-12.376473</td>\n",
              "      <td>-17.577696</td>\n",
              "      <td>-22.408398</td>\n",
              "    </tr>\n",
              "    <tr>\n",
              "      <th>1</th>\n",
              "      <td>-6.945889</td>\n",
              "      <td>-5.474922</td>\n",
              "      <td>-0.292193</td>\n",
              "      <td>-4.190458</td>\n",
              "      <td>17.257874</td>\n",
              "      <td>-1.722819</td>\n",
              "      <td>-24.668770</td>\n",
              "      <td>3.073214</td>\n",
              "      <td>0.036026</td>\n",
              "      <td>2.050728</td>\n",
              "      <td>8.490242</td>\n",
              "      <td>-23.756905</td>\n",
              "      <td>-21.013243</td>\n",
              "      <td>-24.141560</td>\n",
              "    </tr>\n",
              "    <tr>\n",
              "      <th>2</th>\n",
              "      <td>6.254613</td>\n",
              "      <td>-1.292339</td>\n",
              "      <td>-2.941459</td>\n",
              "      <td>-7.968405</td>\n",
              "      <td>1.291804</td>\n",
              "      <td>6.281189</td>\n",
              "      <td>-14.373535</td>\n",
              "      <td>-0.105501</td>\n",
              "      <td>-0.464446</td>\n",
              "      <td>1.010178</td>\n",
              "      <td>12.232016</td>\n",
              "      <td>-8.941304</td>\n",
              "      <td>-11.217405</td>\n",
              "      <td>-11.120739</td>\n",
              "    </tr>\n",
              "    <tr>\n",
              "      <th>3</th>\n",
              "      <td>26.457663</td>\n",
              "      <td>2.351928</td>\n",
              "      <td>5.969804</td>\n",
              "      <td>-4.978248</td>\n",
              "      <td>3.017218</td>\n",
              "      <td>3.198935</td>\n",
              "      <td>-23.977345</td>\n",
              "      <td>2.116664</td>\n",
              "      <td>1.343092</td>\n",
              "      <td>5.637090</td>\n",
              "      <td>5.343403</td>\n",
              "      <td>-17.828070</td>\n",
              "      <td>-20.347826</td>\n",
              "      <td>-14.335220</td>\n",
              "    </tr>\n",
              "    <tr>\n",
              "      <th>4</th>\n",
              "      <td>15.575648</td>\n",
              "      <td>-0.098202</td>\n",
              "      <td>0.819664</td>\n",
              "      <td>-5.306401</td>\n",
              "      <td>-3.139427</td>\n",
              "      <td>4.504228</td>\n",
              "      <td>-12.823869</td>\n",
              "      <td>2.665681</td>\n",
              "      <td>0.786136</td>\n",
              "      <td>-0.973117</td>\n",
              "      <td>9.769176</td>\n",
              "      <td>-12.040255</td>\n",
              "      <td>-9.311193</td>\n",
              "      <td>-9.282864</td>\n",
              "    </tr>\n",
              "  </tbody>\n",
              "</table>\n",
              "</div>\n",
              "      <button class=\"colab-df-convert\" onclick=\"convertToInteractive('df-7ef836df-919c-4c23-bcb0-a0b0c5eace35')\"\n",
              "              title=\"Convert this dataframe to an interactive table.\"\n",
              "              style=\"display:none;\">\n",
              "        \n",
              "  <svg xmlns=\"http://www.w3.org/2000/svg\" height=\"24px\"viewBox=\"0 0 24 24\"\n",
              "       width=\"24px\">\n",
              "    <path d=\"M0 0h24v24H0V0z\" fill=\"none\"/>\n",
              "    <path d=\"M18.56 5.44l.94 2.06.94-2.06 2.06-.94-2.06-.94-.94-2.06-.94 2.06-2.06.94zm-11 1L8.5 8.5l.94-2.06 2.06-.94-2.06-.94L8.5 2.5l-.94 2.06-2.06.94zm10 10l.94 2.06.94-2.06 2.06-.94-2.06-.94-.94-2.06-.94 2.06-2.06.94z\"/><path d=\"M17.41 7.96l-1.37-1.37c-.4-.4-.92-.59-1.43-.59-.52 0-1.04.2-1.43.59L10.3 9.45l-7.72 7.72c-.78.78-.78 2.05 0 2.83L4 21.41c.39.39.9.59 1.41.59.51 0 1.02-.2 1.41-.59l7.78-7.78 2.81-2.81c.8-.78.8-2.07 0-2.86zM5.41 20L4 18.59l7.72-7.72 1.47 1.35L5.41 20z\"/>\n",
              "  </svg>\n",
              "      </button>\n",
              "      \n",
              "  <style>\n",
              "    .colab-df-container {\n",
              "      display:flex;\n",
              "      flex-wrap:wrap;\n",
              "      gap: 12px;\n",
              "    }\n",
              "\n",
              "    .colab-df-convert {\n",
              "      background-color: #E8F0FE;\n",
              "      border: none;\n",
              "      border-radius: 50%;\n",
              "      cursor: pointer;\n",
              "      display: none;\n",
              "      fill: #1967D2;\n",
              "      height: 32px;\n",
              "      padding: 0 0 0 0;\n",
              "      width: 32px;\n",
              "    }\n",
              "\n",
              "    .colab-df-convert:hover {\n",
              "      background-color: #E2EBFA;\n",
              "      box-shadow: 0px 1px 2px rgba(60, 64, 67, 0.3), 0px 1px 3px 1px rgba(60, 64, 67, 0.15);\n",
              "      fill: #174EA6;\n",
              "    }\n",
              "\n",
              "    [theme=dark] .colab-df-convert {\n",
              "      background-color: #3B4455;\n",
              "      fill: #D2E3FC;\n",
              "    }\n",
              "\n",
              "    [theme=dark] .colab-df-convert:hover {\n",
              "      background-color: #434B5C;\n",
              "      box-shadow: 0px 1px 3px 1px rgba(0, 0, 0, 0.15);\n",
              "      filter: drop-shadow(0px 1px 2px rgba(0, 0, 0, 0.3));\n",
              "      fill: #FFFFFF;\n",
              "    }\n",
              "  </style>\n",
              "\n",
              "      <script>\n",
              "        const buttonEl =\n",
              "          document.querySelector('#df-7ef836df-919c-4c23-bcb0-a0b0c5eace35 button.colab-df-convert');\n",
              "        buttonEl.style.display =\n",
              "          google.colab.kernel.accessAllowed ? 'block' : 'none';\n",
              "\n",
              "        async function convertToInteractive(key) {\n",
              "          const element = document.querySelector('#df-7ef836df-919c-4c23-bcb0-a0b0c5eace35');\n",
              "          const dataTable =\n",
              "            await google.colab.kernel.invokeFunction('convertToInteractive',\n",
              "                                                     [key], {});\n",
              "          if (!dataTable) return;\n",
              "\n",
              "          const docLinkHtml = 'Like what you see? Visit the ' +\n",
              "            '<a target=\"_blank\" href=https://colab.research.google.com/notebooks/data_table.ipynb>data table notebook</a>'\n",
              "            + ' to learn more about interactive tables.';\n",
              "          element.innerHTML = '';\n",
              "          dataTable['output_type'] = 'display_data';\n",
              "          await google.colab.output.renderOutput(dataTable, element);\n",
              "          const docLink = document.createElement('div');\n",
              "          docLink.innerHTML = docLinkHtml;\n",
              "          element.appendChild(docLink);\n",
              "        }\n",
              "      </script>\n",
              "    </div>\n",
              "  </div>\n",
              "  "
            ]
          },
          "metadata": {},
          "execution_count": 62
        }
      ]
    },
    {
      "cell_type": "code",
      "source": [
        "fit = umap.UMAP()\n",
        "reduced_embedding = fit.fit_transform(df_embedding)"
      ],
      "metadata": {
        "id": "HdH6B0wOLDyF"
      },
      "execution_count": 63,
      "outputs": []
    },
    {
      "cell_type": "code",
      "source": [
        "reduced_embedding = pd.DataFrame(reduced_embedding, columns=['dim1', 'dim2'])\n",
        "reduced_embedding[\"label\"] = np.array(label_value)\n",
        "sns.relplot(data=reduced_embedding, x=\"dim1\", y='dim2',\n",
        "                hue='label', hue_order=label_code_1.keys(), aspect=1.61, alpha = 0.1)\n",
        "plt.show()"
      ],
      "metadata": {
        "id": "fdzQokpq_XCw",
        "outputId": "2fe97117-1fc7-4821-8cac-156dc743b0e4",
        "colab": {
          "base_uri": "https://localhost:8080/",
          "height": 365
        }
      },
      "execution_count": 64,
      "outputs": [
        {
          "output_type": "display_data",
          "data": {
            "text/plain": [
              "<Figure size 713.7x360 with 1 Axes>"
            ],
            "image/png": "[encoded data removed]"
          },
          "metadata": {}
        }
      ]
    },
    {
      "cell_type": "code",
      "source": [
        "model_cut = torch.nn.Sequential(*(list(model.children())[:-1]), model.dense2[:-2])\n",
        "model_cut"
      ],
      "metadata": {
        "id": "1ZMZocet_XFU",
        "outputId": "9f678e36-eab8-4e31-809d-129114bc7d9e",
        "colab": {
          "base_uri": "https://localhost:8080/"
        }
      },
      "execution_count": 65,
      "outputs": [
        {
          "output_type": "execute_result",
          "data": {
            "text/plain": [
              "Sequential(\n",
              "  (0): Embedding(5, 56)\n",
              "  (1): Conv1d(56, 64, kernel_size=(3,), stride=(1,), padding=same)\n",
              "  (2): MaxPool1d(kernel_size=5, stride=5, padding=0, dilation=1, ceil_mode=False)\n",
              "  (3): Conv1d(64, 64, kernel_size=(3,), stride=(1,), padding=same)\n",
              "  (4): MaxPool1d(kernel_size=5, stride=5, padding=0, dilation=1, ceil_mode=False)\n",
              "  (5): Conv1d(64, 64, kernel_size=(3,), stride=(1,), padding=same)\n",
              "  (6): MaxPool1d(kernel_size=5, stride=5, padding=0, dilation=1, ceil_mode=False)\n",
              "  (7): Sequential(\n",
              "    (0): Linear(in_features=1024, out_features=256, bias=True)\n",
              "    (1): ReLU()\n",
              "    (2): Linear(in_features=256, out_features=64, bias=True)\n",
              "    (3): ReLU()\n",
              "    (4): Linear(in_features=64, out_features=14, bias=True)\n",
              "  )\n",
              "  (8): Sequential(\n",
              "    (0): Linear(in_features=1024, out_features=256, bias=True)\n",
              "    (1): ReLU()\n",
              "    (2): Linear(in_features=256, out_features=64, bias=True)\n",
              "  )\n",
              ")"
            ]
          },
          "metadata": {},
          "execution_count": 65
        }
      ]
    },
    {
      "cell_type": "code",
      "source": [
        "# model_cut = nn.Sequential(*[model.children for i in range(1)])\n",
        "# model_cut\n",
        "embedding_list = []\n",
        "label_list = []\n",
        "model_cut.eval() # Set model to evaluation mode \n",
        "with torch.no_grad():    \n",
        "    for batch in train_dataloader:\n",
        "        seq, label = batch\n",
        "        seq = seq.to(device)\n",
        "        label = label.to(device)\n",
        "        seq = model_cut[0](seq)\n",
        "\n",
        "        # print(x.shape)\n",
        "        # Apply pooling\n",
        "        seq = model_cut[1](seq.permute(0, 2, 1))\n",
        "        seq = model_cut[2:7](seq)\n",
        "        seq = torch.flatten(seq, 1)\n",
        "        y_pred = model_cut[7](seq)\n",
        "        label_list.extend(list(label.squeeze().detach().cpu().numpy()))\n",
        "        embedding_list.extend(list(y_pred.detach().cpu().numpy()))\n",
        "        \n",
        "            # validate your model on each batch here"
      ],
      "metadata": {
        "id": "d5pQDvGwLznQ"
      },
      "execution_count": 66,
      "outputs": []
    },
    {
      "cell_type": "code",
      "source": [
        "embedding_list = np.array(embedding_list)\n",
        "label_list = np.array(label_list)\n",
        "embedding_list.shape, label_list.shape"
      ],
      "metadata": {
        "id": "VQXZ6LQ5Lzp9",
        "outputId": "20b9c29e-9b86-4cfb-9930-d42ef415af46",
        "colab": {
          "base_uri": "https://localhost:8080/"
        }
      },
      "execution_count": 67,
      "outputs": [
        {
          "output_type": "execute_result",
          "data": {
            "text/plain": [
              "((5066, 14), (5066, 2))"
            ]
          },
          "metadata": {},
          "execution_count": 67
        }
      ]
    },
    {
      "cell_type": "code",
      "source": [
        "label_value1 = [list(label_code_1.keys())[list(label_code_1.values()).index(p[0])] for p in label_list]\n",
        "label_value2 = [list(label_code_2.keys())[list(label_code_2.values()).index(p[1])] for p in label_list]"
      ],
      "metadata": {
        "id": "Uo0qDahjLzsw"
      },
      "execution_count": 68,
      "outputs": []
    },
    {
      "cell_type": "code",
      "source": [
        "df_embedding = pd.DataFrame(data = (embedding_list))\n",
        "df_embedding.head()"
      ],
      "metadata": {
        "id": "Ko2Rj-dKLzuz",
        "outputId": "3a6cbabd-3e91-4644-af63-f85b879fba06",
        "colab": {
          "base_uri": "https://localhost:8080/",
          "height": 206
        }
      },
      "execution_count": 69,
      "outputs": [
        {
          "output_type": "execute_result",
          "data": {
            "text/plain": [
              "          0         1          2          3         4         5          6   \\\n",
              "0  19.744146  5.915029   6.755833 -13.344232  0.509547  4.600236 -15.672818   \n",
              "1   1.176394  4.631014   8.681980   1.050890  4.339552 -0.119794 -13.547636   \n",
              "2   4.513267 -0.528697  12.645351  -6.893992  5.095386  0.621301 -20.330244   \n",
              "3   2.940775  3.936834  12.726402  -8.893503 -0.200350 -0.167382 -11.489368   \n",
              "4  18.843346  3.108866   3.609960  -2.101072 -3.122842  1.073942 -17.367813   \n",
              "\n",
              "         7         8         9         10         11         12         13  \n",
              "0 -3.558144  6.202316  4.408266  7.875863 -13.269375 -18.765383 -10.994256  \n",
              "1  2.944504  0.180831 -1.014372  5.597188 -13.563017 -15.003971 -10.158001  \n",
              "2  5.321258  2.935784  3.016014  8.235893 -14.501331 -17.435156  -9.406769  \n",
              "3 -0.456663  1.689993 -0.346971  7.511604 -10.945954 -17.078770  -7.737295  \n",
              "4 -0.241971 -0.233329  9.866724  9.370948 -13.757830 -16.905024 -12.203083  "
            ],
            "text/html": [
              "\n",
              "  <div id=\"df-979f0c59-626c-4726-8716-720bc5a67dcc\">\n",
              "    <div class=\"colab-df-container\">\n",
              "      <div>\n",
              "<style scoped>\n",
              "    .dataframe tbody tr th:only-of-type {\n",
              "        vertical-align: middle;\n",
              "    }\n",
              "\n",
              "    .dataframe tbody tr th {\n",
              "        vertical-align: top;\n",
              "    }\n",
              "\n",
              "    .dataframe thead th {\n",
              "        text-align: right;\n",
              "    }\n",
              "</style>\n",
              "<table border=\"1\" class=\"dataframe\">\n",
              "  <thead>\n",
              "    <tr style=\"text-align: right;\">\n",
              "      <th></th>\n",
              "      <th>0</th>\n",
              "      <th>1</th>\n",
              "      <th>2</th>\n",
              "      <th>3</th>\n",
              "      <th>4</th>\n",
              "      <th>5</th>\n",
              "      <th>6</th>\n",
              "      <th>7</th>\n",
              "      <th>8</th>\n",
              "      <th>9</th>\n",
              "      <th>10</th>\n",
              "      <th>11</th>\n",
              "      <th>12</th>\n",
              "      <th>13</th>\n",
              "    </tr>\n",
              "  </thead>\n",
              "  <tbody>\n",
              "    <tr>\n",
              "      <th>0</th>\n",
              "      <td>19.744146</td>\n",
              "      <td>5.915029</td>\n",
              "      <td>6.755833</td>\n",
              "      <td>-13.344232</td>\n",
              "      <td>0.509547</td>\n",
              "      <td>4.600236</td>\n",
              "      <td>-15.672818</td>\n",
              "      <td>-3.558144</td>\n",
              "      <td>6.202316</td>\n",
              "      <td>4.408266</td>\n",
              "      <td>7.875863</td>\n",
              "      <td>-13.269375</td>\n",
              "      <td>-18.765383</td>\n",
              "      <td>-10.994256</td>\n",
              "    </tr>\n",
              "    <tr>\n",
              "      <th>1</th>\n",
              "      <td>1.176394</td>\n",
              "      <td>4.631014</td>\n",
              "      <td>8.681980</td>\n",
              "      <td>1.050890</td>\n",
              "      <td>4.339552</td>\n",
              "      <td>-0.119794</td>\n",
              "      <td>-13.547636</td>\n",
              "      <td>2.944504</td>\n",
              "      <td>0.180831</td>\n",
              "      <td>-1.014372</td>\n",
              "      <td>5.597188</td>\n",
              "      <td>-13.563017</td>\n",
              "      <td>-15.003971</td>\n",
              "      <td>-10.158001</td>\n",
              "    </tr>\n",
              "    <tr>\n",
              "      <th>2</th>\n",
              "      <td>4.513267</td>\n",
              "      <td>-0.528697</td>\n",
              "      <td>12.645351</td>\n",
              "      <td>-6.893992</td>\n",
              "      <td>5.095386</td>\n",
              "      <td>0.621301</td>\n",
              "      <td>-20.330244</td>\n",
              "      <td>5.321258</td>\n",
              "      <td>2.935784</td>\n",
              "      <td>3.016014</td>\n",
              "      <td>8.235893</td>\n",
              "      <td>-14.501331</td>\n",
              "      <td>-17.435156</td>\n",
              "      <td>-9.406769</td>\n",
              "    </tr>\n",
              "    <tr>\n",
              "      <th>3</th>\n",
              "      <td>2.940775</td>\n",
              "      <td>3.936834</td>\n",
              "      <td>12.726402</td>\n",
              "      <td>-8.893503</td>\n",
              "      <td>-0.200350</td>\n",
              "      <td>-0.167382</td>\n",
              "      <td>-11.489368</td>\n",
              "      <td>-0.456663</td>\n",
              "      <td>1.689993</td>\n",
              "      <td>-0.346971</td>\n",
              "      <td>7.511604</td>\n",
              "      <td>-10.945954</td>\n",
              "      <td>-17.078770</td>\n",
              "      <td>-7.737295</td>\n",
              "    </tr>\n",
              "    <tr>\n",
              "      <th>4</th>\n",
              "      <td>18.843346</td>\n",
              "      <td>3.108866</td>\n",
              "      <td>3.609960</td>\n",
              "      <td>-2.101072</td>\n",
              "      <td>-3.122842</td>\n",
              "      <td>1.073942</td>\n",
              "      <td>-17.367813</td>\n",
              "      <td>-0.241971</td>\n",
              "      <td>-0.233329</td>\n",
              "      <td>9.866724</td>\n",
              "      <td>9.370948</td>\n",
              "      <td>-13.757830</td>\n",
              "      <td>-16.905024</td>\n",
              "      <td>-12.203083</td>\n",
              "    </tr>\n",
              "  </tbody>\n",
              "</table>\n",
              "</div>\n",
              "      <button class=\"colab-df-convert\" onclick=\"convertToInteractive('df-979f0c59-626c-4726-8716-720bc5a67dcc')\"\n",
              "              title=\"Convert this dataframe to an interactive table.\"\n",
              "              style=\"display:none;\">\n",
              "        \n",
              "  <svg xmlns=\"http://www.w3.org/2000/svg\" height=\"24px\"viewBox=\"0 0 24 24\"\n",
              "       width=\"24px\">\n",
              "    <path d=\"M0 0h24v24H0V0z\" fill=\"none\"/>\n",
              "    <path d=\"M18.56 5.44l.94 2.06.94-2.06 2.06-.94-2.06-.94-.94-2.06-.94 2.06-2.06.94zm-11 1L8.5 8.5l.94-2.06 2.06-.94-2.06-.94L8.5 2.5l-.94 2.06-2.06.94zm10 10l.94 2.06.94-2.06 2.06-.94-2.06-.94-.94-2.06-.94 2.06-2.06.94z\"/><path d=\"M17.41 7.96l-1.37-1.37c-.4-.4-.92-.59-1.43-.59-.52 0-1.04.2-1.43.59L10.3 9.45l-7.72 7.72c-.78.78-.78 2.05 0 2.83L4 21.41c.39.39.9.59 1.41.59.51 0 1.02-.2 1.41-.59l7.78-7.78 2.81-2.81c.8-.78.8-2.07 0-2.86zM5.41 20L4 18.59l7.72-7.72 1.47 1.35L5.41 20z\"/>\n",
              "  </svg>\n",
              "      </button>\n",
              "      \n",
              "  <style>\n",
              "    .colab-df-container {\n",
              "      display:flex;\n",
              "      flex-wrap:wrap;\n",
              "      gap: 12px;\n",
              "    }\n",
              "\n",
              "    .colab-df-convert {\n",
              "      background-color: #E8F0FE;\n",
              "      border: none;\n",
              "      border-radius: 50%;\n",
              "      cursor: pointer;\n",
              "      display: none;\n",
              "      fill: #1967D2;\n",
              "      height: 32px;\n",
              "      padding: 0 0 0 0;\n",
              "      width: 32px;\n",
              "    }\n",
              "\n",
              "    .colab-df-convert:hover {\n",
              "      background-color: #E2EBFA;\n",
              "      box-shadow: 0px 1px 2px rgba(60, 64, 67, 0.3), 0px 1px 3px 1px rgba(60, 64, 67, 0.15);\n",
              "      fill: #174EA6;\n",
              "    }\n",
              "\n",
              "    [theme=dark] .colab-df-convert {\n",
              "      background-color: #3B4455;\n",
              "      fill: #D2E3FC;\n",
              "    }\n",
              "\n",
              "    [theme=dark] .colab-df-convert:hover {\n",
              "      background-color: #434B5C;\n",
              "      box-shadow: 0px 1px 3px 1px rgba(0, 0, 0, 0.15);\n",
              "      filter: drop-shadow(0px 1px 2px rgba(0, 0, 0, 0.3));\n",
              "      fill: #FFFFFF;\n",
              "    }\n",
              "  </style>\n",
              "\n",
              "      <script>\n",
              "        const buttonEl =\n",
              "          document.querySelector('#df-979f0c59-626c-4726-8716-720bc5a67dcc button.colab-df-convert');\n",
              "        buttonEl.style.display =\n",
              "          google.colab.kernel.accessAllowed ? 'block' : 'none';\n",
              "\n",
              "        async function convertToInteractive(key) {\n",
              "          const element = document.querySelector('#df-979f0c59-626c-4726-8716-720bc5a67dcc');\n",
              "          const dataTable =\n",
              "            await google.colab.kernel.invokeFunction('convertToInteractive',\n",
              "                                                     [key], {});\n",
              "          if (!dataTable) return;\n",
              "\n",
              "          const docLinkHtml = 'Like what you see? Visit the ' +\n",
              "            '<a target=\"_blank\" href=https://colab.research.google.com/notebooks/data_table.ipynb>data table notebook</a>'\n",
              "            + ' to learn more about interactive tables.';\n",
              "          element.innerHTML = '';\n",
              "          dataTable['output_type'] = 'display_data';\n",
              "          await google.colab.output.renderOutput(dataTable, element);\n",
              "          const docLink = document.createElement('div');\n",
              "          docLink.innerHTML = docLinkHtml;\n",
              "          element.appendChild(docLink);\n",
              "        }\n",
              "      </script>\n",
              "    </div>\n",
              "  </div>\n",
              "  "
            ]
          },
          "metadata": {},
          "execution_count": 69
        }
      ]
    },
    {
      "cell_type": "code",
      "source": [
        "fit = umap.UMAP()\n",
        "reduced_embedding = fit.fit_transform(df_embedding)"
      ],
      "metadata": {
        "id": "tdi7EOf3I5eJ"
      },
      "execution_count": 70,
      "outputs": []
    },
    {
      "cell_type": "code",
      "source": [
        "reduced_embedding = pd.DataFrame(reduced_embedding, columns=['dim1', 'dim2'])\n",
        "reduced_embedding[\"drug class\"] = np.array(label_value1)\n",
        "reduced_embedding[\"drug mechanism\"] = np.array(label_value2)\n",
        "\n",
        "sns.relplot(data=reduced_embedding, x=\"dim1\", y='dim2',\n",
        "                hue='drug class', hue_order=label_code_1.keys(), aspect=1.61, alpha = 0.1)\n",
        "plt.show()"
      ],
      "metadata": {
        "id": "3Ul60frjMS5b",
        "outputId": "984d3214-5e9a-4b84-c601-18f42bac9cf7",
        "colab": {
          "base_uri": "https://localhost:8080/",
          "height": 365
        }
      },
      "execution_count": 71,
      "outputs": [
        {
          "output_type": "display_data",
          "data": {
            "text/plain": [
              "<Figure size 713.7x360 with 1 Axes>"
            ],
            "image/png": "[encoded data removed]"
          },
          "metadata": {}
        }
      ]
    },
    {
      "cell_type": "code",
      "source": [
        "sns.relplot(data=reduced_embedding, x=\"dim1\", y='dim2',\n",
        "                hue='drug mechanism', hue_order=label_code_2.keys(), aspect=1.61, alpha = 0.1)\n",
        "plt.show()"
      ],
      "metadata": {
        "id": "O6mrT4GQI5hC",
        "outputId": "19e42afc-96fc-4885-acac-0a8b8a511f7b",
        "colab": {
          "base_uri": "https://localhost:8080/",
          "height": 365
        }
      },
      "execution_count": 72,
      "outputs": [
        {
          "output_type": "display_data",
          "data": {
            "text/plain": [
              "<Figure size 921.2x360 with 1 Axes>"
            ],
            "image/png": "[encoded data removed]"
          },
          "metadata": {}
        }
      ]
    },
    {
      "cell_type": "code",
      "source": [
        ""
      ],
      "metadata": {
        "id": "3p-5qElOI5jt"
      },
      "execution_count": 72,
      "outputs": []
    },
    {
      "cell_type": "markdown",
      "source": [
        "## Multitask Model Baseline"
      ],
      "metadata": {
        "id": "gYmI6DQKGn8e"
      }
    },
    {
      "cell_type": "code",
      "source": [
        "class cnn1d_multitask_baseline(nn.Module):\n",
        "    def __init__(self, label_count1 = len(label_code_1), label_count2 = len(label_code_2)):\n",
        "        super(cnn1d_multitask_baseline, self).__init__()\n",
        "        count = 2*(label_count1+label_count2)\n",
        "        self.embedding = nn.Embedding(5, count)\n",
        "        \n",
        "        self.dense1 = nn.Sequential(nn.Linear(count*2000, label_count1))\n",
        "        self.dense2 = nn.Sequential(nn.Linear(count*2000, label_count2))\n",
        "\n",
        "    def forward(self, x):\n",
        "        \"\"\"Extract first fully connected feature vector\"\"\"\n",
        "        # Apply convolutions\n",
        "        x = self.embedding(x)\n",
        "        x = torch.flatten(x, 1)\n",
        "        x1 = self.dense1(x)\n",
        "        x2 = self.dense2(x)\n",
        "        \n",
        "        return x1, x2"
      ],
      "metadata": {
        "id": "ukMSkSkiI5mY"
      },
      "execution_count": 73,
      "outputs": []
    },
    {
      "cell_type": "code",
      "source": [
        "model = cnn1d_multitask_baseline(label_count1=len(label_code_2), label_count2 = len(label_code_2))\n",
        "model = model.to(device)"
      ],
      "metadata": {
        "id": "BCJBUcE7He5r"
      },
      "execution_count": 74,
      "outputs": []
    },
    {
      "cell_type": "code",
      "source": [
        "print(\"epoch\", \"train loss\", \"validation loss\")\n",
        "optimizer = torch.optim.Adam(list(model.parameters()), lr=0.5*1e-3) \n",
        "val_loss_curve = []\n",
        "train_loss_curve = []\n",
        "\n",
        "for epoch in range(8):\n",
        "    \n",
        "    # Compute train your model on training data\n",
        "    epoch_loss, train_loss = train_multitask(model, train_dataloader, optimizer,  device=device)\n",
        "    \n",
        "    # Validate your on validation data \n",
        "    epoch_loss , val_loss = validate_multitask(model, val_dataloader, device=device) \n",
        "    \n",
        "    # Record train and loss performance \n",
        "    train_loss_curve.append(epoch_loss)\n",
        "    val_loss_curve.append(val_loss)\n",
        "    \n",
        "    \n",
        "    print(epoch, train_loss, val_loss)"
      ],
      "metadata": {
        "id": "aHEh7SD4I5os",
        "colab": {
          "base_uri": "https://localhost:8080/"
        },
        "outputId": "ef77f6d2-bf22-432d-c6e8-9e2d5d10f645"
      },
      "execution_count": 75,
      "outputs": [
        {
          "output_type": "stream",
          "name": "stdout",
          "text": [
            "epoch train loss validation loss\n",
            "0 3.19388 2.4524374\n",
            "1 0.72837114 1.3475857\n",
            "2 0.5598004 2.3326828\n",
            "3 0.37498942 2.016501\n",
            "4 0.24811687 2.8188338\n",
            "5 0.20342551 2.3791778\n",
            "6 0.20854141 2.5576859\n",
            "7 0.17721783 2.233964\n"
          ]
        }
      ]
    },
    {
      "cell_type": "code",
      "source": [
        "pred_labels_class = []\n",
        "pred_labels_mechanism = []\n",
        "true_labels_class = []\n",
        "true_labels_mechanism = []\n",
        "test_loss = 0\n",
        "with torch.no_grad():\n",
        "  model.eval()\n",
        "  for batch in test_dataloader:\n",
        "    seq, label = batch\n",
        "    seq = seq.to(device)\n",
        "    label = label.to(device)\n",
        "    logits = model(seq)\n",
        "    loss1 = nn.functional.cross_entropy(logits[0], label.squeeze()[:, 0])# fill in loss here\n",
        "    loss2 = nn.functional.cross_entropy(logits[1], label.squeeze()[:, 1])\n",
        "    loss = (loss1+loss2)/2\n",
        "    test_loss += loss*len(label)\n",
        "    preds1 = logits[0].max(1).indices\n",
        "    preds2 = logits[1].max(1).indices\n",
        "    true_labels_class.extend(list(label.squeeze().detach().cpu().numpy()[:, 0]))\n",
        "    true_labels_mechanism.extend(list(label.squeeze().detach().cpu().numpy()[:, 1]))\n",
        "\n",
        "    pred_labels_class.extend(list(preds1.squeeze().detach().cpu().numpy()))\n",
        "    pred_labels_mechanism.extend(list(preds2.squeeze().detach().cpu().numpy()))\n",
        "test_loss = test_loss/len(test_data)\n",
        "test_loss = test_loss.detach().cpu().numpy()\n",
        "print(\"Test loss is {}\".format(test_loss))\n",
        "class_acc = (np.array(true_labels_class) ==  np.array(pred_labels_class)).mean()\n",
        "mechanism_acc = (np.array(true_labels_mechanism) ==  np.array(pred_labels_mechanism)).mean()\n",
        "\n",
        "print(\"Test Acc for Class Prediction is {}\".format(class_acc))\n",
        "print(\"Test Acc for Mechanism Prediction is {}\".format(mechanism_acc))"
      ],
      "metadata": {
        "id": "HqSnEbJ3_XHt",
        "colab": {
          "base_uri": "https://localhost:8080/"
        },
        "outputId": "9b52840e-80c7-4768-de42-29d09ed839c0"
      },
      "execution_count": 76,
      "outputs": [
        {
          "output_type": "stream",
          "name": "stdout",
          "text": [
            "Test loss is 2.2148489952087402\n",
            "Test Acc for Class Prediction is 0.9104859335038363\n",
            "Test Acc for Mechanism Prediction is 0.8913043478260869\n"
          ]
        }
      ]
    },
    {
      "cell_type": "code",
      "source": [
        ""
      ],
      "metadata": {
        "id": "kI5003Rq_XKD"
      },
      "execution_count": 76,
      "outputs": []
    },
    {
      "cell_type": "code",
      "source": [
        ""
      ],
      "metadata": {
        "id": "5LNniIjNLnkv"
      },
      "execution_count": 76,
      "outputs": []
    },
    {
      "cell_type": "code",
      "source": [
        ""
      ],
      "metadata": {
        "id": "E93PZL4YLnqK"
      },
      "execution_count": 76,
      "outputs": []
    },
    {
      "cell_type": "code",
      "source": [
        ""
      ],
      "metadata": {
        "id": "v427GMW9KUI6"
      },
      "execution_count": 76,
      "outputs": []
    },
    {
      "cell_type": "code",
      "source": [
        ""
      ],
      "metadata": {
        "id": "yPntt1QaKULi"
      },
      "execution_count": 76,
      "outputs": []
    },
    {
      "cell_type": "code",
      "source": [
        ""
      ],
      "metadata": {
        "id": "M5CwkNoEKUOb"
      },
      "execution_count": 76,
      "outputs": []
    },
    {
      "cell_type": "code",
      "source": [
        "\n",
        "# Create dataloaders"
      ],
      "metadata": {
        "id": "Q054V7yjHyTu"
      },
      "execution_count": 77,
      "outputs": []
    },
    {
      "cell_type": "code",
      "source": [
        ""
      ],
      "metadata": {
        "id": "crbZQocEsj66"
      },
      "execution_count": 77,
      "outputs": []
    },
    {
      "cell_type": "code",
      "source": [
        "# Create model"
      ],
      "metadata": {
        "id": "-wusVD4NH3n2"
      },
      "execution_count": 78,
      "outputs": []
    },
    {
      "cell_type": "code",
      "source": [
        "# Train model"
      ],
      "metadata": {
        "id": "mSt5nJ-FH5Bp"
      },
      "execution_count": 79,
      "outputs": []
    },
    {
      "cell_type": "code",
      "source": [
        "# Test model"
      ],
      "metadata": {
        "id": "Q2QYo93RH6qy"
      },
      "execution_count": 80,
      "outputs": []
    }
  ]
}