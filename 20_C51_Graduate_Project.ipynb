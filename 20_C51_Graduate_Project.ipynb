{
  "nbformat": 4,
  "nbformat_minor": 0,
  "metadata": {
    "colab": {
      "name": "20.C51 - Graduate Project.ipynb",
      "provenance": [],
      "collapsed_sections": [],
      "include_colab_link": true
    },
    "kernelspec": {
      "name": "python3",
      "display_name": "Python 3"
    },
    "language_info": {
      "name": "python"
    },
    "accelerator": "GPU"
  },
  "cells": [
    {
      "cell_type": "markdown",
      "metadata": {
        "id": "view-in-github",
        "colab_type": "text"
      },
      "source": [
        "<a href=\"https://colab.research.google.com/github/bhaweshiitk/20.C51_project/blob/main/20_C51_Graduate_Project.ipynb\" target=\"_parent\"><img src=\"https://colab.research.google.com/assets/colab-badge.svg\" alt=\"Open In Colab\"/></a>"
      ]
    },
    {
      "cell_type": "code",
      "source": [
        "import matplotlib.pyplot as plt\n",
        "from torch.utils.data import Dataset, DataLoader\n",
        "import pandas as pd\n",
        "import numpy as np\n",
        "import matplotlib\n",
        "import torch\n",
        "from torch import nn\n",
        "from torch.nn import functional as F\n",
        "from sklearn.model_selection import train_test_split\n",
        "! pip install Bio\n",
        "!pip install umap-learn\n",
        "from Bio import SeqIO\n",
        "import umap"
      ],
      "metadata": {
        "colab": {
          "base_uri": "https://localhost:8080/"
        },
        "id": "JRZq9zAWfzW3",
        "outputId": "5e18762c-e6f3-4bc9-b8c5-675d1b487ab0"
      },
      "execution_count": 1,
      "outputs": [
        {
          "output_type": "stream",
          "name": "stdout",
          "text": [
            "Requirement already satisfied: Bio in /usr/local/lib/python3.7/dist-packages (1.3.8)\n",
            "Requirement already satisfied: biopython>=1.79 in /usr/local/lib/python3.7/dist-packages (from Bio) (1.79)\n",
            "Requirement already satisfied: tqdm in /usr/local/lib/python3.7/dist-packages (from Bio) (4.64.0)\n",
            "Requirement already satisfied: requests in /usr/local/lib/python3.7/dist-packages (from Bio) (2.23.0)\n",
            "Requirement already satisfied: mygene in /usr/local/lib/python3.7/dist-packages (from Bio) (3.2.2)\n",
            "Requirement already satisfied: numpy in /usr/local/lib/python3.7/dist-packages (from biopython>=1.79->Bio) (1.21.6)\n",
            "Requirement already satisfied: biothings-client>=0.2.6 in /usr/local/lib/python3.7/dist-packages (from mygene->Bio) (0.2.6)\n",
            "Requirement already satisfied: chardet<4,>=3.0.2 in /usr/local/lib/python3.7/dist-packages (from requests->Bio) (3.0.4)\n",
            "Requirement already satisfied: idna<3,>=2.5 in /usr/local/lib/python3.7/dist-packages (from requests->Bio) (2.10)\n",
            "Requirement already satisfied: urllib3!=1.25.0,!=1.25.1,<1.26,>=1.21.1 in /usr/local/lib/python3.7/dist-packages (from requests->Bio) (1.24.3)\n",
            "Requirement already satisfied: certifi>=2017.4.17 in /usr/local/lib/python3.7/dist-packages (from requests->Bio) (2021.10.8)\n",
            "Requirement already satisfied: umap-learn in /usr/local/lib/python3.7/dist-packages (0.5.3)\n",
            "Requirement already satisfied: numpy>=1.17 in /usr/local/lib/python3.7/dist-packages (from umap-learn) (1.21.6)\n",
            "Requirement already satisfied: pynndescent>=0.5 in /usr/local/lib/python3.7/dist-packages (from umap-learn) (0.5.6)\n",
            "Requirement already satisfied: tqdm in /usr/local/lib/python3.7/dist-packages (from umap-learn) (4.64.0)\n",
            "Requirement already satisfied: numba>=0.49 in /usr/local/lib/python3.7/dist-packages (from umap-learn) (0.51.2)\n",
            "Requirement already satisfied: scipy>=1.0 in /usr/local/lib/python3.7/dist-packages (from umap-learn) (1.4.1)\n",
            "Requirement already satisfied: scikit-learn>=0.22 in /usr/local/lib/python3.7/dist-packages (from umap-learn) (1.0.2)\n",
            "Requirement already satisfied: llvmlite<0.35,>=0.34.0.dev0 in /usr/local/lib/python3.7/dist-packages (from numba>=0.49->umap-learn) (0.34.0)\n",
            "Requirement already satisfied: setuptools in /usr/local/lib/python3.7/dist-packages (from numba>=0.49->umap-learn) (57.4.0)\n",
            "Requirement already satisfied: joblib>=0.11 in /usr/local/lib/python3.7/dist-packages (from pynndescent>=0.5->umap-learn) (1.1.0)\n",
            "Requirement already satisfied: threadpoolctl>=2.0.0 in /usr/local/lib/python3.7/dist-packages (from scikit-learn>=0.22->umap-learn) (3.1.0)\n"
          ]
        }
      ]
    },
    {
      "cell_type": "code",
      "source": [
        "# RNN, Hybrid RNN-CNN\n",
        "# Linear regression, MLP, Random Forest\n",
        "# Hyperparam tuning \n",
        "# Distance between train and test set"
      ],
      "metadata": {
        "id": "TUw_Djx7XInh"
      },
      "execution_count": 2,
      "outputs": []
    },
    {
      "cell_type": "code",
      "source": [
        ""
      ],
      "metadata": {
        "id": "fSM0-PWxt2Ht"
      },
      "execution_count": 2,
      "outputs": []
    },
    {
      "cell_type": "code",
      "execution_count": 3,
      "metadata": {
        "id": "OxCVvG5wHokf",
        "colab": {
          "base_uri": "https://localhost:8080/"
        },
        "outputId": "06c67bcf-8f74-4c7c-e4e9-a7e9ec4f1242"
      },
      "outputs": [
        {
          "output_type": "stream",
          "name": "stdout",
          "text": [
            "--2022-05-08 05:31:34--  https://raw.githubusercontent.com/bhaweshiitk/3.C51_project/main/megares_modified_annotations_v2.00.csv\n",
            "Resolving raw.githubusercontent.com (raw.githubusercontent.com)... 185.199.108.133, 185.199.109.133, 185.199.110.133, ...\n",
            "Connecting to raw.githubusercontent.com (raw.githubusercontent.com)|185.199.108.133|:443... connected.\n",
            "HTTP request sent, awaiting response... 200 OK\n",
            "Length: 948917 (927K) [text/plain]\n",
            "Saving to: ‘megares_modified_annotations_v2.00.csv.3’\n",
            "\n",
            "megares_modified_an 100%[===================>] 926.68K  --.-KB/s    in 0.03s   \n",
            "\n",
            "2022-05-08 05:31:34 (32.8 MB/s) - ‘megares_modified_annotations_v2.00.csv.3’ saved [948917/948917]\n",
            "\n",
            "--2022-05-08 05:31:34--  https://raw.githubusercontent.com/bhaweshiitk/3.C51_project/main/megares_modified_database_v2.00.fasta\n",
            "Resolving raw.githubusercontent.com (raw.githubusercontent.com)... 185.199.108.133, 185.199.109.133, 185.199.110.133, ...\n",
            "Connecting to raw.githubusercontent.com (raw.githubusercontent.com)|185.199.108.133|:443... connected.\n",
            "HTTP request sent, awaiting response... 200 OK\n",
            "Length: 8637235 (8.2M) [text/plain]\n",
            "Saving to: ‘megares_modified_database_v2.00.fasta.3’\n",
            "\n",
            "megares_modified_da 100%[===================>]   8.24M  --.-KB/s    in 0.06s   \n",
            "\n",
            "2022-05-08 05:31:35 (129 MB/s) - ‘megares_modified_database_v2.00.fasta.3’ saved [8637235/8637235]\n",
            "\n"
          ]
        }
      ],
      "source": [
        "# Import data\n",
        "! wget https://raw.githubusercontent.com/bhaweshiitk/3.C51_project/main/megares_modified_annotations_v2.00.csv\n",
        "! wget https://raw.githubusercontent.com/bhaweshiitk/3.C51_project/main/megares_modified_database_v2.00.fasta"
      ]
    },
    {
      "cell_type": "code",
      "source": [
        "# Process data\n",
        "train_annotations = pd.read_csv(\"./megares_modified_annotations_v2.00.csv\")\n",
        "train_annotations.shape"
      ],
      "metadata": {
        "id": "5V-TEbEjHwTL",
        "colab": {
          "base_uri": "https://localhost:8080/"
        },
        "outputId": "979785c2-b238-4930-c731-1f49bd8c0c0c"
      },
      "execution_count": 4,
      "outputs": [
        {
          "output_type": "execute_result",
          "data": {
            "text/plain": [
              "(7868, 5)"
            ]
          },
          "metadata": {},
          "execution_count": 4
        }
      ]
    },
    {
      "cell_type": "code",
      "source": [
        "train_annotations.head()"
      ],
      "metadata": {
        "colab": {
          "base_uri": "https://localhost:8080/",
          "height": 206
        },
        "id": "GVd7nK-EgtTp",
        "outputId": "3cf30fff-57e2-49d6-e8eb-5cf86976143e"
      },
      "execution_count": 5,
      "outputs": [
        {
          "output_type": "execute_result",
          "data": {
            "text/plain": [
              "                                              header   type            class  \\\n",
              "0  MEG_1|Drugs|Aminoglycosides|Aminoglycoside-res...  Drugs  Aminoglycosides   \n",
              "1  MEG_2|Drugs|Aminoglycosides|Aminoglycoside-res...  Drugs  Aminoglycosides   \n",
              "2  MEG_3|Drugs|Aminoglycosides|Aminoglycoside-res...  Drugs  Aminoglycosides   \n",
              "3  MEG_4|Drugs|Aminoglycosides|Aminoglycoside-res...  Drugs  Aminoglycosides   \n",
              "4  MEG_5|Drugs|Aminoglycosides|Aminoglycoside-res...  Drugs  Aminoglycosides   \n",
              "\n",
              "                                           mechanism group  \n",
              "0  Aminoglycoside-resistant 16S ribosomal subunit...  A16S  \n",
              "1  Aminoglycoside-resistant 16S ribosomal subunit...  A16S  \n",
              "2  Aminoglycoside-resistant 16S ribosomal subunit...  A16S  \n",
              "3  Aminoglycoside-resistant 16S ribosomal subunit...  A16S  \n",
              "4  Aminoglycoside-resistant 16S ribosomal subunit...  A16S  "
            ],
            "text/html": [
              "\n",
              "  <div id=\"df-356e1a2c-90eb-432c-8e81-c4b7430617a2\">\n",
              "    <div class=\"colab-df-container\">\n",
              "      <div>\n",
              "<style scoped>\n",
              "    .dataframe tbody tr th:only-of-type {\n",
              "        vertical-align: middle;\n",
              "    }\n",
              "\n",
              "    .dataframe tbody tr th {\n",
              "        vertical-align: top;\n",
              "    }\n",
              "\n",
              "    .dataframe thead th {\n",
              "        text-align: right;\n",
              "    }\n",
              "</style>\n",
              "<table border=\"1\" class=\"dataframe\">\n",
              "  <thead>\n",
              "    <tr style=\"text-align: right;\">\n",
              "      <th></th>\n",
              "      <th>header</th>\n",
              "      <th>type</th>\n",
              "      <th>class</th>\n",
              "      <th>mechanism</th>\n",
              "      <th>group</th>\n",
              "    </tr>\n",
              "  </thead>\n",
              "  <tbody>\n",
              "    <tr>\n",
              "      <th>0</th>\n",
              "      <td>MEG_1|Drugs|Aminoglycosides|Aminoglycoside-res...</td>\n",
              "      <td>Drugs</td>\n",
              "      <td>Aminoglycosides</td>\n",
              "      <td>Aminoglycoside-resistant 16S ribosomal subunit...</td>\n",
              "      <td>A16S</td>\n",
              "    </tr>\n",
              "    <tr>\n",
              "      <th>1</th>\n",
              "      <td>MEG_2|Drugs|Aminoglycosides|Aminoglycoside-res...</td>\n",
              "      <td>Drugs</td>\n",
              "      <td>Aminoglycosides</td>\n",
              "      <td>Aminoglycoside-resistant 16S ribosomal subunit...</td>\n",
              "      <td>A16S</td>\n",
              "    </tr>\n",
              "    <tr>\n",
              "      <th>2</th>\n",
              "      <td>MEG_3|Drugs|Aminoglycosides|Aminoglycoside-res...</td>\n",
              "      <td>Drugs</td>\n",
              "      <td>Aminoglycosides</td>\n",
              "      <td>Aminoglycoside-resistant 16S ribosomal subunit...</td>\n",
              "      <td>A16S</td>\n",
              "    </tr>\n",
              "    <tr>\n",
              "      <th>3</th>\n",
              "      <td>MEG_4|Drugs|Aminoglycosides|Aminoglycoside-res...</td>\n",
              "      <td>Drugs</td>\n",
              "      <td>Aminoglycosides</td>\n",
              "      <td>Aminoglycoside-resistant 16S ribosomal subunit...</td>\n",
              "      <td>A16S</td>\n",
              "    </tr>\n",
              "    <tr>\n",
              "      <th>4</th>\n",
              "      <td>MEG_5|Drugs|Aminoglycosides|Aminoglycoside-res...</td>\n",
              "      <td>Drugs</td>\n",
              "      <td>Aminoglycosides</td>\n",
              "      <td>Aminoglycoside-resistant 16S ribosomal subunit...</td>\n",
              "      <td>A16S</td>\n",
              "    </tr>\n",
              "  </tbody>\n",
              "</table>\n",
              "</div>\n",
              "      <button class=\"colab-df-convert\" onclick=\"convertToInteractive('df-356e1a2c-90eb-432c-8e81-c4b7430617a2')\"\n",
              "              title=\"Convert this dataframe to an interactive table.\"\n",
              "              style=\"display:none;\">\n",
              "        \n",
              "  <svg xmlns=\"http://www.w3.org/2000/svg\" height=\"24px\"viewBox=\"0 0 24 24\"\n",
              "       width=\"24px\">\n",
              "    <path d=\"M0 0h24v24H0V0z\" fill=\"none\"/>\n",
              "    <path d=\"M18.56 5.44l.94 2.06.94-2.06 2.06-.94-2.06-.94-.94-2.06-.94 2.06-2.06.94zm-11 1L8.5 8.5l.94-2.06 2.06-.94-2.06-.94L8.5 2.5l-.94 2.06-2.06.94zm10 10l.94 2.06.94-2.06 2.06-.94-2.06-.94-.94-2.06-.94 2.06-2.06.94z\"/><path d=\"M17.41 7.96l-1.37-1.37c-.4-.4-.92-.59-1.43-.59-.52 0-1.04.2-1.43.59L10.3 9.45l-7.72 7.72c-.78.78-.78 2.05 0 2.83L4 21.41c.39.39.9.59 1.41.59.51 0 1.02-.2 1.41-.59l7.78-7.78 2.81-2.81c.8-.78.8-2.07 0-2.86zM5.41 20L4 18.59l7.72-7.72 1.47 1.35L5.41 20z\"/>\n",
              "  </svg>\n",
              "      </button>\n",
              "      \n",
              "  <style>\n",
              "    .colab-df-container {\n",
              "      display:flex;\n",
              "      flex-wrap:wrap;\n",
              "      gap: 12px;\n",
              "    }\n",
              "\n",
              "    .colab-df-convert {\n",
              "      background-color: #E8F0FE;\n",
              "      border: none;\n",
              "      border-radius: 50%;\n",
              "      cursor: pointer;\n",
              "      display: none;\n",
              "      fill: #1967D2;\n",
              "      height: 32px;\n",
              "      padding: 0 0 0 0;\n",
              "      width: 32px;\n",
              "    }\n",
              "\n",
              "    .colab-df-convert:hover {\n",
              "      background-color: #E2EBFA;\n",
              "      box-shadow: 0px 1px 2px rgba(60, 64, 67, 0.3), 0px 1px 3px 1px rgba(60, 64, 67, 0.15);\n",
              "      fill: #174EA6;\n",
              "    }\n",
              "\n",
              "    [theme=dark] .colab-df-convert {\n",
              "      background-color: #3B4455;\n",
              "      fill: #D2E3FC;\n",
              "    }\n",
              "\n",
              "    [theme=dark] .colab-df-convert:hover {\n",
              "      background-color: #434B5C;\n",
              "      box-shadow: 0px 1px 3px 1px rgba(0, 0, 0, 0.15);\n",
              "      filter: drop-shadow(0px 1px 2px rgba(0, 0, 0, 0.3));\n",
              "      fill: #FFFFFF;\n",
              "    }\n",
              "  </style>\n",
              "\n",
              "      <script>\n",
              "        const buttonEl =\n",
              "          document.querySelector('#df-356e1a2c-90eb-432c-8e81-c4b7430617a2 button.colab-df-convert');\n",
              "        buttonEl.style.display =\n",
              "          google.colab.kernel.accessAllowed ? 'block' : 'none';\n",
              "\n",
              "        async function convertToInteractive(key) {\n",
              "          const element = document.querySelector('#df-356e1a2c-90eb-432c-8e81-c4b7430617a2');\n",
              "          const dataTable =\n",
              "            await google.colab.kernel.invokeFunction('convertToInteractive',\n",
              "                                                     [key], {});\n",
              "          if (!dataTable) return;\n",
              "\n",
              "          const docLinkHtml = 'Like what you see? Visit the ' +\n",
              "            '<a target=\"_blank\" href=https://colab.research.google.com/notebooks/data_table.ipynb>data table notebook</a>'\n",
              "            + ' to learn more about interactive tables.';\n",
              "          element.innerHTML = '';\n",
              "          dataTable['output_type'] = 'display_data';\n",
              "          await google.colab.output.renderOutput(dataTable, element);\n",
              "          const docLink = document.createElement('div');\n",
              "          docLink.innerHTML = docLinkHtml;\n",
              "          element.appendChild(docLink);\n",
              "        }\n",
              "      </script>\n",
              "    </div>\n",
              "  </div>\n",
              "  "
            ]
          },
          "metadata": {},
          "execution_count": 5
        }
      ]
    },
    {
      "cell_type": "code",
      "source": [
        "train_annotations['Seq_name'] = train_annotations['header'].str.split('|').str[0:2].apply('|'.join)\n",
        "train_annotations['mechanism'] = train_annotations['header'].str.split('|').str[3]"
      ],
      "metadata": {
        "id": "cpLUmYDlkeoy"
      },
      "execution_count": 6,
      "outputs": []
    },
    {
      "cell_type": "code",
      "source": [
        "fasta_sequences = SeqIO.parse(open(\"./megares_modified_database_v2.00.fasta\"),'fasta')\n",
        "sequence_dict = {}\n",
        "for fasta in fasta_sequences:\n",
        "    name, sequence = fasta.id, str(fasta.seq)\n",
        "    name = \"|\".join((name.split(\"|\", 2))[0:2])\n",
        "    sequence_dict[name] = sequence\n",
        "sequence_df = pd.DataFrame(sequence_dict.items(), columns=['Seq_name', 'Sequence'])\n",
        "sequence_df.shape"
      ],
      "metadata": {
        "colab": {
          "base_uri": "https://localhost:8080/"
        },
        "id": "Cke-vmzYg8J3",
        "outputId": "d9f5920f-6a4e-40f5-8a75-feeacb20bb6f"
      },
      "execution_count": 7,
      "outputs": [
        {
          "output_type": "execute_result",
          "data": {
            "text/plain": [
              "(7868, 2)"
            ]
          },
          "metadata": {},
          "execution_count": 7
        }
      ]
    },
    {
      "cell_type": "code",
      "source": [
        "sequence_df.head()"
      ],
      "metadata": {
        "colab": {
          "base_uri": "https://localhost:8080/",
          "height": 206
        },
        "id": "1flcUDs5jip4",
        "outputId": "f362df28-26ad-498c-cfbd-16699c5d6901"
      },
      "execution_count": 8,
      "outputs": [
        {
          "output_type": "execute_result",
          "data": {
            "text/plain": [
              "      Seq_name                                           Sequence\n",
              "0  MEG_1|Drugs  AGAATTTGATCTTGGTTCAGATTGAACGCTGGCGGCGTGGATGAGG...\n",
              "1  MEG_2|Drugs  AGGTAAGGAGGTGATCCAACCGCAGGTTCCCCTACGGTTACCTTGT...\n",
              "2  MEG_3|Drugs  TTTTGTTTGGAGAGTTTGATCCTGGCTCAGGACGAACGCTGGCGGC...\n",
              "3  MEG_4|Drugs  AGAGATTGAACATAAGAGTTTGATCCTGGCTCAGATTGAACGCTGG...\n",
              "4  MEG_5|Drugs  AGAGTTTGATCCTGGCTCAGGACGAACGCTGGCGGCGTGCTTAACA..."
            ],
            "text/html": [
              "\n",
              "  <div id=\"df-8e41c0f6-8635-42ce-9c2d-add8d7011d92\">\n",
              "    <div class=\"colab-df-container\">\n",
              "      <div>\n",
              "<style scoped>\n",
              "    .dataframe tbody tr th:only-of-type {\n",
              "        vertical-align: middle;\n",
              "    }\n",
              "\n",
              "    .dataframe tbody tr th {\n",
              "        vertical-align: top;\n",
              "    }\n",
              "\n",
              "    .dataframe thead th {\n",
              "        text-align: right;\n",
              "    }\n",
              "</style>\n",
              "<table border=\"1\" class=\"dataframe\">\n",
              "  <thead>\n",
              "    <tr style=\"text-align: right;\">\n",
              "      <th></th>\n",
              "      <th>Seq_name</th>\n",
              "      <th>Sequence</th>\n",
              "    </tr>\n",
              "  </thead>\n",
              "  <tbody>\n",
              "    <tr>\n",
              "      <th>0</th>\n",
              "      <td>MEG_1|Drugs</td>\n",
              "      <td>AGAATTTGATCTTGGTTCAGATTGAACGCTGGCGGCGTGGATGAGG...</td>\n",
              "    </tr>\n",
              "    <tr>\n",
              "      <th>1</th>\n",
              "      <td>MEG_2|Drugs</td>\n",
              "      <td>AGGTAAGGAGGTGATCCAACCGCAGGTTCCCCTACGGTTACCTTGT...</td>\n",
              "    </tr>\n",
              "    <tr>\n",
              "      <th>2</th>\n",
              "      <td>MEG_3|Drugs</td>\n",
              "      <td>TTTTGTTTGGAGAGTTTGATCCTGGCTCAGGACGAACGCTGGCGGC...</td>\n",
              "    </tr>\n",
              "    <tr>\n",
              "      <th>3</th>\n",
              "      <td>MEG_4|Drugs</td>\n",
              "      <td>AGAGATTGAACATAAGAGTTTGATCCTGGCTCAGATTGAACGCTGG...</td>\n",
              "    </tr>\n",
              "    <tr>\n",
              "      <th>4</th>\n",
              "      <td>MEG_5|Drugs</td>\n",
              "      <td>AGAGTTTGATCCTGGCTCAGGACGAACGCTGGCGGCGTGCTTAACA...</td>\n",
              "    </tr>\n",
              "  </tbody>\n",
              "</table>\n",
              "</div>\n",
              "      <button class=\"colab-df-convert\" onclick=\"convertToInteractive('df-8e41c0f6-8635-42ce-9c2d-add8d7011d92')\"\n",
              "              title=\"Convert this dataframe to an interactive table.\"\n",
              "              style=\"display:none;\">\n",
              "        \n",
              "  <svg xmlns=\"http://www.w3.org/2000/svg\" height=\"24px\"viewBox=\"0 0 24 24\"\n",
              "       width=\"24px\">\n",
              "    <path d=\"M0 0h24v24H0V0z\" fill=\"none\"/>\n",
              "    <path d=\"M18.56 5.44l.94 2.06.94-2.06 2.06-.94-2.06-.94-.94-2.06-.94 2.06-2.06.94zm-11 1L8.5 8.5l.94-2.06 2.06-.94-2.06-.94L8.5 2.5l-.94 2.06-2.06.94zm10 10l.94 2.06.94-2.06 2.06-.94-2.06-.94-.94-2.06-.94 2.06-2.06.94z\"/><path d=\"M17.41 7.96l-1.37-1.37c-.4-.4-.92-.59-1.43-.59-.52 0-1.04.2-1.43.59L10.3 9.45l-7.72 7.72c-.78.78-.78 2.05 0 2.83L4 21.41c.39.39.9.59 1.41.59.51 0 1.02-.2 1.41-.59l7.78-7.78 2.81-2.81c.8-.78.8-2.07 0-2.86zM5.41 20L4 18.59l7.72-7.72 1.47 1.35L5.41 20z\"/>\n",
              "  </svg>\n",
              "      </button>\n",
              "      \n",
              "  <style>\n",
              "    .colab-df-container {\n",
              "      display:flex;\n",
              "      flex-wrap:wrap;\n",
              "      gap: 12px;\n",
              "    }\n",
              "\n",
              "    .colab-df-convert {\n",
              "      background-color: #E8F0FE;\n",
              "      border: none;\n",
              "      border-radius: 50%;\n",
              "      cursor: pointer;\n",
              "      display: none;\n",
              "      fill: #1967D2;\n",
              "      height: 32px;\n",
              "      padding: 0 0 0 0;\n",
              "      width: 32px;\n",
              "    }\n",
              "\n",
              "    .colab-df-convert:hover {\n",
              "      background-color: #E2EBFA;\n",
              "      box-shadow: 0px 1px 2px rgba(60, 64, 67, 0.3), 0px 1px 3px 1px rgba(60, 64, 67, 0.15);\n",
              "      fill: #174EA6;\n",
              "    }\n",
              "\n",
              "    [theme=dark] .colab-df-convert {\n",
              "      background-color: #3B4455;\n",
              "      fill: #D2E3FC;\n",
              "    }\n",
              "\n",
              "    [theme=dark] .colab-df-convert:hover {\n",
              "      background-color: #434B5C;\n",
              "      box-shadow: 0px 1px 3px 1px rgba(0, 0, 0, 0.15);\n",
              "      filter: drop-shadow(0px 1px 2px rgba(0, 0, 0, 0.3));\n",
              "      fill: #FFFFFF;\n",
              "    }\n",
              "  </style>\n",
              "\n",
              "      <script>\n",
              "        const buttonEl =\n",
              "          document.querySelector('#df-8e41c0f6-8635-42ce-9c2d-add8d7011d92 button.colab-df-convert');\n",
              "        buttonEl.style.display =\n",
              "          google.colab.kernel.accessAllowed ? 'block' : 'none';\n",
              "\n",
              "        async function convertToInteractive(key) {\n",
              "          const element = document.querySelector('#df-8e41c0f6-8635-42ce-9c2d-add8d7011d92');\n",
              "          const dataTable =\n",
              "            await google.colab.kernel.invokeFunction('convertToInteractive',\n",
              "                                                     [key], {});\n",
              "          if (!dataTable) return;\n",
              "\n",
              "          const docLinkHtml = 'Like what you see? Visit the ' +\n",
              "            '<a target=\"_blank\" href=https://colab.research.google.com/notebooks/data_table.ipynb>data table notebook</a>'\n",
              "            + ' to learn more about interactive tables.';\n",
              "          element.innerHTML = '';\n",
              "          dataTable['output_type'] = 'display_data';\n",
              "          await google.colab.output.renderOutput(dataTable, element);\n",
              "          const docLink = document.createElement('div');\n",
              "          docLink.innerHTML = docLinkHtml;\n",
              "          element.appendChild(docLink);\n",
              "        }\n",
              "      </script>\n",
              "    </div>\n",
              "  </div>\n",
              "  "
            ]
          },
          "metadata": {},
          "execution_count": 8
        }
      ]
    },
    {
      "cell_type": "code",
      "source": [
        "df = pd.merge(train_annotations[['Seq_name', 'type', 'class','mechanism','group']], \n",
        "              sequence_df, how = \"inner\", on = [\"Seq_name\"])\n",
        "df.shape"
      ],
      "metadata": {
        "colab": {
          "base_uri": "https://localhost:8080/"
        },
        "id": "q5zu98sXlMgt",
        "outputId": "0fa45190-0c04-48f3-91a4-6ea6e6672c50"
      },
      "execution_count": 9,
      "outputs": [
        {
          "output_type": "execute_result",
          "data": {
            "text/plain": [
              "(7868, 6)"
            ]
          },
          "metadata": {},
          "execution_count": 9
        }
      ]
    },
    {
      "cell_type": "code",
      "source": [
        "df.head()"
      ],
      "metadata": {
        "colab": {
          "base_uri": "https://localhost:8080/",
          "height": 206
        },
        "id": "bQHOPUI0lk84",
        "outputId": "f1da122b-9cd2-4a7f-ee36-4ee6095d6a6a"
      },
      "execution_count": 10,
      "outputs": [
        {
          "output_type": "execute_result",
          "data": {
            "text/plain": [
              "      Seq_name   type            class  \\\n",
              "0  MEG_1|Drugs  Drugs  Aminoglycosides   \n",
              "1  MEG_2|Drugs  Drugs  Aminoglycosides   \n",
              "2  MEG_3|Drugs  Drugs  Aminoglycosides   \n",
              "3  MEG_4|Drugs  Drugs  Aminoglycosides   \n",
              "4  MEG_5|Drugs  Drugs  Aminoglycosides   \n",
              "\n",
              "                                           mechanism group  \\\n",
              "0  Aminoglycoside-resistant_16S_ribosomal_subunit...  A16S   \n",
              "1  Aminoglycoside-resistant_16S_ribosomal_subunit...  A16S   \n",
              "2  Aminoglycoside-resistant_16S_ribosomal_subunit...  A16S   \n",
              "3  Aminoglycoside-resistant_16S_ribosomal_subunit...  A16S   \n",
              "4  Aminoglycoside-resistant_16S_ribosomal_subunit...  A16S   \n",
              "\n",
              "                                            Sequence  \n",
              "0  AGAATTTGATCTTGGTTCAGATTGAACGCTGGCGGCGTGGATGAGG...  \n",
              "1  AGGTAAGGAGGTGATCCAACCGCAGGTTCCCCTACGGTTACCTTGT...  \n",
              "2  TTTTGTTTGGAGAGTTTGATCCTGGCTCAGGACGAACGCTGGCGGC...  \n",
              "3  AGAGATTGAACATAAGAGTTTGATCCTGGCTCAGATTGAACGCTGG...  \n",
              "4  AGAGTTTGATCCTGGCTCAGGACGAACGCTGGCGGCGTGCTTAACA...  "
            ],
            "text/html": [
              "\n",
              "  <div id=\"df-aed42eba-c6d1-4286-81fd-b417ca51eac4\">\n",
              "    <div class=\"colab-df-container\">\n",
              "      <div>\n",
              "<style scoped>\n",
              "    .dataframe tbody tr th:only-of-type {\n",
              "        vertical-align: middle;\n",
              "    }\n",
              "\n",
              "    .dataframe tbody tr th {\n",
              "        vertical-align: top;\n",
              "    }\n",
              "\n",
              "    .dataframe thead th {\n",
              "        text-align: right;\n",
              "    }\n",
              "</style>\n",
              "<table border=\"1\" class=\"dataframe\">\n",
              "  <thead>\n",
              "    <tr style=\"text-align: right;\">\n",
              "      <th></th>\n",
              "      <th>Seq_name</th>\n",
              "      <th>type</th>\n",
              "      <th>class</th>\n",
              "      <th>mechanism</th>\n",
              "      <th>group</th>\n",
              "      <th>Sequence</th>\n",
              "    </tr>\n",
              "  </thead>\n",
              "  <tbody>\n",
              "    <tr>\n",
              "      <th>0</th>\n",
              "      <td>MEG_1|Drugs</td>\n",
              "      <td>Drugs</td>\n",
              "      <td>Aminoglycosides</td>\n",
              "      <td>Aminoglycoside-resistant_16S_ribosomal_subunit...</td>\n",
              "      <td>A16S</td>\n",
              "      <td>AGAATTTGATCTTGGTTCAGATTGAACGCTGGCGGCGTGGATGAGG...</td>\n",
              "    </tr>\n",
              "    <tr>\n",
              "      <th>1</th>\n",
              "      <td>MEG_2|Drugs</td>\n",
              "      <td>Drugs</td>\n",
              "      <td>Aminoglycosides</td>\n",
              "      <td>Aminoglycoside-resistant_16S_ribosomal_subunit...</td>\n",
              "      <td>A16S</td>\n",
              "      <td>AGGTAAGGAGGTGATCCAACCGCAGGTTCCCCTACGGTTACCTTGT...</td>\n",
              "    </tr>\n",
              "    <tr>\n",
              "      <th>2</th>\n",
              "      <td>MEG_3|Drugs</td>\n",
              "      <td>Drugs</td>\n",
              "      <td>Aminoglycosides</td>\n",
              "      <td>Aminoglycoside-resistant_16S_ribosomal_subunit...</td>\n",
              "      <td>A16S</td>\n",
              "      <td>TTTTGTTTGGAGAGTTTGATCCTGGCTCAGGACGAACGCTGGCGGC...</td>\n",
              "    </tr>\n",
              "    <tr>\n",
              "      <th>3</th>\n",
              "      <td>MEG_4|Drugs</td>\n",
              "      <td>Drugs</td>\n",
              "      <td>Aminoglycosides</td>\n",
              "      <td>Aminoglycoside-resistant_16S_ribosomal_subunit...</td>\n",
              "      <td>A16S</td>\n",
              "      <td>AGAGATTGAACATAAGAGTTTGATCCTGGCTCAGATTGAACGCTGG...</td>\n",
              "    </tr>\n",
              "    <tr>\n",
              "      <th>4</th>\n",
              "      <td>MEG_5|Drugs</td>\n",
              "      <td>Drugs</td>\n",
              "      <td>Aminoglycosides</td>\n",
              "      <td>Aminoglycoside-resistant_16S_ribosomal_subunit...</td>\n",
              "      <td>A16S</td>\n",
              "      <td>AGAGTTTGATCCTGGCTCAGGACGAACGCTGGCGGCGTGCTTAACA...</td>\n",
              "    </tr>\n",
              "  </tbody>\n",
              "</table>\n",
              "</div>\n",
              "      <button class=\"colab-df-convert\" onclick=\"convertToInteractive('df-aed42eba-c6d1-4286-81fd-b417ca51eac4')\"\n",
              "              title=\"Convert this dataframe to an interactive table.\"\n",
              "              style=\"display:none;\">\n",
              "        \n",
              "  <svg xmlns=\"http://www.w3.org/2000/svg\" height=\"24px\"viewBox=\"0 0 24 24\"\n",
              "       width=\"24px\">\n",
              "    <path d=\"M0 0h24v24H0V0z\" fill=\"none\"/>\n",
              "    <path d=\"M18.56 5.44l.94 2.06.94-2.06 2.06-.94-2.06-.94-.94-2.06-.94 2.06-2.06.94zm-11 1L8.5 8.5l.94-2.06 2.06-.94-2.06-.94L8.5 2.5l-.94 2.06-2.06.94zm10 10l.94 2.06.94-2.06 2.06-.94-2.06-.94-.94-2.06-.94 2.06-2.06.94z\"/><path d=\"M17.41 7.96l-1.37-1.37c-.4-.4-.92-.59-1.43-.59-.52 0-1.04.2-1.43.59L10.3 9.45l-7.72 7.72c-.78.78-.78 2.05 0 2.83L4 21.41c.39.39.9.59 1.41.59.51 0 1.02-.2 1.41-.59l7.78-7.78 2.81-2.81c.8-.78.8-2.07 0-2.86zM5.41 20L4 18.59l7.72-7.72 1.47 1.35L5.41 20z\"/>\n",
              "  </svg>\n",
              "      </button>\n",
              "      \n",
              "  <style>\n",
              "    .colab-df-container {\n",
              "      display:flex;\n",
              "      flex-wrap:wrap;\n",
              "      gap: 12px;\n",
              "    }\n",
              "\n",
              "    .colab-df-convert {\n",
              "      background-color: #E8F0FE;\n",
              "      border: none;\n",
              "      border-radius: 50%;\n",
              "      cursor: pointer;\n",
              "      display: none;\n",
              "      fill: #1967D2;\n",
              "      height: 32px;\n",
              "      padding: 0 0 0 0;\n",
              "      width: 32px;\n",
              "    }\n",
              "\n",
              "    .colab-df-convert:hover {\n",
              "      background-color: #E2EBFA;\n",
              "      box-shadow: 0px 1px 2px rgba(60, 64, 67, 0.3), 0px 1px 3px 1px rgba(60, 64, 67, 0.15);\n",
              "      fill: #174EA6;\n",
              "    }\n",
              "\n",
              "    [theme=dark] .colab-df-convert {\n",
              "      background-color: #3B4455;\n",
              "      fill: #D2E3FC;\n",
              "    }\n",
              "\n",
              "    [theme=dark] .colab-df-convert:hover {\n",
              "      background-color: #434B5C;\n",
              "      box-shadow: 0px 1px 3px 1px rgba(0, 0, 0, 0.15);\n",
              "      filter: drop-shadow(0px 1px 2px rgba(0, 0, 0, 0.3));\n",
              "      fill: #FFFFFF;\n",
              "    }\n",
              "  </style>\n",
              "\n",
              "      <script>\n",
              "        const buttonEl =\n",
              "          document.querySelector('#df-aed42eba-c6d1-4286-81fd-b417ca51eac4 button.colab-df-convert');\n",
              "        buttonEl.style.display =\n",
              "          google.colab.kernel.accessAllowed ? 'block' : 'none';\n",
              "\n",
              "        async function convertToInteractive(key) {\n",
              "          const element = document.querySelector('#df-aed42eba-c6d1-4286-81fd-b417ca51eac4');\n",
              "          const dataTable =\n",
              "            await google.colab.kernel.invokeFunction('convertToInteractive',\n",
              "                                                     [key], {});\n",
              "          if (!dataTable) return;\n",
              "\n",
              "          const docLinkHtml = 'Like what you see? Visit the ' +\n",
              "            '<a target=\"_blank\" href=https://colab.research.google.com/notebooks/data_table.ipynb>data table notebook</a>'\n",
              "            + ' to learn more about interactive tables.';\n",
              "          element.innerHTML = '';\n",
              "          dataTable['output_type'] = 'display_data';\n",
              "          await google.colab.output.renderOutput(dataTable, element);\n",
              "          const docLink = document.createElement('div');\n",
              "          docLink.innerHTML = docLinkHtml;\n",
              "          element.appendChild(docLink);\n",
              "        }\n",
              "      </script>\n",
              "    </div>\n",
              "  </div>\n",
              "  "
            ]
          },
          "metadata": {},
          "execution_count": 10
        }
      ]
    },
    {
      "cell_type": "code",
      "source": [
        "df[\"class\"].value_counts()"
      ],
      "metadata": {
        "colab": {
          "base_uri": "https://localhost:8080/"
        },
        "id": "EL0y7gTvqHSH",
        "outputId": "c0568280-ec03-43ab-cfaa-c974b289f915"
      },
      "execution_count": 11,
      "outputs": [
        {
          "output_type": "execute_result",
          "data": {
            "text/plain": [
              "betalactams                                        3911\n",
              "Aminoglycosides                                     773\n",
              "Drug and biocide resistance                         363\n",
              "Glycopeptides                                       299\n",
              "Fluoroquinolones                                    296\n",
              "Tetracyclines                                       294\n",
              "MLS                                                 270\n",
              "Multi-metal resistance                              226\n",
              "Phenicol                                            145\n",
              "Trimethoprim                                        135\n",
              "Copper resistance                                   117\n",
              "Multi-drug resistance                               113\n",
              "Sulfonamides                                        103\n",
              "Multi-biocide resistance                             98\n",
              "Lipopeptides                                         95\n",
              "Rifampin                                             70\n",
              "Fosfomycin                                           62\n",
              "Mercury resistance                                   62\n",
              "Biocide and metal resistance                         55\n",
              "Aminocoumarins                                       39\n",
              "Drug and biocide and metal resistance                39\n",
              "Arsenic resistance                                   34\n",
              "Nickel resistance                                    28\n",
              "Elfamycins                                           22\n",
              "Mycobacterium tuberculosis-specific Drug             21\n",
              "Metronidazole                                        17\n",
              "Zinc resistance                                      16\n",
              "Acid resistance                                      16\n",
              "Nucleosides                                          15\n",
              "Chromium resistance                                  15\n",
              "Phenolic compound resistance                         13\n",
              "Cationic antimicrobial peptides                      13\n",
              "Tellurium resistance                                 12\n",
              "Peroxide resistance                                  12\n",
              "Fusidic acid                                         10\n",
              "Iron resistance                                       7\n",
              "Bacitracin                                            6\n",
              "Mupirocin                                             5\n",
              "Lead resistance                                       5\n",
              "Acetate resistance                                    4\n",
              "Drug and metal resistance                             4\n",
              "Sodium resistance                                     4\n",
              "Paraquat resistance                                   3\n",
              "Tungsten Resistance                                   3\n",
              "Aluminum resistance                                   2\n",
              "Thiopeptides                                          2\n",
              "Quaternary Ammonium Compounds (QACs) resistance       2\n",
              "Polyamine resistance                                  2\n",
              "Cobalt resistance                                     2\n",
              "Naphthoquinone                                        1\n",
              "Gold resistance                                       1\n",
              "Oxazolidinone                                         1\n",
              "Pactamycin                                            1\n",
              "Pleuromutilin                                         1\n",
              "Cadmium resistance                                    1\n",
              "Biguanide resistance                                  1\n",
              "Tetracenomycin                                        1\n",
              "Name: class, dtype: int64"
            ]
          },
          "metadata": {},
          "execution_count": 11
        }
      ]
    },
    {
      "cell_type": "code",
      "source": [
        "df[\"mechanism\"].value_counts()"
      ],
      "metadata": {
        "colab": {
          "base_uri": "https://localhost:8080/"
        },
        "id": "wPRA-64Wm2e8",
        "outputId": "429f9370-5a2b-45d0-df82-56563724dbbb"
      },
      "execution_count": 12,
      "outputs": [
        {
          "output_type": "execute_result",
          "data": {
            "text/plain": [
              "Class_A_betalactamases                 1580\n",
              "Class_C_betalactamases                  950\n",
              "Class_D_betalactamases                  900\n",
              "Class_B_betalactamases                  410\n",
              "Aminoglycoside_N-acetyltransferases     359\n",
              "                                       ... \n",
              "Tetracenomycin_MFS_efflux_pump            1\n",
              "Tunicamycin_resistance_protein            1\n",
              "Chromate_ABC_efflux_pump                  1\n",
              "Biguanide_cation_efflux                   1\n",
              "Sulfonamide_monooxygenase                 1\n",
              "Name: mechanism, Length: 219, dtype: int64"
            ]
          },
          "metadata": {},
          "execution_count": 12
        }
      ]
    },
    {
      "cell_type": "code",
      "source": [
        "label_1 = ['Aminoglycosides', 'betalactams', 'Glycopeptides', 'Tetracyclines', 'MLS', 'Fluoroquinolones', 'Trimethoprim',\n",
        "           'Phenicol', 'Sulfonamides', 'Sulfonamides', 'Lipopeptides']"
      ],
      "metadata": {
        "id": "QzZzQC0Am9Qj"
      },
      "execution_count": 13,
      "outputs": []
    },
    {
      "cell_type": "code",
      "source": [
        "df['labels'] = df[\"class\"]\n",
        "df.loc[~df['labels'].isin(label_1),'labels'] = \"other\""
      ],
      "metadata": {
        "id": "BYX3Z0TWrIYr"
      },
      "execution_count": 14,
      "outputs": []
    },
    {
      "cell_type": "code",
      "source": [
        "df.labels.value_counts()"
      ],
      "metadata": {
        "colab": {
          "base_uri": "https://localhost:8080/"
        },
        "id": "52DtXYPWsOyq",
        "outputId": "3fcfe4de-7745-436e-b37f-c1ecbc2d014b"
      },
      "execution_count": 15,
      "outputs": [
        {
          "output_type": "execute_result",
          "data": {
            "text/plain": [
              "betalactams         3911\n",
              "other               1547\n",
              "Aminoglycosides      773\n",
              "Glycopeptides        299\n",
              "Fluoroquinolones     296\n",
              "Tetracyclines        294\n",
              "MLS                  270\n",
              "Phenicol             145\n",
              "Trimethoprim         135\n",
              "Sulfonamides         103\n",
              "Lipopeptides          95\n",
              "Name: labels, dtype: int64"
            ]
          },
          "metadata": {},
          "execution_count": 15
        }
      ]
    },
    {
      "cell_type": "code",
      "source": [
        "X = df.Sequence.values\n",
        "y = df.labels.values\n",
        "print(X.shape, y.shape)\n",
        "index_to_remove = []\n",
        "for (i, seq) in enumerate(X):\n",
        "  if set(seq.upper())!={\"A\", \"T\", \"C\", \"G\"}:\n",
        "    index_to_remove.append(i)\n",
        "index_to_remove\n",
        "X = np.delete(X, index_to_remove, axis=0)\n",
        "y = np.delete(y, index_to_remove, axis=0)\n",
        "print(X.shape, y.shape)\n"
      ],
      "metadata": {
        "id": "00_0y1pRn_Yj",
        "outputId": "32da6d46-5e2a-4f21-d488-e5146a805c46",
        "colab": {
          "base_uri": "https://localhost:8080/"
        }
      },
      "execution_count": 16,
      "outputs": [
        {
          "output_type": "stream",
          "name": "stdout",
          "text": [
            "(7868,) (7868,)\n",
            "(7819,) (7819,)\n"
          ]
        }
      ]
    },
    {
      "cell_type": "code",
      "source": [
        "code = {'A': 1, 'C': 2, 'G': 3, 'T': 4}\n",
        "label_code_1 = {\"betalactams\":0, \"Aminoglycosides\":1, \"Glycopeptides\":2, \"Fluoroquinolones\":3, \"Tetracyclines\":4, \"MLS\":5,\n",
        "                 'Trimethoprim':6,'Phenicol':7,  'Sulfonamides':8, 'Lipopeptides':9,\"other\":10}\n"
      ],
      "metadata": {
        "id": "g4Gr9oXiFegw"
      },
      "execution_count": 17,
      "outputs": []
    },
    {
      "cell_type": "code",
      "source": [
        "\n",
        "import torch.nn.functional as F\n",
        "\n",
        "def encode(seq, label, labels_dict):\n",
        "  label_int = labels_dict[label]\n",
        "  enc_seq = [code[x] for x in seq.upper()]\n",
        "  return [torch.LongTensor(enc_seq[0:2000]), torch.LongTensor([label_int]), len(enc_seq)]\n",
        "\n",
        "class SequenceDataset(Dataset):\n",
        "    def __init__(self, X, y, labels_dict):\n",
        "        \n",
        "        self.X = X \n",
        "        self.y = y \n",
        "        self.labels_dict =labels_dict\n",
        "        self.len=len(self.X)      \n",
        "\n",
        "    def __getitem__(self, index):\n",
        "        # your implementation here: \n",
        "        X_elem, y_elem, length_seq = encode(self.X[index], self.y[index], labels_dict=self.labels_dict)\n",
        "        return F.pad(X_elem, pad=(0, 2000 - len(X_elem))), y_elem\n",
        "\n",
        "    def __len__(self):\n",
        "        return self.len\n",
        "    \n",
        "\n",
        "\n"
      ],
      "metadata": {
        "id": "gCuT6FUUabV-"
      },
      "execution_count": 18,
      "outputs": []
    },
    {
      "cell_type": "code",
      "source": [
        "X_train, X_test, y_train, y_test = train_test_split(X, y, test_size=0.2) \n",
        "X_train, X_val, y_train, y_val = train_test_split(X_train, y_train, test_size=0.1) \n",
        "X_train, X_val, y_train, y_val = train_test_split(X_train, y_train, test_size=0.1) "
      ],
      "metadata": {
        "id": "ej_a5GcBluHB"
      },
      "execution_count": 19,
      "outputs": []
    },
    {
      "cell_type": "code",
      "source": [
        "train_data = SequenceDataset(X_train, y_train, labels_dict=label_code_1)\n",
        "val_data = SequenceDataset(X_val, y_val, labels_dict=label_code_1)\n",
        "test_data = SequenceDataset(X_test, y_test, labels_dict=label_code_1)\n",
        "\n",
        "batch_size = 32\n",
        "train_dataloader = DataLoader(train_data, batch_size=batch_size, shuffle=True)# fill in code here\n",
        "val_dataloader = DataLoader(val_data, batch_size=batch_size, shuffle=True)# fill in code here\n",
        "test_dataloader = DataLoader(test_data, batch_size=batch_size, shuffle=True)# fill in code here"
      ],
      "metadata": {
        "id": "idK8K6IlluJe"
      },
      "execution_count": 20,
      "outputs": []
    },
    {
      "cell_type": "code",
      "source": [
        "class cnn1d(nn.Module):\n",
        "    def __init__(self, label_count = len(label_code_1)):\n",
        "        super(cnn1d, self).__init__()\n",
        "        self.embedding = nn.Embedding(5, 2*label_count)\n",
        "        self.conv1 = nn.Conv1d(2*label_count, 64, kernel_size = 3, padding='same')\n",
        "        self.maxpool1 = nn.MaxPool1d(kernel_size=5)\n",
        "        self.conv2 = nn.Conv1d(64, 64, kernel_size=3, padding=\"same\")\n",
        "        self.maxpool2 = nn.MaxPool1d(kernel_size=5)\n",
        "        self.conv3 = nn.Conv1d(64, 64, kernel_size=3, padding=\"same\")\n",
        "        self.maxpool3 = nn.MaxPool1d(kernel_size=5)\n",
        "        self.dense = nn.Sequential(nn.Linear(1024, 256), \n",
        "                             nn.ReLU(), nn.Linear(256, 64),\n",
        "                             nn.ReLU(), nn.Linear(64, label_count))\n",
        "\n",
        "    def forward(self, x):\n",
        "        \"\"\"Extract first fully connected feature vector\"\"\"\n",
        "        # Apply convolutions\n",
        "        x = self.embedding(x)\n",
        "        # print(x.shape)\n",
        "        # Apply pooling\n",
        "        x = self.conv1(x.permute(0, 2, 1))\n",
        "        # print(x.shape)\n",
        "        x = self.maxpool1(x)\n",
        "        x = self.conv2(x)\n",
        "        x = self.maxpool2(x)\n",
        "        x = self.conv3(x)\n",
        "        x = self.maxpool3(x)\n",
        "        x = torch.flatten(x, 1)\n",
        "        x = self.dense(x)\n",
        "        # print(x.shape)\n",
        "        # Flatten and convert to vectors\n",
        "        # x = torch.flatten(x, 1)\n",
        "        # x = self.fc1(x)\n",
        "        # x = self.classifier(x)\n",
        "        return x"
      ],
      "metadata": {
        "id": "iUq1fL6lluWC"
      },
      "execution_count": 21,
      "outputs": []
    },
    {
      "cell_type": "code",
      "source": [
        "device = torch.device(\"cuda:0\" if torch.cuda.is_available() else \"cpu\")\n"
      ],
      "metadata": {
        "id": "iw27PCJx0qA7"
      },
      "execution_count": 22,
      "outputs": []
    },
    {
      "cell_type": "code",
      "source": [
        "model = cnn1d()\n",
        "model = model.to(device)\n",
        "# for data in train_loader:\n",
        "#   model(data[0])\n"
      ],
      "metadata": {
        "id": "bqhJCoEnpu1u"
      },
      "execution_count": 23,
      "outputs": []
    },
    {
      "cell_type": "code",
      "source": [
        "optimizer = torch.optim.Adam(list(model.parameters()), lr=1e-3) "
      ],
      "metadata": {
        "id": "MziD84g10ydh"
      },
      "execution_count": 24,
      "outputs": []
    },
    {
      "cell_type": "code",
      "source": [
        "def train(model, dataloader, optimizer, device):\n",
        "    \n",
        "    '''\n",
        "    A function to train on the entire dataset for one epoch.\n",
        "    \n",
        "    Args: \n",
        "        model (torch.nn.Module): Your sequence classifier \n",
        "        dataloader (torch.utils.data.Dataloader): DataLoader object for the train data\n",
        "        optimizer (torch.optim.Optimizer): Optimizer object to interface gradient calculation and optimization \n",
        "        device (str): Your device\n",
        "        \n",
        "    Returns: \n",
        "        float: loss averaged over all the batches \n",
        "    \n",
        "    '''\n",
        "\n",
        "    batch_loss = []\n",
        "    model.train() # Set model to training mode \n",
        "    train_loss = 0 \n",
        "    count = 0\n",
        "    for batch in dataloader:    \n",
        "        seq, label = batch\n",
        "        seq = seq.to(device)\n",
        "        label = label.to(device)\n",
        "        \n",
        "        # train your model on each batch here \n",
        "        y_pred = model(seq)\n",
        "        loss = nn.functional.cross_entropy(y_pred, label.squeeze())# fill in loss here\n",
        "        train_loss += loss*len(label)\n",
        "        count += len(label)\n",
        "        batch_loss.append(loss.item())\n",
        "        \n",
        "        # run backpropagation given the loss you defined\n",
        "        optimizer.zero_grad()\n",
        "        loss.backward()\n",
        "        optimizer.step()\n",
        "    train_loss = train_loss/count\n",
        "    return np.array(batch_loss).mean(), train_loss.detach().cpu().numpy()\n",
        "\n",
        "\n",
        "def validate(model, dataloader, device):\n",
        "    \n",
        "    '''\n",
        "    A function to validate on the validation dataset for one epoch.\n",
        "    \n",
        "    Args: \n",
        "        model (torch.nn.Module): Your sequence classifier \n",
        "        dataloader (torch.utils.data.Dataloader): DataLoader object for the validation data\n",
        "        device (str): Your device\n",
        "        \n",
        "    Returns: \n",
        "        float: loss averaged over all the batches \n",
        "    \n",
        "    '''\n",
        "    \n",
        "    batch_loss = []\n",
        "    model.eval() # Set model to evaluation mode \n",
        "    val_loss = 0\n",
        "    count = 0\n",
        "    with torch.no_grad():    \n",
        "        for batch in dataloader:\n",
        "            seq, label = batch\n",
        "            seq = seq.to(device)\n",
        "            label = label.to(device)\n",
        "            y_pred = model(seq)\n",
        "            loss = nn.functional.cross_entropy(y_pred, label.squeeze())# fill in loss here\n",
        "            val_loss += loss*len(label)\n",
        "            count += len(label)\n",
        "            batch_loss.append(loss.item())\n",
        "            # validate your model on each batch here \n",
        "        val_loss = val_loss/count     \n",
        "    return np.array(batch_loss).mean(), val_loss.detach().cpu().numpy()  "
      ],
      "metadata": {
        "id": "n1_df_vIpu4K"
      },
      "execution_count": 25,
      "outputs": []
    },
    {
      "cell_type": "code",
      "source": [
        "print(\"epoch\", \"train loss\", \"validation loss\")\n",
        "\n",
        "val_loss_curve = []\n",
        "train_loss_curve = []\n",
        "\n",
        "for epoch in range(6):\n",
        "    \n",
        "    # Compute train your model on training data\n",
        "    epoch_loss, train_loss = train(model, train_dataloader, optimizer,  device=0)\n",
        "    \n",
        "    # Validate your on validation data \n",
        "    _, val_loss = validate(model, val_dataloader, device=0) \n",
        "    \n",
        "    # Record train and loss performance \n",
        "    train_loss_curve.append(epoch_loss)\n",
        "    val_loss_curve.append(val_loss)\n",
        "    \n",
        "    # The learning rate scheduler records the validation loss \n",
        "    # scheduler.step(val_loss)\n",
        "    \n",
        "    print(epoch, train_loss, val_loss)"
      ],
      "metadata": {
        "id": "jwJ0Vn8ypu6n",
        "outputId": "51c22105-47db-4452-d44d-4cee17daa2cd",
        "colab": {
          "base_uri": "https://localhost:8080/"
        }
      },
      "execution_count": 26,
      "outputs": [
        {
          "output_type": "stream",
          "name": "stdout",
          "text": [
            "epoch train loss validation loss\n",
            "0 1.1747968 0.8710439\n",
            "1 0.7216225 0.58243376\n",
            "2 0.48583105 0.42497075\n",
            "3 0.33920375 0.5007283\n",
            "4 0.24342205 0.38574055\n",
            "5 0.16202304 0.3817208\n"
          ]
        }
      ]
    },
    {
      "cell_type": "code",
      "source": [
        "pred_labels = []\n",
        "true_labels = []\n",
        "test_loss = 0\n",
        "with torch.no_grad():\n",
        "  model.eval()\n",
        "  for batch in test_dataloader:\n",
        "    seq, label = batch\n",
        "    seq = seq.to(device)\n",
        "    label = label.to(device)\n",
        "    logits = model(seq)\n",
        "    test_loss += nn.functional.cross_entropy(logits, label.squeeze())*len(label)\n",
        "    preds = logits.max(1).indices\n",
        "    true_labels.extend(list(label.squeeze().detach().cpu().numpy()))\n",
        "    pred_labels.extend(list(preds.squeeze().detach().cpu().numpy()))\n",
        "test_loss = test_loss/len(test_data)\n",
        "test_acc = (np.array(true_labels) == np.array(pred_labels)).mean()\n",
        "print(\"Test loss is {}\".format(test_loss))\n",
        "print(\"Test Acc is {}\".format(test_acc))"
      ],
      "metadata": {
        "id": "xu2EDPd2pu8f",
        "outputId": "0333dab2-da52-4a2c-e974-9e67db0162ea",
        "colab": {
          "base_uri": "https://localhost:8080/"
        }
      },
      "execution_count": 28,
      "outputs": [
        {
          "output_type": "stream",
          "name": "stdout",
          "text": [
            "Test loss is 0.3690156638622284\n",
            "Test Acc is 0.8976982097186701\n"
          ]
        }
      ]
    },
    {
      "cell_type": "code",
      "source": [
        "from sklearn.metrics import confusion_matrix\n",
        "cmat = confusion_matrix(true_labels, pred_labels)\n",
        "cmat"
      ],
      "metadata": {
        "id": "ZTCe4Zhupu_C",
        "outputId": "f8f2690f-60c2-49a3-e7ab-46b9b047e648",
        "colab": {
          "base_uri": "https://localhost:8080/"
        }
      },
      "execution_count": 29,
      "outputs": [
        {
          "output_type": "execute_result",
          "data": {
            "text/plain": [
              "array([[725,   3,   1,   1,   0,   0,   0,   0,   0,   1,  16],\n",
              "       [  5, 149,   2,   0,   0,   1,   0,   0,   0,   0,   9],\n",
              "       [  1,   3,  37,   0,   0,   0,   0,   1,   0,   0,  10],\n",
              "       [  0,   0,   0,  63,   1,   2,   0,   0,   0,   0,   6],\n",
              "       [  1,   0,   0,   0,  47,   0,   0,   0,   0,   0,  10],\n",
              "       [  3,   3,   0,   0,   0,  26,   0,   0,   0,   1,  13],\n",
              "       [  0,   0,   0,   0,   0,   0,  21,   0,   0,   0,   5],\n",
              "       [  0,   0,   0,   0,   0,   0,   0,  31,   0,   0,   3],\n",
              "       [  0,   4,   0,   0,   0,   1,   0,   0,  12,   0,   2],\n",
              "       [  1,   0,   0,   0,   0,   0,   0,   0,   0,  12,   3],\n",
              "       [  6,  20,   5,   2,   3,   2,   1,   1,   0,   7, 281]])"
            ]
          },
          "metadata": {},
          "execution_count": 29
        }
      ]
    },
    {
      "cell_type": "code",
      "source": [
        "import seaborn as sns\n",
        "sns.set(rc = {'figure.figsize':(14,7)})\n",
        "\n",
        "fig, ax = plt.subplots()\n",
        "sns.heatmap(cmat, annot=cmat, fmt=\"\",  ax=ax, yticklabels=(label_code_1.keys()),\n",
        "            xticklabels=label_code_1.keys())\n",
        "plt.show()"
      ],
      "metadata": {
        "id": "WJ9s6EuPluYo",
        "outputId": "fd1d65eb-7858-458f-f588-23724695762d",
        "colab": {
          "base_uri": "https://localhost:8080/",
          "height": 515
        }
      },
      "execution_count": 30,
      "outputs": [
        {
          "output_type": "display_data",
          "data": {
            "text/plain": [
              "<Figure size 1008x504 with 2 Axes>"
            ],
            "image/png": "[encoded data removed]"
          },
          "metadata": {}
        }
      ]
    },
    {
      "cell_type": "code",
      "source": [
        "def get_avg_length_of_seq(df):\n",
        "  dict_stats = {}\n",
        "  for classes in label_1:\n",
        "    df_temp = df[(df[\"class\"]==classes)&(df['Sequence'].str.len()<=2000)]\n",
        "    df_temp[\"length\"] = df_temp['Sequence'].str.len()\n",
        "    dict_stats[classes] = (df_temp[\"length\"].mean(), df_temp[\"length\"].std(), df_temp[\"length\"].max(), df_temp[\"length\"].min())\n",
        "  return dict_stats"
      ],
      "metadata": {
        "id": "uf4xn5xZlubP"
      },
      "execution_count": 31,
      "outputs": []
    },
    {
      "cell_type": "code",
      "source": [
        "dict_stats = get_avg_length_of_seq(df)\n",
        "dict_stats"
      ],
      "metadata": {
        "id": "W5XeO7FT8FzN",
        "outputId": "2afe6159-b61b-4ac9-8e4f-1574bd573f18",
        "colab": {
          "base_uri": "https://localhost:8080/"
        }
      },
      "execution_count": 32,
      "outputs": [
        {
          "output_type": "stream",
          "name": "stderr",
          "text": [
            "/usr/local/lib/python3.7/dist-packages/ipykernel_launcher.py:5: SettingWithCopyWarning: \n",
            "A value is trying to be set on a copy of a slice from a DataFrame.\n",
            "Try using .loc[row_indexer,col_indexer] = value instead\n",
            "\n",
            "See the caveats in the documentation: https://pandas.pydata.org/pandas-docs/stable/user_guide/indexing.html#returning-a-view-versus-a-copy\n",
            "  \"\"\"\n"
          ]
        },
        {
          "output_type": "execute_result",
          "data": {
            "text/plain": [
              "{'Aminoglycosides': (696.3031088082902, 212.82609243082857, 1551, 375),\n",
              " 'Fluoroquinolones': (736.4894736842106, 287.85923476944305, 1998, 198),\n",
              " 'Glycopeptides': (923.1278195488721, 305.4917573179186, 1971, 228),\n",
              " 'Lipopeptides': (1497.0, 310.9440171770183, 1977, 579),\n",
              " 'MLS': (914.924, 269.2891994040286, 1710, 417),\n",
              " 'Phenicol': (868.9236111111111, 293.0953228043834, 1460, 492),\n",
              " 'Sulfonamides': (851.5145631067961, 83.09006029104799, 1272, 585),\n",
              " 'Tetracyclines': (1494.5358361774745, 430.184887273795, 1992, 312),\n",
              " 'Trimethoprim': (463.3259259259259, 83.64966296330829, 606, 237),\n",
              " 'betalactams': (934.7947924722866, 169.142251527775, 1998, 211)}"
            ]
          },
          "metadata": {},
          "execution_count": 32
        }
      ]
    },
    {
      "cell_type": "code",
      "source": [
        "model_cut = torch.nn.Sequential(*(list(model.children())[:-1]), model.dense[:-2])\n",
        "model_cut"
      ],
      "metadata": {
        "id": "1N_A2Drw4mYP",
        "outputId": "74bda682-abf0-4b58-b303-e3874fd8b203",
        "colab": {
          "base_uri": "https://localhost:8080/"
        }
      },
      "execution_count": 33,
      "outputs": [
        {
          "output_type": "execute_result",
          "data": {
            "text/plain": [
              "Sequential(\n",
              "  (0): Embedding(5, 22)\n",
              "  (1): Conv1d(22, 64, kernel_size=(3,), stride=(1,), padding=same)\n",
              "  (2): MaxPool1d(kernel_size=5, stride=5, padding=0, dilation=1, ceil_mode=False)\n",
              "  (3): Conv1d(64, 64, kernel_size=(3,), stride=(1,), padding=same)\n",
              "  (4): MaxPool1d(kernel_size=5, stride=5, padding=0, dilation=1, ceil_mode=False)\n",
              "  (5): Conv1d(64, 64, kernel_size=(3,), stride=(1,), padding=same)\n",
              "  (6): MaxPool1d(kernel_size=5, stride=5, padding=0, dilation=1, ceil_mode=False)\n",
              "  (7): Sequential(\n",
              "    (0): Linear(in_features=1024, out_features=256, bias=True)\n",
              "    (1): ReLU()\n",
              "    (2): Linear(in_features=256, out_features=64, bias=True)\n",
              "  )\n",
              ")"
            ]
          },
          "metadata": {},
          "execution_count": 33
        }
      ]
    },
    {
      "cell_type": "code",
      "source": [
        "# model_cut = nn.Sequential(*[model.children for i in range(1)])\n",
        "# model_cut\n",
        "embedding_list = []\n",
        "label_list = []\n",
        "model_cut.eval() # Set model to evaluation mode \n",
        "with torch.no_grad():    \n",
        "    for batch in train_dataloader:\n",
        "        seq, label = batch\n",
        "        seq = seq.to(device)\n",
        "        label = label.to(device)\n",
        "        seq = model_cut[0](seq)\n",
        "\n",
        "        # print(x.shape)\n",
        "        # Apply pooling\n",
        "        seq = model_cut[1](seq.permute(0, 2, 1))\n",
        "        seq = model_cut[2:7](seq)\n",
        "        seq = torch.flatten(seq, 1)\n",
        "        y_pred = model_cut[7](seq)\n",
        "        label_list.extend(list(label.squeeze().detach().cpu().numpy()))\n",
        "        embedding_list.extend(list(y_pred.detach().cpu().numpy()))\n",
        "        \n",
        "            # validate your model on each batch here"
      ],
      "metadata": {
        "id": "rmctoVeGuaCz"
      },
      "execution_count": 34,
      "outputs": []
    },
    {
      "cell_type": "code",
      "source": [
        "embedding_list = np.array(embedding_list)\n",
        "label_list = np.array(label_list)\n",
        "embedding_list.shape, label_list.shape"
      ],
      "metadata": {
        "colab": {
          "base_uri": "https://localhost:8080/"
        },
        "id": "oKHX2U-K9IeK",
        "outputId": "6b1c280d-c926-4b95-8ced-cabbab31dcbe"
      },
      "execution_count": 35,
      "outputs": [
        {
          "output_type": "execute_result",
          "data": {
            "text/plain": [
              "((5066, 64), (5066,))"
            ]
          },
          "metadata": {},
          "execution_count": 35
        }
      ]
    },
    {
      "cell_type": "code",
      "source": [
        ""
      ],
      "metadata": {
        "id": "kE0dMme5KSW2"
      },
      "execution_count": 35,
      "outputs": []
    },
    {
      "cell_type": "code",
      "source": [
        "label_value = [list(label_code_1.keys())[list(label_code_1.values()).index(p)] for p in label_list]"
      ],
      "metadata": {
        "id": "IkA5dhho-v1x"
      },
      "execution_count": 36,
      "outputs": []
    },
    {
      "cell_type": "code",
      "source": [
        "len(label_list), len(label_value)"
      ],
      "metadata": {
        "id": "PA6EJA-6CpU7",
        "outputId": "5f51b5b7-5fa4-4aeb-a8e0-61e7243c190e",
        "colab": {
          "base_uri": "https://localhost:8080/"
        }
      },
      "execution_count": 37,
      "outputs": [
        {
          "output_type": "execute_result",
          "data": {
            "text/plain": [
              "(5066, 5066)"
            ]
          },
          "metadata": {},
          "execution_count": 37
        }
      ]
    },
    {
      "cell_type": "code",
      "source": [
        "df_embedding = pd.DataFrame(data = (embedding_list))\n",
        "# df_embedding[\"label\"] = np.array(label_value)\n",
        "df_embedding.head()"
      ],
      "metadata": {
        "id": "edP6ojCH9oHi",
        "outputId": "76524f64-b5a3-41b6-ee15-799404983618",
        "colab": {
          "base_uri": "https://localhost:8080/",
          "height": 299
        }
      },
      "execution_count": 38,
      "outputs": [
        {
          "output_type": "execute_result",
          "data": {
            "text/plain": [
              "          0          1          2         3          4         5          6   \\\n",
              "0  10.746915  14.012117   9.483670 -3.092792  -2.859973  1.475950 -10.286603   \n",
              "1  -5.615756  12.322203  -7.121385 -9.411956 -12.393427 -3.215230 -10.981778   \n",
              "2  -7.542098  -1.164943  12.901723  6.716753   3.305238 -2.314892  -4.172968   \n",
              "3  -2.855665   8.728015   0.576456 -6.107038  -2.993928 -4.880913  -5.497683   \n",
              "4  -1.258703   6.326075   2.158898 -3.021785  -3.198411 -1.691116  -4.543203   \n",
              "\n",
              "          7         8         9   ...        54        55         56  \\\n",
              "0  -2.052922 -4.311553  3.333334  ... -6.090371 -6.138119   2.676452   \n",
              "1 -11.256993 -3.272053 -8.010668  ... -7.838812 -4.179039  -9.453879   \n",
              "2  -3.256890 -6.737548  4.462438  ... -1.358786 -2.941833  11.595160   \n",
              "3  -8.732465 -1.624377 -2.321949  ... -3.834320 -3.325476  -5.444252   \n",
              "4  -0.581130 -4.109493  0.100029  ... -3.765488 -3.583613  -3.640660   \n",
              "\n",
              "          57        58        59        60        61        62         63  \n",
              "0   3.154145  9.824885  7.928619  9.851609  0.957867  0.979756 -10.156139  \n",
              "1  12.359636  4.203517 -1.076081  4.393844  0.723906 -2.839467   0.046370  \n",
              "2   0.509726 -0.026538 -8.035609 -1.379802 -9.629855 -0.194936  -7.448337  \n",
              "3   3.309011 -0.456057 -1.800025  4.963633 -1.791328  4.793063 -10.615308  \n",
              "4   5.351370  0.493593 -2.442672  1.002983 -4.351628 -3.092194  -3.641502  \n",
              "\n",
              "[5 rows x 64 columns]"
            ],
            "text/html": [
              "\n",
              "  <div id=\"df-9241ae90-7f55-48a2-bdd0-33a9df45444b\">\n",
              "    <div class=\"colab-df-container\">\n",
              "      <div>\n",
              "<style scoped>\n",
              "    .dataframe tbody tr th:only-of-type {\n",
              "        vertical-align: middle;\n",
              "    }\n",
              "\n",
              "    .dataframe tbody tr th {\n",
              "        vertical-align: top;\n",
              "    }\n",
              "\n",
              "    .dataframe thead th {\n",
              "        text-align: right;\n",
              "    }\n",
              "</style>\n",
              "<table border=\"1\" class=\"dataframe\">\n",
              "  <thead>\n",
              "    <tr style=\"text-align: right;\">\n",
              "      <th></th>\n",
              "      <th>0</th>\n",
              "      <th>1</th>\n",
              "      <th>2</th>\n",
              "      <th>3</th>\n",
              "      <th>4</th>\n",
              "      <th>5</th>\n",
              "      <th>6</th>\n",
              "      <th>7</th>\n",
              "      <th>8</th>\n",
              "      <th>9</th>\n",
              "      <th>...</th>\n",
              "      <th>54</th>\n",
              "      <th>55</th>\n",
              "      <th>56</th>\n",
              "      <th>57</th>\n",
              "      <th>58</th>\n",
              "      <th>59</th>\n",
              "      <th>60</th>\n",
              "      <th>61</th>\n",
              "      <th>62</th>\n",
              "      <th>63</th>\n",
              "    </tr>\n",
              "  </thead>\n",
              "  <tbody>\n",
              "    <tr>\n",
              "      <th>0</th>\n",
              "      <td>10.746915</td>\n",
              "      <td>14.012117</td>\n",
              "      <td>9.483670</td>\n",
              "      <td>-3.092792</td>\n",
              "      <td>-2.859973</td>\n",
              "      <td>1.475950</td>\n",
              "      <td>-10.286603</td>\n",
              "      <td>-2.052922</td>\n",
              "      <td>-4.311553</td>\n",
              "      <td>3.333334</td>\n",
              "      <td>...</td>\n",
              "      <td>-6.090371</td>\n",
              "      <td>-6.138119</td>\n",
              "      <td>2.676452</td>\n",
              "      <td>3.154145</td>\n",
              "      <td>9.824885</td>\n",
              "      <td>7.928619</td>\n",
              "      <td>9.851609</td>\n",
              "      <td>0.957867</td>\n",
              "      <td>0.979756</td>\n",
              "      <td>-10.156139</td>\n",
              "    </tr>\n",
              "    <tr>\n",
              "      <th>1</th>\n",
              "      <td>-5.615756</td>\n",
              "      <td>12.322203</td>\n",
              "      <td>-7.121385</td>\n",
              "      <td>-9.411956</td>\n",
              "      <td>-12.393427</td>\n",
              "      <td>-3.215230</td>\n",
              "      <td>-10.981778</td>\n",
              "      <td>-11.256993</td>\n",
              "      <td>-3.272053</td>\n",
              "      <td>-8.010668</td>\n",
              "      <td>...</td>\n",
              "      <td>-7.838812</td>\n",
              "      <td>-4.179039</td>\n",
              "      <td>-9.453879</td>\n",
              "      <td>12.359636</td>\n",
              "      <td>4.203517</td>\n",
              "      <td>-1.076081</td>\n",
              "      <td>4.393844</td>\n",
              "      <td>0.723906</td>\n",
              "      <td>-2.839467</td>\n",
              "      <td>0.046370</td>\n",
              "    </tr>\n",
              "    <tr>\n",
              "      <th>2</th>\n",
              "      <td>-7.542098</td>\n",
              "      <td>-1.164943</td>\n",
              "      <td>12.901723</td>\n",
              "      <td>6.716753</td>\n",
              "      <td>3.305238</td>\n",
              "      <td>-2.314892</td>\n",
              "      <td>-4.172968</td>\n",
              "      <td>-3.256890</td>\n",
              "      <td>-6.737548</td>\n",
              "      <td>4.462438</td>\n",
              "      <td>...</td>\n",
              "      <td>-1.358786</td>\n",
              "      <td>-2.941833</td>\n",
              "      <td>11.595160</td>\n",
              "      <td>0.509726</td>\n",
              "      <td>-0.026538</td>\n",
              "      <td>-8.035609</td>\n",
              "      <td>-1.379802</td>\n",
              "      <td>-9.629855</td>\n",
              "      <td>-0.194936</td>\n",
              "      <td>-7.448337</td>\n",
              "    </tr>\n",
              "    <tr>\n",
              "      <th>3</th>\n",
              "      <td>-2.855665</td>\n",
              "      <td>8.728015</td>\n",
              "      <td>0.576456</td>\n",
              "      <td>-6.107038</td>\n",
              "      <td>-2.993928</td>\n",
              "      <td>-4.880913</td>\n",
              "      <td>-5.497683</td>\n",
              "      <td>-8.732465</td>\n",
              "      <td>-1.624377</td>\n",
              "      <td>-2.321949</td>\n",
              "      <td>...</td>\n",
              "      <td>-3.834320</td>\n",
              "      <td>-3.325476</td>\n",
              "      <td>-5.444252</td>\n",
              "      <td>3.309011</td>\n",
              "      <td>-0.456057</td>\n",
              "      <td>-1.800025</td>\n",
              "      <td>4.963633</td>\n",
              "      <td>-1.791328</td>\n",
              "      <td>4.793063</td>\n",
              "      <td>-10.615308</td>\n",
              "    </tr>\n",
              "    <tr>\n",
              "      <th>4</th>\n",
              "      <td>-1.258703</td>\n",
              "      <td>6.326075</td>\n",
              "      <td>2.158898</td>\n",
              "      <td>-3.021785</td>\n",
              "      <td>-3.198411</td>\n",
              "      <td>-1.691116</td>\n",
              "      <td>-4.543203</td>\n",
              "      <td>-0.581130</td>\n",
              "      <td>-4.109493</td>\n",
              "      <td>0.100029</td>\n",
              "      <td>...</td>\n",
              "      <td>-3.765488</td>\n",
              "      <td>-3.583613</td>\n",
              "      <td>-3.640660</td>\n",
              "      <td>5.351370</td>\n",
              "      <td>0.493593</td>\n",
              "      <td>-2.442672</td>\n",
              "      <td>1.002983</td>\n",
              "      <td>-4.351628</td>\n",
              "      <td>-3.092194</td>\n",
              "      <td>-3.641502</td>\n",
              "    </tr>\n",
              "  </tbody>\n",
              "</table>\n",
              "<p>5 rows × 64 columns</p>\n",
              "</div>\n",
              "      <button class=\"colab-df-convert\" onclick=\"convertToInteractive('df-9241ae90-7f55-48a2-bdd0-33a9df45444b')\"\n",
              "              title=\"Convert this dataframe to an interactive table.\"\n",
              "              style=\"display:none;\">\n",
              "        \n",
              "  <svg xmlns=\"http://www.w3.org/2000/svg\" height=\"24px\"viewBox=\"0 0 24 24\"\n",
              "       width=\"24px\">\n",
              "    <path d=\"M0 0h24v24H0V0z\" fill=\"none\"/>\n",
              "    <path d=\"M18.56 5.44l.94 2.06.94-2.06 2.06-.94-2.06-.94-.94-2.06-.94 2.06-2.06.94zm-11 1L8.5 8.5l.94-2.06 2.06-.94-2.06-.94L8.5 2.5l-.94 2.06-2.06.94zm10 10l.94 2.06.94-2.06 2.06-.94-2.06-.94-.94-2.06-.94 2.06-2.06.94z\"/><path d=\"M17.41 7.96l-1.37-1.37c-.4-.4-.92-.59-1.43-.59-.52 0-1.04.2-1.43.59L10.3 9.45l-7.72 7.72c-.78.78-.78 2.05 0 2.83L4 21.41c.39.39.9.59 1.41.59.51 0 1.02-.2 1.41-.59l7.78-7.78 2.81-2.81c.8-.78.8-2.07 0-2.86zM5.41 20L4 18.59l7.72-7.72 1.47 1.35L5.41 20z\"/>\n",
              "  </svg>\n",
              "      </button>\n",
              "      \n",
              "  <style>\n",
              "    .colab-df-container {\n",
              "      display:flex;\n",
              "      flex-wrap:wrap;\n",
              "      gap: 12px;\n",
              "    }\n",
              "\n",
              "    .colab-df-convert {\n",
              "      background-color: #E8F0FE;\n",
              "      border: none;\n",
              "      border-radius: 50%;\n",
              "      cursor: pointer;\n",
              "      display: none;\n",
              "      fill: #1967D2;\n",
              "      height: 32px;\n",
              "      padding: 0 0 0 0;\n",
              "      width: 32px;\n",
              "    }\n",
              "\n",
              "    .colab-df-convert:hover {\n",
              "      background-color: #E2EBFA;\n",
              "      box-shadow: 0px 1px 2px rgba(60, 64, 67, 0.3), 0px 1px 3px 1px rgba(60, 64, 67, 0.15);\n",
              "      fill: #174EA6;\n",
              "    }\n",
              "\n",
              "    [theme=dark] .colab-df-convert {\n",
              "      background-color: #3B4455;\n",
              "      fill: #D2E3FC;\n",
              "    }\n",
              "\n",
              "    [theme=dark] .colab-df-convert:hover {\n",
              "      background-color: #434B5C;\n",
              "      box-shadow: 0px 1px 3px 1px rgba(0, 0, 0, 0.15);\n",
              "      filter: drop-shadow(0px 1px 2px rgba(0, 0, 0, 0.3));\n",
              "      fill: #FFFFFF;\n",
              "    }\n",
              "  </style>\n",
              "\n",
              "      <script>\n",
              "        const buttonEl =\n",
              "          document.querySelector('#df-9241ae90-7f55-48a2-bdd0-33a9df45444b button.colab-df-convert');\n",
              "        buttonEl.style.display =\n",
              "          google.colab.kernel.accessAllowed ? 'block' : 'none';\n",
              "\n",
              "        async function convertToInteractive(key) {\n",
              "          const element = document.querySelector('#df-9241ae90-7f55-48a2-bdd0-33a9df45444b');\n",
              "          const dataTable =\n",
              "            await google.colab.kernel.invokeFunction('convertToInteractive',\n",
              "                                                     [key], {});\n",
              "          if (!dataTable) return;\n",
              "\n",
              "          const docLinkHtml = 'Like what you see? Visit the ' +\n",
              "            '<a target=\"_blank\" href=https://colab.research.google.com/notebooks/data_table.ipynb>data table notebook</a>'\n",
              "            + ' to learn more about interactive tables.';\n",
              "          element.innerHTML = '';\n",
              "          dataTable['output_type'] = 'display_data';\n",
              "          await google.colab.output.renderOutput(dataTable, element);\n",
              "          const docLink = document.createElement('div');\n",
              "          docLink.innerHTML = docLinkHtml;\n",
              "          element.appendChild(docLink);\n",
              "        }\n",
              "      </script>\n",
              "    </div>\n",
              "  </div>\n",
              "  "
            ]
          },
          "metadata": {},
          "execution_count": 38
        }
      ]
    },
    {
      "cell_type": "code",
      "source": [
        "fit = umap.UMAP()\n",
        "# Use default parameters?"
      ],
      "metadata": {
        "id": "ElSTwyJORaKM"
      },
      "execution_count": 39,
      "outputs": []
    },
    {
      "cell_type": "code",
      "source": [
        "reduced_embedding = fit.fit_transform(df_embedding)"
      ],
      "metadata": {
        "id": "hGDwR4j1t96S",
        "outputId": "f721313b-864b-46e6-9cd2-74d7a2130b93",
        "colab": {
          "base_uri": "https://localhost:8080/"
        }
      },
      "execution_count": 40,
      "outputs": [
        {
          "output_type": "stream",
          "name": "stderr",
          "text": [
            "/usr/local/lib/python3.7/dist-packages/numba/np/ufunc/parallel.py:363: NumbaWarning: The TBB threading layer requires TBB version 2019.5 or later i.e., TBB_INTERFACE_VERSION >= 11005. Found TBB_INTERFACE_VERSION = 9107. The TBB threading layer is disabled.\n",
            "  warnings.warn(problem)\n"
          ]
        }
      ]
    },
    {
      "cell_type": "code",
      "source": [
        "reduced_embedding = pd.DataFrame(reduced_embedding, columns=['dim1', 'dim2'])\n",
        "reduced_embedding[\"label\"] = np.array(label_value)"
      ],
      "metadata": {
        "id": "IttTIGZUEVDG"
      },
      "execution_count": 41,
      "outputs": []
    },
    {
      "cell_type": "code",
      "source": [
        "sns.relplot(data=reduced_embedding, x=\"dim1\", y='dim2',\n",
        "                hue='label', hue_order=label_code_1.keys(), aspect=1.61, alpha = 0.1)\n",
        "plt.show()"
      ],
      "metadata": {
        "id": "nyg-iiD9JNkt",
        "outputId": "9ae5e624-81bc-4d7b-d4cb-c221cab4b21c",
        "colab": {
          "base_uri": "https://localhost:8080/",
          "height": 365
        }
      },
      "execution_count": 42,
      "outputs": [
        {
          "output_type": "display_data",
          "data": {
            "text/plain": [
              "<Figure size 713.7x360 with 1 Axes>"
            ],
            "image/png": "[encoded data removed]"
          },
          "metadata": {}
        }
      ]
    },
    {
      "cell_type": "markdown",
      "source": [
        "# Multitask Learning (Joint Class and Mechanism of Antibiotic Resistance Prediction)"
      ],
      "metadata": {
        "id": "kEdAa4bSoFR8"
      }
    },
    {
      "cell_type": "code",
      "source": [
        "df[\"labels_2\"] = \"other\"\n",
        "df.loc[(df['mechanism'].str.contains(\"nucleotidyltransferases\")),'labels_2'] = \"nucleotidyltransferases\"\n",
        "df.loc[(df['mechanism'].str.contains(\"methyltransferases\")),'labels_2'] = \"methyltransferases\"\n",
        "df.loc[(df['mechanism'].str.contains(\"phosphotransferases\")),'labels_2'] = \"phosphotransferases\"\n",
        "df.loc[(df['mechanism'].str.contains(\"acetyltransferases\")),'labels_2'] = \"acetyltransferases\"\n",
        "df.loc[(df['mechanism'].str.contains(\"Quinolone_resistance_protein_Qnr\")),'labels_2'] = \"Quinolone_resistance_protein_Qnr\"\n",
        "df.loc[(df['mechanism'].str.contains(\"Dihydrofolate_reductase\")),'labels_2'] = \"Dihydrofolate_reductase\"\n",
        "df.loc[(df['mechanism'].str.contains(\"Tetracycline_resistance_ribosomal_protection_proteins\")),\n",
        "       'labels_2'] = \"Tetracycline_resistance_ribosomal_protection_proteins\"\n",
        "df.loc[(df['mechanism'].str.contains(\"efflux_pump\")),'labels_2'] = \"efflux_pump\"\n",
        "df.loc[(df['mechanism'].str.contains(\"Fluoroquinolone-resistant_DNA_topoisomerases\")),'labels_2'] = \"Fluoroquinolone-resistant_DNA_topoisomerases\"\n",
        "df.loc[(df['mechanism'] == \"Class_A_betalactamases\"),'labels_2'] = \"Class_A_betalactamases\"\n",
        "df.loc[(df['mechanism'] == \"Class_B_betalactamases\"),'labels_2'] = \"Class_B_betalactamases\"\n",
        "df.loc[(df['mechanism'] == \"Class_C_betalactamases\"),'labels_2'] = \"Class_C_betalactamases\"\n",
        "df.loc[(df['mechanism'] == \"Class_D_betalactamases\"),'labels_2'] = \"Class_D_betalactamases\"\n",
        "label_code_2 = {}\n",
        "labels_2 = [\"nucleotidyltransferases\", \"methyltransferases\", \"phosphotransferases\",\n",
        "            \"acetyltransferases\", \"Quinolone_resistance_protein_Qnr\", \"Dihydrofolate_reductase\", \"efflux_pump\",\n",
        "            \"Tetracycline_resistance_ribosomal_protection_proteins\", \"Fluoroquinolone-resistant_DNA_topoisomerases\",\n",
        "            \"Class_A_betalactamases\", \"Class_B_betalactamases\", \"Class_C_betalactamases\",\"Class_D_betalactamases\", \"other\"]\n",
        "for (i, elem) in enumerate(labels_2):\n",
        "  label_code_2[elem] = i"
      ],
      "metadata": {
        "id": "LqtnSFAboItN"
      },
      "execution_count": 43,
      "outputs": []
    },
    {
      "cell_type": "code",
      "source": [
        "df.labels_2.value_counts()"
      ],
      "metadata": {
        "id": "grLDE1iM-TS2",
        "outputId": "cb821540-dc09-47c7-b628-93775c888c09",
        "colab": {
          "base_uri": "https://localhost:8080/"
        }
      },
      "execution_count": 44,
      "outputs": [
        {
          "output_type": "execute_result",
          "data": {
            "text/plain": [
              "other                                                    1642\n",
              "Class_A_betalactamases                                   1580\n",
              "Class_C_betalactamases                                    950\n",
              "Class_D_betalactamases                                    900\n",
              "efflux_pump                                               826\n",
              "acetyltransferases                                        445\n",
              "Class_B_betalactamases                                    410\n",
              "nucleotidyltransferases                                   296\n",
              "Quinolone_resistance_protein_Qnr                          173\n",
              "methyltransferases                                        145\n",
              "Dihydrofolate_reductase                                   135\n",
              "Tetracycline_resistance_ribosomal_protection_proteins     134\n",
              "phosphotransferases                                       122\n",
              "Fluoroquinolone-resistant_DNA_topoisomerases              110\n",
              "Name: labels_2, dtype: int64"
            ]
          },
          "metadata": {},
          "execution_count": 44
        }
      ]
    },
    {
      "cell_type": "code",
      "source": [
        "X = df.Sequence.values\n",
        "y = np.array([df.labels.values, df.labels_2.values]).transpose()\n",
        "print(X.shape, y.shape)\n",
        "index_to_remove = []\n",
        "for (i, seq) in enumerate(X):\n",
        "  if set(seq.upper())!={\"A\", \"T\", \"C\", \"G\"}:\n",
        "    index_to_remove.append(i)\n",
        "index_to_remove\n",
        "X = np.delete(X, index_to_remove, axis=0)\n",
        "y = np.delete(y, index_to_remove, axis=0)\n",
        "\n",
        "print(X.shape,y.shape)"
      ],
      "metadata": {
        "id": "oWR3uFPA_W-K",
        "outputId": "5ed3f5ff-aa8a-484b-b507-c048d75485fc",
        "colab": {
          "base_uri": "https://localhost:8080/"
        }
      },
      "execution_count": 45,
      "outputs": [
        {
          "output_type": "stream",
          "name": "stdout",
          "text": [
            "(7868,) (7868, 2)\n",
            "(7819,) (7819, 2)\n"
          ]
        }
      ]
    },
    {
      "cell_type": "code",
      "source": [
        "X_train, X_test, y_train, y_test = train_test_split(X, y, test_size=0.2) \n",
        "X_train, X_val, y_train, y_val = train_test_split(X_train, y_train, test_size=0.1) \n",
        "X_train, X_val, y_train, y_val = train_test_split(X_train, y_train, test_size=0.1) "
      ],
      "metadata": {
        "id": "q4XRBVVs_XAb"
      },
      "execution_count": 46,
      "outputs": []
    },
    {
      "cell_type": "code",
      "source": [
        "import torch.nn.functional as F\n",
        "\n",
        "def encode_multitask(seq, label, labels_dict1, labels_dict2):\n",
        "  label_int1 = labels_dict1[label[0]]\n",
        "  label_int2 = labels_dict2[label[1]]\n",
        "  enc_seq = [code[x] for x in seq.upper()]\n",
        "  return [torch.LongTensor(enc_seq[0:2000]), torch.LongTensor([label_int1, label_int2]), len(enc_seq)]\n",
        "\n",
        "class SequenceDatasetMultitask(Dataset):\n",
        "    def __init__(self, X, y, labels_dict1, labels_dict2):\n",
        "        \n",
        "        self.X = X \n",
        "        self.y = y \n",
        "        self.labels_dict1 =labels_dict1\n",
        "        self.labels_dict2 = labels_dict2\n",
        "        self.len=len(self.X)      \n",
        "\n",
        "    def __getitem__(self, index):\n",
        "        # your implementation here: \n",
        "        X_elem, y_elem, length_seq = encode_multitask(self.X[index], self.y[index], \n",
        "                                                      labels_dict1=self.labels_dict1, labels_dict2 = self.labels_dict2)\n",
        "        return F.pad(X_elem, pad=(0, 2000 - len(X_elem))), y_elem\n",
        "\n",
        "    def __len__(self):\n",
        "        return self.len\n",
        "    \n",
        "\n",
        "\n"
      ],
      "metadata": {
        "id": "a0IqGLW3zRfG"
      },
      "execution_count": 47,
      "outputs": []
    },
    {
      "cell_type": "code",
      "source": [
        "train_data = SequenceDatasetMultitask(X_train, y_train, labels_dict1 = label_code_1, labels_dict2 = label_code_2)\n",
        "val_data = SequenceDatasetMultitask(X_val, y_val, labels_dict1 = label_code_1, labels_dict2 = label_code_2)\n",
        "test_data = SequenceDatasetMultitask(X_test, y_test, labels_dict1 = label_code_1, labels_dict2 = label_code_2)\n",
        "\n",
        "batch_size = 32\n",
        "train_dataloader = DataLoader(train_data, batch_size=batch_size, shuffle=True)# fill in code here\n",
        "val_dataloader = DataLoader(val_data, batch_size=batch_size, shuffle=True)# fill in code here\n",
        "test_dataloader = DataLoader(test_data, batch_size=batch_size, shuffle=True)# fill in code here"
      ],
      "metadata": {
        "id": "6tGg2g_LAuBr"
      },
      "execution_count": 48,
      "outputs": []
    },
    {
      "cell_type": "code",
      "source": [
        "class cnn1d_multitask(nn.Module):\n",
        "    def __init__(self, label_count1 = len(label_code_1), label_count2 = len(label_code_2)):\n",
        "        super(cnn1d_multitask, self).__init__()\n",
        "        count = 2*(label_count1+label_count2)\n",
        "        self.embedding = nn.Embedding(5, count)\n",
        "        self.conv1 = nn.Conv1d(count, 64, kernel_size = 3, padding='same')\n",
        "        self.maxpool1 = nn.MaxPool1d(kernel_size=5)\n",
        "        self.conv2 = nn.Conv1d(64, 64, kernel_size=3, padding=\"same\")\n",
        "        self.maxpool2 = nn.MaxPool1d(kernel_size=5)\n",
        "        self.conv3 = nn.Conv1d(64, 64, kernel_size=3, padding=\"same\")\n",
        "        self.maxpool3 = nn.MaxPool1d(kernel_size=5)\n",
        "        self.dense1 = nn.Sequential(nn.Linear(1024, 256), \n",
        "                             nn.ReLU(), nn.Linear(256, 64),\n",
        "                             nn.ReLU(), nn.Linear(64, label_count1))\n",
        "        self.dense2 = nn.Sequential(nn.Linear(1024, 256), \n",
        "                             nn.ReLU(), nn.Linear(256, 64),\n",
        "                             nn.ReLU(), nn.Linear(64, label_count2))\n",
        "\n",
        "    def forward(self, x):\n",
        "        \"\"\"Extract first fully connected feature vector\"\"\"\n",
        "        # Apply convolutions\n",
        "        x = self.embedding(x)\n",
        "        # print(x.shape)\n",
        "        # Apply pooling\n",
        "        x = self.conv1(x.permute(0, 2, 1))\n",
        "        # print(x.shape)\n",
        "        x = self.maxpool1(x)\n",
        "        x = self.conv2(x)\n",
        "        x = self.maxpool2(x)\n",
        "        x = self.conv3(x)\n",
        "        x = self.maxpool3(x)\n",
        "        x = torch.flatten(x, 1)\n",
        "        x1 = self.dense1(x)\n",
        "        x2 = self.dense2(x)\n",
        "        \n",
        "        return x1, x2"
      ],
      "metadata": {
        "id": "4WbnzWp3wseK"
      },
      "execution_count": 49,
      "outputs": []
    },
    {
      "cell_type": "code",
      "source": [
        "model = cnn1d_multitask(label_count1=len(label_code_2), label_count2 = len(label_code_2))\n",
        "model = model.to(device)"
      ],
      "metadata": {
        "id": "-wYecjaBAuEC"
      },
      "execution_count": 50,
      "outputs": []
    },
    {
      "cell_type": "code",
      "source": [
        "model"
      ],
      "metadata": {
        "id": "4pzdcks5BYVc",
        "outputId": "aabfef9d-a268-4266-9cf3-e2c3be25816b",
        "colab": {
          "base_uri": "https://localhost:8080/"
        }
      },
      "execution_count": 51,
      "outputs": [
        {
          "output_type": "execute_result",
          "data": {
            "text/plain": [
              "cnn1d_multitask(\n",
              "  (embedding): Embedding(5, 56)\n",
              "  (conv1): Conv1d(56, 64, kernel_size=(3,), stride=(1,), padding=same)\n",
              "  (maxpool1): MaxPool1d(kernel_size=5, stride=5, padding=0, dilation=1, ceil_mode=False)\n",
              "  (conv2): Conv1d(64, 64, kernel_size=(3,), stride=(1,), padding=same)\n",
              "  (maxpool2): MaxPool1d(kernel_size=5, stride=5, padding=0, dilation=1, ceil_mode=False)\n",
              "  (conv3): Conv1d(64, 64, kernel_size=(3,), stride=(1,), padding=same)\n",
              "  (maxpool3): MaxPool1d(kernel_size=5, stride=5, padding=0, dilation=1, ceil_mode=False)\n",
              "  (dense1): Sequential(\n",
              "    (0): Linear(in_features=1024, out_features=256, bias=True)\n",
              "    (1): ReLU()\n",
              "    (2): Linear(in_features=256, out_features=64, bias=True)\n",
              "    (3): ReLU()\n",
              "    (4): Linear(in_features=64, out_features=14, bias=True)\n",
              "  )\n",
              "  (dense2): Sequential(\n",
              "    (0): Linear(in_features=1024, out_features=256, bias=True)\n",
              "    (1): ReLU()\n",
              "    (2): Linear(in_features=256, out_features=64, bias=True)\n",
              "    (3): ReLU()\n",
              "    (4): Linear(in_features=64, out_features=14, bias=True)\n",
              "  )\n",
              ")"
            ]
          },
          "metadata": {},
          "execution_count": 51
        }
      ]
    },
    {
      "cell_type": "code",
      "source": [
        "def train_multitask(model, dataloader, optimizer, device):\n",
        "    \n",
        "    '''\n",
        "    A function to train on the entire dataset for one epoch.\n",
        "    \n",
        "    Args: \n",
        "        model (torch.nn.Module): Your sequence classifier \n",
        "        dataloader (torch.utils.data.Dataloader): DataLoader object for the train data\n",
        "        optimizer (torch.optim.Optimizer): Optimizer object to interface gradient calculation and optimization \n",
        "        device (str): Your device\n",
        "        \n",
        "    Returns: \n",
        "        float: loss averaged over all the batches \n",
        "    \n",
        "    '''\n",
        "\n",
        "    batch_loss = []\n",
        "    model.train() # Set model to training mode \n",
        "    train_loss = 0 \n",
        "    count = 0\n",
        "    for batch in dataloader:    \n",
        "        seq, label = batch\n",
        "        seq = seq.to(device)\n",
        "        label = label.to(device)\n",
        "        # print(seq.shape, label.shape)\n",
        "        # train your model on each batch here \n",
        "        y_pred = model(seq)\n",
        "        # print(label.shape, y_pred.shape)\n",
        "        loss1 = nn.functional.cross_entropy(y_pred[0], label.squeeze()[:, 0])# fill in loss here\n",
        "        loss2 = nn.functional.cross_entropy(y_pred[1], label.squeeze()[:, 1])\n",
        "        loss = (loss1+loss2)/2\n",
        "        train_loss += (loss)*len(label)\n",
        "        count += len(label)\n",
        "        batch_loss.append(loss.item())\n",
        "        \n",
        "        # run backpropagation given the loss you defined\n",
        "        optimizer.zero_grad()\n",
        "        loss.backward()\n",
        "        optimizer.step()\n",
        "    train_loss = train_loss/count\n",
        "    return np.array(batch_loss).mean(), train_loss.detach().cpu().numpy() \n",
        "\n",
        "\n",
        "def validate_multitask(model, dataloader, device):\n",
        "    \n",
        "    '''\n",
        "    A function to validate on the validation dataset for one epoch.\n",
        "    \n",
        "    Args: \n",
        "        model (torch.nn.Module): Your sequence classifier \n",
        "        dataloader (torch.utils.data.Dataloader): DataLoader object for the validation data\n",
        "        device (str): Your device\n",
        "        \n",
        "    Returns: \n",
        "        float: loss averaged over all the batches \n",
        "    \n",
        "    '''\n",
        "    batch_loss = []\n",
        "    val_loss = 0\n",
        "    count = 0\n",
        "    model.eval() # Set model to evaluation mode \n",
        "    with torch.no_grad():    \n",
        "        for batch in dataloader:\n",
        "            seq, label = batch\n",
        "            seq = seq.to(device)\n",
        "            label = label.to(device)\n",
        "            y_pred = model(seq)\n",
        "        # print(label.shape, y_pred.shape)\n",
        "            loss1 = nn.functional.cross_entropy(y_pred[0], label.squeeze()[:, 0])# fill in loss here\n",
        "            loss2 = nn.functional.cross_entropy(y_pred[1], label.squeeze()[:, 1])\n",
        "            loss = (loss1+loss2)/2\n",
        "            val_loss += loss*len(label)\n",
        "            count += len(label)\n",
        "            batch_loss.append(loss.item())\n",
        "            # validate your model on each batch here \n",
        "        val_loss = val_loss/count     \n",
        "    return np.array(batch_loss).mean(), val_loss.detach().cpu().numpy()    "
      ],
      "metadata": {
        "id": "Em_vDb85x15H"
      },
      "execution_count": 52,
      "outputs": []
    },
    {
      "cell_type": "code",
      "source": [
        "optimizer = torch.optim.Adam(list(model.parameters()), lr=0.5*1e-3) "
      ],
      "metadata": {
        "id": "cUNn7m_9GGxH"
      },
      "execution_count": 53,
      "outputs": []
    },
    {
      "cell_type": "code",
      "source": [
        "label_code_2"
      ],
      "metadata": {
        "id": "4NTIiR3QQMID",
        "outputId": "a68835c1-1685-46cb-c55c-0ed830fec15e",
        "colab": {
          "base_uri": "https://localhost:8080/"
        }
      },
      "execution_count": 54,
      "outputs": [
        {
          "output_type": "execute_result",
          "data": {
            "text/plain": [
              "{'Class_A_betalactamases': 9,\n",
              " 'Class_B_betalactamases': 10,\n",
              " 'Class_C_betalactamases': 11,\n",
              " 'Class_D_betalactamases': 12,\n",
              " 'Dihydrofolate_reductase': 5,\n",
              " 'Fluoroquinolone-resistant_DNA_topoisomerases': 8,\n",
              " 'Quinolone_resistance_protein_Qnr': 4,\n",
              " 'Tetracycline_resistance_ribosomal_protection_proteins': 7,\n",
              " 'acetyltransferases': 3,\n",
              " 'efflux_pump': 6,\n",
              " 'methyltransferases': 1,\n",
              " 'nucleotidyltransferases': 0,\n",
              " 'other': 13,\n",
              " 'phosphotransferases': 2}"
            ]
          },
          "metadata": {},
          "execution_count": 54
        }
      ]
    },
    {
      "cell_type": "code",
      "source": [
        "print(\"epoch\", \"train loss\", \"validation loss\")\n",
        "\n",
        "val_loss_curve = []\n",
        "train_loss_curve = []\n",
        "\n",
        "for epoch in range(8):\n",
        "    \n",
        "    # Compute train your model on training data\n",
        "    epoch_loss, train_loss = train_multitask(model, train_dataloader, optimizer,  device=device)\n",
        "    \n",
        "    # Validate your on validation data \n",
        "    epoch_loss , val_loss = validate_multitask(model, val_dataloader, device=device) \n",
        "    \n",
        "    # Record train and loss performance \n",
        "    train_loss_curve.append(epoch_loss)\n",
        "    val_loss_curve.append(val_loss)\n",
        "    \n",
        "    # The learning rate scheduler records the validation loss \n",
        "    # scheduler.step(val_loss)\n",
        "    \n",
        "    print(epoch, train_loss, val_loss)"
      ],
      "metadata": {
        "id": "lMmyEkNHAuGV",
        "outputId": "fe52a070-9808-4f6f-eecc-5719e4bacf27",
        "colab": {
          "base_uri": "https://localhost:8080/"
        }
      },
      "execution_count": 55,
      "outputs": [
        {
          "output_type": "stream",
          "name": "stdout",
          "text": [
            "epoch train loss validation loss\n",
            "0 1.3818611 1.1369979\n",
            "1 0.9888603 0.7867269\n",
            "2 0.6410331 0.52987695\n",
            "3 0.4498687 0.41866633\n",
            "4 0.33500975 0.3626747\n",
            "5 0.24774644 0.31251377\n",
            "6 0.17942639 0.30727285\n",
            "7 0.12367649 0.30638865\n"
          ]
        }
      ]
    },
    {
      "cell_type": "code",
      "source": [
        "pred_labels_class = []\n",
        "pred_labels_mechanism = []\n",
        "true_labels_class = []\n",
        "true_labels_mechanism = []\n",
        "test_loss = 0\n",
        "with torch.no_grad():\n",
        "  model.eval()\n",
        "  for batch in test_dataloader:\n",
        "    seq, label = batch\n",
        "    seq = seq.to(device)\n",
        "    label = label.to(device)\n",
        "    logits = model(seq)\n",
        "    loss1 = nn.functional.cross_entropy(logits[0], label.squeeze()[:, 0])# fill in loss here\n",
        "    loss2 = nn.functional.cross_entropy(logits[1], label.squeeze()[:, 1])\n",
        "    loss = (loss1+loss2)/2\n",
        "    test_loss += loss*len(label)\n",
        "    preds1 = logits[0].max(1).indices\n",
        "    preds2 = logits[1].max(1).indices\n",
        "    true_labels_class.extend(list(label.squeeze().detach().cpu().numpy()[:, 0]))\n",
        "    true_labels_mechanism.extend(list(label.squeeze().detach().cpu().numpy()[:, 1]))\n",
        "\n",
        "    pred_labels_class.extend(list(preds1.squeeze().detach().cpu().numpy()))\n",
        "    pred_labels_mechanism.extend(list(preds2.squeeze().detach().cpu().numpy()))\n",
        "test_loss = test_loss/len(test_data)\n",
        "test_loss = test_loss.detach().cpu().numpy()\n",
        "print(\"Test loss is {}\".format(test_loss))\n",
        "class_acc = (np.array(true_labels_class) ==  np.array(pred_labels_class)).mean()\n",
        "mechanism_acc = (np.array(true_labels_mechanism) ==  np.array(pred_labels_mechanism)).mean()\n",
        "\n",
        "print(\"Test Acc for Class Prediction is {}\".format(class_acc))\n",
        "print(\"Test Acc for Mechanism Prediction is {}\".format(mechanism_acc))"
      ],
      "metadata": {
        "id": "40J_xtUH4izK",
        "outputId": "423db977-0369-47fa-d8b0-55788528589f",
        "colab": {
          "base_uri": "https://localhost:8080/"
        }
      },
      "execution_count": 58,
      "outputs": [
        {
          "output_type": "stream",
          "name": "stdout",
          "text": [
            "Test loss is 0.35637062788009644\n",
            "Test Acc for Class Prediction is 0.9008951406649617\n",
            "Test Acc for Mechanism Prediction is 0.9117647058823529\n"
          ]
        }
      ]
    },
    {
      "cell_type": "code",
      "source": [
        "cmat = confusion_matrix(true_labels_class, pred_labels_class)"
      ],
      "metadata": {
        "id": "qbN5VP0nAuLA"
      },
      "execution_count": null,
      "outputs": []
    },
    {
      "cell_type": "code",
      "source": [
        "sns.set(rc = {'figure.figsize':(12,8)})\n",
        "fig, ax = plt.subplots()\n",
        "sns.heatmap(cmat, annot=cmat, fmt=\"\",  ax=ax, yticklabels=(label_code_1.keys()),\n",
        "            xticklabels=label_code_1.keys())\n",
        "plt.show()"
      ],
      "metadata": {
        "id": "JIKY0igMAuNb",
        "outputId": "2495c066-0f1c-4148-e4bc-85bf15fdd9fc",
        "colab": {
          "base_uri": "https://localhost:8080/",
          "height": 570
        }
      },
      "execution_count": 60,
      "outputs": [
        {
          "output_type": "display_data",
          "data": {
            "text/plain": [
              "<Figure size 864x576 with 2 Axes>"
            ],
            "image/png": "[encoded data removed]"
          },
          "metadata": {}
        }
      ]
    },
    {
      "cell_type": "code",
      "source": [
        "cmat = confusion_matrix(true_labels_mechanism, pred_labels_mechanism)"
      ],
      "metadata": {
        "id": "vtcCa-e_HGgj"
      },
      "execution_count": 62,
      "outputs": []
    },
    {
      "cell_type": "code",
      "source": [
        "sns.set(rc = {'figure.figsize':(16,10)})\n",
        "fig, ax = plt.subplots()\n",
        "sns.heatmap(cmat, annot=cmat, fmt=\"\",  ax=ax, yticklabels=(label_code_2.keys()),\n",
        "            xticklabels=label_code_2.keys())\n",
        "plt.show()"
      ],
      "metadata": {
        "id": "wBeqxkPkHELf",
        "outputId": "598758f0-38a1-48b1-efa7-6025a73d6cc9",
        "colab": {
          "base_uri": "https://localhost:8080/",
          "height": 886
        }
      },
      "execution_count": 64,
      "outputs": [
        {
          "output_type": "display_data",
          "data": {
            "text/plain": [
              "<Figure size 1152x720 with 2 Axes>"
            ],
            "image/png": "[encoded data removed]"
          },
          "metadata": {}
        }
      ]
    },
    {
      "cell_type": "code",
      "source": [
        "model_cut = torch.nn.Sequential(*(list(model.children())[:-1]), model.dense1[:-2])\n",
        "model_cut"
      ],
      "metadata": {
        "id": "STuAfKq0AuP7",
        "outputId": "aa171d78-0426-43c9-b0ad-0633bd8f6313",
        "colab": {
          "base_uri": "https://localhost:8080/"
        }
      },
      "execution_count": 65,
      "outputs": [
        {
          "output_type": "execute_result",
          "data": {
            "text/plain": [
              "Sequential(\n",
              "  (0): Embedding(5, 56)\n",
              "  (1): Conv1d(56, 64, kernel_size=(3,), stride=(1,), padding=same)\n",
              "  (2): MaxPool1d(kernel_size=5, stride=5, padding=0, dilation=1, ceil_mode=False)\n",
              "  (3): Conv1d(64, 64, kernel_size=(3,), stride=(1,), padding=same)\n",
              "  (4): MaxPool1d(kernel_size=5, stride=5, padding=0, dilation=1, ceil_mode=False)\n",
              "  (5): Conv1d(64, 64, kernel_size=(3,), stride=(1,), padding=same)\n",
              "  (6): MaxPool1d(kernel_size=5, stride=5, padding=0, dilation=1, ceil_mode=False)\n",
              "  (7): Sequential(\n",
              "    (0): Linear(in_features=1024, out_features=256, bias=True)\n",
              "    (1): ReLU()\n",
              "    (2): Linear(in_features=256, out_features=64, bias=True)\n",
              "    (3): ReLU()\n",
              "    (4): Linear(in_features=64, out_features=14, bias=True)\n",
              "  )\n",
              "  (8): Sequential(\n",
              "    (0): Linear(in_features=1024, out_features=256, bias=True)\n",
              "    (1): ReLU()\n",
              "    (2): Linear(in_features=256, out_features=64, bias=True)\n",
              "  )\n",
              ")"
            ]
          },
          "metadata": {},
          "execution_count": 65
        }
      ]
    },
    {
      "cell_type": "code",
      "source": [
        "# model_cut = nn.Sequential(*[model.children for i in range(1)])\n",
        "# model_cut\n",
        "embedding_list = []\n",
        "label_list = []\n",
        "model_cut.eval() # Set model to evaluation mode \n",
        "with torch.no_grad():    \n",
        "    for batch in train_dataloader:\n",
        "        seq, label = batch\n",
        "        seq = seq.to(device)\n",
        "        label = label.to(device)\n",
        "        seq = model_cut[0](seq)\n",
        "\n",
        "        # print(x.shape)\n",
        "        # Apply pooling\n",
        "        seq = model_cut[1](seq.permute(0, 2, 1))\n",
        "        seq = model_cut[2:7](seq)\n",
        "        seq = torch.flatten(seq, 1)\n",
        "        y_pred = model_cut[7](seq)\n",
        "        label_list.extend(list(label.squeeze().detach().cpu().numpy()))\n",
        "        embedding_list.extend(list(y_pred.detach().cpu().numpy()))\n",
        "        \n",
        "            # validate your model on each batch here"
      ],
      "metadata": {
        "id": "1H-Vnb5lLDj_"
      },
      "execution_count": 66,
      "outputs": []
    },
    {
      "cell_type": "code",
      "source": [
        "embedding_list = np.array(embedding_list)\n",
        "label_list = np.array(label_list)\n",
        "embedding_list.shape, label_list.shape"
      ],
      "metadata": {
        "id": "F28rLH0uLDmm",
        "outputId": "27d477f4-8657-4dd6-a61f-85cc1c8af8f2",
        "colab": {
          "base_uri": "https://localhost:8080/"
        }
      },
      "execution_count": 67,
      "outputs": [
        {
          "output_type": "execute_result",
          "data": {
            "text/plain": [
              "((5066, 14), (5066, 2))"
            ]
          },
          "metadata": {},
          "execution_count": 67
        }
      ]
    },
    {
      "cell_type": "code",
      "source": [
        "label_value = [list(label_code_1.keys())[list(label_code_1.values()).index(p[0])] for p in label_list]"
      ],
      "metadata": {
        "id": "08t5Z5IuLDpB"
      },
      "execution_count": 68,
      "outputs": []
    },
    {
      "cell_type": "code",
      "source": [
        "df_embedding = pd.DataFrame(data = (embedding_list))\n",
        "df_embedding.head()"
      ],
      "metadata": {
        "id": "KYT4mdUYLDrj",
        "outputId": "5e570271-750c-4d82-8b02-2361c5db66a2",
        "colab": {
          "base_uri": "https://localhost:8080/",
          "height": 206
        }
      },
      "execution_count": 69,
      "outputs": [
        {
          "output_type": "execute_result",
          "data": {
            "text/plain": [
              "          0         1         2          3         4         5          6   \\\n",
              "0   6.441265 -5.602183  0.065177  12.303257 -8.709270 -4.083623 -14.830733   \n",
              "1  -0.620327  5.851091  1.633195  -4.070491 -0.977251 -3.425575 -10.587955   \n",
              "2  13.851481 -4.759349 -1.704426 -16.550392 -0.189828 -3.741290 -15.544604   \n",
              "3  -3.446860 -2.002345  1.946810  -4.364957  1.493561  1.080279 -10.520819   \n",
              "4   9.676913 -0.111556 -0.094469  -7.826673 -9.171335  0.795162 -12.074318   \n",
              "\n",
              "         7          8         9         10         11         12         13  \n",
              "0 -6.384237 -14.841390 -6.451632  0.757958 -11.372272  -8.329838 -11.274966  \n",
              "1 -4.073300  -6.899523 -1.037052  2.259671 -14.864726 -12.852295 -15.725842  \n",
              "2 -5.036259  -1.814421 -4.222749  6.472857 -18.006388 -14.269607 -14.687235  \n",
              "3  2.472909  -5.150030 -1.184755  2.288925 -10.773693 -12.420458 -14.854528  \n",
              "4 -6.588287  -4.131993 -2.149181  3.080300 -19.147699 -10.381135 -13.985065  "
            ],
            "text/html": [
              "\n",
              "  <div id=\"df-56fe9dbd-3c77-4771-bf23-166d2db49315\">\n",
              "    <div class=\"colab-df-container\">\n",
              "      <div>\n",
              "<style scoped>\n",
              "    .dataframe tbody tr th:only-of-type {\n",
              "        vertical-align: middle;\n",
              "    }\n",
              "\n",
              "    .dataframe tbody tr th {\n",
              "        vertical-align: top;\n",
              "    }\n",
              "\n",
              "    .dataframe thead th {\n",
              "        text-align: right;\n",
              "    }\n",
              "</style>\n",
              "<table border=\"1\" class=\"dataframe\">\n",
              "  <thead>\n",
              "    <tr style=\"text-align: right;\">\n",
              "      <th></th>\n",
              "      <th>0</th>\n",
              "      <th>1</th>\n",
              "      <th>2</th>\n",
              "      <th>3</th>\n",
              "      <th>4</th>\n",
              "      <th>5</th>\n",
              "      <th>6</th>\n",
              "      <th>7</th>\n",
              "      <th>8</th>\n",
              "      <th>9</th>\n",
              "      <th>10</th>\n",
              "      <th>11</th>\n",
              "      <th>12</th>\n",
              "      <th>13</th>\n",
              "    </tr>\n",
              "  </thead>\n",
              "  <tbody>\n",
              "    <tr>\n",
              "      <th>0</th>\n",
              "      <td>6.441265</td>\n",
              "      <td>-5.602183</td>\n",
              "      <td>0.065177</td>\n",
              "      <td>12.303257</td>\n",
              "      <td>-8.709270</td>\n",
              "      <td>-4.083623</td>\n",
              "      <td>-14.830733</td>\n",
              "      <td>-6.384237</td>\n",
              "      <td>-14.841390</td>\n",
              "      <td>-6.451632</td>\n",
              "      <td>0.757958</td>\n",
              "      <td>-11.372272</td>\n",
              "      <td>-8.329838</td>\n",
              "      <td>-11.274966</td>\n",
              "    </tr>\n",
              "    <tr>\n",
              "      <th>1</th>\n",
              "      <td>-0.620327</td>\n",
              "      <td>5.851091</td>\n",
              "      <td>1.633195</td>\n",
              "      <td>-4.070491</td>\n",
              "      <td>-0.977251</td>\n",
              "      <td>-3.425575</td>\n",
              "      <td>-10.587955</td>\n",
              "      <td>-4.073300</td>\n",
              "      <td>-6.899523</td>\n",
              "      <td>-1.037052</td>\n",
              "      <td>2.259671</td>\n",
              "      <td>-14.864726</td>\n",
              "      <td>-12.852295</td>\n",
              "      <td>-15.725842</td>\n",
              "    </tr>\n",
              "    <tr>\n",
              "      <th>2</th>\n",
              "      <td>13.851481</td>\n",
              "      <td>-4.759349</td>\n",
              "      <td>-1.704426</td>\n",
              "      <td>-16.550392</td>\n",
              "      <td>-0.189828</td>\n",
              "      <td>-3.741290</td>\n",
              "      <td>-15.544604</td>\n",
              "      <td>-5.036259</td>\n",
              "      <td>-1.814421</td>\n",
              "      <td>-4.222749</td>\n",
              "      <td>6.472857</td>\n",
              "      <td>-18.006388</td>\n",
              "      <td>-14.269607</td>\n",
              "      <td>-14.687235</td>\n",
              "    </tr>\n",
              "    <tr>\n",
              "      <th>3</th>\n",
              "      <td>-3.446860</td>\n",
              "      <td>-2.002345</td>\n",
              "      <td>1.946810</td>\n",
              "      <td>-4.364957</td>\n",
              "      <td>1.493561</td>\n",
              "      <td>1.080279</td>\n",
              "      <td>-10.520819</td>\n",
              "      <td>2.472909</td>\n",
              "      <td>-5.150030</td>\n",
              "      <td>-1.184755</td>\n",
              "      <td>2.288925</td>\n",
              "      <td>-10.773693</td>\n",
              "      <td>-12.420458</td>\n",
              "      <td>-14.854528</td>\n",
              "    </tr>\n",
              "    <tr>\n",
              "      <th>4</th>\n",
              "      <td>9.676913</td>\n",
              "      <td>-0.111556</td>\n",
              "      <td>-0.094469</td>\n",
              "      <td>-7.826673</td>\n",
              "      <td>-9.171335</td>\n",
              "      <td>0.795162</td>\n",
              "      <td>-12.074318</td>\n",
              "      <td>-6.588287</td>\n",
              "      <td>-4.131993</td>\n",
              "      <td>-2.149181</td>\n",
              "      <td>3.080300</td>\n",
              "      <td>-19.147699</td>\n",
              "      <td>-10.381135</td>\n",
              "      <td>-13.985065</td>\n",
              "    </tr>\n",
              "  </tbody>\n",
              "</table>\n",
              "</div>\n",
              "      <button class=\"colab-df-convert\" onclick=\"convertToInteractive('df-56fe9dbd-3c77-4771-bf23-166d2db49315')\"\n",
              "              title=\"Convert this dataframe to an interactive table.\"\n",
              "              style=\"display:none;\">\n",
              "        \n",
              "  <svg xmlns=\"http://www.w3.org/2000/svg\" height=\"24px\"viewBox=\"0 0 24 24\"\n",
              "       width=\"24px\">\n",
              "    <path d=\"M0 0h24v24H0V0z\" fill=\"none\"/>\n",
              "    <path d=\"M18.56 5.44l.94 2.06.94-2.06 2.06-.94-2.06-.94-.94-2.06-.94 2.06-2.06.94zm-11 1L8.5 8.5l.94-2.06 2.06-.94-2.06-.94L8.5 2.5l-.94 2.06-2.06.94zm10 10l.94 2.06.94-2.06 2.06-.94-2.06-.94-.94-2.06-.94 2.06-2.06.94z\"/><path d=\"M17.41 7.96l-1.37-1.37c-.4-.4-.92-.59-1.43-.59-.52 0-1.04.2-1.43.59L10.3 9.45l-7.72 7.72c-.78.78-.78 2.05 0 2.83L4 21.41c.39.39.9.59 1.41.59.51 0 1.02-.2 1.41-.59l7.78-7.78 2.81-2.81c.8-.78.8-2.07 0-2.86zM5.41 20L4 18.59l7.72-7.72 1.47 1.35L5.41 20z\"/>\n",
              "  </svg>\n",
              "      </button>\n",
              "      \n",
              "  <style>\n",
              "    .colab-df-container {\n",
              "      display:flex;\n",
              "      flex-wrap:wrap;\n",
              "      gap: 12px;\n",
              "    }\n",
              "\n",
              "    .colab-df-convert {\n",
              "      background-color: #E8F0FE;\n",
              "      border: none;\n",
              "      border-radius: 50%;\n",
              "      cursor: pointer;\n",
              "      display: none;\n",
              "      fill: #1967D2;\n",
              "      height: 32px;\n",
              "      padding: 0 0 0 0;\n",
              "      width: 32px;\n",
              "    }\n",
              "\n",
              "    .colab-df-convert:hover {\n",
              "      background-color: #E2EBFA;\n",
              "      box-shadow: 0px 1px 2px rgba(60, 64, 67, 0.3), 0px 1px 3px 1px rgba(60, 64, 67, 0.15);\n",
              "      fill: #174EA6;\n",
              "    }\n",
              "\n",
              "    [theme=dark] .colab-df-convert {\n",
              "      background-color: #3B4455;\n",
              "      fill: #D2E3FC;\n",
              "    }\n",
              "\n",
              "    [theme=dark] .colab-df-convert:hover {\n",
              "      background-color: #434B5C;\n",
              "      box-shadow: 0px 1px 3px 1px rgba(0, 0, 0, 0.15);\n",
              "      filter: drop-shadow(0px 1px 2px rgba(0, 0, 0, 0.3));\n",
              "      fill: #FFFFFF;\n",
              "    }\n",
              "  </style>\n",
              "\n",
              "      <script>\n",
              "        const buttonEl =\n",
              "          document.querySelector('#df-56fe9dbd-3c77-4771-bf23-166d2db49315 button.colab-df-convert');\n",
              "        buttonEl.style.display =\n",
              "          google.colab.kernel.accessAllowed ? 'block' : 'none';\n",
              "\n",
              "        async function convertToInteractive(key) {\n",
              "          const element = document.querySelector('#df-56fe9dbd-3c77-4771-bf23-166d2db49315');\n",
              "          const dataTable =\n",
              "            await google.colab.kernel.invokeFunction('convertToInteractive',\n",
              "                                                     [key], {});\n",
              "          if (!dataTable) return;\n",
              "\n",
              "          const docLinkHtml = 'Like what you see? Visit the ' +\n",
              "            '<a target=\"_blank\" href=https://colab.research.google.com/notebooks/data_table.ipynb>data table notebook</a>'\n",
              "            + ' to learn more about interactive tables.';\n",
              "          element.innerHTML = '';\n",
              "          dataTable['output_type'] = 'display_data';\n",
              "          await google.colab.output.renderOutput(dataTable, element);\n",
              "          const docLink = document.createElement('div');\n",
              "          docLink.innerHTML = docLinkHtml;\n",
              "          element.appendChild(docLink);\n",
              "        }\n",
              "      </script>\n",
              "    </div>\n",
              "  </div>\n",
              "  "
            ]
          },
          "metadata": {},
          "execution_count": 69
        }
      ]
    },
    {
      "cell_type": "code",
      "source": [
        "fit = umap.UMAP()\n",
        "reduced_embedding = fit.fit_transform(df_embedding)"
      ],
      "metadata": {
        "id": "HdH6B0wOLDyF"
      },
      "execution_count": 70,
      "outputs": []
    },
    {
      "cell_type": "code",
      "source": [
        "reduced_embedding = pd.DataFrame(reduced_embedding, columns=['dim1', 'dim2'])\n",
        "reduced_embedding[\"label\"] = np.array(label_value)\n",
        "sns.relplot(data=reduced_embedding, x=\"dim1\", y='dim2',\n",
        "                hue='label', hue_order=label_code_1.keys(), aspect=1.61, alpha = 0.1)\n",
        "plt.show()"
      ],
      "metadata": {
        "id": "fdzQokpq_XCw",
        "outputId": "b222d7ce-9a5c-42c7-c263-4fb591b9126d",
        "colab": {
          "base_uri": "https://localhost:8080/",
          "height": 365
        }
      },
      "execution_count": 71,
      "outputs": [
        {
          "output_type": "display_data",
          "data": {
            "text/plain": [
              "<Figure size 713.7x360 with 1 Axes>"
            ],
            "image/png": "[encoded data removed]"
          },
          "metadata": {}
        }
      ]
    },
    {
      "cell_type": "code",
      "source": [
        "model_cut = torch.nn.Sequential(*(list(model.children())[:-1]), model.dense2[:-2])\n",
        "model_cut"
      ],
      "metadata": {
        "id": "1ZMZocet_XFU",
        "outputId": "1dd335b9-84f9-4e3f-ac46-0d94a9e0a769",
        "colab": {
          "base_uri": "https://localhost:8080/"
        }
      },
      "execution_count": 72,
      "outputs": [
        {
          "output_type": "execute_result",
          "data": {
            "text/plain": [
              "Sequential(\n",
              "  (0): Embedding(5, 56)\n",
              "  (1): Conv1d(56, 64, kernel_size=(3,), stride=(1,), padding=same)\n",
              "  (2): MaxPool1d(kernel_size=5, stride=5, padding=0, dilation=1, ceil_mode=False)\n",
              "  (3): Conv1d(64, 64, kernel_size=(3,), stride=(1,), padding=same)\n",
              "  (4): MaxPool1d(kernel_size=5, stride=5, padding=0, dilation=1, ceil_mode=False)\n",
              "  (5): Conv1d(64, 64, kernel_size=(3,), stride=(1,), padding=same)\n",
              "  (6): MaxPool1d(kernel_size=5, stride=5, padding=0, dilation=1, ceil_mode=False)\n",
              "  (7): Sequential(\n",
              "    (0): Linear(in_features=1024, out_features=256, bias=True)\n",
              "    (1): ReLU()\n",
              "    (2): Linear(in_features=256, out_features=64, bias=True)\n",
              "    (3): ReLU()\n",
              "    (4): Linear(in_features=64, out_features=14, bias=True)\n",
              "  )\n",
              "  (8): Sequential(\n",
              "    (0): Linear(in_features=1024, out_features=256, bias=True)\n",
              "    (1): ReLU()\n",
              "    (2): Linear(in_features=256, out_features=64, bias=True)\n",
              "  )\n",
              ")"
            ]
          },
          "metadata": {},
          "execution_count": 72
        }
      ]
    },
    {
      "cell_type": "code",
      "source": [
        "# model_cut = nn.Sequential(*[model.children for i in range(1)])\n",
        "# model_cut\n",
        "embedding_list = []\n",
        "label_list = []\n",
        "model_cut.eval() # Set model to evaluation mode \n",
        "with torch.no_grad():    \n",
        "    for batch in train_dataloader:\n",
        "        seq, label = batch\n",
        "        seq = seq.to(device)\n",
        "        label = label.to(device)\n",
        "        seq = model_cut[0](seq)\n",
        "\n",
        "        # print(x.shape)\n",
        "        # Apply pooling\n",
        "        seq = model_cut[1](seq.permute(0, 2, 1))\n",
        "        seq = model_cut[2:7](seq)\n",
        "        seq = torch.flatten(seq, 1)\n",
        "        y_pred = model_cut[7](seq)\n",
        "        label_list.extend(list(label.squeeze().detach().cpu().numpy()))\n",
        "        embedding_list.extend(list(y_pred.detach().cpu().numpy()))\n",
        "        \n",
        "            # validate your model on each batch here"
      ],
      "metadata": {
        "id": "d5pQDvGwLznQ"
      },
      "execution_count": 73,
      "outputs": []
    },
    {
      "cell_type": "code",
      "source": [
        "embedding_list = np.array(embedding_list)\n",
        "label_list = np.array(label_list)\n",
        "embedding_list.shape, label_list.shape"
      ],
      "metadata": {
        "id": "VQXZ6LQ5Lzp9",
        "outputId": "531d97ab-0997-49a4-fc41-c66513a5a96c",
        "colab": {
          "base_uri": "https://localhost:8080/"
        }
      },
      "execution_count": 74,
      "outputs": [
        {
          "output_type": "execute_result",
          "data": {
            "text/plain": [
              "((5066, 14), (5066, 2))"
            ]
          },
          "metadata": {},
          "execution_count": 74
        }
      ]
    },
    {
      "cell_type": "code",
      "source": [
        "label_value1 = [list(label_code_1.keys())[list(label_code_1.values()).index(p[0])] for p in label_list]\n",
        "label_value2 = [list(label_code_2.keys())[list(label_code_2.values()).index(p[1])] for p in label_list]"
      ],
      "metadata": {
        "id": "Uo0qDahjLzsw"
      },
      "execution_count": 86,
      "outputs": []
    },
    {
      "cell_type": "code",
      "source": [
        "df_embedding = pd.DataFrame(data = (embedding_list))\n",
        "df_embedding.head()"
      ],
      "metadata": {
        "id": "Ko2Rj-dKLzuz",
        "outputId": "a946805e-75f2-487e-bf0e-dcfaad017191",
        "colab": {
          "base_uri": "https://localhost:8080/",
          "height": 206
        }
      },
      "execution_count": 87,
      "outputs": [
        {
          "output_type": "execute_result",
          "data": {
            "text/plain": [
              "          0         1         2          3         4         5          6   \\\n",
              "0  18.188080 -3.085083 -2.828564 -17.279167 -8.715981 -6.907744 -24.984104   \n",
              "1  20.916681 -3.073245 -4.726564 -15.441816 -8.616161 -7.403107 -22.669571   \n",
              "2  15.297036 -1.564206 -3.260756 -12.379507 -5.785124 -5.539174 -16.126034   \n",
              "3  -0.136050  3.374479 -0.286539 -11.772344  0.033794  4.946784  -8.758506   \n",
              "4  12.443785 -2.399482 -1.802982 -16.930210 -3.952559 -5.193727 -18.235401   \n",
              "\n",
              "         7          8         9         10         11         12         13  \n",
              "0 -6.397376 -10.770088 -1.735684  7.756109 -30.625252 -20.116386 -22.577370  \n",
              "1 -7.028917  -9.443855 -4.394026  7.184781 -26.950121 -17.257484 -20.513916  \n",
              "2 -5.539158  -3.949404 -4.770827  5.712156 -19.419094 -13.269413 -12.922839  \n",
              "3 -3.213155   3.714409 -0.480174  3.307365 -14.516476 -12.076260 -13.173118  \n",
              "4 -6.952277  -1.321212 -2.738615  5.339142 -19.117523 -17.359884 -14.588781  "
            ],
            "text/html": [
              "\n",
              "  <div id=\"df-977b5d25-b6e8-4ce8-a899-e402f09741d1\">\n",
              "    <div class=\"colab-df-container\">\n",
              "      <div>\n",
              "<style scoped>\n",
              "    .dataframe tbody tr th:only-of-type {\n",
              "        vertical-align: middle;\n",
              "    }\n",
              "\n",
              "    .dataframe tbody tr th {\n",
              "        vertical-align: top;\n",
              "    }\n",
              "\n",
              "    .dataframe thead th {\n",
              "        text-align: right;\n",
              "    }\n",
              "</style>\n",
              "<table border=\"1\" class=\"dataframe\">\n",
              "  <thead>\n",
              "    <tr style=\"text-align: right;\">\n",
              "      <th></th>\n",
              "      <th>0</th>\n",
              "      <th>1</th>\n",
              "      <th>2</th>\n",
              "      <th>3</th>\n",
              "      <th>4</th>\n",
              "      <th>5</th>\n",
              "      <th>6</th>\n",
              "      <th>7</th>\n",
              "      <th>8</th>\n",
              "      <th>9</th>\n",
              "      <th>10</th>\n",
              "      <th>11</th>\n",
              "      <th>12</th>\n",
              "      <th>13</th>\n",
              "    </tr>\n",
              "  </thead>\n",
              "  <tbody>\n",
              "    <tr>\n",
              "      <th>0</th>\n",
              "      <td>18.188080</td>\n",
              "      <td>-3.085083</td>\n",
              "      <td>-2.828564</td>\n",
              "      <td>-17.279167</td>\n",
              "      <td>-8.715981</td>\n",
              "      <td>-6.907744</td>\n",
              "      <td>-24.984104</td>\n",
              "      <td>-6.397376</td>\n",
              "      <td>-10.770088</td>\n",
              "      <td>-1.735684</td>\n",
              "      <td>7.756109</td>\n",
              "      <td>-30.625252</td>\n",
              "      <td>-20.116386</td>\n",
              "      <td>-22.577370</td>\n",
              "    </tr>\n",
              "    <tr>\n",
              "      <th>1</th>\n",
              "      <td>20.916681</td>\n",
              "      <td>-3.073245</td>\n",
              "      <td>-4.726564</td>\n",
              "      <td>-15.441816</td>\n",
              "      <td>-8.616161</td>\n",
              "      <td>-7.403107</td>\n",
              "      <td>-22.669571</td>\n",
              "      <td>-7.028917</td>\n",
              "      <td>-9.443855</td>\n",
              "      <td>-4.394026</td>\n",
              "      <td>7.184781</td>\n",
              "      <td>-26.950121</td>\n",
              "      <td>-17.257484</td>\n",
              "      <td>-20.513916</td>\n",
              "    </tr>\n",
              "    <tr>\n",
              "      <th>2</th>\n",
              "      <td>15.297036</td>\n",
              "      <td>-1.564206</td>\n",
              "      <td>-3.260756</td>\n",
              "      <td>-12.379507</td>\n",
              "      <td>-5.785124</td>\n",
              "      <td>-5.539174</td>\n",
              "      <td>-16.126034</td>\n",
              "      <td>-5.539158</td>\n",
              "      <td>-3.949404</td>\n",
              "      <td>-4.770827</td>\n",
              "      <td>5.712156</td>\n",
              "      <td>-19.419094</td>\n",
              "      <td>-13.269413</td>\n",
              "      <td>-12.922839</td>\n",
              "    </tr>\n",
              "    <tr>\n",
              "      <th>3</th>\n",
              "      <td>-0.136050</td>\n",
              "      <td>3.374479</td>\n",
              "      <td>-0.286539</td>\n",
              "      <td>-11.772344</td>\n",
              "      <td>0.033794</td>\n",
              "      <td>4.946784</td>\n",
              "      <td>-8.758506</td>\n",
              "      <td>-3.213155</td>\n",
              "      <td>3.714409</td>\n",
              "      <td>-0.480174</td>\n",
              "      <td>3.307365</td>\n",
              "      <td>-14.516476</td>\n",
              "      <td>-12.076260</td>\n",
              "      <td>-13.173118</td>\n",
              "    </tr>\n",
              "    <tr>\n",
              "      <th>4</th>\n",
              "      <td>12.443785</td>\n",
              "      <td>-2.399482</td>\n",
              "      <td>-1.802982</td>\n",
              "      <td>-16.930210</td>\n",
              "      <td>-3.952559</td>\n",
              "      <td>-5.193727</td>\n",
              "      <td>-18.235401</td>\n",
              "      <td>-6.952277</td>\n",
              "      <td>-1.321212</td>\n",
              "      <td>-2.738615</td>\n",
              "      <td>5.339142</td>\n",
              "      <td>-19.117523</td>\n",
              "      <td>-17.359884</td>\n",
              "      <td>-14.588781</td>\n",
              "    </tr>\n",
              "  </tbody>\n",
              "</table>\n",
              "</div>\n",
              "      <button class=\"colab-df-convert\" onclick=\"convertToInteractive('df-977b5d25-b6e8-4ce8-a899-e402f09741d1')\"\n",
              "              title=\"Convert this dataframe to an interactive table.\"\n",
              "              style=\"display:none;\">\n",
              "        \n",
              "  <svg xmlns=\"http://www.w3.org/2000/svg\" height=\"24px\"viewBox=\"0 0 24 24\"\n",
              "       width=\"24px\">\n",
              "    <path d=\"M0 0h24v24H0V0z\" fill=\"none\"/>\n",
              "    <path d=\"M18.56 5.44l.94 2.06.94-2.06 2.06-.94-2.06-.94-.94-2.06-.94 2.06-2.06.94zm-11 1L8.5 8.5l.94-2.06 2.06-.94-2.06-.94L8.5 2.5l-.94 2.06-2.06.94zm10 10l.94 2.06.94-2.06 2.06-.94-2.06-.94-.94-2.06-.94 2.06-2.06.94z\"/><path d=\"M17.41 7.96l-1.37-1.37c-.4-.4-.92-.59-1.43-.59-.52 0-1.04.2-1.43.59L10.3 9.45l-7.72 7.72c-.78.78-.78 2.05 0 2.83L4 21.41c.39.39.9.59 1.41.59.51 0 1.02-.2 1.41-.59l7.78-7.78 2.81-2.81c.8-.78.8-2.07 0-2.86zM5.41 20L4 18.59l7.72-7.72 1.47 1.35L5.41 20z\"/>\n",
              "  </svg>\n",
              "      </button>\n",
              "      \n",
              "  <style>\n",
              "    .colab-df-container {\n",
              "      display:flex;\n",
              "      flex-wrap:wrap;\n",
              "      gap: 12px;\n",
              "    }\n",
              "\n",
              "    .colab-df-convert {\n",
              "      background-color: #E8F0FE;\n",
              "      border: none;\n",
              "      border-radius: 50%;\n",
              "      cursor: pointer;\n",
              "      display: none;\n",
              "      fill: #1967D2;\n",
              "      height: 32px;\n",
              "      padding: 0 0 0 0;\n",
              "      width: 32px;\n",
              "    }\n",
              "\n",
              "    .colab-df-convert:hover {\n",
              "      background-color: #E2EBFA;\n",
              "      box-shadow: 0px 1px 2px rgba(60, 64, 67, 0.3), 0px 1px 3px 1px rgba(60, 64, 67, 0.15);\n",
              "      fill: #174EA6;\n",
              "    }\n",
              "\n",
              "    [theme=dark] .colab-df-convert {\n",
              "      background-color: #3B4455;\n",
              "      fill: #D2E3FC;\n",
              "    }\n",
              "\n",
              "    [theme=dark] .colab-df-convert:hover {\n",
              "      background-color: #434B5C;\n",
              "      box-shadow: 0px 1px 3px 1px rgba(0, 0, 0, 0.15);\n",
              "      filter: drop-shadow(0px 1px 2px rgba(0, 0, 0, 0.3));\n",
              "      fill: #FFFFFF;\n",
              "    }\n",
              "  </style>\n",
              "\n",
              "      <script>\n",
              "        const buttonEl =\n",
              "          document.querySelector('#df-977b5d25-b6e8-4ce8-a899-e402f09741d1 button.colab-df-convert');\n",
              "        buttonEl.style.display =\n",
              "          google.colab.kernel.accessAllowed ? 'block' : 'none';\n",
              "\n",
              "        async function convertToInteractive(key) {\n",
              "          const element = document.querySelector('#df-977b5d25-b6e8-4ce8-a899-e402f09741d1');\n",
              "          const dataTable =\n",
              "            await google.colab.kernel.invokeFunction('convertToInteractive',\n",
              "                                                     [key], {});\n",
              "          if (!dataTable) return;\n",
              "\n",
              "          const docLinkHtml = 'Like what you see? Visit the ' +\n",
              "            '<a target=\"_blank\" href=https://colab.research.google.com/notebooks/data_table.ipynb>data table notebook</a>'\n",
              "            + ' to learn more about interactive tables.';\n",
              "          element.innerHTML = '';\n",
              "          dataTable['output_type'] = 'display_data';\n",
              "          await google.colab.output.renderOutput(dataTable, element);\n",
              "          const docLink = document.createElement('div');\n",
              "          docLink.innerHTML = docLinkHtml;\n",
              "          element.appendChild(docLink);\n",
              "        }\n",
              "      </script>\n",
              "    </div>\n",
              "  </div>\n",
              "  "
            ]
          },
          "metadata": {},
          "execution_count": 87
        }
      ]
    },
    {
      "cell_type": "code",
      "source": [
        "fit = umap.UMAP()\n",
        "reduced_embedding = fit.fit_transform(df_embedding)"
      ],
      "metadata": {
        "id": "tdi7EOf3I5eJ"
      },
      "execution_count": 88,
      "outputs": []
    },
    {
      "cell_type": "code",
      "source": [
        "reduced_embedding = pd.DataFrame(reduced_embedding, columns=['dim1', 'dim2'])\n",
        "reduced_embedding[\"drug class\"] = np.array(label_value1)\n",
        "reduced_embedding[\"drug mechanism\"] = np.array(label_value2)\n",
        "\n",
        "sns.relplot(data=reduced_embedding, x=\"dim1\", y='dim2',\n",
        "                hue='drug class', hue_order=label_code_1.keys(), aspect=1.61, alpha = 0.1)\n",
        "plt.show()"
      ],
      "metadata": {
        "id": "3Ul60frjMS5b",
        "outputId": "4db2bc64-c814-44a3-c4dc-c26b53c08466",
        "colab": {
          "base_uri": "https://localhost:8080/",
          "height": 365
        }
      },
      "execution_count": 92,
      "outputs": [
        {
          "output_type": "display_data",
          "data": {
            "text/plain": [
              "<Figure size 713.7x360 with 1 Axes>"
            ],
            "image/png": "[encoded data removed]"
          },
          "metadata": {}
        }
      ]
    },
    {
      "cell_type": "code",
      "source": [
        "sns.relplot(data=reduced_embedding, x=\"dim1\", y='dim2',\n",
        "                hue='drug mechanism', hue_order=label_code_2.keys(), aspect=1.61, alpha = 0.1)\n",
        "plt.show()"
      ],
      "metadata": {
        "id": "O6mrT4GQI5hC",
        "outputId": "0f787d33-8a1b-4fc8-d351-8a17da169819",
        "colab": {
          "base_uri": "https://localhost:8080/",
          "height": 365
        }
      },
      "execution_count": 93,
      "outputs": [
        {
          "output_type": "display_data",
          "data": {
            "text/plain": [
              "<Figure size 921.2x360 with 1 Axes>"
            ],
            "image/png": "[encoded data removed]"
          },
          "metadata": {}
        }
      ]
    },
    {
      "cell_type": "code",
      "source": [
        ""
      ],
      "metadata": {
        "id": "3p-5qElOI5jt"
      },
      "execution_count": null,
      "outputs": []
    },
    {
      "cell_type": "code",
      "source": [
        ""
      ],
      "metadata": {
        "id": "ukMSkSkiI5mY"
      },
      "execution_count": null,
      "outputs": []
    },
    {
      "cell_type": "code",
      "source": [
        ""
      ],
      "metadata": {
        "id": "aHEh7SD4I5os"
      },
      "execution_count": null,
      "outputs": []
    },
    {
      "cell_type": "code",
      "source": [
        ""
      ],
      "metadata": {
        "id": "HqSnEbJ3_XHt"
      },
      "execution_count": null,
      "outputs": []
    },
    {
      "cell_type": "code",
      "source": [
        ""
      ],
      "metadata": {
        "id": "kI5003Rq_XKD"
      },
      "execution_count": null,
      "outputs": []
    },
    {
      "cell_type": "code",
      "source": [
        "seq_len = np.array([len(m) for m in df.Sequence.values])\n",
        "print((seq_len>1000).mean())\n",
        "plt.hist(seq_len, bins = 20)"
      ],
      "metadata": {
        "id": "-vucFyq2YNNG",
        "outputId": "0b537d4b-21c3-4c25-d6f2-d53276345b03",
        "colab": {
          "base_uri": "https://localhost:8080/",
          "height": 641
        }
      },
      "execution_count": null,
      "outputs": [
        {
          "output_type": "stream",
          "name": "stdout",
          "text": [
            "0.3516776817488561\n"
          ]
        },
        {
          "output_type": "execute_result",
          "data": {
            "text/plain": [
              "(array([2.070e+02, 9.060e+02, 3.597e+03, 1.261e+03, 8.920e+02, 2.910e+02,\n",
              "        2.010e+02, 1.240e+02, 6.600e+01, 9.300e+01, 3.200e+01, 1.270e+02,\n",
              "        1.100e+01, 3.100e+01, 1.000e+00, 2.300e+01, 1.000e+00, 2.000e+00,\n",
              "        0.000e+00, 2.000e+00]),\n",
              " array([ 121. ,  379.8,  638.6,  897.4, 1156.2, 1415. , 1673.8, 1932.6,\n",
              "        2191.4, 2450.2, 2709. , 2967.8, 3226.6, 3485.4, 3744.2, 4003. ,\n",
              "        4261.8, 4520.6, 4779.4, 5038.2, 5297. ]),\n",
              " <a list of 20 Patch objects>)"
            ]
          },
          "metadata": {},
          "execution_count": 61
        },
        {
          "output_type": "display_data",
          "data": {
            "text/plain": [
              "<Figure size 864x576 with 1 Axes>"
            ],
            "image/png": "[encoded data removed]"
          },
          "metadata": {}
        }
      ]
    },
    {
      "cell_type": "code",
      "source": [
        "\n",
        "# Create dataloaders"
      ],
      "metadata": {
        "id": "Q054V7yjHyTu"
      },
      "execution_count": null,
      "outputs": []
    },
    {
      "cell_type": "code",
      "source": [
        ""
      ],
      "metadata": {
        "id": "crbZQocEsj66"
      },
      "execution_count": null,
      "outputs": []
    },
    {
      "cell_type": "code",
      "source": [
        "# Create model"
      ],
      "metadata": {
        "id": "-wusVD4NH3n2"
      },
      "execution_count": null,
      "outputs": []
    },
    {
      "cell_type": "code",
      "source": [
        "# Train model"
      ],
      "metadata": {
        "id": "mSt5nJ-FH5Bp"
      },
      "execution_count": null,
      "outputs": []
    },
    {
      "cell_type": "code",
      "source": [
        "# Test model"
      ],
      "metadata": {
        "id": "Q2QYo93RH6qy"
      },
      "execution_count": null,
      "outputs": []
    }
  ]
}