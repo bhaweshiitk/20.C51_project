{
  "nbformat": 4,
  "nbformat_minor": 0,
  "metadata": {
    "colab": {
      "name": "20.C51 - Graduate Project.ipynb",
      "provenance": [],
      "collapsed_sections": [],
      "include_colab_link": true
    },
    "kernelspec": {
      "name": "python3",
      "display_name": "Python 3"
    },
    "language_info": {
      "name": "python"
    }
  },
  "cells": [
    {
      "cell_type": "markdown",
      "metadata": {
        "id": "view-in-github",
        "colab_type": "text"
      },
      "source": [
        "<a href=\"https://colab.research.google.com/github/bhaweshiitk/3.C51_project/blob/main/20_C51_Graduate_Project.ipynb\" target=\"_parent\"><img src=\"https://colab.research.google.com/assets/colab-badge.svg\" alt=\"Open In Colab\"/></a>"
      ]
    },
    {
      "cell_type": "code",
      "source": [
        "import matplotlib.pyplot as plt\n",
        "from torch.utils.data import Dataset, DataLoader\n",
        "import pandas as pd\n",
        "import numpy as np\n",
        "import matplotlib\n",
        "import torch\n",
        "from torch import nn\n",
        "from torch.nn import functional as F\n",
        "from sklearn.model_selection import train_test_split\n",
        "! pip install Bio\n",
        "from Bio import SeqIO"
      ],
      "metadata": {
        "id": "JRZq9zAWfzW3"
      },
      "execution_count": 1,
      "outputs": []
    },
    {
      "cell_type": "code",
      "execution_count": 3,
      "metadata": {
        "id": "OxCVvG5wHokf",
        "colab": {
          "base_uri": "https://localhost:8080/"
        },
        "outputId": "fcfa4d10-caf9-4344-a535-04d9f2d49395"
      },
      "outputs": [
        {
          "output_type": "stream",
          "name": "stdout",
          "text": [
            "--2022-04-26 20:13:06--  https://raw.githubusercontent.com/bhaweshiitk/3.C51_project/main/megares_modified_annotations_v2.00.csv\n",
            "Resolving raw.githubusercontent.com (raw.githubusercontent.com)... 185.199.110.133, 185.199.108.133, 185.199.109.133, ...\n",
            "Connecting to raw.githubusercontent.com (raw.githubusercontent.com)|185.199.110.133|:443... connected.\n",
            "HTTP request sent, awaiting response... 200 OK\n",
            "Length: 948917 (927K) [text/plain]\n",
            "Saving to: ‘megares_modified_annotations_v2.00.csv’\n",
            "\n",
            "\r          megares_m   0%[                    ]       0  --.-KB/s               \rmegares_modified_an 100%[===================>] 926.68K  --.-KB/s    in 0.006s  \n",
            "\n",
            "2022-04-26 20:13:06 (151 MB/s) - ‘megares_modified_annotations_v2.00.csv’ saved [948917/948917]\n",
            "\n",
            "--2022-04-26 20:13:06--  https://raw.githubusercontent.com/bhaweshiitk/3.C51_project/main/megares_modified_database_v2.00.fasta\n",
            "Resolving raw.githubusercontent.com (raw.githubusercontent.com)... 185.199.108.133, 185.199.109.133, 185.199.110.133, ...\n",
            "Connecting to raw.githubusercontent.com (raw.githubusercontent.com)|185.199.108.133|:443... connected.\n",
            "HTTP request sent, awaiting response... 200 OK\n",
            "Length: 8637235 (8.2M) [text/plain]\n",
            "Saving to: ‘megares_modified_database_v2.00.fasta’\n",
            "\n",
            "megares_modified_da 100%[===================>]   8.24M  --.-KB/s    in 0.09s   \n",
            "\n",
            "2022-04-26 20:13:06 (96.6 MB/s) - ‘megares_modified_database_v2.00.fasta’ saved [8637235/8637235]\n",
            "\n"
          ]
        }
      ],
      "source": [
        "# Import data\n",
        "! wget https://raw.githubusercontent.com/bhaweshiitk/3.C51_project/main/megares_modified_annotations_v2.00.csv\n",
        "! wget https://raw.githubusercontent.com/bhaweshiitk/3.C51_project/main/megares_modified_database_v2.00.fasta"
      ]
    },
    {
      "cell_type": "code",
      "source": [
        "# Process data\n",
        "train_annotations = pd.read_csv(\"./megares_modified_annotations_v2.00.csv\")\n",
        "train_annotations.shape"
      ],
      "metadata": {
        "id": "5V-TEbEjHwTL",
        "colab": {
          "base_uri": "https://localhost:8080/"
        },
        "outputId": "5882185f-7f94-4315-dbbe-709454a82e1d"
      },
      "execution_count": 6,
      "outputs": [
        {
          "output_type": "execute_result",
          "data": {
            "text/plain": [
              "(7868, 5)"
            ]
          },
          "metadata": {},
          "execution_count": 6
        }
      ]
    },
    {
      "cell_type": "code",
      "source": [
        "train_annotations.header[0]"
      ],
      "metadata": {
        "colab": {
          "base_uri": "https://localhost:8080/",
          "height": 35
        },
        "id": "PpwjXUxwju8D",
        "outputId": "87ccf169-613a-4d34-8172-ef0eac4efade"
      },
      "execution_count": 22,
      "outputs": [
        {
          "output_type": "execute_result",
          "data": {
            "text/plain": [
              "'MEG_1|Drugs|Aminoglycosides|Aminoglycoside-resistant_16S_ribosomal_subunit_protein|A16S|RequiresSNPConfirmation'"
            ],
            "application/vnd.google.colaboratory.intrinsic+json": {
              "type": "string"
            }
          },
          "metadata": {},
          "execution_count": 22
        }
      ]
    },
    {
      "cell_type": "code",
      "source": [
        "train_annotations.head()"
      ],
      "metadata": {
        "colab": {
          "base_uri": "https://localhost:8080/",
          "height": 206
        },
        "id": "GVd7nK-EgtTp",
        "outputId": "d4393c1c-663e-408d-cd51-d44a31f159d8"
      },
      "execution_count": 7,
      "outputs": [
        {
          "output_type": "execute_result",
          "data": {
            "text/plain": [
              "                                              header   type            class  \\\n",
              "0  MEG_1|Drugs|Aminoglycosides|Aminoglycoside-res...  Drugs  Aminoglycosides   \n",
              "1  MEG_2|Drugs|Aminoglycosides|Aminoglycoside-res...  Drugs  Aminoglycosides   \n",
              "2  MEG_3|Drugs|Aminoglycosides|Aminoglycoside-res...  Drugs  Aminoglycosides   \n",
              "3  MEG_4|Drugs|Aminoglycosides|Aminoglycoside-res...  Drugs  Aminoglycosides   \n",
              "4  MEG_5|Drugs|Aminoglycosides|Aminoglycoside-res...  Drugs  Aminoglycosides   \n",
              "\n",
              "                                           mechanism group  \n",
              "0  Aminoglycoside-resistant 16S ribosomal subunit...  A16S  \n",
              "1  Aminoglycoside-resistant 16S ribosomal subunit...  A16S  \n",
              "2  Aminoglycoside-resistant 16S ribosomal subunit...  A16S  \n",
              "3  Aminoglycoside-resistant 16S ribosomal subunit...  A16S  \n",
              "4  Aminoglycoside-resistant 16S ribosomal subunit...  A16S  "
            ],
            "text/html": [
              "\n",
              "  <div id=\"df-797f1b95-c15c-4b3d-a842-a8787d627fee\">\n",
              "    <div class=\"colab-df-container\">\n",
              "      <div>\n",
              "<style scoped>\n",
              "    .dataframe tbody tr th:only-of-type {\n",
              "        vertical-align: middle;\n",
              "    }\n",
              "\n",
              "    .dataframe tbody tr th {\n",
              "        vertical-align: top;\n",
              "    }\n",
              "\n",
              "    .dataframe thead th {\n",
              "        text-align: right;\n",
              "    }\n",
              "</style>\n",
              "<table border=\"1\" class=\"dataframe\">\n",
              "  <thead>\n",
              "    <tr style=\"text-align: right;\">\n",
              "      <th></th>\n",
              "      <th>header</th>\n",
              "      <th>type</th>\n",
              "      <th>class</th>\n",
              "      <th>mechanism</th>\n",
              "      <th>group</th>\n",
              "    </tr>\n",
              "  </thead>\n",
              "  <tbody>\n",
              "    <tr>\n",
              "      <th>0</th>\n",
              "      <td>MEG_1|Drugs|Aminoglycosides|Aminoglycoside-res...</td>\n",
              "      <td>Drugs</td>\n",
              "      <td>Aminoglycosides</td>\n",
              "      <td>Aminoglycoside-resistant 16S ribosomal subunit...</td>\n",
              "      <td>A16S</td>\n",
              "    </tr>\n",
              "    <tr>\n",
              "      <th>1</th>\n",
              "      <td>MEG_2|Drugs|Aminoglycosides|Aminoglycoside-res...</td>\n",
              "      <td>Drugs</td>\n",
              "      <td>Aminoglycosides</td>\n",
              "      <td>Aminoglycoside-resistant 16S ribosomal subunit...</td>\n",
              "      <td>A16S</td>\n",
              "    </tr>\n",
              "    <tr>\n",
              "      <th>2</th>\n",
              "      <td>MEG_3|Drugs|Aminoglycosides|Aminoglycoside-res...</td>\n",
              "      <td>Drugs</td>\n",
              "      <td>Aminoglycosides</td>\n",
              "      <td>Aminoglycoside-resistant 16S ribosomal subunit...</td>\n",
              "      <td>A16S</td>\n",
              "    </tr>\n",
              "    <tr>\n",
              "      <th>3</th>\n",
              "      <td>MEG_4|Drugs|Aminoglycosides|Aminoglycoside-res...</td>\n",
              "      <td>Drugs</td>\n",
              "      <td>Aminoglycosides</td>\n",
              "      <td>Aminoglycoside-resistant 16S ribosomal subunit...</td>\n",
              "      <td>A16S</td>\n",
              "    </tr>\n",
              "    <tr>\n",
              "      <th>4</th>\n",
              "      <td>MEG_5|Drugs|Aminoglycosides|Aminoglycoside-res...</td>\n",
              "      <td>Drugs</td>\n",
              "      <td>Aminoglycosides</td>\n",
              "      <td>Aminoglycoside-resistant 16S ribosomal subunit...</td>\n",
              "      <td>A16S</td>\n",
              "    </tr>\n",
              "  </tbody>\n",
              "</table>\n",
              "</div>\n",
              "      <button class=\"colab-df-convert\" onclick=\"convertToInteractive('df-797f1b95-c15c-4b3d-a842-a8787d627fee')\"\n",
              "              title=\"Convert this dataframe to an interactive table.\"\n",
              "              style=\"display:none;\">\n",
              "        \n",
              "  <svg xmlns=\"http://www.w3.org/2000/svg\" height=\"24px\"viewBox=\"0 0 24 24\"\n",
              "       width=\"24px\">\n",
              "    <path d=\"M0 0h24v24H0V0z\" fill=\"none\"/>\n",
              "    <path d=\"M18.56 5.44l.94 2.06.94-2.06 2.06-.94-2.06-.94-.94-2.06-.94 2.06-2.06.94zm-11 1L8.5 8.5l.94-2.06 2.06-.94-2.06-.94L8.5 2.5l-.94 2.06-2.06.94zm10 10l.94 2.06.94-2.06 2.06-.94-2.06-.94-.94-2.06-.94 2.06-2.06.94z\"/><path d=\"M17.41 7.96l-1.37-1.37c-.4-.4-.92-.59-1.43-.59-.52 0-1.04.2-1.43.59L10.3 9.45l-7.72 7.72c-.78.78-.78 2.05 0 2.83L4 21.41c.39.39.9.59 1.41.59.51 0 1.02-.2 1.41-.59l7.78-7.78 2.81-2.81c.8-.78.8-2.07 0-2.86zM5.41 20L4 18.59l7.72-7.72 1.47 1.35L5.41 20z\"/>\n",
              "  </svg>\n",
              "      </button>\n",
              "      \n",
              "  <style>\n",
              "    .colab-df-container {\n",
              "      display:flex;\n",
              "      flex-wrap:wrap;\n",
              "      gap: 12px;\n",
              "    }\n",
              "\n",
              "    .colab-df-convert {\n",
              "      background-color: #E8F0FE;\n",
              "      border: none;\n",
              "      border-radius: 50%;\n",
              "      cursor: pointer;\n",
              "      display: none;\n",
              "      fill: #1967D2;\n",
              "      height: 32px;\n",
              "      padding: 0 0 0 0;\n",
              "      width: 32px;\n",
              "    }\n",
              "\n",
              "    .colab-df-convert:hover {\n",
              "      background-color: #E2EBFA;\n",
              "      box-shadow: 0px 1px 2px rgba(60, 64, 67, 0.3), 0px 1px 3px 1px rgba(60, 64, 67, 0.15);\n",
              "      fill: #174EA6;\n",
              "    }\n",
              "\n",
              "    [theme=dark] .colab-df-convert {\n",
              "      background-color: #3B4455;\n",
              "      fill: #D2E3FC;\n",
              "    }\n",
              "\n",
              "    [theme=dark] .colab-df-convert:hover {\n",
              "      background-color: #434B5C;\n",
              "      box-shadow: 0px 1px 3px 1px rgba(0, 0, 0, 0.15);\n",
              "      filter: drop-shadow(0px 1px 2px rgba(0, 0, 0, 0.3));\n",
              "      fill: #FFFFFF;\n",
              "    }\n",
              "  </style>\n",
              "\n",
              "      <script>\n",
              "        const buttonEl =\n",
              "          document.querySelector('#df-797f1b95-c15c-4b3d-a842-a8787d627fee button.colab-df-convert');\n",
              "        buttonEl.style.display =\n",
              "          google.colab.kernel.accessAllowed ? 'block' : 'none';\n",
              "\n",
              "        async function convertToInteractive(key) {\n",
              "          const element = document.querySelector('#df-797f1b95-c15c-4b3d-a842-a8787d627fee');\n",
              "          const dataTable =\n",
              "            await google.colab.kernel.invokeFunction('convertToInteractive',\n",
              "                                                     [key], {});\n",
              "          if (!dataTable) return;\n",
              "\n",
              "          const docLinkHtml = 'Like what you see? Visit the ' +\n",
              "            '<a target=\"_blank\" href=https://colab.research.google.com/notebooks/data_table.ipynb>data table notebook</a>'\n",
              "            + ' to learn more about interactive tables.';\n",
              "          element.innerHTML = '';\n",
              "          dataTable['output_type'] = 'display_data';\n",
              "          await google.colab.output.renderOutput(dataTable, element);\n",
              "          const docLink = document.createElement('div');\n",
              "          docLink.innerHTML = docLinkHtml;\n",
              "          element.appendChild(docLink);\n",
              "        }\n",
              "      </script>\n",
              "    </div>\n",
              "  </div>\n",
              "  "
            ]
          },
          "metadata": {},
          "execution_count": 7
        }
      ]
    },
    {
      "cell_type": "code",
      "source": [
        "train_annotations['Seq_name'] = train_annotations['header'].str.split('|').str[0:2].apply('|'.join)"
      ],
      "metadata": {
        "id": "cpLUmYDlkeoy"
      },
      "execution_count": 28,
      "outputs": []
    },
    {
      "cell_type": "code",
      "source": [
        "fasta_sequences = SeqIO.parse(open(\"./megares_modified_database_v2.00.fasta\"),'fasta')\n",
        "sequence_dict = {}\n",
        "for fasta in fasta_sequences:\n",
        "    name, sequence = fasta.id, str(fasta.seq)\n",
        "    name = \"|\".join((name.split(\"|\", 2))[0:2])\n",
        "    sequence_dict[name] = sequence\n",
        "sequence_df = pd.DataFrame(sequence_dict.items(), columns=['Seq_name', 'Sequence'])\n",
        "sequence_df.shape"
      ],
      "metadata": {
        "colab": {
          "base_uri": "https://localhost:8080/"
        },
        "id": "Cke-vmzYg8J3",
        "outputId": "2b8862fc-212a-40ce-d16e-ef6070166f08"
      },
      "execution_count": 19,
      "outputs": [
        {
          "output_type": "execute_result",
          "data": {
            "text/plain": [
              "(7868, 2)"
            ]
          },
          "metadata": {},
          "execution_count": 19
        }
      ]
    },
    {
      "cell_type": "code",
      "source": [
        "sequence_df.head()"
      ],
      "metadata": {
        "colab": {
          "base_uri": "https://localhost:8080/",
          "height": 206
        },
        "id": "1flcUDs5jip4",
        "outputId": "8309f41f-9aba-4677-fb4e-b2c443b1e55f"
      },
      "execution_count": 20,
      "outputs": [
        {
          "output_type": "execute_result",
          "data": {
            "text/plain": [
              "      Seq_name                                           Sequence\n",
              "0  MEG_1|Drugs  AGAATTTGATCTTGGTTCAGATTGAACGCTGGCGGCGTGGATGAGG...\n",
              "1  MEG_2|Drugs  AGGTAAGGAGGTGATCCAACCGCAGGTTCCCCTACGGTTACCTTGT...\n",
              "2  MEG_3|Drugs  TTTTGTTTGGAGAGTTTGATCCTGGCTCAGGACGAACGCTGGCGGC...\n",
              "3  MEG_4|Drugs  AGAGATTGAACATAAGAGTTTGATCCTGGCTCAGATTGAACGCTGG...\n",
              "4  MEG_5|Drugs  AGAGTTTGATCCTGGCTCAGGACGAACGCTGGCGGCGTGCTTAACA..."
            ],
            "text/html": [
              "\n",
              "  <div id=\"df-a08eb98b-d08f-4ba4-b828-613af54ae8a0\">\n",
              "    <div class=\"colab-df-container\">\n",
              "      <div>\n",
              "<style scoped>\n",
              "    .dataframe tbody tr th:only-of-type {\n",
              "        vertical-align: middle;\n",
              "    }\n",
              "\n",
              "    .dataframe tbody tr th {\n",
              "        vertical-align: top;\n",
              "    }\n",
              "\n",
              "    .dataframe thead th {\n",
              "        text-align: right;\n",
              "    }\n",
              "</style>\n",
              "<table border=\"1\" class=\"dataframe\">\n",
              "  <thead>\n",
              "    <tr style=\"text-align: right;\">\n",
              "      <th></th>\n",
              "      <th>Seq_name</th>\n",
              "      <th>Sequence</th>\n",
              "    </tr>\n",
              "  </thead>\n",
              "  <tbody>\n",
              "    <tr>\n",
              "      <th>0</th>\n",
              "      <td>MEG_1|Drugs</td>\n",
              "      <td>AGAATTTGATCTTGGTTCAGATTGAACGCTGGCGGCGTGGATGAGG...</td>\n",
              "    </tr>\n",
              "    <tr>\n",
              "      <th>1</th>\n",
              "      <td>MEG_2|Drugs</td>\n",
              "      <td>AGGTAAGGAGGTGATCCAACCGCAGGTTCCCCTACGGTTACCTTGT...</td>\n",
              "    </tr>\n",
              "    <tr>\n",
              "      <th>2</th>\n",
              "      <td>MEG_3|Drugs</td>\n",
              "      <td>TTTTGTTTGGAGAGTTTGATCCTGGCTCAGGACGAACGCTGGCGGC...</td>\n",
              "    </tr>\n",
              "    <tr>\n",
              "      <th>3</th>\n",
              "      <td>MEG_4|Drugs</td>\n",
              "      <td>AGAGATTGAACATAAGAGTTTGATCCTGGCTCAGATTGAACGCTGG...</td>\n",
              "    </tr>\n",
              "    <tr>\n",
              "      <th>4</th>\n",
              "      <td>MEG_5|Drugs</td>\n",
              "      <td>AGAGTTTGATCCTGGCTCAGGACGAACGCTGGCGGCGTGCTTAACA...</td>\n",
              "    </tr>\n",
              "  </tbody>\n",
              "</table>\n",
              "</div>\n",
              "      <button class=\"colab-df-convert\" onclick=\"convertToInteractive('df-a08eb98b-d08f-4ba4-b828-613af54ae8a0')\"\n",
              "              title=\"Convert this dataframe to an interactive table.\"\n",
              "              style=\"display:none;\">\n",
              "        \n",
              "  <svg xmlns=\"http://www.w3.org/2000/svg\" height=\"24px\"viewBox=\"0 0 24 24\"\n",
              "       width=\"24px\">\n",
              "    <path d=\"M0 0h24v24H0V0z\" fill=\"none\"/>\n",
              "    <path d=\"M18.56 5.44l.94 2.06.94-2.06 2.06-.94-2.06-.94-.94-2.06-.94 2.06-2.06.94zm-11 1L8.5 8.5l.94-2.06 2.06-.94-2.06-.94L8.5 2.5l-.94 2.06-2.06.94zm10 10l.94 2.06.94-2.06 2.06-.94-2.06-.94-.94-2.06-.94 2.06-2.06.94z\"/><path d=\"M17.41 7.96l-1.37-1.37c-.4-.4-.92-.59-1.43-.59-.52 0-1.04.2-1.43.59L10.3 9.45l-7.72 7.72c-.78.78-.78 2.05 0 2.83L4 21.41c.39.39.9.59 1.41.59.51 0 1.02-.2 1.41-.59l7.78-7.78 2.81-2.81c.8-.78.8-2.07 0-2.86zM5.41 20L4 18.59l7.72-7.72 1.47 1.35L5.41 20z\"/>\n",
              "  </svg>\n",
              "      </button>\n",
              "      \n",
              "  <style>\n",
              "    .colab-df-container {\n",
              "      display:flex;\n",
              "      flex-wrap:wrap;\n",
              "      gap: 12px;\n",
              "    }\n",
              "\n",
              "    .colab-df-convert {\n",
              "      background-color: #E8F0FE;\n",
              "      border: none;\n",
              "      border-radius: 50%;\n",
              "      cursor: pointer;\n",
              "      display: none;\n",
              "      fill: #1967D2;\n",
              "      height: 32px;\n",
              "      padding: 0 0 0 0;\n",
              "      width: 32px;\n",
              "    }\n",
              "\n",
              "    .colab-df-convert:hover {\n",
              "      background-color: #E2EBFA;\n",
              "      box-shadow: 0px 1px 2px rgba(60, 64, 67, 0.3), 0px 1px 3px 1px rgba(60, 64, 67, 0.15);\n",
              "      fill: #174EA6;\n",
              "    }\n",
              "\n",
              "    [theme=dark] .colab-df-convert {\n",
              "      background-color: #3B4455;\n",
              "      fill: #D2E3FC;\n",
              "    }\n",
              "\n",
              "    [theme=dark] .colab-df-convert:hover {\n",
              "      background-color: #434B5C;\n",
              "      box-shadow: 0px 1px 3px 1px rgba(0, 0, 0, 0.15);\n",
              "      filter: drop-shadow(0px 1px 2px rgba(0, 0, 0, 0.3));\n",
              "      fill: #FFFFFF;\n",
              "    }\n",
              "  </style>\n",
              "\n",
              "      <script>\n",
              "        const buttonEl =\n",
              "          document.querySelector('#df-a08eb98b-d08f-4ba4-b828-613af54ae8a0 button.colab-df-convert');\n",
              "        buttonEl.style.display =\n",
              "          google.colab.kernel.accessAllowed ? 'block' : 'none';\n",
              "\n",
              "        async function convertToInteractive(key) {\n",
              "          const element = document.querySelector('#df-a08eb98b-d08f-4ba4-b828-613af54ae8a0');\n",
              "          const dataTable =\n",
              "            await google.colab.kernel.invokeFunction('convertToInteractive',\n",
              "                                                     [key], {});\n",
              "          if (!dataTable) return;\n",
              "\n",
              "          const docLinkHtml = 'Like what you see? Visit the ' +\n",
              "            '<a target=\"_blank\" href=https://colab.research.google.com/notebooks/data_table.ipynb>data table notebook</a>'\n",
              "            + ' to learn more about interactive tables.';\n",
              "          element.innerHTML = '';\n",
              "          dataTable['output_type'] = 'display_data';\n",
              "          await google.colab.output.renderOutput(dataTable, element);\n",
              "          const docLink = document.createElement('div');\n",
              "          docLink.innerHTML = docLinkHtml;\n",
              "          element.appendChild(docLink);\n",
              "        }\n",
              "      </script>\n",
              "    </div>\n",
              "  </div>\n",
              "  "
            ]
          },
          "metadata": {},
          "execution_count": 20
        }
      ]
    },
    {
      "cell_type": "code",
      "source": [
        "df = pd.merge(train_annotations[['Seq_name', 'type', 'class', 'group']], sequence_df, how = \"inner\", on = \n",
        "              [\"Seq_name\"])\n",
        "df.shape"
      ],
      "metadata": {
        "colab": {
          "base_uri": "https://localhost:8080/"
        },
        "id": "q5zu98sXlMgt",
        "outputId": "bf86f1f0-bb6e-4f43-fcc9-64dd32d51360"
      },
      "execution_count": 29,
      "outputs": [
        {
          "output_type": "execute_result",
          "data": {
            "text/plain": [
              "(7868, 5)"
            ]
          },
          "metadata": {},
          "execution_count": 29
        }
      ]
    },
    {
      "cell_type": "code",
      "source": [
        "df.head()"
      ],
      "metadata": {
        "colab": {
          "base_uri": "https://localhost:8080/",
          "height": 206
        },
        "id": "bQHOPUI0lk84",
        "outputId": "2f205622-3cab-4a73-feab-77897e62f174"
      },
      "execution_count": 30,
      "outputs": [
        {
          "output_type": "execute_result",
          "data": {
            "text/plain": [
              "      Seq_name   type            class group  \\\n",
              "0  MEG_1|Drugs  Drugs  Aminoglycosides  A16S   \n",
              "1  MEG_2|Drugs  Drugs  Aminoglycosides  A16S   \n",
              "2  MEG_3|Drugs  Drugs  Aminoglycosides  A16S   \n",
              "3  MEG_4|Drugs  Drugs  Aminoglycosides  A16S   \n",
              "4  MEG_5|Drugs  Drugs  Aminoglycosides  A16S   \n",
              "\n",
              "                                            Sequence  \n",
              "0  AGAATTTGATCTTGGTTCAGATTGAACGCTGGCGGCGTGGATGAGG...  \n",
              "1  AGGTAAGGAGGTGATCCAACCGCAGGTTCCCCTACGGTTACCTTGT...  \n",
              "2  TTTTGTTTGGAGAGTTTGATCCTGGCTCAGGACGAACGCTGGCGGC...  \n",
              "3  AGAGATTGAACATAAGAGTTTGATCCTGGCTCAGATTGAACGCTGG...  \n",
              "4  AGAGTTTGATCCTGGCTCAGGACGAACGCTGGCGGCGTGCTTAACA...  "
            ],
            "text/html": [
              "\n",
              "  <div id=\"df-ab0e6f7c-ad2f-47ea-83e0-d181c1658388\">\n",
              "    <div class=\"colab-df-container\">\n",
              "      <div>\n",
              "<style scoped>\n",
              "    .dataframe tbody tr th:only-of-type {\n",
              "        vertical-align: middle;\n",
              "    }\n",
              "\n",
              "    .dataframe tbody tr th {\n",
              "        vertical-align: top;\n",
              "    }\n",
              "\n",
              "    .dataframe thead th {\n",
              "        text-align: right;\n",
              "    }\n",
              "</style>\n",
              "<table border=\"1\" class=\"dataframe\">\n",
              "  <thead>\n",
              "    <tr style=\"text-align: right;\">\n",
              "      <th></th>\n",
              "      <th>Seq_name</th>\n",
              "      <th>type</th>\n",
              "      <th>class</th>\n",
              "      <th>group</th>\n",
              "      <th>Sequence</th>\n",
              "    </tr>\n",
              "  </thead>\n",
              "  <tbody>\n",
              "    <tr>\n",
              "      <th>0</th>\n",
              "      <td>MEG_1|Drugs</td>\n",
              "      <td>Drugs</td>\n",
              "      <td>Aminoglycosides</td>\n",
              "      <td>A16S</td>\n",
              "      <td>AGAATTTGATCTTGGTTCAGATTGAACGCTGGCGGCGTGGATGAGG...</td>\n",
              "    </tr>\n",
              "    <tr>\n",
              "      <th>1</th>\n",
              "      <td>MEG_2|Drugs</td>\n",
              "      <td>Drugs</td>\n",
              "      <td>Aminoglycosides</td>\n",
              "      <td>A16S</td>\n",
              "      <td>AGGTAAGGAGGTGATCCAACCGCAGGTTCCCCTACGGTTACCTTGT...</td>\n",
              "    </tr>\n",
              "    <tr>\n",
              "      <th>2</th>\n",
              "      <td>MEG_3|Drugs</td>\n",
              "      <td>Drugs</td>\n",
              "      <td>Aminoglycosides</td>\n",
              "      <td>A16S</td>\n",
              "      <td>TTTTGTTTGGAGAGTTTGATCCTGGCTCAGGACGAACGCTGGCGGC...</td>\n",
              "    </tr>\n",
              "    <tr>\n",
              "      <th>3</th>\n",
              "      <td>MEG_4|Drugs</td>\n",
              "      <td>Drugs</td>\n",
              "      <td>Aminoglycosides</td>\n",
              "      <td>A16S</td>\n",
              "      <td>AGAGATTGAACATAAGAGTTTGATCCTGGCTCAGATTGAACGCTGG...</td>\n",
              "    </tr>\n",
              "    <tr>\n",
              "      <th>4</th>\n",
              "      <td>MEG_5|Drugs</td>\n",
              "      <td>Drugs</td>\n",
              "      <td>Aminoglycosides</td>\n",
              "      <td>A16S</td>\n",
              "      <td>AGAGTTTGATCCTGGCTCAGGACGAACGCTGGCGGCGTGCTTAACA...</td>\n",
              "    </tr>\n",
              "  </tbody>\n",
              "</table>\n",
              "</div>\n",
              "      <button class=\"colab-df-convert\" onclick=\"convertToInteractive('df-ab0e6f7c-ad2f-47ea-83e0-d181c1658388')\"\n",
              "              title=\"Convert this dataframe to an interactive table.\"\n",
              "              style=\"display:none;\">\n",
              "        \n",
              "  <svg xmlns=\"http://www.w3.org/2000/svg\" height=\"24px\"viewBox=\"0 0 24 24\"\n",
              "       width=\"24px\">\n",
              "    <path d=\"M0 0h24v24H0V0z\" fill=\"none\"/>\n",
              "    <path d=\"M18.56 5.44l.94 2.06.94-2.06 2.06-.94-2.06-.94-.94-2.06-.94 2.06-2.06.94zm-11 1L8.5 8.5l.94-2.06 2.06-.94-2.06-.94L8.5 2.5l-.94 2.06-2.06.94zm10 10l.94 2.06.94-2.06 2.06-.94-2.06-.94-.94-2.06-.94 2.06-2.06.94z\"/><path d=\"M17.41 7.96l-1.37-1.37c-.4-.4-.92-.59-1.43-.59-.52 0-1.04.2-1.43.59L10.3 9.45l-7.72 7.72c-.78.78-.78 2.05 0 2.83L4 21.41c.39.39.9.59 1.41.59.51 0 1.02-.2 1.41-.59l7.78-7.78 2.81-2.81c.8-.78.8-2.07 0-2.86zM5.41 20L4 18.59l7.72-7.72 1.47 1.35L5.41 20z\"/>\n",
              "  </svg>\n",
              "      </button>\n",
              "      \n",
              "  <style>\n",
              "    .colab-df-container {\n",
              "      display:flex;\n",
              "      flex-wrap:wrap;\n",
              "      gap: 12px;\n",
              "    }\n",
              "\n",
              "    .colab-df-convert {\n",
              "      background-color: #E8F0FE;\n",
              "      border: none;\n",
              "      border-radius: 50%;\n",
              "      cursor: pointer;\n",
              "      display: none;\n",
              "      fill: #1967D2;\n",
              "      height: 32px;\n",
              "      padding: 0 0 0 0;\n",
              "      width: 32px;\n",
              "    }\n",
              "\n",
              "    .colab-df-convert:hover {\n",
              "      background-color: #E2EBFA;\n",
              "      box-shadow: 0px 1px 2px rgba(60, 64, 67, 0.3), 0px 1px 3px 1px rgba(60, 64, 67, 0.15);\n",
              "      fill: #174EA6;\n",
              "    }\n",
              "\n",
              "    [theme=dark] .colab-df-convert {\n",
              "      background-color: #3B4455;\n",
              "      fill: #D2E3FC;\n",
              "    }\n",
              "\n",
              "    [theme=dark] .colab-df-convert:hover {\n",
              "      background-color: #434B5C;\n",
              "      box-shadow: 0px 1px 3px 1px rgba(0, 0, 0, 0.15);\n",
              "      filter: drop-shadow(0px 1px 2px rgba(0, 0, 0, 0.3));\n",
              "      fill: #FFFFFF;\n",
              "    }\n",
              "  </style>\n",
              "\n",
              "      <script>\n",
              "        const buttonEl =\n",
              "          document.querySelector('#df-ab0e6f7c-ad2f-47ea-83e0-d181c1658388 button.colab-df-convert');\n",
              "        buttonEl.style.display =\n",
              "          google.colab.kernel.accessAllowed ? 'block' : 'none';\n",
              "\n",
              "        async function convertToInteractive(key) {\n",
              "          const element = document.querySelector('#df-ab0e6f7c-ad2f-47ea-83e0-d181c1658388');\n",
              "          const dataTable =\n",
              "            await google.colab.kernel.invokeFunction('convertToInteractive',\n",
              "                                                     [key], {});\n",
              "          if (!dataTable) return;\n",
              "\n",
              "          const docLinkHtml = 'Like what you see? Visit the ' +\n",
              "            '<a target=\"_blank\" href=https://colab.research.google.com/notebooks/data_table.ipynb>data table notebook</a>'\n",
              "            + ' to learn more about interactive tables.';\n",
              "          element.innerHTML = '';\n",
              "          dataTable['output_type'] = 'display_data';\n",
              "          await google.colab.output.renderOutput(dataTable, element);\n",
              "          const docLink = document.createElement('div');\n",
              "          docLink.innerHTML = docLinkHtml;\n",
              "          element.appendChild(docLink);\n",
              "        }\n",
              "      </script>\n",
              "    </div>\n",
              "  </div>\n",
              "  "
            ]
          },
          "metadata": {},
          "execution_count": 30
        }
      ]
    },
    {
      "cell_type": "code",
      "source": [
        "# Create dataloaders"
      ],
      "metadata": {
        "id": "Q054V7yjHyTu"
      },
      "execution_count": null,
      "outputs": []
    },
    {
      "cell_type": "code",
      "source": [
        "# Create model"
      ],
      "metadata": {
        "id": "-wusVD4NH3n2"
      },
      "execution_count": null,
      "outputs": []
    },
    {
      "cell_type": "code",
      "source": [
        "# Train model"
      ],
      "metadata": {
        "id": "mSt5nJ-FH5Bp"
      },
      "execution_count": null,
      "outputs": []
    },
    {
      "cell_type": "code",
      "source": [
        "# Test model"
      ],
      "metadata": {
        "id": "Q2QYo93RH6qy"
      },
      "execution_count": null,
      "outputs": []
    }
  ]
}