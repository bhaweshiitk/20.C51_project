{
  "nbformat": 4,
  "nbformat_minor": 0,
  "metadata": {
    "colab": {
      "name": "20.C51 - Graduate Project.ipynb",
      "provenance": [],
      "collapsed_sections": [],
      "include_colab_link": true
    },
    "kernelspec": {
      "name": "python3",
      "display_name": "Python 3"
    },
    "language_info": {
      "name": "python"
    },
    "accelerator": "GPU"
  },
  "cells": [
    {
      "cell_type": "markdown",
      "metadata": {
        "id": "view-in-github",
        "colab_type": "text"
      },
      "source": [
        "<a href=\"https://colab.research.google.com/github/bhaweshiitk/20.C51_project/blob/main/20_C51_Graduate_Project.ipynb\" target=\"_parent\"><img src=\"https://colab.research.google.com/assets/colab-badge.svg\" alt=\"Open In Colab\"/></a>"
      ]
    },
    {
      "cell_type": "code",
      "source": [
        "import matplotlib.pyplot as plt\n",
        "from torch.utils.data import Dataset, DataLoader\n",
        "import pandas as pd\n",
        "import numpy as np\n",
        "import matplotlib\n",
        "import torch\n",
        "from torch import nn\n",
        "from torch.nn import functional as F\n",
        "from sklearn.model_selection import train_test_split\n",
        "! pip install Bio\n",
        "!pip install umap-learn\n",
        "from Bio import SeqIO\n",
        "import umap"
      ],
      "metadata": {
        "colab": {
          "base_uri": "https://localhost:8080/"
        },
        "id": "JRZq9zAWfzW3",
        "outputId": "95c7b892-6f9f-408d-91a9-4ba37bf14872"
      },
      "execution_count": 1,
      "outputs": [
        {
          "output_type": "stream",
          "name": "stdout",
          "text": [
            "Requirement already satisfied: Bio in /usr/local/lib/python3.7/dist-packages (1.3.8)\n",
            "Requirement already satisfied: tqdm in /usr/local/lib/python3.7/dist-packages (from Bio) (4.64.0)\n",
            "Requirement already satisfied: biopython>=1.79 in /usr/local/lib/python3.7/dist-packages (from Bio) (1.79)\n",
            "Requirement already satisfied: requests in /usr/local/lib/python3.7/dist-packages (from Bio) (2.23.0)\n",
            "Requirement already satisfied: mygene in /usr/local/lib/python3.7/dist-packages (from Bio) (3.2.2)\n",
            "Requirement already satisfied: numpy in /usr/local/lib/python3.7/dist-packages (from biopython>=1.79->Bio) (1.21.6)\n",
            "Requirement already satisfied: biothings-client>=0.2.6 in /usr/local/lib/python3.7/dist-packages (from mygene->Bio) (0.2.6)\n",
            "Requirement already satisfied: certifi>=2017.4.17 in /usr/local/lib/python3.7/dist-packages (from requests->Bio) (2021.10.8)\n",
            "Requirement already satisfied: urllib3!=1.25.0,!=1.25.1,<1.26,>=1.21.1 in /usr/local/lib/python3.7/dist-packages (from requests->Bio) (1.24.3)\n",
            "Requirement already satisfied: idna<3,>=2.5 in /usr/local/lib/python3.7/dist-packages (from requests->Bio) (2.10)\n",
            "Requirement already satisfied: chardet<4,>=3.0.2 in /usr/local/lib/python3.7/dist-packages (from requests->Bio) (3.0.4)\n",
            "Requirement already satisfied: umap-learn in /usr/local/lib/python3.7/dist-packages (0.5.3)\n",
            "Requirement already satisfied: pynndescent>=0.5 in /usr/local/lib/python3.7/dist-packages (from umap-learn) (0.5.6)\n",
            "Requirement already satisfied: scikit-learn>=0.22 in /usr/local/lib/python3.7/dist-packages (from umap-learn) (1.0.2)\n",
            "Requirement already satisfied: scipy>=1.0 in /usr/local/lib/python3.7/dist-packages (from umap-learn) (1.4.1)\n",
            "Requirement already satisfied: tqdm in /usr/local/lib/python3.7/dist-packages (from umap-learn) (4.64.0)\n",
            "Requirement already satisfied: numpy>=1.17 in /usr/local/lib/python3.7/dist-packages (from umap-learn) (1.21.6)\n",
            "Requirement already satisfied: numba>=0.49 in /usr/local/lib/python3.7/dist-packages (from umap-learn) (0.51.2)\n",
            "Requirement already satisfied: setuptools in /usr/local/lib/python3.7/dist-packages (from numba>=0.49->umap-learn) (57.4.0)\n",
            "Requirement already satisfied: llvmlite<0.35,>=0.34.0.dev0 in /usr/local/lib/python3.7/dist-packages (from numba>=0.49->umap-learn) (0.34.0)\n",
            "Requirement already satisfied: joblib>=0.11 in /usr/local/lib/python3.7/dist-packages (from pynndescent>=0.5->umap-learn) (1.1.0)\n",
            "Requirement already satisfied: threadpoolctl>=2.0.0 in /usr/local/lib/python3.7/dist-packages (from scikit-learn>=0.22->umap-learn) (3.1.0)\n"
          ]
        }
      ]
    },
    {
      "cell_type": "code",
      "execution_count": 2,
      "metadata": {
        "id": "OxCVvG5wHokf",
        "colab": {
          "base_uri": "https://localhost:8080/"
        },
        "outputId": "fc25c713-0bcf-4ac7-c4c3-e34ac4ffac53"
      },
      "outputs": [
        {
          "output_type": "stream",
          "name": "stdout",
          "text": [
            "--2022-05-02 05:42:47--  https://raw.githubusercontent.com/bhaweshiitk/3.C51_project/main/megares_modified_annotations_v2.00.csv\n",
            "Resolving raw.githubusercontent.com (raw.githubusercontent.com)... 185.199.110.133, 185.199.109.133, 185.199.111.133, ...\n",
            "Connecting to raw.githubusercontent.com (raw.githubusercontent.com)|185.199.110.133|:443... connected.\n",
            "HTTP request sent, awaiting response... 200 OK\n",
            "Length: 948917 (927K) [text/plain]\n",
            "Saving to: ‘megares_modified_annotations_v2.00.csv.4’\n",
            "\n",
            "megares_modified_an 100%[===================>] 926.68K  --.-KB/s    in 0.006s  \n",
            "\n",
            "2022-05-02 05:42:47 (148 MB/s) - ‘megares_modified_annotations_v2.00.csv.4’ saved [948917/948917]\n",
            "\n",
            "--2022-05-02 05:42:48--  https://raw.githubusercontent.com/bhaweshiitk/3.C51_project/main/megares_modified_database_v2.00.fasta\n",
            "Resolving raw.githubusercontent.com (raw.githubusercontent.com)... 185.199.108.133, 185.199.109.133, 185.199.110.133, ...\n",
            "Connecting to raw.githubusercontent.com (raw.githubusercontent.com)|185.199.108.133|:443... connected.\n",
            "HTTP request sent, awaiting response... 200 OK\n",
            "Length: 8637235 (8.2M) [text/plain]\n",
            "Saving to: ‘megares_modified_database_v2.00.fasta.4’\n",
            "\n",
            "megares_modified_da 100%[===================>]   8.24M  --.-KB/s    in 0.1s    \n",
            "\n",
            "2022-05-02 05:42:48 (77.4 MB/s) - ‘megares_modified_database_v2.00.fasta.4’ saved [8637235/8637235]\n",
            "\n"
          ]
        }
      ],
      "source": [
        "# Import data\n",
        "! wget https://raw.githubusercontent.com/bhaweshiitk/3.C51_project/main/megares_modified_annotations_v2.00.csv\n",
        "! wget https://raw.githubusercontent.com/bhaweshiitk/3.C51_project/main/megares_modified_database_v2.00.fasta"
      ]
    },
    {
      "cell_type": "code",
      "source": [
        "# Process data\n",
        "train_annotations = pd.read_csv(\"./megares_modified_annotations_v2.00.csv\")\n",
        "train_annotations.shape"
      ],
      "metadata": {
        "id": "5V-TEbEjHwTL",
        "colab": {
          "base_uri": "https://localhost:8080/"
        },
        "outputId": "78987c78-b1f7-4492-9e79-41b741397ecf"
      },
      "execution_count": 3,
      "outputs": [
        {
          "output_type": "execute_result",
          "data": {
            "text/plain": [
              "(7868, 5)"
            ]
          },
          "metadata": {},
          "execution_count": 3
        }
      ]
    },
    {
      "cell_type": "code",
      "source": [
        "train_annotations.head()"
      ],
      "metadata": {
        "colab": {
          "base_uri": "https://localhost:8080/",
          "height": 206
        },
        "id": "GVd7nK-EgtTp",
        "outputId": "09b9dac9-1566-4a97-ac95-e632d5a68979"
      },
      "execution_count": 4,
      "outputs": [
        {
          "output_type": "execute_result",
          "data": {
            "text/plain": [
              "                                              header   type            class  \\\n",
              "0  MEG_1|Drugs|Aminoglycosides|Aminoglycoside-res...  Drugs  Aminoglycosides   \n",
              "1  MEG_2|Drugs|Aminoglycosides|Aminoglycoside-res...  Drugs  Aminoglycosides   \n",
              "2  MEG_3|Drugs|Aminoglycosides|Aminoglycoside-res...  Drugs  Aminoglycosides   \n",
              "3  MEG_4|Drugs|Aminoglycosides|Aminoglycoside-res...  Drugs  Aminoglycosides   \n",
              "4  MEG_5|Drugs|Aminoglycosides|Aminoglycoside-res...  Drugs  Aminoglycosides   \n",
              "\n",
              "                                           mechanism group  \n",
              "0  Aminoglycoside-resistant 16S ribosomal subunit...  A16S  \n",
              "1  Aminoglycoside-resistant 16S ribosomal subunit...  A16S  \n",
              "2  Aminoglycoside-resistant 16S ribosomal subunit...  A16S  \n",
              "3  Aminoglycoside-resistant 16S ribosomal subunit...  A16S  \n",
              "4  Aminoglycoside-resistant 16S ribosomal subunit...  A16S  "
            ],
            "text/html": [
              "\n",
              "  <div id=\"df-bed6df58-95da-4421-88cb-d988c0061d0a\">\n",
              "    <div class=\"colab-df-container\">\n",
              "      <div>\n",
              "<style scoped>\n",
              "    .dataframe tbody tr th:only-of-type {\n",
              "        vertical-align: middle;\n",
              "    }\n",
              "\n",
              "    .dataframe tbody tr th {\n",
              "        vertical-align: top;\n",
              "    }\n",
              "\n",
              "    .dataframe thead th {\n",
              "        text-align: right;\n",
              "    }\n",
              "</style>\n",
              "<table border=\"1\" class=\"dataframe\">\n",
              "  <thead>\n",
              "    <tr style=\"text-align: right;\">\n",
              "      <th></th>\n",
              "      <th>header</th>\n",
              "      <th>type</th>\n",
              "      <th>class</th>\n",
              "      <th>mechanism</th>\n",
              "      <th>group</th>\n",
              "    </tr>\n",
              "  </thead>\n",
              "  <tbody>\n",
              "    <tr>\n",
              "      <th>0</th>\n",
              "      <td>MEG_1|Drugs|Aminoglycosides|Aminoglycoside-res...</td>\n",
              "      <td>Drugs</td>\n",
              "      <td>Aminoglycosides</td>\n",
              "      <td>Aminoglycoside-resistant 16S ribosomal subunit...</td>\n",
              "      <td>A16S</td>\n",
              "    </tr>\n",
              "    <tr>\n",
              "      <th>1</th>\n",
              "      <td>MEG_2|Drugs|Aminoglycosides|Aminoglycoside-res...</td>\n",
              "      <td>Drugs</td>\n",
              "      <td>Aminoglycosides</td>\n",
              "      <td>Aminoglycoside-resistant 16S ribosomal subunit...</td>\n",
              "      <td>A16S</td>\n",
              "    </tr>\n",
              "    <tr>\n",
              "      <th>2</th>\n",
              "      <td>MEG_3|Drugs|Aminoglycosides|Aminoglycoside-res...</td>\n",
              "      <td>Drugs</td>\n",
              "      <td>Aminoglycosides</td>\n",
              "      <td>Aminoglycoside-resistant 16S ribosomal subunit...</td>\n",
              "      <td>A16S</td>\n",
              "    </tr>\n",
              "    <tr>\n",
              "      <th>3</th>\n",
              "      <td>MEG_4|Drugs|Aminoglycosides|Aminoglycoside-res...</td>\n",
              "      <td>Drugs</td>\n",
              "      <td>Aminoglycosides</td>\n",
              "      <td>Aminoglycoside-resistant 16S ribosomal subunit...</td>\n",
              "      <td>A16S</td>\n",
              "    </tr>\n",
              "    <tr>\n",
              "      <th>4</th>\n",
              "      <td>MEG_5|Drugs|Aminoglycosides|Aminoglycoside-res...</td>\n",
              "      <td>Drugs</td>\n",
              "      <td>Aminoglycosides</td>\n",
              "      <td>Aminoglycoside-resistant 16S ribosomal subunit...</td>\n",
              "      <td>A16S</td>\n",
              "    </tr>\n",
              "  </tbody>\n",
              "</table>\n",
              "</div>\n",
              "      <button class=\"colab-df-convert\" onclick=\"convertToInteractive('df-bed6df58-95da-4421-88cb-d988c0061d0a')\"\n",
              "              title=\"Convert this dataframe to an interactive table.\"\n",
              "              style=\"display:none;\">\n",
              "        \n",
              "  <svg xmlns=\"http://www.w3.org/2000/svg\" height=\"24px\"viewBox=\"0 0 24 24\"\n",
              "       width=\"24px\">\n",
              "    <path d=\"M0 0h24v24H0V0z\" fill=\"none\"/>\n",
              "    <path d=\"M18.56 5.44l.94 2.06.94-2.06 2.06-.94-2.06-.94-.94-2.06-.94 2.06-2.06.94zm-11 1L8.5 8.5l.94-2.06 2.06-.94-2.06-.94L8.5 2.5l-.94 2.06-2.06.94zm10 10l.94 2.06.94-2.06 2.06-.94-2.06-.94-.94-2.06-.94 2.06-2.06.94z\"/><path d=\"M17.41 7.96l-1.37-1.37c-.4-.4-.92-.59-1.43-.59-.52 0-1.04.2-1.43.59L10.3 9.45l-7.72 7.72c-.78.78-.78 2.05 0 2.83L4 21.41c.39.39.9.59 1.41.59.51 0 1.02-.2 1.41-.59l7.78-7.78 2.81-2.81c.8-.78.8-2.07 0-2.86zM5.41 20L4 18.59l7.72-7.72 1.47 1.35L5.41 20z\"/>\n",
              "  </svg>\n",
              "      </button>\n",
              "      \n",
              "  <style>\n",
              "    .colab-df-container {\n",
              "      display:flex;\n",
              "      flex-wrap:wrap;\n",
              "      gap: 12px;\n",
              "    }\n",
              "\n",
              "    .colab-df-convert {\n",
              "      background-color: #E8F0FE;\n",
              "      border: none;\n",
              "      border-radius: 50%;\n",
              "      cursor: pointer;\n",
              "      display: none;\n",
              "      fill: #1967D2;\n",
              "      height: 32px;\n",
              "      padding: 0 0 0 0;\n",
              "      width: 32px;\n",
              "    }\n",
              "\n",
              "    .colab-df-convert:hover {\n",
              "      background-color: #E2EBFA;\n",
              "      box-shadow: 0px 1px 2px rgba(60, 64, 67, 0.3), 0px 1px 3px 1px rgba(60, 64, 67, 0.15);\n",
              "      fill: #174EA6;\n",
              "    }\n",
              "\n",
              "    [theme=dark] .colab-df-convert {\n",
              "      background-color: #3B4455;\n",
              "      fill: #D2E3FC;\n",
              "    }\n",
              "\n",
              "    [theme=dark] .colab-df-convert:hover {\n",
              "      background-color: #434B5C;\n",
              "      box-shadow: 0px 1px 3px 1px rgba(0, 0, 0, 0.15);\n",
              "      filter: drop-shadow(0px 1px 2px rgba(0, 0, 0, 0.3));\n",
              "      fill: #FFFFFF;\n",
              "    }\n",
              "  </style>\n",
              "\n",
              "      <script>\n",
              "        const buttonEl =\n",
              "          document.querySelector('#df-bed6df58-95da-4421-88cb-d988c0061d0a button.colab-df-convert');\n",
              "        buttonEl.style.display =\n",
              "          google.colab.kernel.accessAllowed ? 'block' : 'none';\n",
              "\n",
              "        async function convertToInteractive(key) {\n",
              "          const element = document.querySelector('#df-bed6df58-95da-4421-88cb-d988c0061d0a');\n",
              "          const dataTable =\n",
              "            await google.colab.kernel.invokeFunction('convertToInteractive',\n",
              "                                                     [key], {});\n",
              "          if (!dataTable) return;\n",
              "\n",
              "          const docLinkHtml = 'Like what you see? Visit the ' +\n",
              "            '<a target=\"_blank\" href=https://colab.research.google.com/notebooks/data_table.ipynb>data table notebook</a>'\n",
              "            + ' to learn more about interactive tables.';\n",
              "          element.innerHTML = '';\n",
              "          dataTable['output_type'] = 'display_data';\n",
              "          await google.colab.output.renderOutput(dataTable, element);\n",
              "          const docLink = document.createElement('div');\n",
              "          docLink.innerHTML = docLinkHtml;\n",
              "          element.appendChild(docLink);\n",
              "        }\n",
              "      </script>\n",
              "    </div>\n",
              "  </div>\n",
              "  "
            ]
          },
          "metadata": {},
          "execution_count": 4
        }
      ]
    },
    {
      "cell_type": "code",
      "source": [
        "train_annotations['Seq_name'] = train_annotations['header'].str.split('|').str[0:2].apply('|'.join)\n",
        "train_annotations['mechanism'] = train_annotations['header'].str.split('|').str[3]"
      ],
      "metadata": {
        "id": "cpLUmYDlkeoy"
      },
      "execution_count": 5,
      "outputs": []
    },
    {
      "cell_type": "code",
      "source": [
        "fasta_sequences = SeqIO.parse(open(\"./megares_modified_database_v2.00.fasta\"),'fasta')\n",
        "sequence_dict = {}\n",
        "for fasta in fasta_sequences:\n",
        "    name, sequence = fasta.id, str(fasta.seq)\n",
        "    name = \"|\".join((name.split(\"|\", 2))[0:2])\n",
        "    sequence_dict[name] = sequence\n",
        "sequence_df = pd.DataFrame(sequence_dict.items(), columns=['Seq_name', 'Sequence'])\n",
        "sequence_df.shape"
      ],
      "metadata": {
        "colab": {
          "base_uri": "https://localhost:8080/"
        },
        "id": "Cke-vmzYg8J3",
        "outputId": "30ea9446-7d6f-40a6-e05f-8426368fc179"
      },
      "execution_count": 6,
      "outputs": [
        {
          "output_type": "execute_result",
          "data": {
            "text/plain": [
              "(7868, 2)"
            ]
          },
          "metadata": {},
          "execution_count": 6
        }
      ]
    },
    {
      "cell_type": "code",
      "source": [
        "sequence_df.head()"
      ],
      "metadata": {
        "colab": {
          "base_uri": "https://localhost:8080/",
          "height": 206
        },
        "id": "1flcUDs5jip4",
        "outputId": "205400e6-b817-4724-a8cc-135cbbe4717e"
      },
      "execution_count": 7,
      "outputs": [
        {
          "output_type": "execute_result",
          "data": {
            "text/plain": [
              "      Seq_name                                           Sequence\n",
              "0  MEG_1|Drugs  AGAATTTGATCTTGGTTCAGATTGAACGCTGGCGGCGTGGATGAGG...\n",
              "1  MEG_2|Drugs  AGGTAAGGAGGTGATCCAACCGCAGGTTCCCCTACGGTTACCTTGT...\n",
              "2  MEG_3|Drugs  TTTTGTTTGGAGAGTTTGATCCTGGCTCAGGACGAACGCTGGCGGC...\n",
              "3  MEG_4|Drugs  AGAGATTGAACATAAGAGTTTGATCCTGGCTCAGATTGAACGCTGG...\n",
              "4  MEG_5|Drugs  AGAGTTTGATCCTGGCTCAGGACGAACGCTGGCGGCGTGCTTAACA..."
            ],
            "text/html": [
              "\n",
              "  <div id=\"df-0e622b0c-864c-4a21-959f-3facf3abacb8\">\n",
              "    <div class=\"colab-df-container\">\n",
              "      <div>\n",
              "<style scoped>\n",
              "    .dataframe tbody tr th:only-of-type {\n",
              "        vertical-align: middle;\n",
              "    }\n",
              "\n",
              "    .dataframe tbody tr th {\n",
              "        vertical-align: top;\n",
              "    }\n",
              "\n",
              "    .dataframe thead th {\n",
              "        text-align: right;\n",
              "    }\n",
              "</style>\n",
              "<table border=\"1\" class=\"dataframe\">\n",
              "  <thead>\n",
              "    <tr style=\"text-align: right;\">\n",
              "      <th></th>\n",
              "      <th>Seq_name</th>\n",
              "      <th>Sequence</th>\n",
              "    </tr>\n",
              "  </thead>\n",
              "  <tbody>\n",
              "    <tr>\n",
              "      <th>0</th>\n",
              "      <td>MEG_1|Drugs</td>\n",
              "      <td>AGAATTTGATCTTGGTTCAGATTGAACGCTGGCGGCGTGGATGAGG...</td>\n",
              "    </tr>\n",
              "    <tr>\n",
              "      <th>1</th>\n",
              "      <td>MEG_2|Drugs</td>\n",
              "      <td>AGGTAAGGAGGTGATCCAACCGCAGGTTCCCCTACGGTTACCTTGT...</td>\n",
              "    </tr>\n",
              "    <tr>\n",
              "      <th>2</th>\n",
              "      <td>MEG_3|Drugs</td>\n",
              "      <td>TTTTGTTTGGAGAGTTTGATCCTGGCTCAGGACGAACGCTGGCGGC...</td>\n",
              "    </tr>\n",
              "    <tr>\n",
              "      <th>3</th>\n",
              "      <td>MEG_4|Drugs</td>\n",
              "      <td>AGAGATTGAACATAAGAGTTTGATCCTGGCTCAGATTGAACGCTGG...</td>\n",
              "    </tr>\n",
              "    <tr>\n",
              "      <th>4</th>\n",
              "      <td>MEG_5|Drugs</td>\n",
              "      <td>AGAGTTTGATCCTGGCTCAGGACGAACGCTGGCGGCGTGCTTAACA...</td>\n",
              "    </tr>\n",
              "  </tbody>\n",
              "</table>\n",
              "</div>\n",
              "      <button class=\"colab-df-convert\" onclick=\"convertToInteractive('df-0e622b0c-864c-4a21-959f-3facf3abacb8')\"\n",
              "              title=\"Convert this dataframe to an interactive table.\"\n",
              "              style=\"display:none;\">\n",
              "        \n",
              "  <svg xmlns=\"http://www.w3.org/2000/svg\" height=\"24px\"viewBox=\"0 0 24 24\"\n",
              "       width=\"24px\">\n",
              "    <path d=\"M0 0h24v24H0V0z\" fill=\"none\"/>\n",
              "    <path d=\"M18.56 5.44l.94 2.06.94-2.06 2.06-.94-2.06-.94-.94-2.06-.94 2.06-2.06.94zm-11 1L8.5 8.5l.94-2.06 2.06-.94-2.06-.94L8.5 2.5l-.94 2.06-2.06.94zm10 10l.94 2.06.94-2.06 2.06-.94-2.06-.94-.94-2.06-.94 2.06-2.06.94z\"/><path d=\"M17.41 7.96l-1.37-1.37c-.4-.4-.92-.59-1.43-.59-.52 0-1.04.2-1.43.59L10.3 9.45l-7.72 7.72c-.78.78-.78 2.05 0 2.83L4 21.41c.39.39.9.59 1.41.59.51 0 1.02-.2 1.41-.59l7.78-7.78 2.81-2.81c.8-.78.8-2.07 0-2.86zM5.41 20L4 18.59l7.72-7.72 1.47 1.35L5.41 20z\"/>\n",
              "  </svg>\n",
              "      </button>\n",
              "      \n",
              "  <style>\n",
              "    .colab-df-container {\n",
              "      display:flex;\n",
              "      flex-wrap:wrap;\n",
              "      gap: 12px;\n",
              "    }\n",
              "\n",
              "    .colab-df-convert {\n",
              "      background-color: #E8F0FE;\n",
              "      border: none;\n",
              "      border-radius: 50%;\n",
              "      cursor: pointer;\n",
              "      display: none;\n",
              "      fill: #1967D2;\n",
              "      height: 32px;\n",
              "      padding: 0 0 0 0;\n",
              "      width: 32px;\n",
              "    }\n",
              "\n",
              "    .colab-df-convert:hover {\n",
              "      background-color: #E2EBFA;\n",
              "      box-shadow: 0px 1px 2px rgba(60, 64, 67, 0.3), 0px 1px 3px 1px rgba(60, 64, 67, 0.15);\n",
              "      fill: #174EA6;\n",
              "    }\n",
              "\n",
              "    [theme=dark] .colab-df-convert {\n",
              "      background-color: #3B4455;\n",
              "      fill: #D2E3FC;\n",
              "    }\n",
              "\n",
              "    [theme=dark] .colab-df-convert:hover {\n",
              "      background-color: #434B5C;\n",
              "      box-shadow: 0px 1px 3px 1px rgba(0, 0, 0, 0.15);\n",
              "      filter: drop-shadow(0px 1px 2px rgba(0, 0, 0, 0.3));\n",
              "      fill: #FFFFFF;\n",
              "    }\n",
              "  </style>\n",
              "\n",
              "      <script>\n",
              "        const buttonEl =\n",
              "          document.querySelector('#df-0e622b0c-864c-4a21-959f-3facf3abacb8 button.colab-df-convert');\n",
              "        buttonEl.style.display =\n",
              "          google.colab.kernel.accessAllowed ? 'block' : 'none';\n",
              "\n",
              "        async function convertToInteractive(key) {\n",
              "          const element = document.querySelector('#df-0e622b0c-864c-4a21-959f-3facf3abacb8');\n",
              "          const dataTable =\n",
              "            await google.colab.kernel.invokeFunction('convertToInteractive',\n",
              "                                                     [key], {});\n",
              "          if (!dataTable) return;\n",
              "\n",
              "          const docLinkHtml = 'Like what you see? Visit the ' +\n",
              "            '<a target=\"_blank\" href=https://colab.research.google.com/notebooks/data_table.ipynb>data table notebook</a>'\n",
              "            + ' to learn more about interactive tables.';\n",
              "          element.innerHTML = '';\n",
              "          dataTable['output_type'] = 'display_data';\n",
              "          await google.colab.output.renderOutput(dataTable, element);\n",
              "          const docLink = document.createElement('div');\n",
              "          docLink.innerHTML = docLinkHtml;\n",
              "          element.appendChild(docLink);\n",
              "        }\n",
              "      </script>\n",
              "    </div>\n",
              "  </div>\n",
              "  "
            ]
          },
          "metadata": {},
          "execution_count": 7
        }
      ]
    },
    {
      "cell_type": "code",
      "source": [
        "df = pd.merge(train_annotations[['Seq_name', 'type', 'class','mechanism','group']], \n",
        "              sequence_df, how = \"inner\", on = [\"Seq_name\"])\n",
        "df.shape"
      ],
      "metadata": {
        "colab": {
          "base_uri": "https://localhost:8080/"
        },
        "id": "q5zu98sXlMgt",
        "outputId": "fa6da9dd-c0c6-42e9-84aa-7dfc7ef18fdf"
      },
      "execution_count": 8,
      "outputs": [
        {
          "output_type": "execute_result",
          "data": {
            "text/plain": [
              "(7868, 6)"
            ]
          },
          "metadata": {},
          "execution_count": 8
        }
      ]
    },
    {
      "cell_type": "code",
      "source": [
        "df.head()"
      ],
      "metadata": {
        "colab": {
          "base_uri": "https://localhost:8080/",
          "height": 206
        },
        "id": "bQHOPUI0lk84",
        "outputId": "be344728-b185-4c77-f58e-216ffb46833d"
      },
      "execution_count": 9,
      "outputs": [
        {
          "output_type": "execute_result",
          "data": {
            "text/plain": [
              "      Seq_name   type            class  \\\n",
              "0  MEG_1|Drugs  Drugs  Aminoglycosides   \n",
              "1  MEG_2|Drugs  Drugs  Aminoglycosides   \n",
              "2  MEG_3|Drugs  Drugs  Aminoglycosides   \n",
              "3  MEG_4|Drugs  Drugs  Aminoglycosides   \n",
              "4  MEG_5|Drugs  Drugs  Aminoglycosides   \n",
              "\n",
              "                                           mechanism group  \\\n",
              "0  Aminoglycoside-resistant_16S_ribosomal_subunit...  A16S   \n",
              "1  Aminoglycoside-resistant_16S_ribosomal_subunit...  A16S   \n",
              "2  Aminoglycoside-resistant_16S_ribosomal_subunit...  A16S   \n",
              "3  Aminoglycoside-resistant_16S_ribosomal_subunit...  A16S   \n",
              "4  Aminoglycoside-resistant_16S_ribosomal_subunit...  A16S   \n",
              "\n",
              "                                            Sequence  \n",
              "0  AGAATTTGATCTTGGTTCAGATTGAACGCTGGCGGCGTGGATGAGG...  \n",
              "1  AGGTAAGGAGGTGATCCAACCGCAGGTTCCCCTACGGTTACCTTGT...  \n",
              "2  TTTTGTTTGGAGAGTTTGATCCTGGCTCAGGACGAACGCTGGCGGC...  \n",
              "3  AGAGATTGAACATAAGAGTTTGATCCTGGCTCAGATTGAACGCTGG...  \n",
              "4  AGAGTTTGATCCTGGCTCAGGACGAACGCTGGCGGCGTGCTTAACA...  "
            ],
            "text/html": [
              "\n",
              "  <div id=\"df-865615e5-d86e-493e-9380-9cfcfe802234\">\n",
              "    <div class=\"colab-df-container\">\n",
              "      <div>\n",
              "<style scoped>\n",
              "    .dataframe tbody tr th:only-of-type {\n",
              "        vertical-align: middle;\n",
              "    }\n",
              "\n",
              "    .dataframe tbody tr th {\n",
              "        vertical-align: top;\n",
              "    }\n",
              "\n",
              "    .dataframe thead th {\n",
              "        text-align: right;\n",
              "    }\n",
              "</style>\n",
              "<table border=\"1\" class=\"dataframe\">\n",
              "  <thead>\n",
              "    <tr style=\"text-align: right;\">\n",
              "      <th></th>\n",
              "      <th>Seq_name</th>\n",
              "      <th>type</th>\n",
              "      <th>class</th>\n",
              "      <th>mechanism</th>\n",
              "      <th>group</th>\n",
              "      <th>Sequence</th>\n",
              "    </tr>\n",
              "  </thead>\n",
              "  <tbody>\n",
              "    <tr>\n",
              "      <th>0</th>\n",
              "      <td>MEG_1|Drugs</td>\n",
              "      <td>Drugs</td>\n",
              "      <td>Aminoglycosides</td>\n",
              "      <td>Aminoglycoside-resistant_16S_ribosomal_subunit...</td>\n",
              "      <td>A16S</td>\n",
              "      <td>AGAATTTGATCTTGGTTCAGATTGAACGCTGGCGGCGTGGATGAGG...</td>\n",
              "    </tr>\n",
              "    <tr>\n",
              "      <th>1</th>\n",
              "      <td>MEG_2|Drugs</td>\n",
              "      <td>Drugs</td>\n",
              "      <td>Aminoglycosides</td>\n",
              "      <td>Aminoglycoside-resistant_16S_ribosomal_subunit...</td>\n",
              "      <td>A16S</td>\n",
              "      <td>AGGTAAGGAGGTGATCCAACCGCAGGTTCCCCTACGGTTACCTTGT...</td>\n",
              "    </tr>\n",
              "    <tr>\n",
              "      <th>2</th>\n",
              "      <td>MEG_3|Drugs</td>\n",
              "      <td>Drugs</td>\n",
              "      <td>Aminoglycosides</td>\n",
              "      <td>Aminoglycoside-resistant_16S_ribosomal_subunit...</td>\n",
              "      <td>A16S</td>\n",
              "      <td>TTTTGTTTGGAGAGTTTGATCCTGGCTCAGGACGAACGCTGGCGGC...</td>\n",
              "    </tr>\n",
              "    <tr>\n",
              "      <th>3</th>\n",
              "      <td>MEG_4|Drugs</td>\n",
              "      <td>Drugs</td>\n",
              "      <td>Aminoglycosides</td>\n",
              "      <td>Aminoglycoside-resistant_16S_ribosomal_subunit...</td>\n",
              "      <td>A16S</td>\n",
              "      <td>AGAGATTGAACATAAGAGTTTGATCCTGGCTCAGATTGAACGCTGG...</td>\n",
              "    </tr>\n",
              "    <tr>\n",
              "      <th>4</th>\n",
              "      <td>MEG_5|Drugs</td>\n",
              "      <td>Drugs</td>\n",
              "      <td>Aminoglycosides</td>\n",
              "      <td>Aminoglycoside-resistant_16S_ribosomal_subunit...</td>\n",
              "      <td>A16S</td>\n",
              "      <td>AGAGTTTGATCCTGGCTCAGGACGAACGCTGGCGGCGTGCTTAACA...</td>\n",
              "    </tr>\n",
              "  </tbody>\n",
              "</table>\n",
              "</div>\n",
              "      <button class=\"colab-df-convert\" onclick=\"convertToInteractive('df-865615e5-d86e-493e-9380-9cfcfe802234')\"\n",
              "              title=\"Convert this dataframe to an interactive table.\"\n",
              "              style=\"display:none;\">\n",
              "        \n",
              "  <svg xmlns=\"http://www.w3.org/2000/svg\" height=\"24px\"viewBox=\"0 0 24 24\"\n",
              "       width=\"24px\">\n",
              "    <path d=\"M0 0h24v24H0V0z\" fill=\"none\"/>\n",
              "    <path d=\"M18.56 5.44l.94 2.06.94-2.06 2.06-.94-2.06-.94-.94-2.06-.94 2.06-2.06.94zm-11 1L8.5 8.5l.94-2.06 2.06-.94-2.06-.94L8.5 2.5l-.94 2.06-2.06.94zm10 10l.94 2.06.94-2.06 2.06-.94-2.06-.94-.94-2.06-.94 2.06-2.06.94z\"/><path d=\"M17.41 7.96l-1.37-1.37c-.4-.4-.92-.59-1.43-.59-.52 0-1.04.2-1.43.59L10.3 9.45l-7.72 7.72c-.78.78-.78 2.05 0 2.83L4 21.41c.39.39.9.59 1.41.59.51 0 1.02-.2 1.41-.59l7.78-7.78 2.81-2.81c.8-.78.8-2.07 0-2.86zM5.41 20L4 18.59l7.72-7.72 1.47 1.35L5.41 20z\"/>\n",
              "  </svg>\n",
              "      </button>\n",
              "      \n",
              "  <style>\n",
              "    .colab-df-container {\n",
              "      display:flex;\n",
              "      flex-wrap:wrap;\n",
              "      gap: 12px;\n",
              "    }\n",
              "\n",
              "    .colab-df-convert {\n",
              "      background-color: #E8F0FE;\n",
              "      border: none;\n",
              "      border-radius: 50%;\n",
              "      cursor: pointer;\n",
              "      display: none;\n",
              "      fill: #1967D2;\n",
              "      height: 32px;\n",
              "      padding: 0 0 0 0;\n",
              "      width: 32px;\n",
              "    }\n",
              "\n",
              "    .colab-df-convert:hover {\n",
              "      background-color: #E2EBFA;\n",
              "      box-shadow: 0px 1px 2px rgba(60, 64, 67, 0.3), 0px 1px 3px 1px rgba(60, 64, 67, 0.15);\n",
              "      fill: #174EA6;\n",
              "    }\n",
              "\n",
              "    [theme=dark] .colab-df-convert {\n",
              "      background-color: #3B4455;\n",
              "      fill: #D2E3FC;\n",
              "    }\n",
              "\n",
              "    [theme=dark] .colab-df-convert:hover {\n",
              "      background-color: #434B5C;\n",
              "      box-shadow: 0px 1px 3px 1px rgba(0, 0, 0, 0.15);\n",
              "      filter: drop-shadow(0px 1px 2px rgba(0, 0, 0, 0.3));\n",
              "      fill: #FFFFFF;\n",
              "    }\n",
              "  </style>\n",
              "\n",
              "      <script>\n",
              "        const buttonEl =\n",
              "          document.querySelector('#df-865615e5-d86e-493e-9380-9cfcfe802234 button.colab-df-convert');\n",
              "        buttonEl.style.display =\n",
              "          google.colab.kernel.accessAllowed ? 'block' : 'none';\n",
              "\n",
              "        async function convertToInteractive(key) {\n",
              "          const element = document.querySelector('#df-865615e5-d86e-493e-9380-9cfcfe802234');\n",
              "          const dataTable =\n",
              "            await google.colab.kernel.invokeFunction('convertToInteractive',\n",
              "                                                     [key], {});\n",
              "          if (!dataTable) return;\n",
              "\n",
              "          const docLinkHtml = 'Like what you see? Visit the ' +\n",
              "            '<a target=\"_blank\" href=https://colab.research.google.com/notebooks/data_table.ipynb>data table notebook</a>'\n",
              "            + ' to learn more about interactive tables.';\n",
              "          element.innerHTML = '';\n",
              "          dataTable['output_type'] = 'display_data';\n",
              "          await google.colab.output.renderOutput(dataTable, element);\n",
              "          const docLink = document.createElement('div');\n",
              "          docLink.innerHTML = docLinkHtml;\n",
              "          element.appendChild(docLink);\n",
              "        }\n",
              "      </script>\n",
              "    </div>\n",
              "  </div>\n",
              "  "
            ]
          },
          "metadata": {},
          "execution_count": 9
        }
      ]
    },
    {
      "cell_type": "code",
      "source": [
        "df[\"class\"].value_counts()"
      ],
      "metadata": {
        "colab": {
          "base_uri": "https://localhost:8080/"
        },
        "id": "EL0y7gTvqHSH",
        "outputId": "e9bd08c8-7958-45c1-b96f-3798a0a5a490"
      },
      "execution_count": 10,
      "outputs": [
        {
          "output_type": "execute_result",
          "data": {
            "text/plain": [
              "betalactams                                        3911\n",
              "Aminoglycosides                                     773\n",
              "Drug and biocide resistance                         363\n",
              "Glycopeptides                                       299\n",
              "Fluoroquinolones                                    296\n",
              "Tetracyclines                                       294\n",
              "MLS                                                 270\n",
              "Multi-metal resistance                              226\n",
              "Phenicol                                            145\n",
              "Trimethoprim                                        135\n",
              "Copper resistance                                   117\n",
              "Multi-drug resistance                               113\n",
              "Sulfonamides                                        103\n",
              "Multi-biocide resistance                             98\n",
              "Lipopeptides                                         95\n",
              "Rifampin                                             70\n",
              "Fosfomycin                                           62\n",
              "Mercury resistance                                   62\n",
              "Biocide and metal resistance                         55\n",
              "Aminocoumarins                                       39\n",
              "Drug and biocide and metal resistance                39\n",
              "Arsenic resistance                                   34\n",
              "Nickel resistance                                    28\n",
              "Elfamycins                                           22\n",
              "Mycobacterium tuberculosis-specific Drug             21\n",
              "Metronidazole                                        17\n",
              "Zinc resistance                                      16\n",
              "Acid resistance                                      16\n",
              "Nucleosides                                          15\n",
              "Chromium resistance                                  15\n",
              "Phenolic compound resistance                         13\n",
              "Cationic antimicrobial peptides                      13\n",
              "Tellurium resistance                                 12\n",
              "Peroxide resistance                                  12\n",
              "Fusidic acid                                         10\n",
              "Iron resistance                                       7\n",
              "Bacitracin                                            6\n",
              "Mupirocin                                             5\n",
              "Lead resistance                                       5\n",
              "Acetate resistance                                    4\n",
              "Drug and metal resistance                             4\n",
              "Sodium resistance                                     4\n",
              "Paraquat resistance                                   3\n",
              "Tungsten Resistance                                   3\n",
              "Aluminum resistance                                   2\n",
              "Thiopeptides                                          2\n",
              "Quaternary Ammonium Compounds (QACs) resistance       2\n",
              "Polyamine resistance                                  2\n",
              "Cobalt resistance                                     2\n",
              "Naphthoquinone                                        1\n",
              "Gold resistance                                       1\n",
              "Oxazolidinone                                         1\n",
              "Pactamycin                                            1\n",
              "Pleuromutilin                                         1\n",
              "Cadmium resistance                                    1\n",
              "Biguanide resistance                                  1\n",
              "Tetracenomycin                                        1\n",
              "Name: class, dtype: int64"
            ]
          },
          "metadata": {},
          "execution_count": 10
        }
      ]
    },
    {
      "cell_type": "code",
      "source": [
        "df[\"mechanism\"].value_counts()"
      ],
      "metadata": {
        "colab": {
          "base_uri": "https://localhost:8080/"
        },
        "id": "wPRA-64Wm2e8",
        "outputId": "6ff44fc1-486c-4a1e-bab7-47b96d09abb1"
      },
      "execution_count": 11,
      "outputs": [
        {
          "output_type": "execute_result",
          "data": {
            "text/plain": [
              "Class_A_betalactamases                 1580\n",
              "Class_C_betalactamases                  950\n",
              "Class_D_betalactamases                  900\n",
              "Class_B_betalactamases                  410\n",
              "Aminoglycoside_N-acetyltransferases     359\n",
              "                                       ... \n",
              "Tetracenomycin_MFS_efflux_pump            1\n",
              "Tunicamycin_resistance_protein            1\n",
              "Chromate_ABC_efflux_pump                  1\n",
              "Biguanide_cation_efflux                   1\n",
              "Sulfonamide_monooxygenase                 1\n",
              "Name: mechanism, Length: 219, dtype: int64"
            ]
          },
          "metadata": {},
          "execution_count": 11
        }
      ]
    },
    {
      "cell_type": "code",
      "source": [
        "label_1 = ['Aminoglycosides', 'betalactams', 'Glycopeptides', 'Tetracyclines', 'MLS', 'Fluoroquinolones']\n",
        "label_2 = ['Class_A_betalactamases', 'Class_B_betalactamases', 'Class_c_betalactamases', 'Class_D_betalactamases']"
      ],
      "metadata": {
        "id": "QzZzQC0Am9Qj"
      },
      "execution_count": 12,
      "outputs": []
    },
    {
      "cell_type": "code",
      "source": [
        "df['labels'] = df[\"class\"]\n",
        "df.loc[~df['labels'].isin(label_1),'labels'] = \"other\""
      ],
      "metadata": {
        "id": "BYX3Z0TWrIYr"
      },
      "execution_count": 13,
      "outputs": []
    },
    {
      "cell_type": "code",
      "source": [
        "df.labels.value_counts()"
      ],
      "metadata": {
        "colab": {
          "base_uri": "https://localhost:8080/"
        },
        "id": "52DtXYPWsOyq",
        "outputId": "c5d445b6-d416-4126-aad4-170a614a045f"
      },
      "execution_count": 14,
      "outputs": [
        {
          "output_type": "execute_result",
          "data": {
            "text/plain": [
              "betalactams         3911\n",
              "other               2025\n",
              "Aminoglycosides      773\n",
              "Glycopeptides        299\n",
              "Fluoroquinolones     296\n",
              "Tetracyclines        294\n",
              "MLS                  270\n",
              "Name: labels, dtype: int64"
            ]
          },
          "metadata": {},
          "execution_count": 14
        }
      ]
    },
    {
      "cell_type": "code",
      "source": [
        "X = df.Sequence.values\n",
        "y = df.labels.values\n",
        "print(X.shape, y.shape)\n",
        "index_to_remove = []\n",
        "for (i, seq) in enumerate(X):\n",
        "  if set(seq.upper())!={\"A\", \"T\", \"C\", \"G\"}:\n",
        "    index_to_remove.append(i)\n",
        "index_to_remove\n",
        "X = np.delete(X, index_to_remove, axis=0)\n",
        "y = np.delete(y, index_to_remove, axis=0)\n",
        "print(X.shape, y.shape)\n"
      ],
      "metadata": {
        "id": "00_0y1pRn_Yj",
        "outputId": "e5a99d34-ec02-488f-d983-5a486e8fd6b6",
        "colab": {
          "base_uri": "https://localhost:8080/"
        }
      },
      "execution_count": 15,
      "outputs": [
        {
          "output_type": "stream",
          "name": "stdout",
          "text": [
            "(7868,) (7868,)\n",
            "(7819,) (7819,)\n"
          ]
        }
      ]
    },
    {
      "cell_type": "code",
      "source": [
        "code = {'A': 1, 'C': 2, 'G': 3, 'T': 4}\n",
        "label_code_1 = {\"betalactams\":0, \"Aminoglycosides\":1, \"Glycopeptides\":2, \"Fluoroquinolones\":3, \"Tetracyclines\":4, \"MLS\":5,\n",
        "              \"other\":6}\n",
        "import torch.nn.functional as F\n",
        "\n",
        "def encode(seq, label, labels_dict):\n",
        "  label_int = labels_dict[label]\n",
        "  enc_seq = [code[x] for x in seq.upper()]\n",
        "  return [torch.LongTensor(enc_seq[0:2000]), torch.LongTensor([label_int]), len(enc_seq)]\n",
        "\n",
        "class SequenceDataset(Dataset):\n",
        "    def __init__(self, X, y, labels_dict):\n",
        "        \n",
        "        self.X = X \n",
        "        self.y = y \n",
        "        self.labels_dict =labels_dict\n",
        "        self.len=len(self.X)      \n",
        "\n",
        "    def __getitem__(self, index):\n",
        "        # your implementation here: \n",
        "        X_elem, y_elem, length_seq = encode(self.X[index], self.y[index], labels_dict=self.labels_dict)\n",
        "        return F.pad(X_elem, pad=(0, 2000 - len(X_elem))), y_elem\n",
        "\n",
        "    def __len__(self):\n",
        "        return self.len\n",
        "    \n",
        "\n",
        "\n"
      ],
      "metadata": {
        "id": "gCuT6FUUabV-"
      },
      "execution_count": 16,
      "outputs": []
    },
    {
      "cell_type": "code",
      "source": [
        "X_train, X_test, y_train, y_test = train_test_split(X, y, test_size=0.2) \n",
        "X_train, X_val, y_train, y_val = train_test_split(X_train, y_train, test_size=0.1) \n",
        "X_train, X_val, y_train, y_val = train_test_split(X_train, y_train, test_size=0.1) "
      ],
      "metadata": {
        "id": "ej_a5GcBluHB"
      },
      "execution_count": 17,
      "outputs": []
    },
    {
      "cell_type": "code",
      "source": [
        "train_data = SequenceDataset(X_train, y_train, labels_dict=label_code_1)\n",
        "val_data = SequenceDataset(X_val, y_val, labels_dict=label_code_1)\n",
        "test_data = SequenceDataset(X_test, y_test, labels_dict=label_code_1)\n",
        "\n",
        "batch_size = 32\n",
        "train_dataloader = DataLoader(train_data, batch_size=batch_size, shuffle=True)# fill in code here\n",
        "val_dataloader = DataLoader(val_data, batch_size=batch_size, shuffle=True)# fill in code here\n",
        "test_dataloader = DataLoader(test_data, batch_size=batch_size, shuffle=True)# fill in code here"
      ],
      "metadata": {
        "id": "idK8K6IlluJe"
      },
      "execution_count": 18,
      "outputs": []
    },
    {
      "cell_type": "code",
      "source": [
        "class cnn1d(nn.Module):\n",
        "    def __init__(self, label_count = 7):\n",
        "        super(cnn1d, self).__init__()\n",
        "        self.embedding = nn.Embedding(5, 8)\n",
        "        self.conv1 = nn.Conv1d(8, 64, kernel_size = 3, padding='same')\n",
        "        self.maxpool1 = nn.MaxPool1d(kernel_size=5)\n",
        "        self.conv2 = nn.Conv1d(64, 64, kernel_size=3, padding=\"same\")\n",
        "        self.maxpool2 = nn.MaxPool1d(kernel_size=5)\n",
        "        self.conv3 = nn.Conv1d(64, 64, kernel_size=3, padding=\"same\")\n",
        "        self.maxpool3 = nn.MaxPool1d(kernel_size=5)\n",
        "        self.dense = nn.Sequential(nn.Linear(1024, 256), \n",
        "                             nn.ReLU(), nn.Linear(256, 64),\n",
        "                             nn.ReLU(), nn.Linear(64, label_count))\n",
        "\n",
        "    def forward(self, x):\n",
        "        \"\"\"Extract first fully connected feature vector\"\"\"\n",
        "        # Apply convolutions\n",
        "        x = self.embedding(x)\n",
        "        # print(x.shape)\n",
        "        # Apply pooling\n",
        "        x = self.conv1(x.permute(0, 2, 1))\n",
        "        # print(x.shape)\n",
        "        x = self.maxpool1(x)\n",
        "        x = self.conv2(x)\n",
        "        x = self.maxpool2(x)\n",
        "        x = self.conv3(x)\n",
        "        x = self.maxpool3(x)\n",
        "        x = torch.flatten(x, 1)\n",
        "        x = self.dense(x)\n",
        "        # print(x.shape)\n",
        "        # Flatten and convert to vectors\n",
        "        # x = torch.flatten(x, 1)\n",
        "        # x = self.fc1(x)\n",
        "        # x = self.classifier(x)\n",
        "        return x"
      ],
      "metadata": {
        "id": "iUq1fL6lluWC"
      },
      "execution_count": 19,
      "outputs": []
    },
    {
      "cell_type": "code",
      "source": [
        "device = torch.device(\"cuda:0\" if torch.cuda.is_available() else \"cpu\")\n"
      ],
      "metadata": {
        "id": "iw27PCJx0qA7"
      },
      "execution_count": 20,
      "outputs": []
    },
    {
      "cell_type": "code",
      "source": [
        "model = cnn1d()\n",
        "model = model.to(device)\n",
        "# for data in train_loader:\n",
        "#   model(data[0])\n"
      ],
      "metadata": {
        "id": "bqhJCoEnpu1u"
      },
      "execution_count": 21,
      "outputs": []
    },
    {
      "cell_type": "code",
      "source": [
        "optimizer = torch.optim.Adam(list(model.parameters()), lr=1e-3) "
      ],
      "metadata": {
        "id": "MziD84g10ydh"
      },
      "execution_count": 22,
      "outputs": []
    },
    {
      "cell_type": "code",
      "source": [
        "def train(model, dataloader, optimizer, device):\n",
        "    \n",
        "    '''\n",
        "    A function to train on the entire dataset for one epoch.\n",
        "    \n",
        "    Args: \n",
        "        model (torch.nn.Module): Your sequence classifier \n",
        "        dataloader (torch.utils.data.Dataloader): DataLoader object for the train data\n",
        "        optimizer (torch.optim.Optimizer): Optimizer object to interface gradient calculation and optimization \n",
        "        device (str): Your device\n",
        "        \n",
        "    Returns: \n",
        "        float: loss averaged over all the batches \n",
        "    \n",
        "    '''\n",
        "\n",
        "    batch_loss = []\n",
        "    model.train() # Set model to training mode \n",
        "    train_loss = 0 \n",
        "    count = 0\n",
        "    for batch in dataloader:    \n",
        "        seq, label = batch\n",
        "        seq = seq.to(device)\n",
        "        label = label.to(device)\n",
        "        \n",
        "        # train your model on each batch here \n",
        "        y_pred = model(seq)\n",
        "        loss = nn.functional.cross_entropy(y_pred, label.squeeze())# fill in loss here\n",
        "        train_loss += loss*len(label)\n",
        "        count += len(label)\n",
        "        batch_loss.append(loss.item())\n",
        "        \n",
        "        # run backpropagation given the loss you defined\n",
        "        optimizer.zero_grad()\n",
        "        loss.backward()\n",
        "        optimizer.step()\n",
        "    train_loss = train_loss/count\n",
        "    return np.array(batch_loss).mean(), train_loss\n",
        "\n",
        "\n",
        "def validate(model, dataloader, device):\n",
        "    \n",
        "    '''\n",
        "    A function to validate on the validation dataset for one epoch.\n",
        "    \n",
        "    Args: \n",
        "        model (torch.nn.Module): Your sequence classifier \n",
        "        dataloader (torch.utils.data.Dataloader): DataLoader object for the validation data\n",
        "        device (str): Your device\n",
        "        \n",
        "    Returns: \n",
        "        float: loss averaged over all the batches \n",
        "    \n",
        "    '''\n",
        "    \n",
        "    val_loss = []\n",
        "    model.eval() # Set model to evaluation mode \n",
        "    with torch.no_grad():    \n",
        "        for batch in dataloader:\n",
        "            seq, label = batch\n",
        "            seq = seq.to(device)\n",
        "            label = label.to(device)\n",
        "            y_pred = model(seq)\n",
        "            loss = nn.functional.cross_entropy(y_pred, label.squeeze())# fill in loss here\n",
        "            val_loss.append(loss.item())\n",
        "            # validate your model on each batch here \n",
        "            \n",
        "    return np.array(val_loss).mean()   "
      ],
      "metadata": {
        "id": "n1_df_vIpu4K"
      },
      "execution_count": 23,
      "outputs": []
    },
    {
      "cell_type": "code",
      "source": [
        "print(\"epoch\", \"train loss\", \"validation loss\")\n",
        "\n",
        "val_loss_curve = []\n",
        "train_loss_curve = []\n",
        "\n",
        "for epoch in range(6):\n",
        "    \n",
        "    # Compute train your model on training data\n",
        "    epoch_loss, train_loss = train(model, train_dataloader, optimizer,  device=0)\n",
        "    \n",
        "    # Validate your on validation data \n",
        "    val_loss = validate(model, val_dataloader, device=0) \n",
        "    \n",
        "    # Record train and loss performance \n",
        "    train_loss_curve.append(epoch_loss)\n",
        "    val_loss_curve.append(val_loss)\n",
        "    \n",
        "    # The learning rate scheduler records the validation loss \n",
        "    # scheduler.step(val_loss)\n",
        "    \n",
        "    print(epoch, epoch_loss, val_loss)"
      ],
      "metadata": {
        "id": "jwJ0Vn8ypu6n",
        "outputId": "b43fe47c-faa2-44c1-e09a-6f3f4b504b3d",
        "colab": {
          "base_uri": "https://localhost:8080/"
        }
      },
      "execution_count": 24,
      "outputs": [
        {
          "output_type": "stream",
          "name": "stdout",
          "text": [
            "epoch train loss validation loss\n",
            "0 1.0045337802584067 0.6321556634373136\n",
            "1 0.6058399358635429 0.4420787576172087\n",
            "2 0.4357111837316609 0.36196501553058624\n",
            "3 0.31816150149646794 0.30087852891948486\n",
            "4 0.21612014954195083 0.29650431002179783\n",
            "5 0.17023593942054882 0.30308346615897286\n"
          ]
        }
      ]
    },
    {
      "cell_type": "code",
      "source": [
        "pred_labels = []\n",
        "true_labels = []\n",
        "test_loss = 0\n",
        "with torch.no_grad():\n",
        "  model.eval()\n",
        "  for batch in test_dataloader:\n",
        "    seq, label = batch\n",
        "    seq = seq.to(device)\n",
        "    label = label.to(device)\n",
        "    logits = model(seq)\n",
        "    test_loss += nn.functional.cross_entropy(logits, label.squeeze())*len(label)\n",
        "    preds = logits.max(1).indices\n",
        "    true_labels.extend(list(label.squeeze().detach().cpu().numpy()))\n",
        "    pred_labels.extend(list(preds.squeeze().detach().cpu().numpy()))\n",
        "test_loss = test_loss/len(test_data)"
      ],
      "metadata": {
        "id": "xu2EDPd2pu8f"
      },
      "execution_count": 25,
      "outputs": []
    },
    {
      "cell_type": "code",
      "source": [
        "from sklearn.metrics import confusion_matrix\n",
        "cmat = confusion_matrix(true_labels, pred_labels)\n",
        "cmat"
      ],
      "metadata": {
        "id": "ZTCe4Zhupu_C",
        "outputId": "ee7fc716-1323-4169-fb06-ddd6007ac9f0",
        "colab": {
          "base_uri": "https://localhost:8080/"
        }
      },
      "execution_count": 26,
      "outputs": [
        {
          "output_type": "execute_result",
          "data": {
            "text/plain": [
              "array([[770,   2,   1,   0,   0,   2,  21],\n",
              "       [  1, 135,   0,   0,   0,   0,  12],\n",
              "       [  0,   6,  31,   1,   0,   0,  16],\n",
              "       [  0,   0,   0,  54,   0,   0,   0],\n",
              "       [  0,   0,   0,   2,  42,   0,  13],\n",
              "       [  2,   5,   0,   0,   0,  33,  11],\n",
              "       [  8,  34,   1,   6,   1,   1, 353]])"
            ]
          },
          "metadata": {},
          "execution_count": 26
        }
      ]
    },
    {
      "cell_type": "code",
      "source": [
        "import seaborn as sns\n",
        "sns.set(rc = {'figure.figsize':(10,6)})\n",
        "\n",
        "fig, ax = plt.subplots()\n",
        "sns.heatmap(cmat, annot=cmat, fmt=\"\",  ax=ax, yticklabels=(label_code_1.keys()),\n",
        "            xticklabels=label_code_1.keys())\n",
        "plt.show()"
      ],
      "metadata": {
        "id": "WJ9s6EuPluYo",
        "outputId": "36a83d4b-a764-4205-a5c7-6ca37e575419",
        "colab": {
          "base_uri": "https://localhost:8080/",
          "height": 461
        }
      },
      "execution_count": 27,
      "outputs": [
        {
          "output_type": "display_data",
          "data": {
            "text/plain": [
              "<Figure size 720x432 with 2 Axes>"
            ],
            "image/png": "[encoded data removed]"
          },
          "metadata": {}
        }
      ]
    },
    {
      "cell_type": "code",
      "source": [
        "def get_avg_length_of_seq(df):\n",
        "  dict_stats = {}\n",
        "  for classes in label_1:\n",
        "    df_temp = df[(df[\"class\"]==classes)&(df['Sequence'].str.len()<=2000)]\n",
        "    df_temp[\"length\"] = df_temp['Sequence'].str.len()\n",
        "    dict_stats[classes] = (df_temp[\"length\"].mean(), df_temp[\"length\"].std(), df_temp[\"length\"].max(), df_temp[\"length\"].min())\n",
        "  return dict_stats"
      ],
      "metadata": {
        "id": "uf4xn5xZlubP"
      },
      "execution_count": 28,
      "outputs": []
    },
    {
      "cell_type": "code",
      "source": [
        "dict_stats = get_avg_length_of_seq(df)\n",
        "dict_stats"
      ],
      "metadata": {
        "id": "W5XeO7FT8FzN",
        "outputId": "e88977cb-91a5-4078-dbfa-2079531fa664",
        "colab": {
          "base_uri": "https://localhost:8080/"
        }
      },
      "execution_count": 29,
      "outputs": [
        {
          "output_type": "stream",
          "name": "stderr",
          "text": [
            "/usr/local/lib/python3.7/dist-packages/ipykernel_launcher.py:5: SettingWithCopyWarning: \n",
            "A value is trying to be set on a copy of a slice from a DataFrame.\n",
            "Try using .loc[row_indexer,col_indexer] = value instead\n",
            "\n",
            "See the caveats in the documentation: https://pandas.pydata.org/pandas-docs/stable/user_guide/indexing.html#returning-a-view-versus-a-copy\n",
            "  \"\"\"\n"
          ]
        },
        {
          "output_type": "execute_result",
          "data": {
            "text/plain": [
              "{'Aminoglycosides': (696.3031088082902, 212.82609243082857, 1551, 375),\n",
              " 'Fluoroquinolones': (736.4894736842106, 287.85923476944305, 1998, 198),\n",
              " 'Glycopeptides': (923.1278195488721, 305.4917573179186, 1971, 228),\n",
              " 'MLS': (914.924, 269.2891994040286, 1710, 417),\n",
              " 'Tetracyclines': (1494.5358361774745, 430.184887273795, 1992, 312),\n",
              " 'betalactams': (934.7947924722866, 169.142251527775, 1998, 211)}"
            ]
          },
          "metadata": {},
          "execution_count": 29
        }
      ]
    },
    {
      "cell_type": "code",
      "source": [
        "model_cut = torch.nn.Sequential(*(list(model.children())[:-1]), model.dense[:-2])\n",
        "model_cut"
      ],
      "metadata": {
        "id": "1N_A2Drw4mYP",
        "outputId": "ffff8a67-5dac-471c-8acf-54ba74ff6a55",
        "colab": {
          "base_uri": "https://localhost:8080/"
        }
      },
      "execution_count": 30,
      "outputs": [
        {
          "output_type": "execute_result",
          "data": {
            "text/plain": [
              "Sequential(\n",
              "  (0): Embedding(5, 8)\n",
              "  (1): Conv1d(8, 64, kernel_size=(3,), stride=(1,), padding=same)\n",
              "  (2): MaxPool1d(kernel_size=5, stride=5, padding=0, dilation=1, ceil_mode=False)\n",
              "  (3): Conv1d(64, 64, kernel_size=(3,), stride=(1,), padding=same)\n",
              "  (4): MaxPool1d(kernel_size=5, stride=5, padding=0, dilation=1, ceil_mode=False)\n",
              "  (5): Conv1d(64, 64, kernel_size=(3,), stride=(1,), padding=same)\n",
              "  (6): MaxPool1d(kernel_size=5, stride=5, padding=0, dilation=1, ceil_mode=False)\n",
              "  (7): Sequential(\n",
              "    (0): Linear(in_features=1024, out_features=256, bias=True)\n",
              "    (1): ReLU()\n",
              "    (2): Linear(in_features=256, out_features=64, bias=True)\n",
              "  )\n",
              ")"
            ]
          },
          "metadata": {},
          "execution_count": 30
        }
      ]
    },
    {
      "cell_type": "code",
      "source": [
        "# model_cut = nn.Sequential(*[model.children for i in range(1)])\n",
        "# model_cut\n",
        "embedding_list = []\n",
        "label_list = []\n",
        "model_cut.eval() # Set model to evaluation mode \n",
        "with torch.no_grad():    \n",
        "    for batch in train_dataloader:\n",
        "        seq, label = batch\n",
        "        seq = seq.to(device)\n",
        "        label = label.to(device)\n",
        "        seq = model_cut[0](seq)\n",
        "\n",
        "        # print(x.shape)\n",
        "        # Apply pooling\n",
        "        seq = model_cut[1](seq.permute(0, 2, 1))\n",
        "        seq = model_cut[2:7](seq)\n",
        "        seq = torch.flatten(seq, 1)\n",
        "        y_pred = model_cut[7](seq)\n",
        "        label_list.extend(list(label.squeeze().detach().cpu().numpy()))\n",
        "        embedding_list.extend(list(y_pred.detach().cpu().numpy()))\n",
        "        \n",
        "            # validate your model on each batch here"
      ],
      "metadata": {
        "id": "rmctoVeGuaCz"
      },
      "execution_count": 31,
      "outputs": []
    },
    {
      "cell_type": "code",
      "source": [
        "embedding_list = np.array(embedding_list)\n",
        "label_list = np.array(label_list)\n",
        "embedding_list.shape, label_list.shape"
      ],
      "metadata": {
        "colab": {
          "base_uri": "https://localhost:8080/"
        },
        "id": "oKHX2U-K9IeK",
        "outputId": "5e719da2-6fc8-4e1e-a811-7fd4915a8185"
      },
      "execution_count": 32,
      "outputs": [
        {
          "output_type": "execute_result",
          "data": {
            "text/plain": [
              "((5066, 64), (5066,))"
            ]
          },
          "metadata": {},
          "execution_count": 32
        }
      ]
    },
    {
      "cell_type": "code",
      "source": [
        "label_value = [list(label_code_1.keys())[list(label_code_1.values()).index(p)] for p in label_list]"
      ],
      "metadata": {
        "id": "IkA5dhho-v1x"
      },
      "execution_count": 33,
      "outputs": []
    },
    {
      "cell_type": "code",
      "source": [
        "len(label_list), len(label_value)"
      ],
      "metadata": {
        "id": "PA6EJA-6CpU7",
        "outputId": "2627a91d-0611-43d8-e67c-1d2561c02485",
        "colab": {
          "base_uri": "https://localhost:8080/"
        }
      },
      "execution_count": 34,
      "outputs": [
        {
          "output_type": "execute_result",
          "data": {
            "text/plain": [
              "(5066, 5066)"
            ]
          },
          "metadata": {},
          "execution_count": 34
        }
      ]
    },
    {
      "cell_type": "code",
      "source": [
        "df_embedding = pd.DataFrame(data = (embedding_list))\n",
        "# df_embedding[\"label\"] = np.array(label_value)\n",
        "df_embedding.head()"
      ],
      "metadata": {
        "id": "edP6ojCH9oHi",
        "outputId": "df2bd747-2fe9-4956-d7de-9448c78d7fbd",
        "colab": {
          "base_uri": "https://localhost:8080/",
          "height": 300
        }
      },
      "execution_count": 35,
      "outputs": [
        {
          "output_type": "execute_result",
          "data": {
            "text/plain": [
              "         0         1         2         3          4         5         6   \\\n",
              "0 -6.568157  5.918728 -3.160207  2.939859  -7.124717 -3.833718 -1.255378   \n",
              "1 -5.795640  0.417565 -4.307269  9.934281  -5.242456 -1.285625 -1.066793   \n",
              "2 -4.352492 -0.670720 -4.367099  0.486351  -8.467844 -4.339098  7.299596   \n",
              "3 -8.308548  4.065097 -6.843697 -7.437471 -11.884142 -8.969169 -1.419942   \n",
              "4 -5.839582  3.572581 -3.845376 -5.708991  -8.085896 -4.131569 -0.663737   \n",
              "\n",
              "         7         8         9   ...         54        55        56        57  \\\n",
              "0  4.874377 -2.416450 -6.227286  ...   3.808418  4.988559 -2.407717 -0.010399   \n",
              "1  4.406025 -1.521626 -5.644256  ...  -3.406441  0.468325 -2.974653 -6.028983   \n",
              "2 -1.670391  2.400264 -4.190016  ...  -1.371246  4.709596 -1.969560 -3.134640   \n",
              "3 -0.299332 -3.607426 -6.196358  ...  11.837292  0.936019 -0.470947 -3.656006   \n",
              "4 -1.006624 -1.472514 -4.870086  ...   7.963094  0.931408 -1.386894 -1.529742   \n",
              "\n",
              "         58        59        60        61         62         63  \n",
              "0  3.585801 -2.264568  4.725559  1.742228   3.090754   2.108424  \n",
              "1 -2.790541  3.530962 -4.212465  4.226116   5.261993  13.433046  \n",
              "2 -6.155808  0.894888  6.645826 -4.929871   4.720489   3.653761  \n",
              "3 -2.824847 -6.546516  8.918540 -1.357944  15.665277  11.245146  \n",
              "4 -1.072280 -6.091796  9.425827 -1.121245  10.466285   4.353653  \n",
              "\n",
              "[5 rows x 64 columns]"
            ],
            "text/html": [
              "\n",
              "  <div id=\"df-8fb035d7-b9bf-4346-a718-fd300b06d189\">\n",
              "    <div class=\"colab-df-container\">\n",
              "      <div>\n",
              "<style scoped>\n",
              "    .dataframe tbody tr th:only-of-type {\n",
              "        vertical-align: middle;\n",
              "    }\n",
              "\n",
              "    .dataframe tbody tr th {\n",
              "        vertical-align: top;\n",
              "    }\n",
              "\n",
              "    .dataframe thead th {\n",
              "        text-align: right;\n",
              "    }\n",
              "</style>\n",
              "<table border=\"1\" class=\"dataframe\">\n",
              "  <thead>\n",
              "    <tr style=\"text-align: right;\">\n",
              "      <th></th>\n",
              "      <th>0</th>\n",
              "      <th>1</th>\n",
              "      <th>2</th>\n",
              "      <th>3</th>\n",
              "      <th>4</th>\n",
              "      <th>5</th>\n",
              "      <th>6</th>\n",
              "      <th>7</th>\n",
              "      <th>8</th>\n",
              "      <th>9</th>\n",
              "      <th>...</th>\n",
              "      <th>54</th>\n",
              "      <th>55</th>\n",
              "      <th>56</th>\n",
              "      <th>57</th>\n",
              "      <th>58</th>\n",
              "      <th>59</th>\n",
              "      <th>60</th>\n",
              "      <th>61</th>\n",
              "      <th>62</th>\n",
              "      <th>63</th>\n",
              "    </tr>\n",
              "  </thead>\n",
              "  <tbody>\n",
              "    <tr>\n",
              "      <th>0</th>\n",
              "      <td>-6.568157</td>\n",
              "      <td>5.918728</td>\n",
              "      <td>-3.160207</td>\n",
              "      <td>2.939859</td>\n",
              "      <td>-7.124717</td>\n",
              "      <td>-3.833718</td>\n",
              "      <td>-1.255378</td>\n",
              "      <td>4.874377</td>\n",
              "      <td>-2.416450</td>\n",
              "      <td>-6.227286</td>\n",
              "      <td>...</td>\n",
              "      <td>3.808418</td>\n",
              "      <td>4.988559</td>\n",
              "      <td>-2.407717</td>\n",
              "      <td>-0.010399</td>\n",
              "      <td>3.585801</td>\n",
              "      <td>-2.264568</td>\n",
              "      <td>4.725559</td>\n",
              "      <td>1.742228</td>\n",
              "      <td>3.090754</td>\n",
              "      <td>2.108424</td>\n",
              "    </tr>\n",
              "    <tr>\n",
              "      <th>1</th>\n",
              "      <td>-5.795640</td>\n",
              "      <td>0.417565</td>\n",
              "      <td>-4.307269</td>\n",
              "      <td>9.934281</td>\n",
              "      <td>-5.242456</td>\n",
              "      <td>-1.285625</td>\n",
              "      <td>-1.066793</td>\n",
              "      <td>4.406025</td>\n",
              "      <td>-1.521626</td>\n",
              "      <td>-5.644256</td>\n",
              "      <td>...</td>\n",
              "      <td>-3.406441</td>\n",
              "      <td>0.468325</td>\n",
              "      <td>-2.974653</td>\n",
              "      <td>-6.028983</td>\n",
              "      <td>-2.790541</td>\n",
              "      <td>3.530962</td>\n",
              "      <td>-4.212465</td>\n",
              "      <td>4.226116</td>\n",
              "      <td>5.261993</td>\n",
              "      <td>13.433046</td>\n",
              "    </tr>\n",
              "    <tr>\n",
              "      <th>2</th>\n",
              "      <td>-4.352492</td>\n",
              "      <td>-0.670720</td>\n",
              "      <td>-4.367099</td>\n",
              "      <td>0.486351</td>\n",
              "      <td>-8.467844</td>\n",
              "      <td>-4.339098</td>\n",
              "      <td>7.299596</td>\n",
              "      <td>-1.670391</td>\n",
              "      <td>2.400264</td>\n",
              "      <td>-4.190016</td>\n",
              "      <td>...</td>\n",
              "      <td>-1.371246</td>\n",
              "      <td>4.709596</td>\n",
              "      <td>-1.969560</td>\n",
              "      <td>-3.134640</td>\n",
              "      <td>-6.155808</td>\n",
              "      <td>0.894888</td>\n",
              "      <td>6.645826</td>\n",
              "      <td>-4.929871</td>\n",
              "      <td>4.720489</td>\n",
              "      <td>3.653761</td>\n",
              "    </tr>\n",
              "    <tr>\n",
              "      <th>3</th>\n",
              "      <td>-8.308548</td>\n",
              "      <td>4.065097</td>\n",
              "      <td>-6.843697</td>\n",
              "      <td>-7.437471</td>\n",
              "      <td>-11.884142</td>\n",
              "      <td>-8.969169</td>\n",
              "      <td>-1.419942</td>\n",
              "      <td>-0.299332</td>\n",
              "      <td>-3.607426</td>\n",
              "      <td>-6.196358</td>\n",
              "      <td>...</td>\n",
              "      <td>11.837292</td>\n",
              "      <td>0.936019</td>\n",
              "      <td>-0.470947</td>\n",
              "      <td>-3.656006</td>\n",
              "      <td>-2.824847</td>\n",
              "      <td>-6.546516</td>\n",
              "      <td>8.918540</td>\n",
              "      <td>-1.357944</td>\n",
              "      <td>15.665277</td>\n",
              "      <td>11.245146</td>\n",
              "    </tr>\n",
              "    <tr>\n",
              "      <th>4</th>\n",
              "      <td>-5.839582</td>\n",
              "      <td>3.572581</td>\n",
              "      <td>-3.845376</td>\n",
              "      <td>-5.708991</td>\n",
              "      <td>-8.085896</td>\n",
              "      <td>-4.131569</td>\n",
              "      <td>-0.663737</td>\n",
              "      <td>-1.006624</td>\n",
              "      <td>-1.472514</td>\n",
              "      <td>-4.870086</td>\n",
              "      <td>...</td>\n",
              "      <td>7.963094</td>\n",
              "      <td>0.931408</td>\n",
              "      <td>-1.386894</td>\n",
              "      <td>-1.529742</td>\n",
              "      <td>-1.072280</td>\n",
              "      <td>-6.091796</td>\n",
              "      <td>9.425827</td>\n",
              "      <td>-1.121245</td>\n",
              "      <td>10.466285</td>\n",
              "      <td>4.353653</td>\n",
              "    </tr>\n",
              "  </tbody>\n",
              "</table>\n",
              "<p>5 rows × 64 columns</p>\n",
              "</div>\n",
              "      <button class=\"colab-df-convert\" onclick=\"convertToInteractive('df-8fb035d7-b9bf-4346-a718-fd300b06d189')\"\n",
              "              title=\"Convert this dataframe to an interactive table.\"\n",
              "              style=\"display:none;\">\n",
              "        \n",
              "  <svg xmlns=\"http://www.w3.org/2000/svg\" height=\"24px\"viewBox=\"0 0 24 24\"\n",
              "       width=\"24px\">\n",
              "    <path d=\"M0 0h24v24H0V0z\" fill=\"none\"/>\n",
              "    <path d=\"M18.56 5.44l.94 2.06.94-2.06 2.06-.94-2.06-.94-.94-2.06-.94 2.06-2.06.94zm-11 1L8.5 8.5l.94-2.06 2.06-.94-2.06-.94L8.5 2.5l-.94 2.06-2.06.94zm10 10l.94 2.06.94-2.06 2.06-.94-2.06-.94-.94-2.06-.94 2.06-2.06.94z\"/><path d=\"M17.41 7.96l-1.37-1.37c-.4-.4-.92-.59-1.43-.59-.52 0-1.04.2-1.43.59L10.3 9.45l-7.72 7.72c-.78.78-.78 2.05 0 2.83L4 21.41c.39.39.9.59 1.41.59.51 0 1.02-.2 1.41-.59l7.78-7.78 2.81-2.81c.8-.78.8-2.07 0-2.86zM5.41 20L4 18.59l7.72-7.72 1.47 1.35L5.41 20z\"/>\n",
              "  </svg>\n",
              "      </button>\n",
              "      \n",
              "  <style>\n",
              "    .colab-df-container {\n",
              "      display:flex;\n",
              "      flex-wrap:wrap;\n",
              "      gap: 12px;\n",
              "    }\n",
              "\n",
              "    .colab-df-convert {\n",
              "      background-color: #E8F0FE;\n",
              "      border: none;\n",
              "      border-radius: 50%;\n",
              "      cursor: pointer;\n",
              "      display: none;\n",
              "      fill: #1967D2;\n",
              "      height: 32px;\n",
              "      padding: 0 0 0 0;\n",
              "      width: 32px;\n",
              "    }\n",
              "\n",
              "    .colab-df-convert:hover {\n",
              "      background-color: #E2EBFA;\n",
              "      box-shadow: 0px 1px 2px rgba(60, 64, 67, 0.3), 0px 1px 3px 1px rgba(60, 64, 67, 0.15);\n",
              "      fill: #174EA6;\n",
              "    }\n",
              "\n",
              "    [theme=dark] .colab-df-convert {\n",
              "      background-color: #3B4455;\n",
              "      fill: #D2E3FC;\n",
              "    }\n",
              "\n",
              "    [theme=dark] .colab-df-convert:hover {\n",
              "      background-color: #434B5C;\n",
              "      box-shadow: 0px 1px 3px 1px rgba(0, 0, 0, 0.15);\n",
              "      filter: drop-shadow(0px 1px 2px rgba(0, 0, 0, 0.3));\n",
              "      fill: #FFFFFF;\n",
              "    }\n",
              "  </style>\n",
              "\n",
              "      <script>\n",
              "        const buttonEl =\n",
              "          document.querySelector('#df-8fb035d7-b9bf-4346-a718-fd300b06d189 button.colab-df-convert');\n",
              "        buttonEl.style.display =\n",
              "          google.colab.kernel.accessAllowed ? 'block' : 'none';\n",
              "\n",
              "        async function convertToInteractive(key) {\n",
              "          const element = document.querySelector('#df-8fb035d7-b9bf-4346-a718-fd300b06d189');\n",
              "          const dataTable =\n",
              "            await google.colab.kernel.invokeFunction('convertToInteractive',\n",
              "                                                     [key], {});\n",
              "          if (!dataTable) return;\n",
              "\n",
              "          const docLinkHtml = 'Like what you see? Visit the ' +\n",
              "            '<a target=\"_blank\" href=https://colab.research.google.com/notebooks/data_table.ipynb>data table notebook</a>'\n",
              "            + ' to learn more about interactive tables.';\n",
              "          element.innerHTML = '';\n",
              "          dataTable['output_type'] = 'display_data';\n",
              "          await google.colab.output.renderOutput(dataTable, element);\n",
              "          const docLink = document.createElement('div');\n",
              "          docLink.innerHTML = docLinkHtml;\n",
              "          element.appendChild(docLink);\n",
              "        }\n",
              "      </script>\n",
              "    </div>\n",
              "  </div>\n",
              "  "
            ]
          },
          "metadata": {},
          "execution_count": 35
        }
      ]
    },
    {
      "cell_type": "code",
      "source": [
        "fit = umap.UMAP(n_neighbors=30, min_dist = 0.1)\n",
        "# Use default parameters?"
      ],
      "metadata": {
        "id": "ElSTwyJORaKM"
      },
      "execution_count": 36,
      "outputs": []
    },
    {
      "cell_type": "code",
      "source": [
        "reduced_embedding = fit.fit_transform(df_embedding)"
      ],
      "metadata": {
        "id": "hGDwR4j1t96S",
        "outputId": "2bd448ae-3634-49af-cd92-e515b88ae259",
        "colab": {
          "base_uri": "https://localhost:8080/"
        }
      },
      "execution_count": 37,
      "outputs": [
        {
          "output_type": "stream",
          "name": "stderr",
          "text": [
            "/usr/local/lib/python3.7/dist-packages/numba/np/ufunc/parallel.py:363: NumbaWarning: The TBB threading layer requires TBB version 2019.5 or later i.e., TBB_INTERFACE_VERSION >= 11005. Found TBB_INTERFACE_VERSION = 9107. The TBB threading layer is disabled.\n",
            "  warnings.warn(problem)\n"
          ]
        }
      ]
    },
    {
      "cell_type": "code",
      "source": [
        "reduced_embedding = pd.DataFrame(reduced_embedding, columns=['dim1', 'dim2'])\n",
        "reduced_embedding[\"label\"] = np.array(label_value)"
      ],
      "metadata": {
        "id": "IttTIGZUEVDG"
      },
      "execution_count": 38,
      "outputs": []
    },
    {
      "cell_type": "code",
      "source": [
        "sns.relplot(data=reduced_embedding, x=\"dim1\", y='dim2',\n",
        "                hue='label', hue_order=label_code_1.keys(), aspect=1.61, alpha = 0.1)\n",
        "plt.show()"
      ],
      "metadata": {
        "id": "nyg-iiD9JNkt",
        "outputId": "c9648862-ba77-468c-80b3-d9fb372e3cd2",
        "colab": {
          "base_uri": "https://localhost:8080/",
          "height": 365
        }
      },
      "execution_count": 39,
      "outputs": [
        {
          "output_type": "display_data",
          "data": {
            "text/plain": [
              "<Figure size 713.7x360 with 1 Axes>"
            ],
            "image/png": "[encoded data removed]"
          },
          "metadata": {}
        }
      ]
    },
    {
      "cell_type": "code",
      "source": [
        "df[\"labels_2\"] = df[\"labels\"]\n",
        "df.loc[(df['mechanism'] == \"Class_A_betalactamases\"),'labels_2'] = \"Class_A_betalactamases\"\n",
        "df.loc[(df['mechanism'] == \"Class_B_betalactamases\"),'labels_2'] = \"Class_B_betalactamases\"\n",
        "df.loc[(df['mechanism'] == \"Class_C_betalactamases\"),'labels_2'] = \"Class_C_betalactamases\"\n",
        "df.loc[(df['mechanism'] == \"Class_D_betalactamases\"),'labels_2'] = \"Class_D_betalactamases\""
      ],
      "metadata": {
        "id": "Sv_X4FK_-qZf"
      },
      "execution_count": 40,
      "outputs": []
    },
    {
      "cell_type": "code",
      "source": [
        "df.labels_2.value_counts()"
      ],
      "metadata": {
        "id": "grLDE1iM-TS2",
        "outputId": "a767e958-4241-4670-8785-0b7afc8cc3f3",
        "colab": {
          "base_uri": "https://localhost:8080/"
        }
      },
      "execution_count": 41,
      "outputs": [
        {
          "output_type": "execute_result",
          "data": {
            "text/plain": [
              "other                     2025\n",
              "Class_A_betalactamases    1580\n",
              "Class_C_betalactamases     950\n",
              "Class_D_betalactamases     900\n",
              "Aminoglycosides            773\n",
              "Class_B_betalactamases     410\n",
              "Glycopeptides              299\n",
              "Fluoroquinolones           296\n",
              "Tetracyclines              294\n",
              "MLS                        270\n",
              "betalactams                 71\n",
              "Name: labels_2, dtype: int64"
            ]
          },
          "metadata": {},
          "execution_count": 41
        }
      ]
    },
    {
      "cell_type": "code",
      "source": [
        "label_code_2 = {\"betalactams\":0, \"Aminoglycosides\":1, \"Glycopeptides\":2, \"Fluoroquinolones\":3, \"Tetracyclines\":4, \"MLS\":5,\n",
        "              \"other\":6, \"Class_A_betalactamases\":7, \"Class_B_betalactamases\":8, \"Class_C_betalactamases\":9,\n",
        "              \"Class_D_betalactamases\":10}"
      ],
      "metadata": {
        "id": "qpiXxD50_W7h"
      },
      "execution_count": 42,
      "outputs": []
    },
    {
      "cell_type": "code",
      "source": [
        "X = df.Sequence.values\n",
        "y = df.labels_2.values\n",
        "print(X.shape, y.shape)\n",
        "index_to_remove = []\n",
        "for (i, seq) in enumerate(X):\n",
        "  if set(seq.upper())!={\"A\", \"T\", \"C\", \"G\"}:\n",
        "    index_to_remove.append(i)\n",
        "index_to_remove\n",
        "X = np.delete(X, index_to_remove, axis=0)\n",
        "y = np.delete(y, index_to_remove, axis=0)\n",
        "print(X.shape, y.shape)"
      ],
      "metadata": {
        "id": "oWR3uFPA_W-K",
        "outputId": "86de57ee-1e09-467e-e963-bc5c6d65fd39",
        "colab": {
          "base_uri": "https://localhost:8080/"
        }
      },
      "execution_count": 43,
      "outputs": [
        {
          "output_type": "stream",
          "name": "stdout",
          "text": [
            "(7868,) (7868,)\n",
            "(7819,) (7819,)\n"
          ]
        }
      ]
    },
    {
      "cell_type": "code",
      "source": [
        "from pandas.core.algorithms import unique\n",
        "unique(y)"
      ],
      "metadata": {
        "id": "wDkJMiCaCn6l",
        "outputId": "b12c0a53-0664-4b83-8e5d-f28a1ad39f8d",
        "colab": {
          "base_uri": "https://localhost:8080/"
        }
      },
      "execution_count": 44,
      "outputs": [
        {
          "output_type": "execute_result",
          "data": {
            "text/plain": [
              "array(['Aminoglycosides', 'other', 'Class_C_betalactamases',\n",
              "       'Class_A_betalactamases', 'Class_B_betalactamases', 'betalactams',\n",
              "       'Class_D_betalactamases', 'Glycopeptides', 'MLS',\n",
              "       'Fluoroquinolones', 'Tetracyclines'], dtype=object)"
            ]
          },
          "metadata": {},
          "execution_count": 44
        }
      ]
    },
    {
      "cell_type": "code",
      "source": [
        "X_train, X_test, y_train, y_test = train_test_split(X, y, test_size=0.2) \n",
        "X_train, X_val, y_train, y_val = train_test_split(X_train, y_train, test_size=0.1) \n",
        "X_train, X_val, y_train, y_val = train_test_split(X_train, y_train, test_size=0.1) "
      ],
      "metadata": {
        "id": "q4XRBVVs_XAb"
      },
      "execution_count": 45,
      "outputs": []
    },
    {
      "cell_type": "code",
      "source": [
        "train_data = SequenceDataset(X_train, y_train, labels_dict = label_code_2)\n",
        "val_data = SequenceDataset(X_val, y_val, labels_dict = label_code_2)\n",
        "test_data = SequenceDataset(X_test, y_test, labels_dict = label_code_2)\n",
        "\n",
        "batch_size = 32\n",
        "train_dataloader = DataLoader(train_data, batch_size=batch_size, shuffle=True)# fill in code here\n",
        "val_dataloader = DataLoader(val_data, batch_size=batch_size, shuffle=True)# fill in code here\n",
        "test_dataloader = DataLoader(test_data, batch_size=batch_size, shuffle=True)# fill in code here"
      ],
      "metadata": {
        "id": "6tGg2g_LAuBr"
      },
      "execution_count": 46,
      "outputs": []
    },
    {
      "cell_type": "code",
      "source": [
        "model = cnn1d(label_count=len(label_code_2))\n",
        "model = model.to(device)"
      ],
      "metadata": {
        "id": "-wYecjaBAuEC"
      },
      "execution_count": 47,
      "outputs": []
    },
    {
      "cell_type": "code",
      "source": [
        "model"
      ],
      "metadata": {
        "id": "4pzdcks5BYVc",
        "outputId": "0f02c1b1-2970-497c-f07f-4f064490ebb2",
        "colab": {
          "base_uri": "https://localhost:8080/"
        }
      },
      "execution_count": 48,
      "outputs": [
        {
          "output_type": "execute_result",
          "data": {
            "text/plain": [
              "cnn1d(\n",
              "  (embedding): Embedding(5, 8)\n",
              "  (conv1): Conv1d(8, 64, kernel_size=(3,), stride=(1,), padding=same)\n",
              "  (maxpool1): MaxPool1d(kernel_size=5, stride=5, padding=0, dilation=1, ceil_mode=False)\n",
              "  (conv2): Conv1d(64, 64, kernel_size=(3,), stride=(1,), padding=same)\n",
              "  (maxpool2): MaxPool1d(kernel_size=5, stride=5, padding=0, dilation=1, ceil_mode=False)\n",
              "  (conv3): Conv1d(64, 64, kernel_size=(3,), stride=(1,), padding=same)\n",
              "  (maxpool3): MaxPool1d(kernel_size=5, stride=5, padding=0, dilation=1, ceil_mode=False)\n",
              "  (dense): Sequential(\n",
              "    (0): Linear(in_features=1024, out_features=256, bias=True)\n",
              "    (1): ReLU()\n",
              "    (2): Linear(in_features=256, out_features=64, bias=True)\n",
              "    (3): ReLU()\n",
              "    (4): Linear(in_features=64, out_features=11, bias=True)\n",
              "  )\n",
              ")"
            ]
          },
          "metadata": {},
          "execution_count": 48
        }
      ]
    },
    {
      "cell_type": "code",
      "source": [
        "optimizer = torch.optim.Adam(list(model.parameters()), lr=1e-3) "
      ],
      "metadata": {
        "id": "cUNn7m_9GGxH"
      },
      "execution_count": 49,
      "outputs": []
    },
    {
      "cell_type": "code",
      "source": [
        "print(\"epoch\", \"train loss\", \"validation loss\")\n",
        "\n",
        "val_loss_curve = []\n",
        "train_loss_curve = []\n",
        "\n",
        "for epoch in range(7):\n",
        "    \n",
        "    # Compute train your model on training data\n",
        "    epoch_loss, train_loss = train(model, train_dataloader, optimizer,  device=0)\n",
        "    \n",
        "    # Validate your on validation data \n",
        "    val_loss = validate(model, val_dataloader, device=0) \n",
        "    \n",
        "    # Record train and loss performance \n",
        "    train_loss_curve.append(epoch_loss)\n",
        "    val_loss_curve.append(val_loss)\n",
        "    \n",
        "    # The learning rate scheduler records the validation loss \n",
        "    # scheduler.step(val_loss)\n",
        "    \n",
        "    print(epoch, epoch_loss, val_loss)"
      ],
      "metadata": {
        "id": "lMmyEkNHAuGV",
        "outputId": "6a78b49a-bf70-4ad7-c981-200726bf727c",
        "colab": {
          "base_uri": "https://localhost:8080/"
        }
      },
      "execution_count": 50,
      "outputs": [
        {
          "output_type": "stream",
          "name": "stdout",
          "text": [
            "epoch train loss validation loss\n",
            "0 1.3237425814259727 0.9958886139922671\n",
            "1 0.8287184808239247 0.6366671605242623\n",
            "2 0.5462585543311617 0.4576883092522621\n",
            "3 0.3884788523867445 0.4040529297457801\n",
            "4 0.2632277782233256 0.37514032299319905\n",
            "5 0.1841310756339592 0.31451851108835804\n",
            "6 0.11737837922413769 0.35104444524687195\n"
          ]
        }
      ]
    },
    {
      "cell_type": "code",
      "source": [
        "pred_labels = []\n",
        "true_labels = []\n",
        "test_loss = 0\n",
        "with torch.no_grad():\n",
        "  model.eval()\n",
        "  for batch in test_dataloader:\n",
        "    seq, label = batch\n",
        "    seq = seq.to(device)\n",
        "    label = label.to(device)\n",
        "    logits = model(seq)\n",
        "    test_loss += nn.functional.cross_entropy(logits, label.squeeze())*len(label)\n",
        "    preds = logits.max(1).indices\n",
        "    true_labels.extend(list(label.squeeze().detach().cpu().numpy()))\n",
        "    pred_labels.extend(list(preds.squeeze().detach().cpu().numpy()))\n",
        "test_loss = test_loss/len(test_data)"
      ],
      "metadata": {
        "id": "bZU3asimAuId"
      },
      "execution_count": 51,
      "outputs": []
    },
    {
      "cell_type": "code",
      "source": [
        "cmat = confusion_matrix(true_labels, pred_labels)\n",
        "cmat"
      ],
      "metadata": {
        "id": "qbN5VP0nAuLA",
        "outputId": "e933debd-04c1-4d8a-a94f-2c3ded72be01",
        "colab": {
          "base_uri": "https://localhost:8080/"
        }
      },
      "execution_count": 52,
      "outputs": [
        {
          "output_type": "execute_result",
          "data": {
            "text/plain": [
              "array([[  5,   0,   0,   0,   0,   0,   3,   0,   0,   0,   0],\n",
              "       [  0, 127,   0,   0,   0,   0,  30,   1,   0,   0,   0],\n",
              "       [  0,   0,  41,   0,   0,   0,  20,   2,   0,   0,   0],\n",
              "       [  0,   0,   0,  61,   0,   0,   5,   0,   0,   0,   0],\n",
              "       [  0,   0,   0,   0,  45,   0,   8,   0,   0,   0,   0],\n",
              "       [  0,   2,   0,   0,   0,  26,   9,   1,   0,   0,   0],\n",
              "       [  0,   8,   2,   3,   0,   2, 368,   4,   3,   1,   0],\n",
              "       [  0,   0,   0,   0,   0,   1,   5, 308,   3,   2,   0],\n",
              "       [  0,   0,   0,   0,   0,   0,   4,   3,  85,   0,   0],\n",
              "       [  0,   0,   0,   0,   0,   0,   4,   0,   0, 182,   0],\n",
              "       [  0,   0,   0,   0,   0,   0,   1,   0,   4,   0, 185]])"
            ]
          },
          "metadata": {},
          "execution_count": 52
        }
      ]
    },
    {
      "cell_type": "code",
      "source": [
        "sns.set(rc = {'figure.figsize':(12,8)})\n",
        "fig, ax = plt.subplots()\n",
        "sns.heatmap(cmat, annot=cmat, fmt=\"\",  ax=ax, yticklabels=(label_code_2.keys()),\n",
        "            xticklabels=label_code_2.keys())\n",
        "plt.show()"
      ],
      "metadata": {
        "id": "JIKY0igMAuNb",
        "outputId": "4ae6eca9-d289-4c4c-884f-efbaaad92472",
        "colab": {
          "base_uri": "https://localhost:8080/",
          "height": 612
        }
      },
      "execution_count": 53,
      "outputs": [
        {
          "output_type": "display_data",
          "data": {
            "text/plain": [
              "<Figure size 864x576 with 2 Axes>"
            ],
            "image/png": "[encoded data removed]"
          },
          "metadata": {}
        }
      ]
    },
    {
      "cell_type": "code",
      "source": [
        "model_cut = torch.nn.Sequential(*(list(model.children())[:-1]), model.dense[:-2])\n",
        "model_cut"
      ],
      "metadata": {
        "id": "STuAfKq0AuP7",
        "outputId": "a6322bee-144f-4c4e-a578-72ddbe382e83",
        "colab": {
          "base_uri": "https://localhost:8080/"
        }
      },
      "execution_count": 54,
      "outputs": [
        {
          "output_type": "execute_result",
          "data": {
            "text/plain": [
              "Sequential(\n",
              "  (0): Embedding(5, 8)\n",
              "  (1): Conv1d(8, 64, kernel_size=(3,), stride=(1,), padding=same)\n",
              "  (2): MaxPool1d(kernel_size=5, stride=5, padding=0, dilation=1, ceil_mode=False)\n",
              "  (3): Conv1d(64, 64, kernel_size=(3,), stride=(1,), padding=same)\n",
              "  (4): MaxPool1d(kernel_size=5, stride=5, padding=0, dilation=1, ceil_mode=False)\n",
              "  (5): Conv1d(64, 64, kernel_size=(3,), stride=(1,), padding=same)\n",
              "  (6): MaxPool1d(kernel_size=5, stride=5, padding=0, dilation=1, ceil_mode=False)\n",
              "  (7): Sequential(\n",
              "    (0): Linear(in_features=1024, out_features=256, bias=True)\n",
              "    (1): ReLU()\n",
              "    (2): Linear(in_features=256, out_features=64, bias=True)\n",
              "  )\n",
              ")"
            ]
          },
          "metadata": {},
          "execution_count": 54
        }
      ]
    },
    {
      "cell_type": "code",
      "source": [
        "# model_cut = nn.Sequential(*[model.children for i in range(1)])\n",
        "# model_cut\n",
        "embedding_list = []\n",
        "label_list = []\n",
        "model_cut.eval() # Set model to evaluation mode \n",
        "with torch.no_grad():    \n",
        "    for batch in train_dataloader:\n",
        "        seq, label = batch\n",
        "        seq = seq.to(device)\n",
        "        label = label.to(device)\n",
        "        seq = model_cut[0](seq)\n",
        "\n",
        "        # print(x.shape)\n",
        "        # Apply pooling\n",
        "        seq = model_cut[1](seq.permute(0, 2, 1))\n",
        "        seq = model_cut[2:7](seq)\n",
        "        seq = torch.flatten(seq, 1)\n",
        "        y_pred = model_cut[7](seq)\n",
        "        label_list.extend(list(label.squeeze().detach().cpu().numpy()))\n",
        "        embedding_list.extend(list(y_pred.detach().cpu().numpy()))\n",
        "        \n",
        "            # validate your model on each batch here"
      ],
      "metadata": {
        "id": "1H-Vnb5lLDj_"
      },
      "execution_count": 55,
      "outputs": []
    },
    {
      "cell_type": "code",
      "source": [
        "embedding_list = np.array(embedding_list)\n",
        "label_list = np.array(label_list)\n",
        "embedding_list.shape, label_list.shape"
      ],
      "metadata": {
        "id": "F28rLH0uLDmm",
        "outputId": "df1d92c7-8c3b-4880-b108-62c870736484",
        "colab": {
          "base_uri": "https://localhost:8080/"
        }
      },
      "execution_count": 56,
      "outputs": [
        {
          "output_type": "execute_result",
          "data": {
            "text/plain": [
              "((5066, 64), (5066,))"
            ]
          },
          "metadata": {},
          "execution_count": 56
        }
      ]
    },
    {
      "cell_type": "code",
      "source": [
        "label_value = [list(label_code_2.keys())[list(label_code_2.values()).index(p)] for p in label_list]"
      ],
      "metadata": {
        "id": "08t5Z5IuLDpB"
      },
      "execution_count": 57,
      "outputs": []
    },
    {
      "cell_type": "code",
      "source": [
        "df_embedding = pd.DataFrame(data = (embedding_list))\n",
        "df_embedding.head()"
      ],
      "metadata": {
        "id": "KYT4mdUYLDrj",
        "outputId": "e820c6eb-600b-463a-a5df-181ee671a22f",
        "colab": {
          "base_uri": "https://localhost:8080/",
          "height": 300
        }
      },
      "execution_count": 58,
      "outputs": [
        {
          "output_type": "execute_result",
          "data": {
            "text/plain": [
              "          0         1          2          3          4          5          6   \\\n",
              "0  -1.294770 -0.129860 -11.992683  -4.937170  -9.757736  -7.932653  -7.554698   \n",
              "1  19.634701 -5.087381 -15.043335 -10.958816 -16.513330  -7.898506  -7.727509   \n",
              "2   8.985086 -8.241787  -6.767346   0.727349  -7.550057 -16.916687  -6.590844   \n",
              "3   3.833077  2.572861  21.695944   6.620925 -12.165679  14.545407 -11.592805   \n",
              "4   3.365773  6.936517  30.327137   2.421437 -16.918062  15.849050 -16.182585   \n",
              "\n",
              "          7         8          9   ...         54         55         56  \\\n",
              "0 -11.436942 -0.274418  -7.855624  ...  -9.096554  -4.669277  -8.828313   \n",
              "1 -14.343888  4.952831  -6.411401  ... -10.303279 -16.536224  -3.939577   \n",
              "2  -6.172759 -0.241425  13.408018  ...  -4.865489  -7.646560  -7.250214   \n",
              "3  -7.685120 -0.551669 -10.139095  ...  -6.757626   1.924564  -7.041256   \n",
              "4  -9.932826 -5.692769 -16.515232  ...  -7.434534   1.260394 -11.188831   \n",
              "\n",
              "         57        58         59         60         61        62         63  \n",
              "0 -5.314901  5.859909 -12.188955 -13.912382  13.733345  0.138216  -7.690302  \n",
              "1 -4.957905  2.326042  -8.690704 -19.443300  13.090971 -1.322739 -11.592896  \n",
              "2 -7.892911 -7.784194  -6.792531  -5.500677  15.526911 -8.070626  -6.400631  \n",
              "3 -5.695767  3.279930  -9.551392  -8.112827   2.877636  6.866013 -13.827224  \n",
              "4 -8.346606  6.601722 -10.730389 -12.869724   1.660350  9.031568 -20.479891  \n",
              "\n",
              "[5 rows x 64 columns]"
            ],
            "text/html": [
              "\n",
              "  <div id=\"df-af108b2c-3152-437d-b970-6783004ccbf7\">\n",
              "    <div class=\"colab-df-container\">\n",
              "      <div>\n",
              "<style scoped>\n",
              "    .dataframe tbody tr th:only-of-type {\n",
              "        vertical-align: middle;\n",
              "    }\n",
              "\n",
              "    .dataframe tbody tr th {\n",
              "        vertical-align: top;\n",
              "    }\n",
              "\n",
              "    .dataframe thead th {\n",
              "        text-align: right;\n",
              "    }\n",
              "</style>\n",
              "<table border=\"1\" class=\"dataframe\">\n",
              "  <thead>\n",
              "    <tr style=\"text-align: right;\">\n",
              "      <th></th>\n",
              "      <th>0</th>\n",
              "      <th>1</th>\n",
              "      <th>2</th>\n",
              "      <th>3</th>\n",
              "      <th>4</th>\n",
              "      <th>5</th>\n",
              "      <th>6</th>\n",
              "      <th>7</th>\n",
              "      <th>8</th>\n",
              "      <th>9</th>\n",
              "      <th>...</th>\n",
              "      <th>54</th>\n",
              "      <th>55</th>\n",
              "      <th>56</th>\n",
              "      <th>57</th>\n",
              "      <th>58</th>\n",
              "      <th>59</th>\n",
              "      <th>60</th>\n",
              "      <th>61</th>\n",
              "      <th>62</th>\n",
              "      <th>63</th>\n",
              "    </tr>\n",
              "  </thead>\n",
              "  <tbody>\n",
              "    <tr>\n",
              "      <th>0</th>\n",
              "      <td>-1.294770</td>\n",
              "      <td>-0.129860</td>\n",
              "      <td>-11.992683</td>\n",
              "      <td>-4.937170</td>\n",
              "      <td>-9.757736</td>\n",
              "      <td>-7.932653</td>\n",
              "      <td>-7.554698</td>\n",
              "      <td>-11.436942</td>\n",
              "      <td>-0.274418</td>\n",
              "      <td>-7.855624</td>\n",
              "      <td>...</td>\n",
              "      <td>-9.096554</td>\n",
              "      <td>-4.669277</td>\n",
              "      <td>-8.828313</td>\n",
              "      <td>-5.314901</td>\n",
              "      <td>5.859909</td>\n",
              "      <td>-12.188955</td>\n",
              "      <td>-13.912382</td>\n",
              "      <td>13.733345</td>\n",
              "      <td>0.138216</td>\n",
              "      <td>-7.690302</td>\n",
              "    </tr>\n",
              "    <tr>\n",
              "      <th>1</th>\n",
              "      <td>19.634701</td>\n",
              "      <td>-5.087381</td>\n",
              "      <td>-15.043335</td>\n",
              "      <td>-10.958816</td>\n",
              "      <td>-16.513330</td>\n",
              "      <td>-7.898506</td>\n",
              "      <td>-7.727509</td>\n",
              "      <td>-14.343888</td>\n",
              "      <td>4.952831</td>\n",
              "      <td>-6.411401</td>\n",
              "      <td>...</td>\n",
              "      <td>-10.303279</td>\n",
              "      <td>-16.536224</td>\n",
              "      <td>-3.939577</td>\n",
              "      <td>-4.957905</td>\n",
              "      <td>2.326042</td>\n",
              "      <td>-8.690704</td>\n",
              "      <td>-19.443300</td>\n",
              "      <td>13.090971</td>\n",
              "      <td>-1.322739</td>\n",
              "      <td>-11.592896</td>\n",
              "    </tr>\n",
              "    <tr>\n",
              "      <th>2</th>\n",
              "      <td>8.985086</td>\n",
              "      <td>-8.241787</td>\n",
              "      <td>-6.767346</td>\n",
              "      <td>0.727349</td>\n",
              "      <td>-7.550057</td>\n",
              "      <td>-16.916687</td>\n",
              "      <td>-6.590844</td>\n",
              "      <td>-6.172759</td>\n",
              "      <td>-0.241425</td>\n",
              "      <td>13.408018</td>\n",
              "      <td>...</td>\n",
              "      <td>-4.865489</td>\n",
              "      <td>-7.646560</td>\n",
              "      <td>-7.250214</td>\n",
              "      <td>-7.892911</td>\n",
              "      <td>-7.784194</td>\n",
              "      <td>-6.792531</td>\n",
              "      <td>-5.500677</td>\n",
              "      <td>15.526911</td>\n",
              "      <td>-8.070626</td>\n",
              "      <td>-6.400631</td>\n",
              "    </tr>\n",
              "    <tr>\n",
              "      <th>3</th>\n",
              "      <td>3.833077</td>\n",
              "      <td>2.572861</td>\n",
              "      <td>21.695944</td>\n",
              "      <td>6.620925</td>\n",
              "      <td>-12.165679</td>\n",
              "      <td>14.545407</td>\n",
              "      <td>-11.592805</td>\n",
              "      <td>-7.685120</td>\n",
              "      <td>-0.551669</td>\n",
              "      <td>-10.139095</td>\n",
              "      <td>...</td>\n",
              "      <td>-6.757626</td>\n",
              "      <td>1.924564</td>\n",
              "      <td>-7.041256</td>\n",
              "      <td>-5.695767</td>\n",
              "      <td>3.279930</td>\n",
              "      <td>-9.551392</td>\n",
              "      <td>-8.112827</td>\n",
              "      <td>2.877636</td>\n",
              "      <td>6.866013</td>\n",
              "      <td>-13.827224</td>\n",
              "    </tr>\n",
              "    <tr>\n",
              "      <th>4</th>\n",
              "      <td>3.365773</td>\n",
              "      <td>6.936517</td>\n",
              "      <td>30.327137</td>\n",
              "      <td>2.421437</td>\n",
              "      <td>-16.918062</td>\n",
              "      <td>15.849050</td>\n",
              "      <td>-16.182585</td>\n",
              "      <td>-9.932826</td>\n",
              "      <td>-5.692769</td>\n",
              "      <td>-16.515232</td>\n",
              "      <td>...</td>\n",
              "      <td>-7.434534</td>\n",
              "      <td>1.260394</td>\n",
              "      <td>-11.188831</td>\n",
              "      <td>-8.346606</td>\n",
              "      <td>6.601722</td>\n",
              "      <td>-10.730389</td>\n",
              "      <td>-12.869724</td>\n",
              "      <td>1.660350</td>\n",
              "      <td>9.031568</td>\n",
              "      <td>-20.479891</td>\n",
              "    </tr>\n",
              "  </tbody>\n",
              "</table>\n",
              "<p>5 rows × 64 columns</p>\n",
              "</div>\n",
              "      <button class=\"colab-df-convert\" onclick=\"convertToInteractive('df-af108b2c-3152-437d-b970-6783004ccbf7')\"\n",
              "              title=\"Convert this dataframe to an interactive table.\"\n",
              "              style=\"display:none;\">\n",
              "        \n",
              "  <svg xmlns=\"http://www.w3.org/2000/svg\" height=\"24px\"viewBox=\"0 0 24 24\"\n",
              "       width=\"24px\">\n",
              "    <path d=\"M0 0h24v24H0V0z\" fill=\"none\"/>\n",
              "    <path d=\"M18.56 5.44l.94 2.06.94-2.06 2.06-.94-2.06-.94-.94-2.06-.94 2.06-2.06.94zm-11 1L8.5 8.5l.94-2.06 2.06-.94-2.06-.94L8.5 2.5l-.94 2.06-2.06.94zm10 10l.94 2.06.94-2.06 2.06-.94-2.06-.94-.94-2.06-.94 2.06-2.06.94z\"/><path d=\"M17.41 7.96l-1.37-1.37c-.4-.4-.92-.59-1.43-.59-.52 0-1.04.2-1.43.59L10.3 9.45l-7.72 7.72c-.78.78-.78 2.05 0 2.83L4 21.41c.39.39.9.59 1.41.59.51 0 1.02-.2 1.41-.59l7.78-7.78 2.81-2.81c.8-.78.8-2.07 0-2.86zM5.41 20L4 18.59l7.72-7.72 1.47 1.35L5.41 20z\"/>\n",
              "  </svg>\n",
              "      </button>\n",
              "      \n",
              "  <style>\n",
              "    .colab-df-container {\n",
              "      display:flex;\n",
              "      flex-wrap:wrap;\n",
              "      gap: 12px;\n",
              "    }\n",
              "\n",
              "    .colab-df-convert {\n",
              "      background-color: #E8F0FE;\n",
              "      border: none;\n",
              "      border-radius: 50%;\n",
              "      cursor: pointer;\n",
              "      display: none;\n",
              "      fill: #1967D2;\n",
              "      height: 32px;\n",
              "      padding: 0 0 0 0;\n",
              "      width: 32px;\n",
              "    }\n",
              "\n",
              "    .colab-df-convert:hover {\n",
              "      background-color: #E2EBFA;\n",
              "      box-shadow: 0px 1px 2px rgba(60, 64, 67, 0.3), 0px 1px 3px 1px rgba(60, 64, 67, 0.15);\n",
              "      fill: #174EA6;\n",
              "    }\n",
              "\n",
              "    [theme=dark] .colab-df-convert {\n",
              "      background-color: #3B4455;\n",
              "      fill: #D2E3FC;\n",
              "    }\n",
              "\n",
              "    [theme=dark] .colab-df-convert:hover {\n",
              "      background-color: #434B5C;\n",
              "      box-shadow: 0px 1px 3px 1px rgba(0, 0, 0, 0.15);\n",
              "      filter: drop-shadow(0px 1px 2px rgba(0, 0, 0, 0.3));\n",
              "      fill: #FFFFFF;\n",
              "    }\n",
              "  </style>\n",
              "\n",
              "      <script>\n",
              "        const buttonEl =\n",
              "          document.querySelector('#df-af108b2c-3152-437d-b970-6783004ccbf7 button.colab-df-convert');\n",
              "        buttonEl.style.display =\n",
              "          google.colab.kernel.accessAllowed ? 'block' : 'none';\n",
              "\n",
              "        async function convertToInteractive(key) {\n",
              "          const element = document.querySelector('#df-af108b2c-3152-437d-b970-6783004ccbf7');\n",
              "          const dataTable =\n",
              "            await google.colab.kernel.invokeFunction('convertToInteractive',\n",
              "                                                     [key], {});\n",
              "          if (!dataTable) return;\n",
              "\n",
              "          const docLinkHtml = 'Like what you see? Visit the ' +\n",
              "            '<a target=\"_blank\" href=https://colab.research.google.com/notebooks/data_table.ipynb>data table notebook</a>'\n",
              "            + ' to learn more about interactive tables.';\n",
              "          element.innerHTML = '';\n",
              "          dataTable['output_type'] = 'display_data';\n",
              "          await google.colab.output.renderOutput(dataTable, element);\n",
              "          const docLink = document.createElement('div');\n",
              "          docLink.innerHTML = docLinkHtml;\n",
              "          element.appendChild(docLink);\n",
              "        }\n",
              "      </script>\n",
              "    </div>\n",
              "  </div>\n",
              "  "
            ]
          },
          "metadata": {},
          "execution_count": 58
        }
      ]
    },
    {
      "cell_type": "code",
      "source": [
        "reduced_embedding = fit.fit_transform(df_embedding)"
      ],
      "metadata": {
        "id": "HdH6B0wOLDyF"
      },
      "execution_count": 59,
      "outputs": []
    },
    {
      "cell_type": "code",
      "source": [
        "reduced_embedding = pd.DataFrame(reduced_embedding, columns=['dim1', 'dim2'])\n",
        "reduced_embedding[\"label\"] = np.array(label_value)\n",
        "sns.relplot(data=reduced_embedding, x=\"dim1\", y='dim2',\n",
        "                hue='label', hue_order=label_code_2.keys(), aspect=1.61, alpha = 0.1)\n",
        "plt.show()"
      ],
      "metadata": {
        "id": "fdzQokpq_XCw",
        "outputId": "533ebf07-fdfb-4ac4-ee7b-8766bec1a4c2",
        "colab": {
          "base_uri": "https://localhost:8080/",
          "height": 365
        }
      },
      "execution_count": 60,
      "outputs": [
        {
          "output_type": "display_data",
          "data": {
            "text/plain": [
              "<Figure size 755.7x360 with 1 Axes>"
            ],
            "image/png": "[encoded data removed]"
          },
          "metadata": {}
        }
      ]
    },
    {
      "cell_type": "code",
      "source": [
        ""
      ],
      "metadata": {
        "id": "1ZMZocet_XFU"
      },
      "execution_count": 60,
      "outputs": []
    },
    {
      "cell_type": "code",
      "source": [
        ""
      ],
      "metadata": {
        "id": "d5pQDvGwLznQ"
      },
      "execution_count": 60,
      "outputs": []
    },
    {
      "cell_type": "code",
      "source": [
        ""
      ],
      "metadata": {
        "id": "VQXZ6LQ5Lzp9"
      },
      "execution_count": 60,
      "outputs": []
    },
    {
      "cell_type": "code",
      "source": [
        ""
      ],
      "metadata": {
        "id": "Uo0qDahjLzsw"
      },
      "execution_count": 60,
      "outputs": []
    },
    {
      "cell_type": "code",
      "source": [
        ""
      ],
      "metadata": {
        "id": "Ko2Rj-dKLzuz"
      },
      "execution_count": 60,
      "outputs": []
    },
    {
      "cell_type": "code",
      "source": [
        ""
      ],
      "metadata": {
        "id": "HqSnEbJ3_XHt"
      },
      "execution_count": 60,
      "outputs": []
    },
    {
      "cell_type": "code",
      "source": [
        ""
      ],
      "metadata": {
        "id": "kI5003Rq_XKD"
      },
      "execution_count": 60,
      "outputs": []
    },
    {
      "cell_type": "code",
      "source": [
        "seq_len = np.array([len(m) for m in df.Sequence.values])\n",
        "print((seq_len>1000).mean())\n",
        "plt.hist(seq_len, bins = 20)"
      ],
      "metadata": {
        "id": "-vucFyq2YNNG",
        "outputId": "0b537d4b-21c3-4c25-d6f2-d53276345b03",
        "colab": {
          "base_uri": "https://localhost:8080/",
          "height": 641
        }
      },
      "execution_count": 61,
      "outputs": [
        {
          "output_type": "stream",
          "name": "stdout",
          "text": [
            "0.3516776817488561\n"
          ]
        },
        {
          "output_type": "execute_result",
          "data": {
            "text/plain": [
              "(array([2.070e+02, 9.060e+02, 3.597e+03, 1.261e+03, 8.920e+02, 2.910e+02,\n",
              "        2.010e+02, 1.240e+02, 6.600e+01, 9.300e+01, 3.200e+01, 1.270e+02,\n",
              "        1.100e+01, 3.100e+01, 1.000e+00, 2.300e+01, 1.000e+00, 2.000e+00,\n",
              "        0.000e+00, 2.000e+00]),\n",
              " array([ 121. ,  379.8,  638.6,  897.4, 1156.2, 1415. , 1673.8, 1932.6,\n",
              "        2191.4, 2450.2, 2709. , 2967.8, 3226.6, 3485.4, 3744.2, 4003. ,\n",
              "        4261.8, 4520.6, 4779.4, 5038.2, 5297. ]),\n",
              " <a list of 20 Patch objects>)"
            ]
          },
          "metadata": {},
          "execution_count": 61
        },
        {
          "output_type": "display_data",
          "data": {
            "text/plain": [
              "<Figure size 864x576 with 1 Axes>"
            ],
            "image/png": "[encoded data removed]"
          },
          "metadata": {}
        }
      ]
    },
    {
      "cell_type": "code",
      "source": [
        "\n",
        "# Create dataloaders"
      ],
      "metadata": {
        "id": "Q054V7yjHyTu"
      },
      "execution_count": 62,
      "outputs": []
    },
    {
      "cell_type": "code",
      "source": [
        ""
      ],
      "metadata": {
        "id": "crbZQocEsj66"
      },
      "execution_count": 62,
      "outputs": []
    },
    {
      "cell_type": "code",
      "source": [
        "# Create model"
      ],
      "metadata": {
        "id": "-wusVD4NH3n2"
      },
      "execution_count": 63,
      "outputs": []
    },
    {
      "cell_type": "code",
      "source": [
        "# Train model"
      ],
      "metadata": {
        "id": "mSt5nJ-FH5Bp"
      },
      "execution_count": 64,
      "outputs": []
    },
    {
      "cell_type": "code",
      "source": [
        "# Test model"
      ],
      "metadata": {
        "id": "Q2QYo93RH6qy"
      },
      "execution_count": 65,
      "outputs": []
    }
  ]
}