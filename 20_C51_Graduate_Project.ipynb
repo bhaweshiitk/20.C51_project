{
  "nbformat": 4,
  "nbformat_minor": 0,
  "metadata": {
    "colab": {
      "name": "20.C51 - Graduate Project.ipynb",
      "provenance": [],
      "collapsed_sections": [],
      "include_colab_link": true
    },
    "kernelspec": {
      "name": "python3",
      "display_name": "Python 3"
    },
    "language_info": {
      "name": "python"
    },
    "accelerator": "GPU"
  },
  "cells": [
    {
      "cell_type": "markdown",
      "metadata": {
        "id": "view-in-github",
        "colab_type": "text"
      },
      "source": [
        "<a href=\"https://colab.research.google.com/github/bhaweshiitk/3.C51_project/blob/main/20_C51_Graduate_Project.ipynb\" target=\"_parent\"><img src=\"https://colab.research.google.com/assets/colab-badge.svg\" alt=\"Open In Colab\"/></a>"
      ]
    },
    {
      "cell_type": "code",
      "source": [
        "import matplotlib.pyplot as plt\n",
        "from torch.utils.data import Dataset, DataLoader\n",
        "import pandas as pd\n",
        "import numpy as np\n",
        "import matplotlib\n",
        "import torch\n",
        "from torch import nn\n",
        "from torch.nn import functional as F\n",
        "from sklearn.model_selection import train_test_split\n",
        "! pip install Bio\n",
        "from Bio import SeqIO"
      ],
      "metadata": {
        "colab": {
          "base_uri": "https://localhost:8080/"
        },
        "id": "JRZq9zAWfzW3",
        "outputId": "9444c20f-59e0-4868-9a23-733a5104090b"
      },
      "execution_count": 1,
      "outputs": [
        {
          "output_type": "stream",
          "name": "stdout",
          "text": [
            "Requirement already satisfied: Bio in /usr/local/lib/python3.7/dist-packages (1.3.8)\n",
            "Requirement already satisfied: tqdm in /usr/local/lib/python3.7/dist-packages (from Bio) (4.64.0)\n",
            "Requirement already satisfied: requests in /usr/local/lib/python3.7/dist-packages (from Bio) (2.23.0)\n",
            "Requirement already satisfied: biopython>=1.79 in /usr/local/lib/python3.7/dist-packages (from Bio) (1.79)\n",
            "Requirement already satisfied: mygene in /usr/local/lib/python3.7/dist-packages (from Bio) (3.2.2)\n",
            "Requirement already satisfied: numpy in /usr/local/lib/python3.7/dist-packages (from biopython>=1.79->Bio) (1.21.6)\n",
            "Requirement already satisfied: biothings-client>=0.2.6 in /usr/local/lib/python3.7/dist-packages (from mygene->Bio) (0.2.6)\n",
            "Requirement already satisfied: idna<3,>=2.5 in /usr/local/lib/python3.7/dist-packages (from requests->Bio) (2.10)\n",
            "Requirement already satisfied: certifi>=2017.4.17 in /usr/local/lib/python3.7/dist-packages (from requests->Bio) (2021.10.8)\n",
            "Requirement already satisfied: chardet<4,>=3.0.2 in /usr/local/lib/python3.7/dist-packages (from requests->Bio) (3.0.4)\n",
            "Requirement already satisfied: urllib3!=1.25.0,!=1.25.1,<1.26,>=1.21.1 in /usr/local/lib/python3.7/dist-packages (from requests->Bio) (1.24.3)\n"
          ]
        }
      ]
    },
    {
      "cell_type": "code",
      "execution_count": 2,
      "metadata": {
        "id": "OxCVvG5wHokf",
        "colab": {
          "base_uri": "https://localhost:8080/"
        },
        "outputId": "da29187f-498b-4519-a518-95e9cba36835"
      },
      "outputs": [
        {
          "output_type": "stream",
          "name": "stdout",
          "text": [
            "--2022-05-01 05:36:16--  https://raw.githubusercontent.com/bhaweshiitk/3.C51_project/main/megares_modified_annotations_v2.00.csv\n",
            "Resolving raw.githubusercontent.com (raw.githubusercontent.com)... 185.199.109.133, 185.199.110.133, 185.199.111.133, ...\n",
            "Connecting to raw.githubusercontent.com (raw.githubusercontent.com)|185.199.109.133|:443... connected.\n",
            "HTTP request sent, awaiting response... 200 OK\n",
            "Length: 948917 (927K) [text/plain]\n",
            "Saving to: ‘megares_modified_annotations_v2.00.csv.3’\n",
            "\n",
            "\r          megares_m   0%[                    ]       0  --.-KB/s               \rmegares_modified_an 100%[===================>] 926.68K  --.-KB/s    in 0.03s   \n",
            "\n",
            "2022-05-01 05:36:16 (30.9 MB/s) - ‘megares_modified_annotations_v2.00.csv.3’ saved [948917/948917]\n",
            "\n",
            "--2022-05-01 05:36:17--  https://raw.githubusercontent.com/bhaweshiitk/3.C51_project/main/megares_modified_database_v2.00.fasta\n",
            "Resolving raw.githubusercontent.com (raw.githubusercontent.com)... 185.199.111.133, 185.199.109.133, 185.199.108.133, ...\n",
            "Connecting to raw.githubusercontent.com (raw.githubusercontent.com)|185.199.111.133|:443... connected.\n",
            "HTTP request sent, awaiting response... 200 OK\n",
            "Length: 8637235 (8.2M) [text/plain]\n",
            "Saving to: ‘megares_modified_database_v2.00.fasta.3’\n",
            "\n",
            "megares_modified_da 100%[===================>]   8.24M  --.-KB/s    in 0.09s   \n",
            "\n",
            "2022-05-01 05:36:17 (86.8 MB/s) - ‘megares_modified_database_v2.00.fasta.3’ saved [8637235/8637235]\n",
            "\n"
          ]
        }
      ],
      "source": [
        "# Import data\n",
        "! wget https://raw.githubusercontent.com/bhaweshiitk/3.C51_project/main/megares_modified_annotations_v2.00.csv\n",
        "! wget https://raw.githubusercontent.com/bhaweshiitk/3.C51_project/main/megares_modified_database_v2.00.fasta"
      ]
    },
    {
      "cell_type": "code",
      "source": [
        "# Process data\n",
        "train_annotations = pd.read_csv(\"./megares_modified_annotations_v2.00.csv\")\n",
        "train_annotations.shape"
      ],
      "metadata": {
        "id": "5V-TEbEjHwTL",
        "colab": {
          "base_uri": "https://localhost:8080/"
        },
        "outputId": "25478e8b-e658-40f6-ca3a-de962f8ab076"
      },
      "execution_count": 3,
      "outputs": [
        {
          "output_type": "execute_result",
          "data": {
            "text/plain": [
              "(7868, 5)"
            ]
          },
          "metadata": {},
          "execution_count": 3
        }
      ]
    },
    {
      "cell_type": "code",
      "source": [
        "train_annotations.head()"
      ],
      "metadata": {
        "colab": {
          "base_uri": "https://localhost:8080/",
          "height": 206
        },
        "id": "GVd7nK-EgtTp",
        "outputId": "2da82447-7a47-4709-8161-383ac59a45f9"
      },
      "execution_count": 4,
      "outputs": [
        {
          "output_type": "execute_result",
          "data": {
            "text/plain": [
              "                                              header   type            class  \\\n",
              "0  MEG_1|Drugs|Aminoglycosides|Aminoglycoside-res...  Drugs  Aminoglycosides   \n",
              "1  MEG_2|Drugs|Aminoglycosides|Aminoglycoside-res...  Drugs  Aminoglycosides   \n",
              "2  MEG_3|Drugs|Aminoglycosides|Aminoglycoside-res...  Drugs  Aminoglycosides   \n",
              "3  MEG_4|Drugs|Aminoglycosides|Aminoglycoside-res...  Drugs  Aminoglycosides   \n",
              "4  MEG_5|Drugs|Aminoglycosides|Aminoglycoside-res...  Drugs  Aminoglycosides   \n",
              "\n",
              "                                           mechanism group  \n",
              "0  Aminoglycoside-resistant 16S ribosomal subunit...  A16S  \n",
              "1  Aminoglycoside-resistant 16S ribosomal subunit...  A16S  \n",
              "2  Aminoglycoside-resistant 16S ribosomal subunit...  A16S  \n",
              "3  Aminoglycoside-resistant 16S ribosomal subunit...  A16S  \n",
              "4  Aminoglycoside-resistant 16S ribosomal subunit...  A16S  "
            ],
            "text/html": [
              "\n",
              "  <div id=\"df-87cfa6cb-c5e1-4d80-a894-0872016db3be\">\n",
              "    <div class=\"colab-df-container\">\n",
              "      <div>\n",
              "<style scoped>\n",
              "    .dataframe tbody tr th:only-of-type {\n",
              "        vertical-align: middle;\n",
              "    }\n",
              "\n",
              "    .dataframe tbody tr th {\n",
              "        vertical-align: top;\n",
              "    }\n",
              "\n",
              "    .dataframe thead th {\n",
              "        text-align: right;\n",
              "    }\n",
              "</style>\n",
              "<table border=\"1\" class=\"dataframe\">\n",
              "  <thead>\n",
              "    <tr style=\"text-align: right;\">\n",
              "      <th></th>\n",
              "      <th>header</th>\n",
              "      <th>type</th>\n",
              "      <th>class</th>\n",
              "      <th>mechanism</th>\n",
              "      <th>group</th>\n",
              "    </tr>\n",
              "  </thead>\n",
              "  <tbody>\n",
              "    <tr>\n",
              "      <th>0</th>\n",
              "      <td>MEG_1|Drugs|Aminoglycosides|Aminoglycoside-res...</td>\n",
              "      <td>Drugs</td>\n",
              "      <td>Aminoglycosides</td>\n",
              "      <td>Aminoglycoside-resistant 16S ribosomal subunit...</td>\n",
              "      <td>A16S</td>\n",
              "    </tr>\n",
              "    <tr>\n",
              "      <th>1</th>\n",
              "      <td>MEG_2|Drugs|Aminoglycosides|Aminoglycoside-res...</td>\n",
              "      <td>Drugs</td>\n",
              "      <td>Aminoglycosides</td>\n",
              "      <td>Aminoglycoside-resistant 16S ribosomal subunit...</td>\n",
              "      <td>A16S</td>\n",
              "    </tr>\n",
              "    <tr>\n",
              "      <th>2</th>\n",
              "      <td>MEG_3|Drugs|Aminoglycosides|Aminoglycoside-res...</td>\n",
              "      <td>Drugs</td>\n",
              "      <td>Aminoglycosides</td>\n",
              "      <td>Aminoglycoside-resistant 16S ribosomal subunit...</td>\n",
              "      <td>A16S</td>\n",
              "    </tr>\n",
              "    <tr>\n",
              "      <th>3</th>\n",
              "      <td>MEG_4|Drugs|Aminoglycosides|Aminoglycoside-res...</td>\n",
              "      <td>Drugs</td>\n",
              "      <td>Aminoglycosides</td>\n",
              "      <td>Aminoglycoside-resistant 16S ribosomal subunit...</td>\n",
              "      <td>A16S</td>\n",
              "    </tr>\n",
              "    <tr>\n",
              "      <th>4</th>\n",
              "      <td>MEG_5|Drugs|Aminoglycosides|Aminoglycoside-res...</td>\n",
              "      <td>Drugs</td>\n",
              "      <td>Aminoglycosides</td>\n",
              "      <td>Aminoglycoside-resistant 16S ribosomal subunit...</td>\n",
              "      <td>A16S</td>\n",
              "    </tr>\n",
              "  </tbody>\n",
              "</table>\n",
              "</div>\n",
              "      <button class=\"colab-df-convert\" onclick=\"convertToInteractive('df-87cfa6cb-c5e1-4d80-a894-0872016db3be')\"\n",
              "              title=\"Convert this dataframe to an interactive table.\"\n",
              "              style=\"display:none;\">\n",
              "        \n",
              "  <svg xmlns=\"http://www.w3.org/2000/svg\" height=\"24px\"viewBox=\"0 0 24 24\"\n",
              "       width=\"24px\">\n",
              "    <path d=\"M0 0h24v24H0V0z\" fill=\"none\"/>\n",
              "    <path d=\"M18.56 5.44l.94 2.06.94-2.06 2.06-.94-2.06-.94-.94-2.06-.94 2.06-2.06.94zm-11 1L8.5 8.5l.94-2.06 2.06-.94-2.06-.94L8.5 2.5l-.94 2.06-2.06.94zm10 10l.94 2.06.94-2.06 2.06-.94-2.06-.94-.94-2.06-.94 2.06-2.06.94z\"/><path d=\"M17.41 7.96l-1.37-1.37c-.4-.4-.92-.59-1.43-.59-.52 0-1.04.2-1.43.59L10.3 9.45l-7.72 7.72c-.78.78-.78 2.05 0 2.83L4 21.41c.39.39.9.59 1.41.59.51 0 1.02-.2 1.41-.59l7.78-7.78 2.81-2.81c.8-.78.8-2.07 0-2.86zM5.41 20L4 18.59l7.72-7.72 1.47 1.35L5.41 20z\"/>\n",
              "  </svg>\n",
              "      </button>\n",
              "      \n",
              "  <style>\n",
              "    .colab-df-container {\n",
              "      display:flex;\n",
              "      flex-wrap:wrap;\n",
              "      gap: 12px;\n",
              "    }\n",
              "\n",
              "    .colab-df-convert {\n",
              "      background-color: #E8F0FE;\n",
              "      border: none;\n",
              "      border-radius: 50%;\n",
              "      cursor: pointer;\n",
              "      display: none;\n",
              "      fill: #1967D2;\n",
              "      height: 32px;\n",
              "      padding: 0 0 0 0;\n",
              "      width: 32px;\n",
              "    }\n",
              "\n",
              "    .colab-df-convert:hover {\n",
              "      background-color: #E2EBFA;\n",
              "      box-shadow: 0px 1px 2px rgba(60, 64, 67, 0.3), 0px 1px 3px 1px rgba(60, 64, 67, 0.15);\n",
              "      fill: #174EA6;\n",
              "    }\n",
              "\n",
              "    [theme=dark] .colab-df-convert {\n",
              "      background-color: #3B4455;\n",
              "      fill: #D2E3FC;\n",
              "    }\n",
              "\n",
              "    [theme=dark] .colab-df-convert:hover {\n",
              "      background-color: #434B5C;\n",
              "      box-shadow: 0px 1px 3px 1px rgba(0, 0, 0, 0.15);\n",
              "      filter: drop-shadow(0px 1px 2px rgba(0, 0, 0, 0.3));\n",
              "      fill: #FFFFFF;\n",
              "    }\n",
              "  </style>\n",
              "\n",
              "      <script>\n",
              "        const buttonEl =\n",
              "          document.querySelector('#df-87cfa6cb-c5e1-4d80-a894-0872016db3be button.colab-df-convert');\n",
              "        buttonEl.style.display =\n",
              "          google.colab.kernel.accessAllowed ? 'block' : 'none';\n",
              "\n",
              "        async function convertToInteractive(key) {\n",
              "          const element = document.querySelector('#df-87cfa6cb-c5e1-4d80-a894-0872016db3be');\n",
              "          const dataTable =\n",
              "            await google.colab.kernel.invokeFunction('convertToInteractive',\n",
              "                                                     [key], {});\n",
              "          if (!dataTable) return;\n",
              "\n",
              "          const docLinkHtml = 'Like what you see? Visit the ' +\n",
              "            '<a target=\"_blank\" href=https://colab.research.google.com/notebooks/data_table.ipynb>data table notebook</a>'\n",
              "            + ' to learn more about interactive tables.';\n",
              "          element.innerHTML = '';\n",
              "          dataTable['output_type'] = 'display_data';\n",
              "          await google.colab.output.renderOutput(dataTable, element);\n",
              "          const docLink = document.createElement('div');\n",
              "          docLink.innerHTML = docLinkHtml;\n",
              "          element.appendChild(docLink);\n",
              "        }\n",
              "      </script>\n",
              "    </div>\n",
              "  </div>\n",
              "  "
            ]
          },
          "metadata": {},
          "execution_count": 4
        }
      ]
    },
    {
      "cell_type": "code",
      "source": [
        "train_annotations['Seq_name'] = train_annotations['header'].str.split('|').str[0:2].apply('|'.join)\n",
        "train_annotations['mechanism'] = train_annotations['header'].str.split('|').str[3]"
      ],
      "metadata": {
        "id": "cpLUmYDlkeoy"
      },
      "execution_count": 5,
      "outputs": []
    },
    {
      "cell_type": "code",
      "source": [
        "fasta_sequences = SeqIO.parse(open(\"./megares_modified_database_v2.00.fasta\"),'fasta')\n",
        "sequence_dict = {}\n",
        "for fasta in fasta_sequences:\n",
        "    name, sequence = fasta.id, str(fasta.seq)\n",
        "    name = \"|\".join((name.split(\"|\", 2))[0:2])\n",
        "    sequence_dict[name] = sequence\n",
        "sequence_df = pd.DataFrame(sequence_dict.items(), columns=['Seq_name', 'Sequence'])\n",
        "sequence_df.shape"
      ],
      "metadata": {
        "colab": {
          "base_uri": "https://localhost:8080/"
        },
        "id": "Cke-vmzYg8J3",
        "outputId": "abde1b83-3500-40ec-8b29-08fa7f45e80a"
      },
      "execution_count": 6,
      "outputs": [
        {
          "output_type": "execute_result",
          "data": {
            "text/plain": [
              "(7868, 2)"
            ]
          },
          "metadata": {},
          "execution_count": 6
        }
      ]
    },
    {
      "cell_type": "code",
      "source": [
        "sequence_df.head()"
      ],
      "metadata": {
        "colab": {
          "base_uri": "https://localhost:8080/",
          "height": 206
        },
        "id": "1flcUDs5jip4",
        "outputId": "69601eb4-594b-4093-91c3-0638fd2f6131"
      },
      "execution_count": 7,
      "outputs": [
        {
          "output_type": "execute_result",
          "data": {
            "text/plain": [
              "      Seq_name                                           Sequence\n",
              "0  MEG_1|Drugs  AGAATTTGATCTTGGTTCAGATTGAACGCTGGCGGCGTGGATGAGG...\n",
              "1  MEG_2|Drugs  AGGTAAGGAGGTGATCCAACCGCAGGTTCCCCTACGGTTACCTTGT...\n",
              "2  MEG_3|Drugs  TTTTGTTTGGAGAGTTTGATCCTGGCTCAGGACGAACGCTGGCGGC...\n",
              "3  MEG_4|Drugs  AGAGATTGAACATAAGAGTTTGATCCTGGCTCAGATTGAACGCTGG...\n",
              "4  MEG_5|Drugs  AGAGTTTGATCCTGGCTCAGGACGAACGCTGGCGGCGTGCTTAACA..."
            ],
            "text/html": [
              "\n",
              "  <div id=\"df-875e4a91-d12c-4a4a-80ac-e7777ce06918\">\n",
              "    <div class=\"colab-df-container\">\n",
              "      <div>\n",
              "<style scoped>\n",
              "    .dataframe tbody tr th:only-of-type {\n",
              "        vertical-align: middle;\n",
              "    }\n",
              "\n",
              "    .dataframe tbody tr th {\n",
              "        vertical-align: top;\n",
              "    }\n",
              "\n",
              "    .dataframe thead th {\n",
              "        text-align: right;\n",
              "    }\n",
              "</style>\n",
              "<table border=\"1\" class=\"dataframe\">\n",
              "  <thead>\n",
              "    <tr style=\"text-align: right;\">\n",
              "      <th></th>\n",
              "      <th>Seq_name</th>\n",
              "      <th>Sequence</th>\n",
              "    </tr>\n",
              "  </thead>\n",
              "  <tbody>\n",
              "    <tr>\n",
              "      <th>0</th>\n",
              "      <td>MEG_1|Drugs</td>\n",
              "      <td>AGAATTTGATCTTGGTTCAGATTGAACGCTGGCGGCGTGGATGAGG...</td>\n",
              "    </tr>\n",
              "    <tr>\n",
              "      <th>1</th>\n",
              "      <td>MEG_2|Drugs</td>\n",
              "      <td>AGGTAAGGAGGTGATCCAACCGCAGGTTCCCCTACGGTTACCTTGT...</td>\n",
              "    </tr>\n",
              "    <tr>\n",
              "      <th>2</th>\n",
              "      <td>MEG_3|Drugs</td>\n",
              "      <td>TTTTGTTTGGAGAGTTTGATCCTGGCTCAGGACGAACGCTGGCGGC...</td>\n",
              "    </tr>\n",
              "    <tr>\n",
              "      <th>3</th>\n",
              "      <td>MEG_4|Drugs</td>\n",
              "      <td>AGAGATTGAACATAAGAGTTTGATCCTGGCTCAGATTGAACGCTGG...</td>\n",
              "    </tr>\n",
              "    <tr>\n",
              "      <th>4</th>\n",
              "      <td>MEG_5|Drugs</td>\n",
              "      <td>AGAGTTTGATCCTGGCTCAGGACGAACGCTGGCGGCGTGCTTAACA...</td>\n",
              "    </tr>\n",
              "  </tbody>\n",
              "</table>\n",
              "</div>\n",
              "      <button class=\"colab-df-convert\" onclick=\"convertToInteractive('df-875e4a91-d12c-4a4a-80ac-e7777ce06918')\"\n",
              "              title=\"Convert this dataframe to an interactive table.\"\n",
              "              style=\"display:none;\">\n",
              "        \n",
              "  <svg xmlns=\"http://www.w3.org/2000/svg\" height=\"24px\"viewBox=\"0 0 24 24\"\n",
              "       width=\"24px\">\n",
              "    <path d=\"M0 0h24v24H0V0z\" fill=\"none\"/>\n",
              "    <path d=\"M18.56 5.44l.94 2.06.94-2.06 2.06-.94-2.06-.94-.94-2.06-.94 2.06-2.06.94zm-11 1L8.5 8.5l.94-2.06 2.06-.94-2.06-.94L8.5 2.5l-.94 2.06-2.06.94zm10 10l.94 2.06.94-2.06 2.06-.94-2.06-.94-.94-2.06-.94 2.06-2.06.94z\"/><path d=\"M17.41 7.96l-1.37-1.37c-.4-.4-.92-.59-1.43-.59-.52 0-1.04.2-1.43.59L10.3 9.45l-7.72 7.72c-.78.78-.78 2.05 0 2.83L4 21.41c.39.39.9.59 1.41.59.51 0 1.02-.2 1.41-.59l7.78-7.78 2.81-2.81c.8-.78.8-2.07 0-2.86zM5.41 20L4 18.59l7.72-7.72 1.47 1.35L5.41 20z\"/>\n",
              "  </svg>\n",
              "      </button>\n",
              "      \n",
              "  <style>\n",
              "    .colab-df-container {\n",
              "      display:flex;\n",
              "      flex-wrap:wrap;\n",
              "      gap: 12px;\n",
              "    }\n",
              "\n",
              "    .colab-df-convert {\n",
              "      background-color: #E8F0FE;\n",
              "      border: none;\n",
              "      border-radius: 50%;\n",
              "      cursor: pointer;\n",
              "      display: none;\n",
              "      fill: #1967D2;\n",
              "      height: 32px;\n",
              "      padding: 0 0 0 0;\n",
              "      width: 32px;\n",
              "    }\n",
              "\n",
              "    .colab-df-convert:hover {\n",
              "      background-color: #E2EBFA;\n",
              "      box-shadow: 0px 1px 2px rgba(60, 64, 67, 0.3), 0px 1px 3px 1px rgba(60, 64, 67, 0.15);\n",
              "      fill: #174EA6;\n",
              "    }\n",
              "\n",
              "    [theme=dark] .colab-df-convert {\n",
              "      background-color: #3B4455;\n",
              "      fill: #D2E3FC;\n",
              "    }\n",
              "\n",
              "    [theme=dark] .colab-df-convert:hover {\n",
              "      background-color: #434B5C;\n",
              "      box-shadow: 0px 1px 3px 1px rgba(0, 0, 0, 0.15);\n",
              "      filter: drop-shadow(0px 1px 2px rgba(0, 0, 0, 0.3));\n",
              "      fill: #FFFFFF;\n",
              "    }\n",
              "  </style>\n",
              "\n",
              "      <script>\n",
              "        const buttonEl =\n",
              "          document.querySelector('#df-875e4a91-d12c-4a4a-80ac-e7777ce06918 button.colab-df-convert');\n",
              "        buttonEl.style.display =\n",
              "          google.colab.kernel.accessAllowed ? 'block' : 'none';\n",
              "\n",
              "        async function convertToInteractive(key) {\n",
              "          const element = document.querySelector('#df-875e4a91-d12c-4a4a-80ac-e7777ce06918');\n",
              "          const dataTable =\n",
              "            await google.colab.kernel.invokeFunction('convertToInteractive',\n",
              "                                                     [key], {});\n",
              "          if (!dataTable) return;\n",
              "\n",
              "          const docLinkHtml = 'Like what you see? Visit the ' +\n",
              "            '<a target=\"_blank\" href=https://colab.research.google.com/notebooks/data_table.ipynb>data table notebook</a>'\n",
              "            + ' to learn more about interactive tables.';\n",
              "          element.innerHTML = '';\n",
              "          dataTable['output_type'] = 'display_data';\n",
              "          await google.colab.output.renderOutput(dataTable, element);\n",
              "          const docLink = document.createElement('div');\n",
              "          docLink.innerHTML = docLinkHtml;\n",
              "          element.appendChild(docLink);\n",
              "        }\n",
              "      </script>\n",
              "    </div>\n",
              "  </div>\n",
              "  "
            ]
          },
          "metadata": {},
          "execution_count": 7
        }
      ]
    },
    {
      "cell_type": "code",
      "source": [
        "df = pd.merge(train_annotations[['Seq_name', 'type', 'class','mechanism','group']], \n",
        "              sequence_df, how = \"inner\", on = [\"Seq_name\"])\n",
        "df.shape"
      ],
      "metadata": {
        "colab": {
          "base_uri": "https://localhost:8080/"
        },
        "id": "q5zu98sXlMgt",
        "outputId": "e3575a33-7ae4-44ca-b6e2-4700b79df4b1"
      },
      "execution_count": 8,
      "outputs": [
        {
          "output_type": "execute_result",
          "data": {
            "text/plain": [
              "(7868, 6)"
            ]
          },
          "metadata": {},
          "execution_count": 8
        }
      ]
    },
    {
      "cell_type": "code",
      "source": [
        "df.head()"
      ],
      "metadata": {
        "colab": {
          "base_uri": "https://localhost:8080/",
          "height": 206
        },
        "id": "bQHOPUI0lk84",
        "outputId": "1dce5953-a16d-43c1-e2da-26b086e244f2"
      },
      "execution_count": 9,
      "outputs": [
        {
          "output_type": "execute_result",
          "data": {
            "text/plain": [
              "      Seq_name   type            class  \\\n",
              "0  MEG_1|Drugs  Drugs  Aminoglycosides   \n",
              "1  MEG_2|Drugs  Drugs  Aminoglycosides   \n",
              "2  MEG_3|Drugs  Drugs  Aminoglycosides   \n",
              "3  MEG_4|Drugs  Drugs  Aminoglycosides   \n",
              "4  MEG_5|Drugs  Drugs  Aminoglycosides   \n",
              "\n",
              "                                           mechanism group  \\\n",
              "0  Aminoglycoside-resistant_16S_ribosomal_subunit...  A16S   \n",
              "1  Aminoglycoside-resistant_16S_ribosomal_subunit...  A16S   \n",
              "2  Aminoglycoside-resistant_16S_ribosomal_subunit...  A16S   \n",
              "3  Aminoglycoside-resistant_16S_ribosomal_subunit...  A16S   \n",
              "4  Aminoglycoside-resistant_16S_ribosomal_subunit...  A16S   \n",
              "\n",
              "                                            Sequence  \n",
              "0  AGAATTTGATCTTGGTTCAGATTGAACGCTGGCGGCGTGGATGAGG...  \n",
              "1  AGGTAAGGAGGTGATCCAACCGCAGGTTCCCCTACGGTTACCTTGT...  \n",
              "2  TTTTGTTTGGAGAGTTTGATCCTGGCTCAGGACGAACGCTGGCGGC...  \n",
              "3  AGAGATTGAACATAAGAGTTTGATCCTGGCTCAGATTGAACGCTGG...  \n",
              "4  AGAGTTTGATCCTGGCTCAGGACGAACGCTGGCGGCGTGCTTAACA...  "
            ],
            "text/html": [
              "\n",
              "  <div id=\"df-093f8704-aae6-4cc7-981e-edc0fa2f42d8\">\n",
              "    <div class=\"colab-df-container\">\n",
              "      <div>\n",
              "<style scoped>\n",
              "    .dataframe tbody tr th:only-of-type {\n",
              "        vertical-align: middle;\n",
              "    }\n",
              "\n",
              "    .dataframe tbody tr th {\n",
              "        vertical-align: top;\n",
              "    }\n",
              "\n",
              "    .dataframe thead th {\n",
              "        text-align: right;\n",
              "    }\n",
              "</style>\n",
              "<table border=\"1\" class=\"dataframe\">\n",
              "  <thead>\n",
              "    <tr style=\"text-align: right;\">\n",
              "      <th></th>\n",
              "      <th>Seq_name</th>\n",
              "      <th>type</th>\n",
              "      <th>class</th>\n",
              "      <th>mechanism</th>\n",
              "      <th>group</th>\n",
              "      <th>Sequence</th>\n",
              "    </tr>\n",
              "  </thead>\n",
              "  <tbody>\n",
              "    <tr>\n",
              "      <th>0</th>\n",
              "      <td>MEG_1|Drugs</td>\n",
              "      <td>Drugs</td>\n",
              "      <td>Aminoglycosides</td>\n",
              "      <td>Aminoglycoside-resistant_16S_ribosomal_subunit...</td>\n",
              "      <td>A16S</td>\n",
              "      <td>AGAATTTGATCTTGGTTCAGATTGAACGCTGGCGGCGTGGATGAGG...</td>\n",
              "    </tr>\n",
              "    <tr>\n",
              "      <th>1</th>\n",
              "      <td>MEG_2|Drugs</td>\n",
              "      <td>Drugs</td>\n",
              "      <td>Aminoglycosides</td>\n",
              "      <td>Aminoglycoside-resistant_16S_ribosomal_subunit...</td>\n",
              "      <td>A16S</td>\n",
              "      <td>AGGTAAGGAGGTGATCCAACCGCAGGTTCCCCTACGGTTACCTTGT...</td>\n",
              "    </tr>\n",
              "    <tr>\n",
              "      <th>2</th>\n",
              "      <td>MEG_3|Drugs</td>\n",
              "      <td>Drugs</td>\n",
              "      <td>Aminoglycosides</td>\n",
              "      <td>Aminoglycoside-resistant_16S_ribosomal_subunit...</td>\n",
              "      <td>A16S</td>\n",
              "      <td>TTTTGTTTGGAGAGTTTGATCCTGGCTCAGGACGAACGCTGGCGGC...</td>\n",
              "    </tr>\n",
              "    <tr>\n",
              "      <th>3</th>\n",
              "      <td>MEG_4|Drugs</td>\n",
              "      <td>Drugs</td>\n",
              "      <td>Aminoglycosides</td>\n",
              "      <td>Aminoglycoside-resistant_16S_ribosomal_subunit...</td>\n",
              "      <td>A16S</td>\n",
              "      <td>AGAGATTGAACATAAGAGTTTGATCCTGGCTCAGATTGAACGCTGG...</td>\n",
              "    </tr>\n",
              "    <tr>\n",
              "      <th>4</th>\n",
              "      <td>MEG_5|Drugs</td>\n",
              "      <td>Drugs</td>\n",
              "      <td>Aminoglycosides</td>\n",
              "      <td>Aminoglycoside-resistant_16S_ribosomal_subunit...</td>\n",
              "      <td>A16S</td>\n",
              "      <td>AGAGTTTGATCCTGGCTCAGGACGAACGCTGGCGGCGTGCTTAACA...</td>\n",
              "    </tr>\n",
              "  </tbody>\n",
              "</table>\n",
              "</div>\n",
              "      <button class=\"colab-df-convert\" onclick=\"convertToInteractive('df-093f8704-aae6-4cc7-981e-edc0fa2f42d8')\"\n",
              "              title=\"Convert this dataframe to an interactive table.\"\n",
              "              style=\"display:none;\">\n",
              "        \n",
              "  <svg xmlns=\"http://www.w3.org/2000/svg\" height=\"24px\"viewBox=\"0 0 24 24\"\n",
              "       width=\"24px\">\n",
              "    <path d=\"M0 0h24v24H0V0z\" fill=\"none\"/>\n",
              "    <path d=\"M18.56 5.44l.94 2.06.94-2.06 2.06-.94-2.06-.94-.94-2.06-.94 2.06-2.06.94zm-11 1L8.5 8.5l.94-2.06 2.06-.94-2.06-.94L8.5 2.5l-.94 2.06-2.06.94zm10 10l.94 2.06.94-2.06 2.06-.94-2.06-.94-.94-2.06-.94 2.06-2.06.94z\"/><path d=\"M17.41 7.96l-1.37-1.37c-.4-.4-.92-.59-1.43-.59-.52 0-1.04.2-1.43.59L10.3 9.45l-7.72 7.72c-.78.78-.78 2.05 0 2.83L4 21.41c.39.39.9.59 1.41.59.51 0 1.02-.2 1.41-.59l7.78-7.78 2.81-2.81c.8-.78.8-2.07 0-2.86zM5.41 20L4 18.59l7.72-7.72 1.47 1.35L5.41 20z\"/>\n",
              "  </svg>\n",
              "      </button>\n",
              "      \n",
              "  <style>\n",
              "    .colab-df-container {\n",
              "      display:flex;\n",
              "      flex-wrap:wrap;\n",
              "      gap: 12px;\n",
              "    }\n",
              "\n",
              "    .colab-df-convert {\n",
              "      background-color: #E8F0FE;\n",
              "      border: none;\n",
              "      border-radius: 50%;\n",
              "      cursor: pointer;\n",
              "      display: none;\n",
              "      fill: #1967D2;\n",
              "      height: 32px;\n",
              "      padding: 0 0 0 0;\n",
              "      width: 32px;\n",
              "    }\n",
              "\n",
              "    .colab-df-convert:hover {\n",
              "      background-color: #E2EBFA;\n",
              "      box-shadow: 0px 1px 2px rgba(60, 64, 67, 0.3), 0px 1px 3px 1px rgba(60, 64, 67, 0.15);\n",
              "      fill: #174EA6;\n",
              "    }\n",
              "\n",
              "    [theme=dark] .colab-df-convert {\n",
              "      background-color: #3B4455;\n",
              "      fill: #D2E3FC;\n",
              "    }\n",
              "\n",
              "    [theme=dark] .colab-df-convert:hover {\n",
              "      background-color: #434B5C;\n",
              "      box-shadow: 0px 1px 3px 1px rgba(0, 0, 0, 0.15);\n",
              "      filter: drop-shadow(0px 1px 2px rgba(0, 0, 0, 0.3));\n",
              "      fill: #FFFFFF;\n",
              "    }\n",
              "  </style>\n",
              "\n",
              "      <script>\n",
              "        const buttonEl =\n",
              "          document.querySelector('#df-093f8704-aae6-4cc7-981e-edc0fa2f42d8 button.colab-df-convert');\n",
              "        buttonEl.style.display =\n",
              "          google.colab.kernel.accessAllowed ? 'block' : 'none';\n",
              "\n",
              "        async function convertToInteractive(key) {\n",
              "          const element = document.querySelector('#df-093f8704-aae6-4cc7-981e-edc0fa2f42d8');\n",
              "          const dataTable =\n",
              "            await google.colab.kernel.invokeFunction('convertToInteractive',\n",
              "                                                     [key], {});\n",
              "          if (!dataTable) return;\n",
              "\n",
              "          const docLinkHtml = 'Like what you see? Visit the ' +\n",
              "            '<a target=\"_blank\" href=https://colab.research.google.com/notebooks/data_table.ipynb>data table notebook</a>'\n",
              "            + ' to learn more about interactive tables.';\n",
              "          element.innerHTML = '';\n",
              "          dataTable['output_type'] = 'display_data';\n",
              "          await google.colab.output.renderOutput(dataTable, element);\n",
              "          const docLink = document.createElement('div');\n",
              "          docLink.innerHTML = docLinkHtml;\n",
              "          element.appendChild(docLink);\n",
              "        }\n",
              "      </script>\n",
              "    </div>\n",
              "  </div>\n",
              "  "
            ]
          },
          "metadata": {},
          "execution_count": 9
        }
      ]
    },
    {
      "cell_type": "code",
      "source": [
        "df[\"class\"].value_counts()"
      ],
      "metadata": {
        "colab": {
          "base_uri": "https://localhost:8080/"
        },
        "id": "EL0y7gTvqHSH",
        "outputId": "c1e9a4a3-ab67-469e-e7b5-f35faaa8127c"
      },
      "execution_count": 10,
      "outputs": [
        {
          "output_type": "execute_result",
          "data": {
            "text/plain": [
              "betalactams                                        3911\n",
              "Aminoglycosides                                     773\n",
              "Drug and biocide resistance                         363\n",
              "Glycopeptides                                       299\n",
              "Fluoroquinolones                                    296\n",
              "Tetracyclines                                       294\n",
              "MLS                                                 270\n",
              "Multi-metal resistance                              226\n",
              "Phenicol                                            145\n",
              "Trimethoprim                                        135\n",
              "Copper resistance                                   117\n",
              "Multi-drug resistance                               113\n",
              "Sulfonamides                                        103\n",
              "Multi-biocide resistance                             98\n",
              "Lipopeptides                                         95\n",
              "Rifampin                                             70\n",
              "Fosfomycin                                           62\n",
              "Mercury resistance                                   62\n",
              "Biocide and metal resistance                         55\n",
              "Aminocoumarins                                       39\n",
              "Drug and biocide and metal resistance                39\n",
              "Arsenic resistance                                   34\n",
              "Nickel resistance                                    28\n",
              "Elfamycins                                           22\n",
              "Mycobacterium tuberculosis-specific Drug             21\n",
              "Metronidazole                                        17\n",
              "Zinc resistance                                      16\n",
              "Acid resistance                                      16\n",
              "Nucleosides                                          15\n",
              "Chromium resistance                                  15\n",
              "Phenolic compound resistance                         13\n",
              "Cationic antimicrobial peptides                      13\n",
              "Tellurium resistance                                 12\n",
              "Peroxide resistance                                  12\n",
              "Fusidic acid                                         10\n",
              "Iron resistance                                       7\n",
              "Bacitracin                                            6\n",
              "Mupirocin                                             5\n",
              "Lead resistance                                       5\n",
              "Acetate resistance                                    4\n",
              "Drug and metal resistance                             4\n",
              "Sodium resistance                                     4\n",
              "Paraquat resistance                                   3\n",
              "Tungsten Resistance                                   3\n",
              "Aluminum resistance                                   2\n",
              "Thiopeptides                                          2\n",
              "Quaternary Ammonium Compounds (QACs) resistance       2\n",
              "Polyamine resistance                                  2\n",
              "Cobalt resistance                                     2\n",
              "Naphthoquinone                                        1\n",
              "Gold resistance                                       1\n",
              "Oxazolidinone                                         1\n",
              "Pactamycin                                            1\n",
              "Pleuromutilin                                         1\n",
              "Cadmium resistance                                    1\n",
              "Biguanide resistance                                  1\n",
              "Tetracenomycin                                        1\n",
              "Name: class, dtype: int64"
            ]
          },
          "metadata": {},
          "execution_count": 10
        }
      ]
    },
    {
      "cell_type": "code",
      "source": [
        "df[\"mechanism\"].value_counts()"
      ],
      "metadata": {
        "colab": {
          "base_uri": "https://localhost:8080/"
        },
        "id": "wPRA-64Wm2e8",
        "outputId": "447089e3-d3d3-4701-ecfa-ffa85c7cad01"
      },
      "execution_count": 11,
      "outputs": [
        {
          "output_type": "execute_result",
          "data": {
            "text/plain": [
              "Class_A_betalactamases                 1580\n",
              "Class_C_betalactamases                  950\n",
              "Class_D_betalactamases                  900\n",
              "Class_B_betalactamases                  410\n",
              "Aminoglycoside_N-acetyltransferases     359\n",
              "                                       ... \n",
              "Tetracenomycin_MFS_efflux_pump            1\n",
              "Tunicamycin_resistance_protein            1\n",
              "Chromate_ABC_efflux_pump                  1\n",
              "Biguanide_cation_efflux                   1\n",
              "Sulfonamide_monooxygenase                 1\n",
              "Name: mechanism, Length: 219, dtype: int64"
            ]
          },
          "metadata": {},
          "execution_count": 11
        }
      ]
    },
    {
      "cell_type": "code",
      "source": [
        "label_1 = ['Aminoglycosides', 'betalactams', 'Glycopeptides', 'Tetracyclines', 'MLS', 'Fluoroquinolones']\n",
        "label_2 = ['Class_A_betalactamases', 'Class_B_betalactamases', 'Class_c_betalactamases', 'Class_D_betalactamases']"
      ],
      "metadata": {
        "id": "QzZzQC0Am9Qj"
      },
      "execution_count": 12,
      "outputs": []
    },
    {
      "cell_type": "code",
      "source": [
        "df['labels'] = df[\"class\"]\n",
        "df.loc[~df['labels'].isin(label_1),'labels'] = \"other\""
      ],
      "metadata": {
        "id": "BYX3Z0TWrIYr"
      },
      "execution_count": 13,
      "outputs": []
    },
    {
      "cell_type": "code",
      "source": [
        "df.labels.value_counts()"
      ],
      "metadata": {
        "colab": {
          "base_uri": "https://localhost:8080/"
        },
        "id": "52DtXYPWsOyq",
        "outputId": "0de28f8c-ee6b-400c-eca7-2799d4eab833"
      },
      "execution_count": 14,
      "outputs": [
        {
          "output_type": "execute_result",
          "data": {
            "text/plain": [
              "betalactams         3911\n",
              "other               2025\n",
              "Aminoglycosides      773\n",
              "Glycopeptides        299\n",
              "Fluoroquinolones     296\n",
              "Tetracyclines        294\n",
              "MLS                  270\n",
              "Name: labels, dtype: int64"
            ]
          },
          "metadata": {},
          "execution_count": 14
        }
      ]
    },
    {
      "cell_type": "code",
      "source": [
        "X = df.Sequence.values\n",
        "y = df.labels.values\n",
        "print(X.shape, y.shape)\n",
        "index_to_remove = []\n",
        "for (i, seq) in enumerate(X):\n",
        "  if set(seq.upper())!={\"A\", \"T\", \"C\", \"G\"}:\n",
        "    index_to_remove.append(i)\n",
        "index_to_remove\n",
        "X = np.delete(X, index_to_remove, axis=0)\n",
        "y = np.delete(y, index_to_remove, axis=0)\n",
        "print(X.shape, y.shape)\n"
      ],
      "metadata": {
        "id": "00_0y1pRn_Yj",
        "outputId": "ead5fbfa-4005-478c-a58a-77b81257ee12",
        "colab": {
          "base_uri": "https://localhost:8080/"
        }
      },
      "execution_count": 15,
      "outputs": [
        {
          "output_type": "stream",
          "name": "stdout",
          "text": [
            "(7868,) (7868,)\n",
            "(7819,) (7819,)\n"
          ]
        }
      ]
    },
    {
      "cell_type": "code",
      "source": [
        "code = {'A': 1, 'C': 2, 'G': 3, 'T': 4}\n",
        "label_code_1 = {\"betalactams\":0, \"Aminoglycosides\":1, \"Glycopeptides\":2, \"Fluoroquinolones\":3, \"Tetracyclines\":4, \"MLS\":5,\n",
        "              \"other\":6}\n",
        "import torch.nn.functional as F\n",
        "\n",
        "def encode(seq, label, labels_dict):\n",
        "  label_int = labels_dict[label]\n",
        "  enc_seq = [code[x] for x in seq.upper()]\n",
        "  return [torch.LongTensor(enc_seq[0:2000]), torch.LongTensor([label_int]), len(enc_seq)]\n",
        "\n",
        "class SequenceDataset(Dataset):\n",
        "    def __init__(self, X, y, labels_dict):\n",
        "        \n",
        "        self.X = X \n",
        "        self.y = y \n",
        "        self.labels_dict =labels_dict\n",
        "        self.len=len(self.X)      \n",
        "\n",
        "    def __getitem__(self, index):\n",
        "        # your implementation here: \n",
        "        X_elem, y_elem, length_seq = encode(self.X[index], self.y[index], labels_dict=self.labels_dict)\n",
        "        return F.pad(X_elem, pad=(0, 2000 - len(X_elem))), y_elem\n",
        "\n",
        "    def __len__(self):\n",
        "        return self.len\n",
        "    \n",
        "\n",
        "\n"
      ],
      "metadata": {
        "id": "gCuT6FUUabV-"
      },
      "execution_count": 16,
      "outputs": []
    },
    {
      "cell_type": "code",
      "source": [
        "X_train, X_test, y_train, y_test = train_test_split(X, y, test_size=0.2) \n",
        "X_train, X_val, y_train, y_val = train_test_split(X_train, y_train, test_size=0.1) \n",
        "X_train, X_val, y_train, y_val = train_test_split(X_train, y_train, test_size=0.1) "
      ],
      "metadata": {
        "id": "ej_a5GcBluHB"
      },
      "execution_count": 17,
      "outputs": []
    },
    {
      "cell_type": "code",
      "source": [
        "train_data = SequenceDataset(X_train, y_train, labels_dict=label_code_1)\n",
        "val_data = SequenceDataset(X_val, y_val, labels_dict=label_code_1)\n",
        "test_data = SequenceDataset(X_test, y_test, labels_dict=label_code_1)\n",
        "\n",
        "batch_size = 32\n",
        "train_dataloader = DataLoader(train_data, batch_size=batch_size, shuffle=True)# fill in code here\n",
        "val_dataloader = DataLoader(val_data, batch_size=batch_size, shuffle=True)# fill in code here\n",
        "test_dataloader = DataLoader(test_data, batch_size=batch_size, shuffle=True)# fill in code here"
      ],
      "metadata": {
        "id": "idK8K6IlluJe"
      },
      "execution_count": 18,
      "outputs": []
    },
    {
      "cell_type": "code",
      "source": [
        "class cnn1d(nn.Module):\n",
        "    def __init__(self, label_count = 7):\n",
        "        super(cnn1d, self).__init__()\n",
        "        self.embedding = nn.Embedding(5, 8)\n",
        "        self.conv1 = nn.Conv1d(8, 64, kernel_size = 3, padding='same')\n",
        "        self.maxpool1 = nn.MaxPool1d(kernel_size=5)\n",
        "        self.conv2 = nn.Conv1d(64, 64, kernel_size=3, padding=\"same\")\n",
        "        self.maxpool2 = nn.MaxPool1d(kernel_size=5)\n",
        "        self.conv3 = nn.Conv1d(64, 64, kernel_size=3, padding=\"same\")\n",
        "        self.maxpool3 = nn.MaxPool1d(kernel_size=5)\n",
        "        self.dense = nn.Sequential(nn.Linear(1024, 256), \n",
        "                             nn.ReLU(), nn.Linear(256, 64),\n",
        "                             nn.ReLU(), nn.Linear(64, label_count))\n",
        "\n",
        "    def forward(self, x):\n",
        "        \"\"\"Extract first fully connected feature vector\"\"\"\n",
        "        # Apply convolutions\n",
        "        x = self.embedding(x)\n",
        "        # print(x.shape)\n",
        "        # Apply pooling\n",
        "        x = self.conv1(x.permute(0, 2, 1))\n",
        "        # print(x.shape)\n",
        "        x = self.maxpool1(x)\n",
        "        x = self.conv2(x)\n",
        "        x = self.maxpool2(x)\n",
        "        x = self.conv3(x)\n",
        "        x = self.maxpool3(x)\n",
        "        x = torch.flatten(x, 1)\n",
        "        x = self.dense(x)\n",
        "        # print(x.shape)\n",
        "        # Flatten and convert to vectors\n",
        "        # x = torch.flatten(x, 1)\n",
        "        # x = self.fc1(x)\n",
        "        # x = self.classifier(x)\n",
        "        return x"
      ],
      "metadata": {
        "id": "iUq1fL6lluWC"
      },
      "execution_count": 19,
      "outputs": []
    },
    {
      "cell_type": "code",
      "source": [
        "device = torch.device(\"cuda:0\" if torch.cuda.is_available() else \"cpu\")\n"
      ],
      "metadata": {
        "id": "iw27PCJx0qA7"
      },
      "execution_count": 20,
      "outputs": []
    },
    {
      "cell_type": "code",
      "source": [
        "model = cnn1d()\n",
        "model = model.to(device)\n",
        "# for data in train_loader:\n",
        "#   model(data[0])\n"
      ],
      "metadata": {
        "id": "bqhJCoEnpu1u"
      },
      "execution_count": 21,
      "outputs": []
    },
    {
      "cell_type": "code",
      "source": [
        "optimizer = torch.optim.Adam(list(model.parameters()), lr=1e-3) "
      ],
      "metadata": {
        "id": "MziD84g10ydh"
      },
      "execution_count": 22,
      "outputs": []
    },
    {
      "cell_type": "code",
      "source": [
        "def train(model, dataloader, optimizer, device):\n",
        "    \n",
        "    '''\n",
        "    A function to train on the entire dataset for one epoch.\n",
        "    \n",
        "    Args: \n",
        "        model (torch.nn.Module): Your sequence classifier \n",
        "        dataloader (torch.utils.data.Dataloader): DataLoader object for the train data\n",
        "        optimizer (torch.optim.Optimizer): Optimizer object to interface gradient calculation and optimization \n",
        "        device (str): Your device\n",
        "        \n",
        "    Returns: \n",
        "        float: loss averaged over all the batches \n",
        "    \n",
        "    '''\n",
        "\n",
        "    batch_loss = []\n",
        "    model.train() # Set model to training mode \n",
        "    train_loss = 0 \n",
        "    count = 0\n",
        "    for batch in dataloader:    \n",
        "        seq, label = batch\n",
        "        seq = seq.to(device)\n",
        "        label = label.to(device)\n",
        "        \n",
        "        # train your model on each batch here \n",
        "        y_pred = model(seq)\n",
        "        loss = nn.functional.cross_entropy(y_pred, label.squeeze())# fill in loss here\n",
        "        train_loss += loss*len(label)\n",
        "        count += len(label)\n",
        "        batch_loss.append(loss.item())\n",
        "        \n",
        "        # run backpropagation given the loss you defined\n",
        "        optimizer.zero_grad()\n",
        "        loss.backward()\n",
        "        optimizer.step()\n",
        "    train_loss = train_loss/count\n",
        "    return np.array(batch_loss).mean(), train_loss\n",
        "\n",
        "\n",
        "def validate(model, dataloader, device):\n",
        "    \n",
        "    '''\n",
        "    A function to validate on the validation dataset for one epoch.\n",
        "    \n",
        "    Args: \n",
        "        model (torch.nn.Module): Your sequence classifier \n",
        "        dataloader (torch.utils.data.Dataloader): DataLoader object for the validation data\n",
        "        device (str): Your device\n",
        "        \n",
        "    Returns: \n",
        "        float: loss averaged over all the batches \n",
        "    \n",
        "    '''\n",
        "    \n",
        "    val_loss = []\n",
        "    model.eval() # Set model to evaluation mode \n",
        "    with torch.no_grad():    \n",
        "        for batch in dataloader:\n",
        "            seq, label = batch\n",
        "            seq = seq.to(device)\n",
        "            label = label.to(device)\n",
        "            y_pred = model(seq)\n",
        "            loss = nn.functional.cross_entropy(y_pred, label.squeeze())# fill in loss here\n",
        "            val_loss.append(loss.item())\n",
        "            # validate your model on each batch here \n",
        "            \n",
        "    return np.array(val_loss).mean()   "
      ],
      "metadata": {
        "id": "n1_df_vIpu4K"
      },
      "execution_count": 23,
      "outputs": []
    },
    {
      "cell_type": "code",
      "source": [
        "print(\"epoch\", \"train loss\", \"validation loss\")\n",
        "\n",
        "val_loss_curve = []\n",
        "train_loss_curve = []\n",
        "\n",
        "for epoch in range(6):\n",
        "    \n",
        "    # Compute train your model on training data\n",
        "    epoch_loss, train_loss = train(model, train_dataloader, optimizer,  device=0)\n",
        "    \n",
        "    # Validate your on validation data \n",
        "    val_loss = validate(model, val_dataloader, device=0) \n",
        "    \n",
        "    # Record train and loss performance \n",
        "    train_loss_curve.append(epoch_loss)\n",
        "    val_loss_curve.append(val_loss)\n",
        "    \n",
        "    # The learning rate scheduler records the validation loss \n",
        "    # scheduler.step(val_loss)\n",
        "    \n",
        "    print(epoch, epoch_loss, val_loss)"
      ],
      "metadata": {
        "id": "jwJ0Vn8ypu6n",
        "outputId": "dc60c391-b7bf-460b-e406-f12461169ee9",
        "colab": {
          "base_uri": "https://localhost:8080/"
        }
      },
      "execution_count": 24,
      "outputs": [
        {
          "output_type": "stream",
          "name": "stdout",
          "text": [
            "epoch train loss validation loss\n",
            "0 1.0091293889021724 0.8084780176480612\n",
            "1 0.5826046046970775 0.5537409567170672\n",
            "2 0.3895584165393931 0.3953484031889174\n",
            "3 0.2691429307414863 0.38463617695702446\n",
            "4 0.2055417052850877 0.3067827315794097\n",
            "5 0.14689871605263097 0.3692785495529986\n"
          ]
        }
      ]
    },
    {
      "cell_type": "code",
      "source": [
        "pred_labels = []\n",
        "true_labels = []\n",
        "test_loss = 0\n",
        "with torch.no_grad():\n",
        "  model.eval()\n",
        "  for batch in test_dataloader:\n",
        "    seq, label = batch\n",
        "    seq = seq.to(device)\n",
        "    label = label.to(device)\n",
        "    logits = model(seq)\n",
        "    test_loss += nn.functional.cross_entropy(logits, label.squeeze())*len(label)\n",
        "    preds = logits.max(1).indices\n",
        "    true_labels.extend(list(label.squeeze().detach().cpu().numpy()))\n",
        "    pred_labels.extend(list(preds.squeeze().detach().cpu().numpy()))\n",
        "test_loss = test_loss/len(test_data)"
      ],
      "metadata": {
        "id": "xu2EDPd2pu8f"
      },
      "execution_count": 25,
      "outputs": []
    },
    {
      "cell_type": "code",
      "source": [
        "from sklearn.metrics import confusion_matrix\n",
        "cmat = confusion_matrix(true_labels, pred_labels)\n",
        "cmat"
      ],
      "metadata": {
        "id": "ZTCe4Zhupu_C",
        "outputId": "bd09959f-13e2-42e3-940f-59850fe7451b",
        "colab": {
          "base_uri": "https://localhost:8080/"
        }
      },
      "execution_count": 26,
      "outputs": [
        {
          "output_type": "execute_result",
          "data": {
            "text/plain": [
              "array([[741,   2,   1,   1,   0,   0,  16],\n",
              "       [  3, 129,   2,   0,   0,   2,  16],\n",
              "       [  1,   0,  52,   0,   0,   1,   7],\n",
              "       [  0,   0,   0,  54,   0,   0,   2],\n",
              "       [  0,   2,   0,   0,  47,   0,  12],\n",
              "       [  1,   4,   3,   0,   1,  32,  17],\n",
              "       [ 21,  19,  11,   2,   2,   7, 353]])"
            ]
          },
          "metadata": {},
          "execution_count": 26
        }
      ]
    },
    {
      "cell_type": "code",
      "source": [
        "import seaborn as sns\n",
        "fig, ax = plt.subplots()\n",
        "sns.heatmap(cmat, annot=cmat, fmt=\"\",  ax=ax, yticklabels=(label_code_1.keys()),\n",
        "            xticklabels=label_code_1.keys())\n",
        "plt.show()"
      ],
      "metadata": {
        "id": "WJ9s6EuPluYo",
        "outputId": "f6b3d50f-8eb6-490b-9c54-840a3dea0574",
        "colab": {
          "base_uri": "https://localhost:8080/",
          "height": 341
        }
      },
      "execution_count": 27,
      "outputs": [
        {
          "output_type": "display_data",
          "data": {
            "text/plain": [
              "<Figure size 432x288 with 2 Axes>"
            ],
            "image/png": "[encoded data removed]"
          },
          "metadata": {
            "needs_background": "light"
          }
        }
      ]
    },
    {
      "cell_type": "code",
      "source": [
        "def get_avg_length_of_seq(df):\n",
        "  dict_stats = {}\n",
        "  for classes in label_1:\n",
        "    df_temp = df[(df[\"class\"]==classes)&(df['Sequence'].str.len()<=2000)]\n",
        "    df_temp[\"length\"] = df_temp['Sequence'].str.len()\n",
        "    dict_stats[classes] = (df_temp[\"length\"].mean(), df_temp[\"length\"].std(), df_temp[\"length\"].max(), df_temp[\"length\"].min())\n",
        "  return dict_stats"
      ],
      "metadata": {
        "id": "uf4xn5xZlubP"
      },
      "execution_count": 28,
      "outputs": []
    },
    {
      "cell_type": "code",
      "source": [
        "dict_stats = get_avg_length_of_seq(df)\n",
        "dict_stats"
      ],
      "metadata": {
        "id": "W5XeO7FT8FzN",
        "outputId": "25293366-de0f-4dee-9ed5-c9e18f083933",
        "colab": {
          "base_uri": "https://localhost:8080/"
        }
      },
      "execution_count": 29,
      "outputs": [
        {
          "output_type": "stream",
          "name": "stderr",
          "text": [
            "/usr/local/lib/python3.7/dist-packages/ipykernel_launcher.py:5: SettingWithCopyWarning: \n",
            "A value is trying to be set on a copy of a slice from a DataFrame.\n",
            "Try using .loc[row_indexer,col_indexer] = value instead\n",
            "\n",
            "See the caveats in the documentation: https://pandas.pydata.org/pandas-docs/stable/user_guide/indexing.html#returning-a-view-versus-a-copy\n",
            "  \"\"\"\n"
          ]
        },
        {
          "output_type": "execute_result",
          "data": {
            "text/plain": [
              "{'Aminoglycosides': (696.3031088082902, 212.82609243082857, 1551, 375),\n",
              " 'Fluoroquinolones': (736.4894736842106, 287.85923476944305, 1998, 198),\n",
              " 'Glycopeptides': (923.1278195488721, 305.4917573179186, 1971, 228),\n",
              " 'MLS': (914.924, 269.2891994040286, 1710, 417),\n",
              " 'Tetracyclines': (1494.5358361774745, 430.184887273795, 1992, 312),\n",
              " 'betalactams': (934.7947924722866, 169.142251527775, 1998, 211)}"
            ]
          },
          "metadata": {},
          "execution_count": 29
        }
      ]
    },
    {
      "cell_type": "code",
      "source": [
        "df[\"labels_2\"] = df[\"labels\"]\n",
        "df.loc[(df['mechanism'] == \"Class_A_betalactamases\"),'labels_2'] = \"Class_A_betalactamases\"\n",
        "df.loc[(df['mechanism'] == \"Class_B_betalactamases\"),'labels_2'] = \"Class_B_betalactamases\"\n",
        "df.loc[(df['mechanism'] == \"Class_C_betalactamases\"),'labels_2'] = \"Class_C_betalactamases\"\n",
        "df.loc[(df['mechanism'] == \"Class_D_betalactamases\"),'labels_2'] = \"Class_D_betalactamases\""
      ],
      "metadata": {
        "id": "Sv_X4FK_-qZf"
      },
      "execution_count": 30,
      "outputs": []
    },
    {
      "cell_type": "code",
      "source": [
        "df.labels_2.value_counts()"
      ],
      "metadata": {
        "id": "grLDE1iM-TS2",
        "outputId": "1e202947-6ad2-4abe-a775-1e94b3a2ed64",
        "colab": {
          "base_uri": "https://localhost:8080/"
        }
      },
      "execution_count": 31,
      "outputs": [
        {
          "output_type": "execute_result",
          "data": {
            "text/plain": [
              "other                     2025\n",
              "Class_A_betalactamases    1580\n",
              "Class_C_betalactamases     950\n",
              "Class_D_betalactamases     900\n",
              "Aminoglycosides            773\n",
              "Class_B_betalactamases     410\n",
              "Glycopeptides              299\n",
              "Fluoroquinolones           296\n",
              "Tetracyclines              294\n",
              "MLS                        270\n",
              "betalactams                 71\n",
              "Name: labels_2, dtype: int64"
            ]
          },
          "metadata": {},
          "execution_count": 31
        }
      ]
    },
    {
      "cell_type": "code",
      "source": [
        "label_code_2 = {\"betalactams\":0, \"Aminoglycosides\":1, \"Glycopeptides\":2, \"Fluoroquinolones\":3, \"Tetracyclines\":4, \"MLS\":5,\n",
        "              \"other\":6, \"Class_A_betalactamases\":7, \"Class_B_betalactamases\":8, \"Class_C_betalactamases\":9,\n",
        "              \"Class_D_betalactamases\":10}"
      ],
      "metadata": {
        "id": "qpiXxD50_W7h"
      },
      "execution_count": 32,
      "outputs": []
    },
    {
      "cell_type": "code",
      "source": [
        "X = df.Sequence.values\n",
        "y = df.labels_2.values\n",
        "print(X.shape, y.shape)\n",
        "index_to_remove = []\n",
        "for (i, seq) in enumerate(X):\n",
        "  if set(seq.upper())!={\"A\", \"T\", \"C\", \"G\"}:\n",
        "    index_to_remove.append(i)\n",
        "index_to_remove\n",
        "X = np.delete(X, index_to_remove, axis=0)\n",
        "y = np.delete(y, index_to_remove, axis=0)\n",
        "print(X.shape, y.shape)"
      ],
      "metadata": {
        "id": "oWR3uFPA_W-K",
        "outputId": "891a8b75-886f-4058-c0f8-5c48c5a936de",
        "colab": {
          "base_uri": "https://localhost:8080/"
        }
      },
      "execution_count": 33,
      "outputs": [
        {
          "output_type": "stream",
          "name": "stdout",
          "text": [
            "(7868,) (7868,)\n",
            "(7819,) (7819,)\n"
          ]
        }
      ]
    },
    {
      "cell_type": "code",
      "source": [
        "from pandas.core.algorithms import unique\n",
        "unique(y)"
      ],
      "metadata": {
        "id": "wDkJMiCaCn6l",
        "outputId": "28b5a2ab-102a-43a7-eadb-6721e807273f",
        "colab": {
          "base_uri": "https://localhost:8080/"
        }
      },
      "execution_count": 34,
      "outputs": [
        {
          "output_type": "execute_result",
          "data": {
            "text/plain": [
              "array(['Aminoglycosides', 'other', 'Class_C_betalactamases',\n",
              "       'Class_A_betalactamases', 'Class_B_betalactamases', 'betalactams',\n",
              "       'Class_D_betalactamases', 'Glycopeptides', 'MLS',\n",
              "       'Fluoroquinolones', 'Tetracyclines'], dtype=object)"
            ]
          },
          "metadata": {},
          "execution_count": 34
        }
      ]
    },
    {
      "cell_type": "code",
      "source": [
        "X_train, X_test, y_train, y_test = train_test_split(X, y, test_size=0.2) \n",
        "X_train, X_val, y_train, y_val = train_test_split(X_train, y_train, test_size=0.1) \n",
        "X_train, X_val, y_train, y_val = train_test_split(X_train, y_train, test_size=0.1) "
      ],
      "metadata": {
        "id": "q4XRBVVs_XAb"
      },
      "execution_count": 35,
      "outputs": []
    },
    {
      "cell_type": "code",
      "source": [
        "train_data = SequenceDataset(X_train, y_train, labels_dict = label_code_2)\n",
        "val_data = SequenceDataset(X_val, y_val, labels_dict = label_code_2)\n",
        "test_data = SequenceDataset(X_test, y_test, labels_dict = label_code_2)\n",
        "\n",
        "batch_size = 32\n",
        "train_dataloader = DataLoader(train_data, batch_size=batch_size, shuffle=True)# fill in code here\n",
        "val_dataloader = DataLoader(val_data, batch_size=batch_size, shuffle=True)# fill in code here\n",
        "test_dataloader = DataLoader(test_data, batch_size=batch_size, shuffle=True)# fill in code here"
      ],
      "metadata": {
        "id": "6tGg2g_LAuBr"
      },
      "execution_count": 36,
      "outputs": []
    },
    {
      "cell_type": "code",
      "source": [
        "train_data[0]"
      ],
      "metadata": {
        "id": "t9aHCDDjF46u",
        "outputId": "89f5f77c-8949-4307-a832-2b7a535aac10",
        "colab": {
          "base_uri": "https://localhost:8080/"
        }
      },
      "execution_count": 37,
      "outputs": [
        {
          "output_type": "execute_result",
          "data": {
            "text/plain": [
              "(tensor([1, 4, 3,  ..., 0, 0, 0]), tensor([10]))"
            ]
          },
          "metadata": {},
          "execution_count": 37
        }
      ]
    },
    {
      "cell_type": "code",
      "source": [
        "model = cnn1d(label_count=len(label_code_2))\n",
        "model = model.to(device)"
      ],
      "metadata": {
        "id": "-wYecjaBAuEC"
      },
      "execution_count": 38,
      "outputs": []
    },
    {
      "cell_type": "code",
      "source": [
        "model"
      ],
      "metadata": {
        "id": "4pzdcks5BYVc",
        "outputId": "14f949bd-65d2-410d-8096-7e1aa0455de1",
        "colab": {
          "base_uri": "https://localhost:8080/"
        }
      },
      "execution_count": 39,
      "outputs": [
        {
          "output_type": "execute_result",
          "data": {
            "text/plain": [
              "cnn1d(\n",
              "  (embedding): Embedding(5, 8)\n",
              "  (conv1): Conv1d(8, 64, kernel_size=(3,), stride=(1,), padding=same)\n",
              "  (maxpool1): MaxPool1d(kernel_size=5, stride=5, padding=0, dilation=1, ceil_mode=False)\n",
              "  (conv2): Conv1d(64, 64, kernel_size=(3,), stride=(1,), padding=same)\n",
              "  (maxpool2): MaxPool1d(kernel_size=5, stride=5, padding=0, dilation=1, ceil_mode=False)\n",
              "  (conv3): Conv1d(64, 64, kernel_size=(3,), stride=(1,), padding=same)\n",
              "  (maxpool3): MaxPool1d(kernel_size=5, stride=5, padding=0, dilation=1, ceil_mode=False)\n",
              "  (dense): Sequential(\n",
              "    (0): Linear(in_features=1024, out_features=256, bias=True)\n",
              "    (1): ReLU()\n",
              "    (2): Linear(in_features=256, out_features=64, bias=True)\n",
              "    (3): ReLU()\n",
              "    (4): Linear(in_features=64, out_features=11, bias=True)\n",
              "  )\n",
              ")"
            ]
          },
          "metadata": {},
          "execution_count": 39
        }
      ]
    },
    {
      "cell_type": "code",
      "source": [
        "optimizer = torch.optim.Adam(list(model.parameters()), lr=1e-3) "
      ],
      "metadata": {
        "id": "cUNn7m_9GGxH"
      },
      "execution_count": 40,
      "outputs": []
    },
    {
      "cell_type": "code",
      "source": [
        "print(\"epoch\", \"train loss\", \"validation loss\")\n",
        "\n",
        "val_loss_curve = []\n",
        "train_loss_curve = []\n",
        "\n",
        "for epoch in range(7):\n",
        "    \n",
        "    # Compute train your model on training data\n",
        "    epoch_loss, train_loss = train(model, train_dataloader, optimizer,  device=0)\n",
        "    \n",
        "    # Validate your on validation data \n",
        "    val_loss = validate(model, val_dataloader, device=0) \n",
        "    \n",
        "    # Record train and loss performance \n",
        "    train_loss_curve.append(epoch_loss)\n",
        "    val_loss_curve.append(val_loss)\n",
        "    \n",
        "    # The learning rate scheduler records the validation loss \n",
        "    # scheduler.step(val_loss)\n",
        "    \n",
        "    print(epoch, epoch_loss, val_loss)"
      ],
      "metadata": {
        "id": "lMmyEkNHAuGV",
        "outputId": "af20b6e0-8f2c-4876-e113-d861aa3e7c42",
        "colab": {
          "base_uri": "https://localhost:8080/"
        }
      },
      "execution_count": 41,
      "outputs": [
        {
          "output_type": "stream",
          "name": "stdout",
          "text": [
            "epoch train loss validation loss\n",
            "0 1.3061364218124054 1.113943616549174\n",
            "1 0.8593046708301928 0.7648536993397607\n",
            "2 0.5912600611834407 0.5369829816950692\n",
            "3 0.4042924233015228 0.5114528950717714\n",
            "4 0.2801577729998894 0.40357033991151386\n",
            "5 0.19540048558440692 0.49420779198408127\n",
            "6 0.13601607930664933 0.3961205901578069\n"
          ]
        }
      ]
    },
    {
      "cell_type": "code",
      "source": [
        "pred_labels = []\n",
        "true_labels = []\n",
        "test_loss = 0\n",
        "with torch.no_grad():\n",
        "  model.eval()\n",
        "  for batch in test_dataloader:\n",
        "    seq, label = batch\n",
        "    seq = seq.to(device)\n",
        "    label = label.to(device)\n",
        "    logits = model(seq)\n",
        "    test_loss += nn.functional.cross_entropy(logits, label.squeeze())*len(label)\n",
        "    preds = logits.max(1).indices\n",
        "    true_labels.extend(list(label.squeeze().detach().cpu().numpy()))\n",
        "    pred_labels.extend(list(preds.squeeze().detach().cpu().numpy()))\n",
        "test_loss = test_loss/len(test_data)"
      ],
      "metadata": {
        "id": "bZU3asimAuId"
      },
      "execution_count": 42,
      "outputs": []
    },
    {
      "cell_type": "code",
      "source": [
        "cmat = confusion_matrix(true_labels, pred_labels)\n",
        "cmat"
      ],
      "metadata": {
        "id": "qbN5VP0nAuLA",
        "outputId": "50ab7d38-4aea-4b8c-9671-cfbb06fff37e",
        "colab": {
          "base_uri": "https://localhost:8080/"
        }
      },
      "execution_count": 43,
      "outputs": [
        {
          "output_type": "execute_result",
          "data": {
            "text/plain": [
              "array([[ 11,   0,   1,   0,   2,   0,   3,   0,   0,   0,   0],\n",
              "       [  0, 121,   0,   0,   0,   1,  10,   1,   0,   0,   2],\n",
              "       [  0,   1,  52,   0,   0,   0,   8,   1,   1,   0,   0],\n",
              "       [  0,   0,   0,  55,   0,   0,   3,   0,   0,   0,   0],\n",
              "       [  0,   0,   0,   0,  43,   1,   7,   0,   0,   0,   0],\n",
              "       [  0,   3,   0,   0,   0,  30,  14,   1,   0,   0,   1],\n",
              "       [  0,  19,  11,   4,   6,   3, 384,   2,   4,   0,   2],\n",
              "       [  0,   0,   1,   0,   0,   0,   4, 314,   0,   0,   0],\n",
              "       [  0,   1,   0,   0,   0,   0,   1,   7,  77,   1,   1],\n",
              "       [  0,   0,   0,   0,   1,   0,   5,   1,   0, 178,   0],\n",
              "       [  0,   0,   0,   0,   0,   0,   1,   0,   0,   0, 163]])"
            ]
          },
          "metadata": {},
          "execution_count": 43
        }
      ]
    },
    {
      "cell_type": "code",
      "source": [
        "fig, ax = plt.subplots()\n",
        "sns.set(rc = {'figure.figsize':(12,8)})\n",
        "sns.heatmap(cmat, annot=cmat, fmt=\"\",  ax=ax, yticklabels=(label_code_2.keys()),\n",
        "            xticklabels=label_code_2.keys())\n",
        "plt.show()"
      ],
      "metadata": {
        "id": "JIKY0igMAuNb",
        "outputId": "bc6f655f-02fe-4466-d541-c837accd1d21",
        "colab": {
          "base_uri": "https://localhost:8080/",
          "height": 503
        }
      },
      "execution_count": 52,
      "outputs": [
        {
          "output_type": "display_data",
          "data": {
            "text/plain": [
              "<Figure size 720x432 with 2 Axes>"
            ],
            "image/png": "[encoded data removed]"
          },
          "metadata": {}
        }
      ]
    },
    {
      "cell_type": "code",
      "source": [
        ""
      ],
      "metadata": {
        "id": "STuAfKq0AuP7"
      },
      "execution_count": 44,
      "outputs": []
    },
    {
      "cell_type": "code",
      "source": [
        ""
      ],
      "metadata": {
        "id": "fdzQokpq_XCw"
      },
      "execution_count": 44,
      "outputs": []
    },
    {
      "cell_type": "code",
      "source": [
        ""
      ],
      "metadata": {
        "id": "1ZMZocet_XFU"
      },
      "execution_count": 44,
      "outputs": []
    },
    {
      "cell_type": "code",
      "source": [
        ""
      ],
      "metadata": {
        "id": "HqSnEbJ3_XHt"
      },
      "execution_count": 44,
      "outputs": []
    },
    {
      "cell_type": "code",
      "source": [
        ""
      ],
      "metadata": {
        "id": "kI5003Rq_XKD"
      },
      "execution_count": 44,
      "outputs": []
    },
    {
      "cell_type": "code",
      "source": [
        "seq_len = np.array([len(m) for m in df.Sequence.values])\n",
        "print((seq_len>1000).mean())\n",
        "plt.hist(seq_len, bins = 20)"
      ],
      "metadata": {
        "id": "-vucFyq2YNNG",
        "outputId": "4c6c9fbc-a7d0-4c73-91ca-853c4340ec12",
        "colab": {
          "base_uri": "https://localhost:8080/",
          "height": 478
        }
      },
      "execution_count": 45,
      "outputs": [
        {
          "output_type": "stream",
          "name": "stdout",
          "text": [
            "0.3516776817488561\n"
          ]
        },
        {
          "output_type": "execute_result",
          "data": {
            "text/plain": [
              "(array([2.070e+02, 9.060e+02, 3.597e+03, 1.261e+03, 8.920e+02, 2.910e+02,\n",
              "        2.010e+02, 1.240e+02, 6.600e+01, 9.300e+01, 3.200e+01, 1.270e+02,\n",
              "        1.100e+01, 3.100e+01, 1.000e+00, 2.300e+01, 1.000e+00, 2.000e+00,\n",
              "        0.000e+00, 2.000e+00]),\n",
              " array([ 121. ,  379.8,  638.6,  897.4, 1156.2, 1415. , 1673.8, 1932.6,\n",
              "        2191.4, 2450.2, 2709. , 2967.8, 3226.6, 3485.4, 3744.2, 4003. ,\n",
              "        4261.8, 4520.6, 4779.4, 5038.2, 5297. ]),\n",
              " <a list of 20 Patch objects>)"
            ]
          },
          "metadata": {},
          "execution_count": 45
        },
        {
          "output_type": "display_data",
          "data": {
            "text/plain": [
              "<Figure size 576x360 with 1 Axes>"
            ],
            "image/png": "[encoded data removed]"
          },
          "metadata": {}
        }
      ]
    },
    {
      "cell_type": "code",
      "source": [
        "\n",
        "# Create dataloaders"
      ],
      "metadata": {
        "id": "Q054V7yjHyTu"
      },
      "execution_count": 46,
      "outputs": []
    },
    {
      "cell_type": "code",
      "source": [
        ""
      ],
      "metadata": {
        "id": "crbZQocEsj66"
      },
      "execution_count": 46,
      "outputs": []
    },
    {
      "cell_type": "code",
      "source": [
        "# Create model"
      ],
      "metadata": {
        "id": "-wusVD4NH3n2"
      },
      "execution_count": 47,
      "outputs": []
    },
    {
      "cell_type": "code",
      "source": [
        "# Train model"
      ],
      "metadata": {
        "id": "mSt5nJ-FH5Bp"
      },
      "execution_count": 48,
      "outputs": []
    },
    {
      "cell_type": "code",
      "source": [
        "# Test model"
      ],
      "metadata": {
        "id": "Q2QYo93RH6qy"
      },
      "execution_count": 49,
      "outputs": []
    }
  ]
}