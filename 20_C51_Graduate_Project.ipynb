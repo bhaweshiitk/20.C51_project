{
  "nbformat": 4,
  "nbformat_minor": 0,
  "metadata": {
    "colab": {
      "name": "20.C51 - Graduate Project.ipynb",
      "provenance": [],
      "collapsed_sections": [],
      "include_colab_link": true
    },
    "kernelspec": {
      "name": "python3",
      "display_name": "Python 3"
    },
    "language_info": {
      "name": "python"
    },
    "accelerator": "GPU"
  },
  "cells": [
    {
      "cell_type": "markdown",
      "metadata": {
        "id": "view-in-github",
        "colab_type": "text"
      },
      "source": [
        "<a href=\"https://colab.research.google.com/github/bhaweshiitk/20.C51_project/blob/main/20_C51_Graduate_Project.ipynb\" target=\"_parent\"><img src=\"https://colab.research.google.com/assets/colab-badge.svg\" alt=\"Open In Colab\"/></a>"
      ]
    },
    {
      "cell_type": "code",
      "source": [
        "import matplotlib.pyplot as plt\n",
        "from torch.utils.data import Dataset, DataLoader\n",
        "import pandas as pd\n",
        "import numpy as np\n",
        "import matplotlib\n",
        "import torch\n",
        "from torch import nn\n",
        "from torch.nn import functional as F\n",
        "from sklearn.model_selection import train_test_split\n",
        "! pip install Bio\n",
        "!pip install umap-learn\n",
        "from Bio import SeqIO\n",
        "import umap"
      ],
      "metadata": {
        "colab": {
          "base_uri": "https://localhost:8080/"
        },
        "id": "JRZq9zAWfzW3",
        "outputId": "9e671675-7cb0-48e0-a735-eba48410d981"
      },
      "execution_count": 1,
      "outputs": [
        {
          "output_type": "stream",
          "name": "stdout",
          "text": [
            "Requirement already satisfied: Bio in /usr/local/lib/python3.7/dist-packages (1.3.8)\n",
            "Requirement already satisfied: tqdm in /usr/local/lib/python3.7/dist-packages (from Bio) (4.64.0)\n",
            "Requirement already satisfied: mygene in /usr/local/lib/python3.7/dist-packages (from Bio) (3.2.2)\n",
            "Requirement already satisfied: biopython>=1.79 in /usr/local/lib/python3.7/dist-packages (from Bio) (1.79)\n",
            "Requirement already satisfied: requests in /usr/local/lib/python3.7/dist-packages (from Bio) (2.23.0)\n",
            "Requirement already satisfied: numpy in /usr/local/lib/python3.7/dist-packages (from biopython>=1.79->Bio) (1.21.6)\n",
            "Requirement already satisfied: biothings-client>=0.2.6 in /usr/local/lib/python3.7/dist-packages (from mygene->Bio) (0.2.6)\n",
            "Requirement already satisfied: urllib3!=1.25.0,!=1.25.1,<1.26,>=1.21.1 in /usr/local/lib/python3.7/dist-packages (from requests->Bio) (1.24.3)\n",
            "Requirement already satisfied: chardet<4,>=3.0.2 in /usr/local/lib/python3.7/dist-packages (from requests->Bio) (3.0.4)\n",
            "Requirement already satisfied: certifi>=2017.4.17 in /usr/local/lib/python3.7/dist-packages (from requests->Bio) (2021.10.8)\n",
            "Requirement already satisfied: idna<3,>=2.5 in /usr/local/lib/python3.7/dist-packages (from requests->Bio) (2.10)\n",
            "Requirement already satisfied: umap-learn in /usr/local/lib/python3.7/dist-packages (0.5.3)\n",
            "Requirement already satisfied: scikit-learn>=0.22 in /usr/local/lib/python3.7/dist-packages (from umap-learn) (1.0.2)\n",
            "Requirement already satisfied: pynndescent>=0.5 in /usr/local/lib/python3.7/dist-packages (from umap-learn) (0.5.6)\n",
            "Requirement already satisfied: numpy>=1.17 in /usr/local/lib/python3.7/dist-packages (from umap-learn) (1.21.6)\n",
            "Requirement already satisfied: scipy>=1.0 in /usr/local/lib/python3.7/dist-packages (from umap-learn) (1.4.1)\n",
            "Requirement already satisfied: numba>=0.49 in /usr/local/lib/python3.7/dist-packages (from umap-learn) (0.51.2)\n",
            "Requirement already satisfied: tqdm in /usr/local/lib/python3.7/dist-packages (from umap-learn) (4.64.0)\n",
            "Requirement already satisfied: setuptools in /usr/local/lib/python3.7/dist-packages (from numba>=0.49->umap-learn) (57.4.0)\n",
            "Requirement already satisfied: llvmlite<0.35,>=0.34.0.dev0 in /usr/local/lib/python3.7/dist-packages (from numba>=0.49->umap-learn) (0.34.0)\n",
            "Requirement already satisfied: joblib>=0.11 in /usr/local/lib/python3.7/dist-packages (from pynndescent>=0.5->umap-learn) (1.1.0)\n",
            "Requirement already satisfied: threadpoolctl>=2.0.0 in /usr/local/lib/python3.7/dist-packages (from scikit-learn>=0.22->umap-learn) (3.1.0)\n"
          ]
        }
      ]
    },
    {
      "cell_type": "code",
      "source": [
        "# RNN, Hybrid RNN-CNN\n",
        "# Linear regression, MLP, Random Forest\n",
        "# Hyperparam tuning \n",
        "# Distance between train and test set"
      ],
      "metadata": {
        "id": "TUw_Djx7XInh"
      },
      "execution_count": 2,
      "outputs": []
    },
    {
      "cell_type": "code",
      "source": [
        ""
      ],
      "metadata": {
        "id": "fSM0-PWxt2Ht"
      },
      "execution_count": 2,
      "outputs": []
    },
    {
      "cell_type": "code",
      "execution_count": 3,
      "metadata": {
        "id": "OxCVvG5wHokf",
        "colab": {
          "base_uri": "https://localhost:8080/"
        },
        "outputId": "42c5ac89-e66f-4798-f344-01735e354888"
      },
      "outputs": [
        {
          "output_type": "stream",
          "name": "stdout",
          "text": [
            "--2022-05-08 14:55:11--  https://raw.githubusercontent.com/bhaweshiitk/3.C51_project/main/megares_modified_annotations_v2.00.csv\n",
            "Resolving raw.githubusercontent.com (raw.githubusercontent.com)... 185.199.108.133, 185.199.109.133, 185.199.110.133, ...\n",
            "Connecting to raw.githubusercontent.com (raw.githubusercontent.com)|185.199.108.133|:443... connected.\n",
            "HTTP request sent, awaiting response... 200 OK\n",
            "Length: 948917 (927K) [text/plain]\n",
            "Saving to: ‘megares_modified_annotations_v2.00.csv.1’\n",
            "\n",
            "\r          megares_m   0%[                    ]       0  --.-KB/s               \rmegares_modified_an 100%[===================>] 926.68K  --.-KB/s    in 0.04s   \n",
            "\n",
            "2022-05-08 14:55:11 (24.8 MB/s) - ‘megares_modified_annotations_v2.00.csv.1’ saved [948917/948917]\n",
            "\n",
            "--2022-05-08 14:55:11--  https://raw.githubusercontent.com/bhaweshiitk/3.C51_project/main/megares_modified_database_v2.00.fasta\n",
            "Resolving raw.githubusercontent.com (raw.githubusercontent.com)... 185.199.108.133, 185.199.109.133, 185.199.110.133, ...\n",
            "Connecting to raw.githubusercontent.com (raw.githubusercontent.com)|185.199.108.133|:443... connected.\n",
            "HTTP request sent, awaiting response... 200 OK\n",
            "Length: 8637235 (8.2M) [text/plain]\n",
            "Saving to: ‘megares_modified_database_v2.00.fasta.1’\n",
            "\n",
            "megares_modified_da 100%[===================>]   8.24M  --.-KB/s    in 0.03s   \n",
            "\n",
            "2022-05-08 14:55:11 (257 MB/s) - ‘megares_modified_database_v2.00.fasta.1’ saved [8637235/8637235]\n",
            "\n"
          ]
        }
      ],
      "source": [
        "# Import data\n",
        "! wget https://raw.githubusercontent.com/bhaweshiitk/3.C51_project/main/megares_modified_annotations_v2.00.csv\n",
        "! wget https://raw.githubusercontent.com/bhaweshiitk/3.C51_project/main/megares_modified_database_v2.00.fasta"
      ]
    },
    {
      "cell_type": "code",
      "source": [
        "# Process data\n",
        "train_annotations = pd.read_csv(\"./megares_modified_annotations_v2.00.csv\")\n",
        "train_annotations.shape"
      ],
      "metadata": {
        "id": "5V-TEbEjHwTL",
        "colab": {
          "base_uri": "https://localhost:8080/"
        },
        "outputId": "dd4f3e6f-606a-43be-e897-df7b068d2a18"
      },
      "execution_count": 4,
      "outputs": [
        {
          "output_type": "execute_result",
          "data": {
            "text/plain": [
              "(7868, 5)"
            ]
          },
          "metadata": {},
          "execution_count": 4
        }
      ]
    },
    {
      "cell_type": "code",
      "source": [
        "train_annotations.head()"
      ],
      "metadata": {
        "colab": {
          "base_uri": "https://localhost:8080/",
          "height": 206
        },
        "id": "GVd7nK-EgtTp",
        "outputId": "3394904d-8ce7-4694-ef3e-3103cd34e7b8"
      },
      "execution_count": 5,
      "outputs": [
        {
          "output_type": "execute_result",
          "data": {
            "text/plain": [
              "                                              header   type            class  \\\n",
              "0  MEG_1|Drugs|Aminoglycosides|Aminoglycoside-res...  Drugs  Aminoglycosides   \n",
              "1  MEG_2|Drugs|Aminoglycosides|Aminoglycoside-res...  Drugs  Aminoglycosides   \n",
              "2  MEG_3|Drugs|Aminoglycosides|Aminoglycoside-res...  Drugs  Aminoglycosides   \n",
              "3  MEG_4|Drugs|Aminoglycosides|Aminoglycoside-res...  Drugs  Aminoglycosides   \n",
              "4  MEG_5|Drugs|Aminoglycosides|Aminoglycoside-res...  Drugs  Aminoglycosides   \n",
              "\n",
              "                                           mechanism group  \n",
              "0  Aminoglycoside-resistant 16S ribosomal subunit...  A16S  \n",
              "1  Aminoglycoside-resistant 16S ribosomal subunit...  A16S  \n",
              "2  Aminoglycoside-resistant 16S ribosomal subunit...  A16S  \n",
              "3  Aminoglycoside-resistant 16S ribosomal subunit...  A16S  \n",
              "4  Aminoglycoside-resistant 16S ribosomal subunit...  A16S  "
            ],
            "text/html": [
              "\n",
              "  <div id=\"df-de9ed9f0-4007-49d8-b531-a2bc49877072\">\n",
              "    <div class=\"colab-df-container\">\n",
              "      <div>\n",
              "<style scoped>\n",
              "    .dataframe tbody tr th:only-of-type {\n",
              "        vertical-align: middle;\n",
              "    }\n",
              "\n",
              "    .dataframe tbody tr th {\n",
              "        vertical-align: top;\n",
              "    }\n",
              "\n",
              "    .dataframe thead th {\n",
              "        text-align: right;\n",
              "    }\n",
              "</style>\n",
              "<table border=\"1\" class=\"dataframe\">\n",
              "  <thead>\n",
              "    <tr style=\"text-align: right;\">\n",
              "      <th></th>\n",
              "      <th>header</th>\n",
              "      <th>type</th>\n",
              "      <th>class</th>\n",
              "      <th>mechanism</th>\n",
              "      <th>group</th>\n",
              "    </tr>\n",
              "  </thead>\n",
              "  <tbody>\n",
              "    <tr>\n",
              "      <th>0</th>\n",
              "      <td>MEG_1|Drugs|Aminoglycosides|Aminoglycoside-res...</td>\n",
              "      <td>Drugs</td>\n",
              "      <td>Aminoglycosides</td>\n",
              "      <td>Aminoglycoside-resistant 16S ribosomal subunit...</td>\n",
              "      <td>A16S</td>\n",
              "    </tr>\n",
              "    <tr>\n",
              "      <th>1</th>\n",
              "      <td>MEG_2|Drugs|Aminoglycosides|Aminoglycoside-res...</td>\n",
              "      <td>Drugs</td>\n",
              "      <td>Aminoglycosides</td>\n",
              "      <td>Aminoglycoside-resistant 16S ribosomal subunit...</td>\n",
              "      <td>A16S</td>\n",
              "    </tr>\n",
              "    <tr>\n",
              "      <th>2</th>\n",
              "      <td>MEG_3|Drugs|Aminoglycosides|Aminoglycoside-res...</td>\n",
              "      <td>Drugs</td>\n",
              "      <td>Aminoglycosides</td>\n",
              "      <td>Aminoglycoside-resistant 16S ribosomal subunit...</td>\n",
              "      <td>A16S</td>\n",
              "    </tr>\n",
              "    <tr>\n",
              "      <th>3</th>\n",
              "      <td>MEG_4|Drugs|Aminoglycosides|Aminoglycoside-res...</td>\n",
              "      <td>Drugs</td>\n",
              "      <td>Aminoglycosides</td>\n",
              "      <td>Aminoglycoside-resistant 16S ribosomal subunit...</td>\n",
              "      <td>A16S</td>\n",
              "    </tr>\n",
              "    <tr>\n",
              "      <th>4</th>\n",
              "      <td>MEG_5|Drugs|Aminoglycosides|Aminoglycoside-res...</td>\n",
              "      <td>Drugs</td>\n",
              "      <td>Aminoglycosides</td>\n",
              "      <td>Aminoglycoside-resistant 16S ribosomal subunit...</td>\n",
              "      <td>A16S</td>\n",
              "    </tr>\n",
              "  </tbody>\n",
              "</table>\n",
              "</div>\n",
              "      <button class=\"colab-df-convert\" onclick=\"convertToInteractive('df-de9ed9f0-4007-49d8-b531-a2bc49877072')\"\n",
              "              title=\"Convert this dataframe to an interactive table.\"\n",
              "              style=\"display:none;\">\n",
              "        \n",
              "  <svg xmlns=\"http://www.w3.org/2000/svg\" height=\"24px\"viewBox=\"0 0 24 24\"\n",
              "       width=\"24px\">\n",
              "    <path d=\"M0 0h24v24H0V0z\" fill=\"none\"/>\n",
              "    <path d=\"M18.56 5.44l.94 2.06.94-2.06 2.06-.94-2.06-.94-.94-2.06-.94 2.06-2.06.94zm-11 1L8.5 8.5l.94-2.06 2.06-.94-2.06-.94L8.5 2.5l-.94 2.06-2.06.94zm10 10l.94 2.06.94-2.06 2.06-.94-2.06-.94-.94-2.06-.94 2.06-2.06.94z\"/><path d=\"M17.41 7.96l-1.37-1.37c-.4-.4-.92-.59-1.43-.59-.52 0-1.04.2-1.43.59L10.3 9.45l-7.72 7.72c-.78.78-.78 2.05 0 2.83L4 21.41c.39.39.9.59 1.41.59.51 0 1.02-.2 1.41-.59l7.78-7.78 2.81-2.81c.8-.78.8-2.07 0-2.86zM5.41 20L4 18.59l7.72-7.72 1.47 1.35L5.41 20z\"/>\n",
              "  </svg>\n",
              "      </button>\n",
              "      \n",
              "  <style>\n",
              "    .colab-df-container {\n",
              "      display:flex;\n",
              "      flex-wrap:wrap;\n",
              "      gap: 12px;\n",
              "    }\n",
              "\n",
              "    .colab-df-convert {\n",
              "      background-color: #E8F0FE;\n",
              "      border: none;\n",
              "      border-radius: 50%;\n",
              "      cursor: pointer;\n",
              "      display: none;\n",
              "      fill: #1967D2;\n",
              "      height: 32px;\n",
              "      padding: 0 0 0 0;\n",
              "      width: 32px;\n",
              "    }\n",
              "\n",
              "    .colab-df-convert:hover {\n",
              "      background-color: #E2EBFA;\n",
              "      box-shadow: 0px 1px 2px rgba(60, 64, 67, 0.3), 0px 1px 3px 1px rgba(60, 64, 67, 0.15);\n",
              "      fill: #174EA6;\n",
              "    }\n",
              "\n",
              "    [theme=dark] .colab-df-convert {\n",
              "      background-color: #3B4455;\n",
              "      fill: #D2E3FC;\n",
              "    }\n",
              "\n",
              "    [theme=dark] .colab-df-convert:hover {\n",
              "      background-color: #434B5C;\n",
              "      box-shadow: 0px 1px 3px 1px rgba(0, 0, 0, 0.15);\n",
              "      filter: drop-shadow(0px 1px 2px rgba(0, 0, 0, 0.3));\n",
              "      fill: #FFFFFF;\n",
              "    }\n",
              "  </style>\n",
              "\n",
              "      <script>\n",
              "        const buttonEl =\n",
              "          document.querySelector('#df-de9ed9f0-4007-49d8-b531-a2bc49877072 button.colab-df-convert');\n",
              "        buttonEl.style.display =\n",
              "          google.colab.kernel.accessAllowed ? 'block' : 'none';\n",
              "\n",
              "        async function convertToInteractive(key) {\n",
              "          const element = document.querySelector('#df-de9ed9f0-4007-49d8-b531-a2bc49877072');\n",
              "          const dataTable =\n",
              "            await google.colab.kernel.invokeFunction('convertToInteractive',\n",
              "                                                     [key], {});\n",
              "          if (!dataTable) return;\n",
              "\n",
              "          const docLinkHtml = 'Like what you see? Visit the ' +\n",
              "            '<a target=\"_blank\" href=https://colab.research.google.com/notebooks/data_table.ipynb>data table notebook</a>'\n",
              "            + ' to learn more about interactive tables.';\n",
              "          element.innerHTML = '';\n",
              "          dataTable['output_type'] = 'display_data';\n",
              "          await google.colab.output.renderOutput(dataTable, element);\n",
              "          const docLink = document.createElement('div');\n",
              "          docLink.innerHTML = docLinkHtml;\n",
              "          element.appendChild(docLink);\n",
              "        }\n",
              "      </script>\n",
              "    </div>\n",
              "  </div>\n",
              "  "
            ]
          },
          "metadata": {},
          "execution_count": 5
        }
      ]
    },
    {
      "cell_type": "code",
      "source": [
        "train_annotations['Seq_name'] = train_annotations['header'].str.split('|').str[0:2].apply('|'.join)\n",
        "train_annotations['mechanism'] = train_annotations['header'].str.split('|').str[3]"
      ],
      "metadata": {
        "id": "cpLUmYDlkeoy"
      },
      "execution_count": 6,
      "outputs": []
    },
    {
      "cell_type": "code",
      "source": [
        "fasta_sequences = SeqIO.parse(open(\"./megares_modified_database_v2.00.fasta\"),'fasta')\n",
        "sequence_dict = {}\n",
        "for fasta in fasta_sequences:\n",
        "    name, sequence = fasta.id, str(fasta.seq)\n",
        "    name = \"|\".join((name.split(\"|\", 2))[0:2])\n",
        "    sequence_dict[name] = sequence\n",
        "sequence_df = pd.DataFrame(sequence_dict.items(), columns=['Seq_name', 'Sequence'])\n",
        "sequence_df.shape"
      ],
      "metadata": {
        "colab": {
          "base_uri": "https://localhost:8080/"
        },
        "id": "Cke-vmzYg8J3",
        "outputId": "e13b2e39-825a-4ff9-dca4-30226902fcce"
      },
      "execution_count": 7,
      "outputs": [
        {
          "output_type": "execute_result",
          "data": {
            "text/plain": [
              "(7868, 2)"
            ]
          },
          "metadata": {},
          "execution_count": 7
        }
      ]
    },
    {
      "cell_type": "code",
      "source": [
        "sequence_df.head()"
      ],
      "metadata": {
        "colab": {
          "base_uri": "https://localhost:8080/",
          "height": 206
        },
        "id": "1flcUDs5jip4",
        "outputId": "6a10160c-de38-42d2-c461-01e898c22966"
      },
      "execution_count": 8,
      "outputs": [
        {
          "output_type": "execute_result",
          "data": {
            "text/plain": [
              "      Seq_name                                           Sequence\n",
              "0  MEG_1|Drugs  AGAATTTGATCTTGGTTCAGATTGAACGCTGGCGGCGTGGATGAGG...\n",
              "1  MEG_2|Drugs  AGGTAAGGAGGTGATCCAACCGCAGGTTCCCCTACGGTTACCTTGT...\n",
              "2  MEG_3|Drugs  TTTTGTTTGGAGAGTTTGATCCTGGCTCAGGACGAACGCTGGCGGC...\n",
              "3  MEG_4|Drugs  AGAGATTGAACATAAGAGTTTGATCCTGGCTCAGATTGAACGCTGG...\n",
              "4  MEG_5|Drugs  AGAGTTTGATCCTGGCTCAGGACGAACGCTGGCGGCGTGCTTAACA..."
            ],
            "text/html": [
              "\n",
              "  <div id=\"df-bd0189fc-5dac-47e7-b197-e3505e9cda48\">\n",
              "    <div class=\"colab-df-container\">\n",
              "      <div>\n",
              "<style scoped>\n",
              "    .dataframe tbody tr th:only-of-type {\n",
              "        vertical-align: middle;\n",
              "    }\n",
              "\n",
              "    .dataframe tbody tr th {\n",
              "        vertical-align: top;\n",
              "    }\n",
              "\n",
              "    .dataframe thead th {\n",
              "        text-align: right;\n",
              "    }\n",
              "</style>\n",
              "<table border=\"1\" class=\"dataframe\">\n",
              "  <thead>\n",
              "    <tr style=\"text-align: right;\">\n",
              "      <th></th>\n",
              "      <th>Seq_name</th>\n",
              "      <th>Sequence</th>\n",
              "    </tr>\n",
              "  </thead>\n",
              "  <tbody>\n",
              "    <tr>\n",
              "      <th>0</th>\n",
              "      <td>MEG_1|Drugs</td>\n",
              "      <td>AGAATTTGATCTTGGTTCAGATTGAACGCTGGCGGCGTGGATGAGG...</td>\n",
              "    </tr>\n",
              "    <tr>\n",
              "      <th>1</th>\n",
              "      <td>MEG_2|Drugs</td>\n",
              "      <td>AGGTAAGGAGGTGATCCAACCGCAGGTTCCCCTACGGTTACCTTGT...</td>\n",
              "    </tr>\n",
              "    <tr>\n",
              "      <th>2</th>\n",
              "      <td>MEG_3|Drugs</td>\n",
              "      <td>TTTTGTTTGGAGAGTTTGATCCTGGCTCAGGACGAACGCTGGCGGC...</td>\n",
              "    </tr>\n",
              "    <tr>\n",
              "      <th>3</th>\n",
              "      <td>MEG_4|Drugs</td>\n",
              "      <td>AGAGATTGAACATAAGAGTTTGATCCTGGCTCAGATTGAACGCTGG...</td>\n",
              "    </tr>\n",
              "    <tr>\n",
              "      <th>4</th>\n",
              "      <td>MEG_5|Drugs</td>\n",
              "      <td>AGAGTTTGATCCTGGCTCAGGACGAACGCTGGCGGCGTGCTTAACA...</td>\n",
              "    </tr>\n",
              "  </tbody>\n",
              "</table>\n",
              "</div>\n",
              "      <button class=\"colab-df-convert\" onclick=\"convertToInteractive('df-bd0189fc-5dac-47e7-b197-e3505e9cda48')\"\n",
              "              title=\"Convert this dataframe to an interactive table.\"\n",
              "              style=\"display:none;\">\n",
              "        \n",
              "  <svg xmlns=\"http://www.w3.org/2000/svg\" height=\"24px\"viewBox=\"0 0 24 24\"\n",
              "       width=\"24px\">\n",
              "    <path d=\"M0 0h24v24H0V0z\" fill=\"none\"/>\n",
              "    <path d=\"M18.56 5.44l.94 2.06.94-2.06 2.06-.94-2.06-.94-.94-2.06-.94 2.06-2.06.94zm-11 1L8.5 8.5l.94-2.06 2.06-.94-2.06-.94L8.5 2.5l-.94 2.06-2.06.94zm10 10l.94 2.06.94-2.06 2.06-.94-2.06-.94-.94-2.06-.94 2.06-2.06.94z\"/><path d=\"M17.41 7.96l-1.37-1.37c-.4-.4-.92-.59-1.43-.59-.52 0-1.04.2-1.43.59L10.3 9.45l-7.72 7.72c-.78.78-.78 2.05 0 2.83L4 21.41c.39.39.9.59 1.41.59.51 0 1.02-.2 1.41-.59l7.78-7.78 2.81-2.81c.8-.78.8-2.07 0-2.86zM5.41 20L4 18.59l7.72-7.72 1.47 1.35L5.41 20z\"/>\n",
              "  </svg>\n",
              "      </button>\n",
              "      \n",
              "  <style>\n",
              "    .colab-df-container {\n",
              "      display:flex;\n",
              "      flex-wrap:wrap;\n",
              "      gap: 12px;\n",
              "    }\n",
              "\n",
              "    .colab-df-convert {\n",
              "      background-color: #E8F0FE;\n",
              "      border: none;\n",
              "      border-radius: 50%;\n",
              "      cursor: pointer;\n",
              "      display: none;\n",
              "      fill: #1967D2;\n",
              "      height: 32px;\n",
              "      padding: 0 0 0 0;\n",
              "      width: 32px;\n",
              "    }\n",
              "\n",
              "    .colab-df-convert:hover {\n",
              "      background-color: #E2EBFA;\n",
              "      box-shadow: 0px 1px 2px rgba(60, 64, 67, 0.3), 0px 1px 3px 1px rgba(60, 64, 67, 0.15);\n",
              "      fill: #174EA6;\n",
              "    }\n",
              "\n",
              "    [theme=dark] .colab-df-convert {\n",
              "      background-color: #3B4455;\n",
              "      fill: #D2E3FC;\n",
              "    }\n",
              "\n",
              "    [theme=dark] .colab-df-convert:hover {\n",
              "      background-color: #434B5C;\n",
              "      box-shadow: 0px 1px 3px 1px rgba(0, 0, 0, 0.15);\n",
              "      filter: drop-shadow(0px 1px 2px rgba(0, 0, 0, 0.3));\n",
              "      fill: #FFFFFF;\n",
              "    }\n",
              "  </style>\n",
              "\n",
              "      <script>\n",
              "        const buttonEl =\n",
              "          document.querySelector('#df-bd0189fc-5dac-47e7-b197-e3505e9cda48 button.colab-df-convert');\n",
              "        buttonEl.style.display =\n",
              "          google.colab.kernel.accessAllowed ? 'block' : 'none';\n",
              "\n",
              "        async function convertToInteractive(key) {\n",
              "          const element = document.querySelector('#df-bd0189fc-5dac-47e7-b197-e3505e9cda48');\n",
              "          const dataTable =\n",
              "            await google.colab.kernel.invokeFunction('convertToInteractive',\n",
              "                                                     [key], {});\n",
              "          if (!dataTable) return;\n",
              "\n",
              "          const docLinkHtml = 'Like what you see? Visit the ' +\n",
              "            '<a target=\"_blank\" href=https://colab.research.google.com/notebooks/data_table.ipynb>data table notebook</a>'\n",
              "            + ' to learn more about interactive tables.';\n",
              "          element.innerHTML = '';\n",
              "          dataTable['output_type'] = 'display_data';\n",
              "          await google.colab.output.renderOutput(dataTable, element);\n",
              "          const docLink = document.createElement('div');\n",
              "          docLink.innerHTML = docLinkHtml;\n",
              "          element.appendChild(docLink);\n",
              "        }\n",
              "      </script>\n",
              "    </div>\n",
              "  </div>\n",
              "  "
            ]
          },
          "metadata": {},
          "execution_count": 8
        }
      ]
    },
    {
      "cell_type": "code",
      "source": [
        "df = pd.merge(train_annotations[['Seq_name', 'type', 'class','mechanism','group']], \n",
        "              sequence_df, how = \"inner\", on = [\"Seq_name\"])\n",
        "df.shape"
      ],
      "metadata": {
        "colab": {
          "base_uri": "https://localhost:8080/"
        },
        "id": "q5zu98sXlMgt",
        "outputId": "de6a72ea-95bb-4bf0-dce4-398497f44cc1"
      },
      "execution_count": 9,
      "outputs": [
        {
          "output_type": "execute_result",
          "data": {
            "text/plain": [
              "(7868, 6)"
            ]
          },
          "metadata": {},
          "execution_count": 9
        }
      ]
    },
    {
      "cell_type": "code",
      "source": [
        "df.head()"
      ],
      "metadata": {
        "colab": {
          "base_uri": "https://localhost:8080/",
          "height": 206
        },
        "id": "bQHOPUI0lk84",
        "outputId": "79865c64-3f6f-44e7-dcad-dba7df4db4eb"
      },
      "execution_count": 10,
      "outputs": [
        {
          "output_type": "execute_result",
          "data": {
            "text/plain": [
              "      Seq_name   type            class  \\\n",
              "0  MEG_1|Drugs  Drugs  Aminoglycosides   \n",
              "1  MEG_2|Drugs  Drugs  Aminoglycosides   \n",
              "2  MEG_3|Drugs  Drugs  Aminoglycosides   \n",
              "3  MEG_4|Drugs  Drugs  Aminoglycosides   \n",
              "4  MEG_5|Drugs  Drugs  Aminoglycosides   \n",
              "\n",
              "                                           mechanism group  \\\n",
              "0  Aminoglycoside-resistant_16S_ribosomal_subunit...  A16S   \n",
              "1  Aminoglycoside-resistant_16S_ribosomal_subunit...  A16S   \n",
              "2  Aminoglycoside-resistant_16S_ribosomal_subunit...  A16S   \n",
              "3  Aminoglycoside-resistant_16S_ribosomal_subunit...  A16S   \n",
              "4  Aminoglycoside-resistant_16S_ribosomal_subunit...  A16S   \n",
              "\n",
              "                                            Sequence  \n",
              "0  AGAATTTGATCTTGGTTCAGATTGAACGCTGGCGGCGTGGATGAGG...  \n",
              "1  AGGTAAGGAGGTGATCCAACCGCAGGTTCCCCTACGGTTACCTTGT...  \n",
              "2  TTTTGTTTGGAGAGTTTGATCCTGGCTCAGGACGAACGCTGGCGGC...  \n",
              "3  AGAGATTGAACATAAGAGTTTGATCCTGGCTCAGATTGAACGCTGG...  \n",
              "4  AGAGTTTGATCCTGGCTCAGGACGAACGCTGGCGGCGTGCTTAACA...  "
            ],
            "text/html": [
              "\n",
              "  <div id=\"df-be1224da-8f3f-43d8-b66b-2c70970e0874\">\n",
              "    <div class=\"colab-df-container\">\n",
              "      <div>\n",
              "<style scoped>\n",
              "    .dataframe tbody tr th:only-of-type {\n",
              "        vertical-align: middle;\n",
              "    }\n",
              "\n",
              "    .dataframe tbody tr th {\n",
              "        vertical-align: top;\n",
              "    }\n",
              "\n",
              "    .dataframe thead th {\n",
              "        text-align: right;\n",
              "    }\n",
              "</style>\n",
              "<table border=\"1\" class=\"dataframe\">\n",
              "  <thead>\n",
              "    <tr style=\"text-align: right;\">\n",
              "      <th></th>\n",
              "      <th>Seq_name</th>\n",
              "      <th>type</th>\n",
              "      <th>class</th>\n",
              "      <th>mechanism</th>\n",
              "      <th>group</th>\n",
              "      <th>Sequence</th>\n",
              "    </tr>\n",
              "  </thead>\n",
              "  <tbody>\n",
              "    <tr>\n",
              "      <th>0</th>\n",
              "      <td>MEG_1|Drugs</td>\n",
              "      <td>Drugs</td>\n",
              "      <td>Aminoglycosides</td>\n",
              "      <td>Aminoglycoside-resistant_16S_ribosomal_subunit...</td>\n",
              "      <td>A16S</td>\n",
              "      <td>AGAATTTGATCTTGGTTCAGATTGAACGCTGGCGGCGTGGATGAGG...</td>\n",
              "    </tr>\n",
              "    <tr>\n",
              "      <th>1</th>\n",
              "      <td>MEG_2|Drugs</td>\n",
              "      <td>Drugs</td>\n",
              "      <td>Aminoglycosides</td>\n",
              "      <td>Aminoglycoside-resistant_16S_ribosomal_subunit...</td>\n",
              "      <td>A16S</td>\n",
              "      <td>AGGTAAGGAGGTGATCCAACCGCAGGTTCCCCTACGGTTACCTTGT...</td>\n",
              "    </tr>\n",
              "    <tr>\n",
              "      <th>2</th>\n",
              "      <td>MEG_3|Drugs</td>\n",
              "      <td>Drugs</td>\n",
              "      <td>Aminoglycosides</td>\n",
              "      <td>Aminoglycoside-resistant_16S_ribosomal_subunit...</td>\n",
              "      <td>A16S</td>\n",
              "      <td>TTTTGTTTGGAGAGTTTGATCCTGGCTCAGGACGAACGCTGGCGGC...</td>\n",
              "    </tr>\n",
              "    <tr>\n",
              "      <th>3</th>\n",
              "      <td>MEG_4|Drugs</td>\n",
              "      <td>Drugs</td>\n",
              "      <td>Aminoglycosides</td>\n",
              "      <td>Aminoglycoside-resistant_16S_ribosomal_subunit...</td>\n",
              "      <td>A16S</td>\n",
              "      <td>AGAGATTGAACATAAGAGTTTGATCCTGGCTCAGATTGAACGCTGG...</td>\n",
              "    </tr>\n",
              "    <tr>\n",
              "      <th>4</th>\n",
              "      <td>MEG_5|Drugs</td>\n",
              "      <td>Drugs</td>\n",
              "      <td>Aminoglycosides</td>\n",
              "      <td>Aminoglycoside-resistant_16S_ribosomal_subunit...</td>\n",
              "      <td>A16S</td>\n",
              "      <td>AGAGTTTGATCCTGGCTCAGGACGAACGCTGGCGGCGTGCTTAACA...</td>\n",
              "    </tr>\n",
              "  </tbody>\n",
              "</table>\n",
              "</div>\n",
              "      <button class=\"colab-df-convert\" onclick=\"convertToInteractive('df-be1224da-8f3f-43d8-b66b-2c70970e0874')\"\n",
              "              title=\"Convert this dataframe to an interactive table.\"\n",
              "              style=\"display:none;\">\n",
              "        \n",
              "  <svg xmlns=\"http://www.w3.org/2000/svg\" height=\"24px\"viewBox=\"0 0 24 24\"\n",
              "       width=\"24px\">\n",
              "    <path d=\"M0 0h24v24H0V0z\" fill=\"none\"/>\n",
              "    <path d=\"M18.56 5.44l.94 2.06.94-2.06 2.06-.94-2.06-.94-.94-2.06-.94 2.06-2.06.94zm-11 1L8.5 8.5l.94-2.06 2.06-.94-2.06-.94L8.5 2.5l-.94 2.06-2.06.94zm10 10l.94 2.06.94-2.06 2.06-.94-2.06-.94-.94-2.06-.94 2.06-2.06.94z\"/><path d=\"M17.41 7.96l-1.37-1.37c-.4-.4-.92-.59-1.43-.59-.52 0-1.04.2-1.43.59L10.3 9.45l-7.72 7.72c-.78.78-.78 2.05 0 2.83L4 21.41c.39.39.9.59 1.41.59.51 0 1.02-.2 1.41-.59l7.78-7.78 2.81-2.81c.8-.78.8-2.07 0-2.86zM5.41 20L4 18.59l7.72-7.72 1.47 1.35L5.41 20z\"/>\n",
              "  </svg>\n",
              "      </button>\n",
              "      \n",
              "  <style>\n",
              "    .colab-df-container {\n",
              "      display:flex;\n",
              "      flex-wrap:wrap;\n",
              "      gap: 12px;\n",
              "    }\n",
              "\n",
              "    .colab-df-convert {\n",
              "      background-color: #E8F0FE;\n",
              "      border: none;\n",
              "      border-radius: 50%;\n",
              "      cursor: pointer;\n",
              "      display: none;\n",
              "      fill: #1967D2;\n",
              "      height: 32px;\n",
              "      padding: 0 0 0 0;\n",
              "      width: 32px;\n",
              "    }\n",
              "\n",
              "    .colab-df-convert:hover {\n",
              "      background-color: #E2EBFA;\n",
              "      box-shadow: 0px 1px 2px rgba(60, 64, 67, 0.3), 0px 1px 3px 1px rgba(60, 64, 67, 0.15);\n",
              "      fill: #174EA6;\n",
              "    }\n",
              "\n",
              "    [theme=dark] .colab-df-convert {\n",
              "      background-color: #3B4455;\n",
              "      fill: #D2E3FC;\n",
              "    }\n",
              "\n",
              "    [theme=dark] .colab-df-convert:hover {\n",
              "      background-color: #434B5C;\n",
              "      box-shadow: 0px 1px 3px 1px rgba(0, 0, 0, 0.15);\n",
              "      filter: drop-shadow(0px 1px 2px rgba(0, 0, 0, 0.3));\n",
              "      fill: #FFFFFF;\n",
              "    }\n",
              "  </style>\n",
              "\n",
              "      <script>\n",
              "        const buttonEl =\n",
              "          document.querySelector('#df-be1224da-8f3f-43d8-b66b-2c70970e0874 button.colab-df-convert');\n",
              "        buttonEl.style.display =\n",
              "          google.colab.kernel.accessAllowed ? 'block' : 'none';\n",
              "\n",
              "        async function convertToInteractive(key) {\n",
              "          const element = document.querySelector('#df-be1224da-8f3f-43d8-b66b-2c70970e0874');\n",
              "          const dataTable =\n",
              "            await google.colab.kernel.invokeFunction('convertToInteractive',\n",
              "                                                     [key], {});\n",
              "          if (!dataTable) return;\n",
              "\n",
              "          const docLinkHtml = 'Like what you see? Visit the ' +\n",
              "            '<a target=\"_blank\" href=https://colab.research.google.com/notebooks/data_table.ipynb>data table notebook</a>'\n",
              "            + ' to learn more about interactive tables.';\n",
              "          element.innerHTML = '';\n",
              "          dataTable['output_type'] = 'display_data';\n",
              "          await google.colab.output.renderOutput(dataTable, element);\n",
              "          const docLink = document.createElement('div');\n",
              "          docLink.innerHTML = docLinkHtml;\n",
              "          element.appendChild(docLink);\n",
              "        }\n",
              "      </script>\n",
              "    </div>\n",
              "  </div>\n",
              "  "
            ]
          },
          "metadata": {},
          "execution_count": 10
        }
      ]
    },
    {
      "cell_type": "code",
      "source": [
        "df[\"class\"].value_counts()"
      ],
      "metadata": {
        "colab": {
          "base_uri": "https://localhost:8080/"
        },
        "id": "EL0y7gTvqHSH",
        "outputId": "aa96a799-e797-447a-c7f0-da4f4c7a4b0e"
      },
      "execution_count": 11,
      "outputs": [
        {
          "output_type": "execute_result",
          "data": {
            "text/plain": [
              "betalactams                                        3911\n",
              "Aminoglycosides                                     773\n",
              "Drug and biocide resistance                         363\n",
              "Glycopeptides                                       299\n",
              "Fluoroquinolones                                    296\n",
              "Tetracyclines                                       294\n",
              "MLS                                                 270\n",
              "Multi-metal resistance                              226\n",
              "Phenicol                                            145\n",
              "Trimethoprim                                        135\n",
              "Copper resistance                                   117\n",
              "Multi-drug resistance                               113\n",
              "Sulfonamides                                        103\n",
              "Multi-biocide resistance                             98\n",
              "Lipopeptides                                         95\n",
              "Rifampin                                             70\n",
              "Fosfomycin                                           62\n",
              "Mercury resistance                                   62\n",
              "Biocide and metal resistance                         55\n",
              "Aminocoumarins                                       39\n",
              "Drug and biocide and metal resistance                39\n",
              "Arsenic resistance                                   34\n",
              "Nickel resistance                                    28\n",
              "Elfamycins                                           22\n",
              "Mycobacterium tuberculosis-specific Drug             21\n",
              "Metronidazole                                        17\n",
              "Zinc resistance                                      16\n",
              "Acid resistance                                      16\n",
              "Nucleosides                                          15\n",
              "Chromium resistance                                  15\n",
              "Phenolic compound resistance                         13\n",
              "Cationic antimicrobial peptides                      13\n",
              "Tellurium resistance                                 12\n",
              "Peroxide resistance                                  12\n",
              "Fusidic acid                                         10\n",
              "Iron resistance                                       7\n",
              "Bacitracin                                            6\n",
              "Mupirocin                                             5\n",
              "Lead resistance                                       5\n",
              "Acetate resistance                                    4\n",
              "Drug and metal resistance                             4\n",
              "Sodium resistance                                     4\n",
              "Paraquat resistance                                   3\n",
              "Tungsten Resistance                                   3\n",
              "Aluminum resistance                                   2\n",
              "Thiopeptides                                          2\n",
              "Quaternary Ammonium Compounds (QACs) resistance       2\n",
              "Polyamine resistance                                  2\n",
              "Cobalt resistance                                     2\n",
              "Naphthoquinone                                        1\n",
              "Gold resistance                                       1\n",
              "Oxazolidinone                                         1\n",
              "Pactamycin                                            1\n",
              "Pleuromutilin                                         1\n",
              "Cadmium resistance                                    1\n",
              "Biguanide resistance                                  1\n",
              "Tetracenomycin                                        1\n",
              "Name: class, dtype: int64"
            ]
          },
          "metadata": {},
          "execution_count": 11
        }
      ]
    },
    {
      "cell_type": "code",
      "source": [
        "df[\"mechanism\"].value_counts()"
      ],
      "metadata": {
        "colab": {
          "base_uri": "https://localhost:8080/"
        },
        "id": "wPRA-64Wm2e8",
        "outputId": "c7853f32-efd5-46d2-81d3-f8e70674ae5e"
      },
      "execution_count": 12,
      "outputs": [
        {
          "output_type": "execute_result",
          "data": {
            "text/plain": [
              "Class_A_betalactamases                 1580\n",
              "Class_C_betalactamases                  950\n",
              "Class_D_betalactamases                  900\n",
              "Class_B_betalactamases                  410\n",
              "Aminoglycoside_N-acetyltransferases     359\n",
              "                                       ... \n",
              "Tetracenomycin_MFS_efflux_pump            1\n",
              "Tunicamycin_resistance_protein            1\n",
              "Chromate_ABC_efflux_pump                  1\n",
              "Biguanide_cation_efflux                   1\n",
              "Sulfonamide_monooxygenase                 1\n",
              "Name: mechanism, Length: 219, dtype: int64"
            ]
          },
          "metadata": {},
          "execution_count": 12
        }
      ]
    },
    {
      "cell_type": "code",
      "source": [
        "# Label for prediction into major class of antibiotic resistance\n",
        "label_1 = ['Aminoglycosides', 'betalactams', 'Glycopeptides', 'Tetracyclines', 'MLS', 'Fluoroquinolones', 'Trimethoprim',\n",
        "           'Phenicol', 'Sulfonamides', 'Sulfonamides', 'Lipopeptides']"
      ],
      "metadata": {
        "id": "QzZzQC0Am9Qj"
      },
      "execution_count": 13,
      "outputs": []
    },
    {
      "cell_type": "code",
      "source": [
        "df['labels'] = df[\"class\"]\n",
        "df.loc[~df['labels'].isin(label_1),'labels'] = \"other\""
      ],
      "metadata": {
        "id": "BYX3Z0TWrIYr"
      },
      "execution_count": 14,
      "outputs": []
    },
    {
      "cell_type": "code",
      "source": [
        "df.labels.value_counts()"
      ],
      "metadata": {
        "colab": {
          "base_uri": "https://localhost:8080/"
        },
        "id": "52DtXYPWsOyq",
        "outputId": "cf39dbe6-2c9c-46d4-b027-bb6882161d6c"
      },
      "execution_count": 15,
      "outputs": [
        {
          "output_type": "execute_result",
          "data": {
            "text/plain": [
              "betalactams         3911\n",
              "other               1547\n",
              "Aminoglycosides      773\n",
              "Glycopeptides        299\n",
              "Fluoroquinolones     296\n",
              "Tetracyclines        294\n",
              "MLS                  270\n",
              "Phenicol             145\n",
              "Trimethoprim         135\n",
              "Sulfonamides         103\n",
              "Lipopeptides          95\n",
              "Name: labels, dtype: int64"
            ]
          },
          "metadata": {},
          "execution_count": 15
        }
      ]
    },
    {
      "cell_type": "code",
      "source": [
        "X = df.Sequence.values\n",
        "y = df.labels.values\n",
        "print(X.shape, y.shape)\n",
        "index_to_remove = []\n",
        "for (i, seq) in enumerate(X):\n",
        "  if set(seq.upper())!={\"A\", \"T\", \"C\", \"G\"}:\n",
        "    index_to_remove.append(i)\n",
        "index_to_remove\n",
        "X = np.delete(X, index_to_remove, axis=0)\n",
        "y = np.delete(y, index_to_remove, axis=0)\n",
        "print(X.shape, y.shape)\n"
      ],
      "metadata": {
        "id": "00_0y1pRn_Yj",
        "outputId": "e7444718-884c-4db9-d066-04de6e00dee0",
        "colab": {
          "base_uri": "https://localhost:8080/"
        }
      },
      "execution_count": 16,
      "outputs": [
        {
          "output_type": "stream",
          "name": "stdout",
          "text": [
            "(7868,) (7868,)\n",
            "(7819,) (7819,)\n"
          ]
        }
      ]
    },
    {
      "cell_type": "code",
      "source": [
        "code = {'A': 1, 'C': 2, 'G': 3, 'T': 4}\n",
        "label_code_1 = {\"betalactams\":0, \"Aminoglycosides\":1, \"Glycopeptides\":2, \"Fluoroquinolones\":3, \"Tetracyclines\":4, \"MLS\":5,\n",
        "                 'Trimethoprim':6,'Phenicol':7,  'Sulfonamides':8, 'Lipopeptides':9,\"other\":10}"
      ],
      "metadata": {
        "id": "g4Gr9oXiFegw"
      },
      "execution_count": 17,
      "outputs": []
    },
    {
      "cell_type": "code",
      "source": [
        "\n",
        "import torch.nn.functional as F\n",
        "\n",
        "def encode(seq, label, labels_dict):\n",
        "  label_int = labels_dict[label]\n",
        "  enc_seq = [code[x] for x in seq.upper()]\n",
        "  return [torch.LongTensor(enc_seq[0:2000]), torch.LongTensor([label_int]), len(enc_seq)]\n",
        "\n",
        "class SequenceDataset(Dataset):\n",
        "    def __init__(self, X, y, labels_dict):\n",
        "        \n",
        "        self.X = X \n",
        "        self.y = y \n",
        "        self.labels_dict =labels_dict\n",
        "        self.len=len(self.X)      \n",
        "\n",
        "    def __getitem__(self, index):\n",
        "        # your implementation here: \n",
        "        X_elem, y_elem, length_seq = encode(self.X[index], self.y[index], labels_dict=self.labels_dict)\n",
        "        return F.pad(X_elem, pad=(0, 2000 - len(X_elem))), y_elem\n",
        "\n",
        "    def __len__(self):\n",
        "        return self.len\n",
        "    \n",
        "\n",
        "\n"
      ],
      "metadata": {
        "id": "gCuT6FUUabV-"
      },
      "execution_count": 18,
      "outputs": []
    },
    {
      "cell_type": "code",
      "source": [
        "X_train, X_test, y_train, y_test = train_test_split(X, y, test_size=0.2) \n",
        "X_train, X_val, y_train, y_val = train_test_split(X_train, y_train, test_size=0.1) \n",
        "X_train, X_val, y_train, y_val = train_test_split(X_train, y_train, test_size=0.1) "
      ],
      "metadata": {
        "id": "ej_a5GcBluHB"
      },
      "execution_count": 19,
      "outputs": []
    },
    {
      "cell_type": "code",
      "source": [
        "train_data = SequenceDataset(X_train, y_train, labels_dict=label_code_1)\n",
        "val_data = SequenceDataset(X_val, y_val, labels_dict=label_code_1)\n",
        "test_data = SequenceDataset(X_test, y_test, labels_dict=label_code_1)\n",
        "\n",
        "batch_size = 32\n",
        "train_dataloader = DataLoader(train_data, batch_size=batch_size, shuffle=True)# fill in code here\n",
        "val_dataloader = DataLoader(val_data, batch_size=batch_size, shuffle=True)# fill in code here\n",
        "test_dataloader = DataLoader(test_data, batch_size=batch_size, shuffle=True)# fill in code here"
      ],
      "metadata": {
        "id": "idK8K6IlluJe"
      },
      "execution_count": 20,
      "outputs": []
    },
    {
      "cell_type": "code",
      "source": [
        "class cnn1d(nn.Module):\n",
        "    def __init__(self, label_count = len(label_code_1)):\n",
        "        super(cnn1d, self).__init__()\n",
        "        self.embedding = nn.Embedding(5, 2*label_count)\n",
        "        self.conv1 = nn.Conv1d(2*label_count, 64, kernel_size = 3, padding='same')\n",
        "        self.maxpool1 = nn.MaxPool1d(kernel_size=5)\n",
        "        self.conv2 = nn.Conv1d(64, 64, kernel_size=3, padding=\"same\")\n",
        "        self.maxpool2 = nn.MaxPool1d(kernel_size=5)\n",
        "        self.conv3 = nn.Conv1d(64, 64, kernel_size=3, padding=\"same\")\n",
        "        self.maxpool3 = nn.MaxPool1d(kernel_size=5)\n",
        "        self.dense = nn.Sequential(nn.Linear(1024, 256), \n",
        "                             nn.ReLU(), nn.Linear(256, 64),\n",
        "                             nn.ReLU(), nn.Linear(64, label_count))\n",
        "\n",
        "    def forward(self, x):\n",
        "        \"\"\"Extract first fully connected feature vector\"\"\"\n",
        "        # Apply convolutions\n",
        "        x = self.embedding(x)\n",
        "        x = self.conv1(x.permute(0, 2, 1))\n",
        "        x = self.maxpool1(x)\n",
        "        x = self.conv2(x)\n",
        "        x = self.maxpool2(x)\n",
        "        x = self.conv3(x)\n",
        "        x = self.maxpool3(x)\n",
        "        x = torch.flatten(x, 1)\n",
        "        x = self.dense(x)\n",
        "        \n",
        "        return x"
      ],
      "metadata": {
        "id": "iUq1fL6lluWC"
      },
      "execution_count": 21,
      "outputs": []
    },
    {
      "cell_type": "code",
      "source": [
        "device = torch.device(\"cuda:0\" if torch.cuda.is_available() else \"cpu\")\n"
      ],
      "metadata": {
        "id": "iw27PCJx0qA7"
      },
      "execution_count": 22,
      "outputs": []
    },
    {
      "cell_type": "code",
      "source": [
        "model = cnn1d()\n",
        "model = model.to(device)\n",
        "\n"
      ],
      "metadata": {
        "id": "bqhJCoEnpu1u"
      },
      "execution_count": 23,
      "outputs": []
    },
    {
      "cell_type": "code",
      "source": [
        "optimizer = torch.optim.Adam(list(model.parameters()), lr=1e-3) "
      ],
      "metadata": {
        "id": "MziD84g10ydh"
      },
      "execution_count": 24,
      "outputs": []
    },
    {
      "cell_type": "code",
      "source": [
        "def train(model, dataloader, optimizer, device):\n",
        "    \n",
        "    '''\n",
        "    A function to train on the entire dataset for one epoch.\n",
        "    \n",
        "    Args: \n",
        "        model (torch.nn.Module): Your sequence classifier \n",
        "        dataloader (torch.utils.data.Dataloader): DataLoader object for the train data\n",
        "        optimizer (torch.optim.Optimizer): Optimizer object to interface gradient calculation and optimization \n",
        "        device (str): Your device\n",
        "        \n",
        "    Returns: \n",
        "        float: loss averaged over all the batches \n",
        "    \n",
        "    '''\n",
        "\n",
        "    batch_loss = []\n",
        "    model.train() # Set model to training mode \n",
        "    train_loss = 0 \n",
        "    count = 0\n",
        "    for batch in dataloader:    \n",
        "        seq, label = batch\n",
        "        seq = seq.to(device)\n",
        "        label = label.to(device)\n",
        "        \n",
        "        y_pred = model(seq)\n",
        "        loss = nn.functional.cross_entropy(y_pred, label.squeeze())# fill in loss here\n",
        "        train_loss += loss*len(label)\n",
        "        count += len(label)\n",
        "        batch_loss.append(loss.item())\n",
        "        \n",
        "        # run backpropagation given the loss you defined\n",
        "        optimizer.zero_grad()\n",
        "        loss.backward()\n",
        "        optimizer.step()\n",
        "    train_loss = train_loss/count\n",
        "    return np.array(batch_loss).mean(), train_loss.detach().cpu().numpy()\n",
        "\n",
        "\n",
        "def validate(model, dataloader, device):\n",
        "    \n",
        "    '''\n",
        "    A function to validate on the validation dataset for one epoch.\n",
        "    \n",
        "    Args: \n",
        "        model (torch.nn.Module): Your sequence classifier \n",
        "        dataloader (torch.utils.data.Dataloader): DataLoader object for the validation data\n",
        "        device (str): Your device\n",
        "        \n",
        "    Returns: \n",
        "        float: loss averaged over all the batches \n",
        "    \n",
        "    '''\n",
        "    \n",
        "    batch_loss = []\n",
        "    model.eval() # Set model to evaluation mode \n",
        "    val_loss = 0\n",
        "    count = 0\n",
        "    with torch.no_grad():    \n",
        "        for batch in dataloader:\n",
        "            seq, label = batch\n",
        "            seq = seq.to(device)\n",
        "            label = label.to(device)\n",
        "            y_pred = model(seq)\n",
        "            loss = nn.functional.cross_entropy(y_pred, label.squeeze())# fill in loss here\n",
        "            val_loss += loss*len(label)\n",
        "            count += len(label)\n",
        "            batch_loss.append(loss.item())\n",
        "            # validate your model on each batch here \n",
        "        val_loss = val_loss/count     \n",
        "    return np.array(batch_loss).mean(), val_loss.detach().cpu().numpy()  "
      ],
      "metadata": {
        "id": "n1_df_vIpu4K"
      },
      "execution_count": 25,
      "outputs": []
    },
    {
      "cell_type": "code",
      "source": [
        "print(\"epoch\", \"train loss\", \"validation loss\")\n",
        "\n",
        "val_loss_curve = []\n",
        "train_loss_curve = []\n",
        "\n",
        "for epoch in range(8):\n",
        "    \n",
        "    # Compute train your model on training data\n",
        "    epoch_loss, train_loss = train(model, train_dataloader, optimizer,  device=0)\n",
        "    \n",
        "    # Validate your on validation data \n",
        "    _, val_loss = validate(model, val_dataloader, device=0) \n",
        "    \n",
        "    # Record train and loss performance \n",
        "    train_loss_curve.append(epoch_loss)\n",
        "    val_loss_curve.append(val_loss)\n",
        "    \n",
        "    # The learning rate scheduler records the validation loss \n",
        "    # scheduler.step(val_loss)\n",
        "    \n",
        "    print(epoch, train_loss, val_loss)"
      ],
      "metadata": {
        "id": "jwJ0Vn8ypu6n",
        "outputId": "b51ad6a2-d8b3-4248-f304-455a06902b88",
        "colab": {
          "base_uri": "https://localhost:8080/"
        }
      },
      "execution_count": 26,
      "outputs": [
        {
          "output_type": "stream",
          "name": "stdout",
          "text": [
            "epoch train loss validation loss\n",
            "0 1.1783223 0.8729601\n",
            "1 0.6927188 0.6199099\n",
            "2 0.44892496 0.5067792\n",
            "3 0.3117974 0.458027\n",
            "4 0.18870743 0.38517708\n",
            "5 0.1300639 0.47148457\n",
            "6 0.07975096 0.47367504\n",
            "7 0.05963558 0.4915492\n"
          ]
        }
      ]
    },
    {
      "cell_type": "code",
      "source": [
        "pred_labels = []\n",
        "true_labels = []\n",
        "test_loss = 0\n",
        "with torch.no_grad():\n",
        "  model.eval()\n",
        "  for batch in test_dataloader:\n",
        "    seq, label = batch\n",
        "    seq = seq.to(device)\n",
        "    label = label.to(device)\n",
        "    logits = model(seq)\n",
        "    test_loss += nn.functional.cross_entropy(logits, label.squeeze())*len(label)\n",
        "    preds = logits.max(1).indices\n",
        "    true_labels.extend(list(label.squeeze().detach().cpu().numpy()))\n",
        "    pred_labels.extend(list(preds.squeeze().detach().cpu().numpy()))\n",
        "test_loss = test_loss/len(test_data)\n",
        "test_acc = (np.array(true_labels) == np.array(pred_labels)).mean()\n",
        "print(\"Test loss is {}\".format(test_loss))\n",
        "print(\"Test Acc is {}\".format(test_acc))"
      ],
      "metadata": {
        "id": "xu2EDPd2pu8f",
        "outputId": "73c8027c-8384-43b5-b35e-763223c3217d",
        "colab": {
          "base_uri": "https://localhost:8080/"
        }
      },
      "execution_count": 27,
      "outputs": [
        {
          "output_type": "stream",
          "name": "stdout",
          "text": [
            "Test loss is 0.4405617117881775\n",
            "Test Acc is 0.9124040920716112\n"
          ]
        }
      ]
    },
    {
      "cell_type": "code",
      "source": [
        "from sklearn.metrics import confusion_matrix\n",
        "cmat = confusion_matrix(true_labels, pred_labels)\n",
        "cmat"
      ],
      "metadata": {
        "id": "ZTCe4Zhupu_C",
        "outputId": "4361ce1f-4c59-4506-cd72-36f0195652a3",
        "colab": {
          "base_uri": "https://localhost:8080/"
        }
      },
      "execution_count": 28,
      "outputs": [
        {
          "output_type": "execute_result",
          "data": {
            "text/plain": [
              "array([[792,   0,   2,   0,   0,   3,   0,   0,   0,   0,   7],\n",
              "       [  1, 118,   0,   0,   0,   1,   0,   0,   1,   0,  12],\n",
              "       [  8,   2,  39,   0,   0,   1,   0,   0,   0,   0,   7],\n",
              "       [  0,   0,   0,  55,   0,   0,   0,   0,   0,   0,   4],\n",
              "       [  1,   1,   0,   0,  43,   0,   0,   0,   0,   0,   6],\n",
              "       [  3,   5,   0,   0,   0,  44,   0,   0,   0,   0,   8],\n",
              "       [  0,   0,   0,   0,   0,   0,  27,   0,   0,   0,   4],\n",
              "       [  0,   0,   0,   0,   0,   0,   0,  24,   0,   0,   4],\n",
              "       [  0,   0,   0,   0,   0,   2,   0,   0,  15,   0,   2],\n",
              "       [  1,   0,   1,   0,   0,   0,   0,   0,   0,   9,   2],\n",
              "       [ 22,   8,   5,   0,   3,   8,   0,   1,   0,   1, 261]])"
            ]
          },
          "metadata": {},
          "execution_count": 28
        }
      ]
    },
    {
      "cell_type": "code",
      "source": [
        "import seaborn as sns\n",
        "sns.set(rc = {'figure.figsize':(14,7)})\n",
        "\n",
        "fig, ax = plt.subplots()\n",
        "sns.heatmap(cmat, annot=cmat, fmt=\"\",  ax=ax, yticklabels=(label_code_1.keys()),\n",
        "            xticklabels=label_code_1.keys())\n",
        "plt.show()"
      ],
      "metadata": {
        "id": "WJ9s6EuPluYo",
        "outputId": "2b06dc15-162b-4dc9-c481-b22e480bd17b",
        "colab": {
          "base_uri": "https://localhost:8080/",
          "height": 515
        }
      },
      "execution_count": 29,
      "outputs": [
        {
          "output_type": "display_data",
          "data": {
            "text/plain": [
              "<Figure size 1008x504 with 2 Axes>"
            ],
            "image/png": "[encoded data removed]"
          },
          "metadata": {}
        }
      ]
    },
    {
      "cell_type": "markdown",
      "source": [
        "### Visualizing embeddings"
      ],
      "metadata": {
        "id": "PGMtUc3_OXNt"
      }
    },
    {
      "cell_type": "code",
      "source": [
        "model_cut = torch.nn.Sequential(*(list(model.children())[:-1]), model.dense[:-2])\n",
        "model_cut"
      ],
      "metadata": {
        "id": "1N_A2Drw4mYP",
        "outputId": "ef7d3ce0-c365-4231-967b-9b28619a8dde",
        "colab": {
          "base_uri": "https://localhost:8080/"
        }
      },
      "execution_count": 32,
      "outputs": [
        {
          "output_type": "execute_result",
          "data": {
            "text/plain": [
              "Sequential(\n",
              "  (0): Embedding(5, 22)\n",
              "  (1): Conv1d(22, 64, kernel_size=(3,), stride=(1,), padding=same)\n",
              "  (2): MaxPool1d(kernel_size=5, stride=5, padding=0, dilation=1, ceil_mode=False)\n",
              "  (3): Conv1d(64, 64, kernel_size=(3,), stride=(1,), padding=same)\n",
              "  (4): MaxPool1d(kernel_size=5, stride=5, padding=0, dilation=1, ceil_mode=False)\n",
              "  (5): Conv1d(64, 64, kernel_size=(3,), stride=(1,), padding=same)\n",
              "  (6): MaxPool1d(kernel_size=5, stride=5, padding=0, dilation=1, ceil_mode=False)\n",
              "  (7): Sequential(\n",
              "    (0): Linear(in_features=1024, out_features=256, bias=True)\n",
              "    (1): ReLU()\n",
              "    (2): Linear(in_features=256, out_features=64, bias=True)\n",
              "  )\n",
              ")"
            ]
          },
          "metadata": {},
          "execution_count": 32
        }
      ]
    },
    {
      "cell_type": "code",
      "source": [
        "# model_cut = nn.Sequential(*[model.children for i in range(1)])\n",
        "# model_cut\n",
        "embedding_list = []\n",
        "label_list = []\n",
        "model_cut.eval() # Set model to evaluation mode \n",
        "with torch.no_grad():    \n",
        "    for batch in train_dataloader:\n",
        "        seq, label = batch\n",
        "        seq = seq.to(device)\n",
        "        label = label.to(device)\n",
        "        seq = model_cut[0](seq)\n",
        "\n",
        "        # print(x.shape)\n",
        "        # Apply pooling\n",
        "        seq = model_cut[1](seq.permute(0, 2, 1))\n",
        "        seq = model_cut[2:7](seq)\n",
        "        seq = torch.flatten(seq, 1)\n",
        "        y_pred = model_cut[7](seq)\n",
        "        label_list.extend(list(label.squeeze().detach().cpu().numpy()))\n",
        "        embedding_list.extend(list(y_pred.detach().cpu().numpy()))\n",
        "        \n",
        "            # validate your model on each batch here"
      ],
      "metadata": {
        "id": "rmctoVeGuaCz"
      },
      "execution_count": 33,
      "outputs": []
    },
    {
      "cell_type": "code",
      "source": [
        "embedding_list = np.array(embedding_list)\n",
        "label_list = np.array(label_list)\n",
        "embedding_list.shape, label_list.shape"
      ],
      "metadata": {
        "colab": {
          "base_uri": "https://localhost:8080/"
        },
        "id": "oKHX2U-K9IeK",
        "outputId": "3314cc07-454c-45be-c04b-ff199374882b"
      },
      "execution_count": 34,
      "outputs": [
        {
          "output_type": "execute_result",
          "data": {
            "text/plain": [
              "((5066, 64), (5066,))"
            ]
          },
          "metadata": {},
          "execution_count": 34
        }
      ]
    },
    {
      "cell_type": "code",
      "source": [
        ""
      ],
      "metadata": {
        "id": "kE0dMme5KSW2"
      },
      "execution_count": 34,
      "outputs": []
    },
    {
      "cell_type": "code",
      "source": [
        "label_value = [list(label_code_1.keys())[list(label_code_1.values()).index(p)] for p in label_list]"
      ],
      "metadata": {
        "id": "IkA5dhho-v1x"
      },
      "execution_count": 35,
      "outputs": []
    },
    {
      "cell_type": "code",
      "source": [
        "len(label_list), len(label_value)"
      ],
      "metadata": {
        "id": "PA6EJA-6CpU7",
        "outputId": "36e14d82-4e84-4cb4-a589-90c52a7ff343",
        "colab": {
          "base_uri": "https://localhost:8080/"
        }
      },
      "execution_count": 36,
      "outputs": [
        {
          "output_type": "execute_result",
          "data": {
            "text/plain": [
              "(5066, 5066)"
            ]
          },
          "metadata": {},
          "execution_count": 36
        }
      ]
    },
    {
      "cell_type": "code",
      "source": [
        "df_embedding = pd.DataFrame(data = (embedding_list))\n",
        "# df_embedding[\"label\"] = np.array(label_value)\n",
        "df_embedding.head()"
      ],
      "metadata": {
        "id": "edP6ojCH9oHi",
        "outputId": "bb083641-8521-4862-9e2b-246ecabe9ac4",
        "colab": {
          "base_uri": "https://localhost:8080/",
          "height": 299
        }
      },
      "execution_count": 37,
      "outputs": [
        {
          "output_type": "execute_result",
          "data": {
            "text/plain": [
              "         0          1         2          3         4          5          6   \\\n",
              "0 -6.570189  -6.938910  6.701191   0.519592  0.113458  15.246432   0.899276   \n",
              "1 -7.326131 -10.096955  1.229964 -10.138156 -0.610860  25.645634  17.795803   \n",
              "2 -5.023946   5.817522  0.411452  -3.046355  1.885718   5.144278  -2.058549   \n",
              "3 -6.709077  -9.377768  0.251938 -14.813190  3.551131  20.382465  13.884812   \n",
              "4 -7.836594 -10.756968  1.229354 -10.662532 -1.204538  28.377247  19.793093   \n",
              "\n",
              "         7          8         9   ...         54         55        56  \\\n",
              "0  0.248341   2.740855 -5.916751  ...  -8.855597  -9.220138  1.936702   \n",
              "1  4.393361 -11.461280 -8.814661  ... -13.333885 -18.579546 -6.658008   \n",
              "2  4.662305   0.525668 -4.791907  ...  -4.904459  -8.230456  5.817830   \n",
              "3  8.516470  -8.059657 -8.575867  ...  -9.692103 -16.122971 -4.962281   \n",
              "4  3.853610 -12.558188 -9.858937  ... -14.861003 -19.080675 -6.259854   \n",
              "\n",
              "         57        58         59         60        61        62        63  \n",
              "0  2.981421  6.924722   1.679513  -0.407779 -7.204693  0.186344  7.660814  \n",
              "1 -9.286631  0.290182 -10.290608 -12.356739 -9.379972 -3.623875  5.549961  \n",
              "2 -4.801633  8.706628   6.401688   3.451042 -4.611625  2.950501  3.883005  \n",
              "3 -4.701572  4.829715  -5.270295  -6.726505 -9.467527 -2.056803  4.280687  \n",
              "4 -8.925197  0.116949  -9.833127 -13.829207 -9.692881 -5.329885  6.516525  \n",
              "\n",
              "[5 rows x 64 columns]"
            ],
            "text/html": [
              "\n",
              "  <div id=\"df-6f378b72-19e2-4c04-8492-cb665c138184\">\n",
              "    <div class=\"colab-df-container\">\n",
              "      <div>\n",
              "<style scoped>\n",
              "    .dataframe tbody tr th:only-of-type {\n",
              "        vertical-align: middle;\n",
              "    }\n",
              "\n",
              "    .dataframe tbody tr th {\n",
              "        vertical-align: top;\n",
              "    }\n",
              "\n",
              "    .dataframe thead th {\n",
              "        text-align: right;\n",
              "    }\n",
              "</style>\n",
              "<table border=\"1\" class=\"dataframe\">\n",
              "  <thead>\n",
              "    <tr style=\"text-align: right;\">\n",
              "      <th></th>\n",
              "      <th>0</th>\n",
              "      <th>1</th>\n",
              "      <th>2</th>\n",
              "      <th>3</th>\n",
              "      <th>4</th>\n",
              "      <th>5</th>\n",
              "      <th>6</th>\n",
              "      <th>7</th>\n",
              "      <th>8</th>\n",
              "      <th>9</th>\n",
              "      <th>...</th>\n",
              "      <th>54</th>\n",
              "      <th>55</th>\n",
              "      <th>56</th>\n",
              "      <th>57</th>\n",
              "      <th>58</th>\n",
              "      <th>59</th>\n",
              "      <th>60</th>\n",
              "      <th>61</th>\n",
              "      <th>62</th>\n",
              "      <th>63</th>\n",
              "    </tr>\n",
              "  </thead>\n",
              "  <tbody>\n",
              "    <tr>\n",
              "      <th>0</th>\n",
              "      <td>-6.570189</td>\n",
              "      <td>-6.938910</td>\n",
              "      <td>6.701191</td>\n",
              "      <td>0.519592</td>\n",
              "      <td>0.113458</td>\n",
              "      <td>15.246432</td>\n",
              "      <td>0.899276</td>\n",
              "      <td>0.248341</td>\n",
              "      <td>2.740855</td>\n",
              "      <td>-5.916751</td>\n",
              "      <td>...</td>\n",
              "      <td>-8.855597</td>\n",
              "      <td>-9.220138</td>\n",
              "      <td>1.936702</td>\n",
              "      <td>2.981421</td>\n",
              "      <td>6.924722</td>\n",
              "      <td>1.679513</td>\n",
              "      <td>-0.407779</td>\n",
              "      <td>-7.204693</td>\n",
              "      <td>0.186344</td>\n",
              "      <td>7.660814</td>\n",
              "    </tr>\n",
              "    <tr>\n",
              "      <th>1</th>\n",
              "      <td>-7.326131</td>\n",
              "      <td>-10.096955</td>\n",
              "      <td>1.229964</td>\n",
              "      <td>-10.138156</td>\n",
              "      <td>-0.610860</td>\n",
              "      <td>25.645634</td>\n",
              "      <td>17.795803</td>\n",
              "      <td>4.393361</td>\n",
              "      <td>-11.461280</td>\n",
              "      <td>-8.814661</td>\n",
              "      <td>...</td>\n",
              "      <td>-13.333885</td>\n",
              "      <td>-18.579546</td>\n",
              "      <td>-6.658008</td>\n",
              "      <td>-9.286631</td>\n",
              "      <td>0.290182</td>\n",
              "      <td>-10.290608</td>\n",
              "      <td>-12.356739</td>\n",
              "      <td>-9.379972</td>\n",
              "      <td>-3.623875</td>\n",
              "      <td>5.549961</td>\n",
              "    </tr>\n",
              "    <tr>\n",
              "      <th>2</th>\n",
              "      <td>-5.023946</td>\n",
              "      <td>5.817522</td>\n",
              "      <td>0.411452</td>\n",
              "      <td>-3.046355</td>\n",
              "      <td>1.885718</td>\n",
              "      <td>5.144278</td>\n",
              "      <td>-2.058549</td>\n",
              "      <td>4.662305</td>\n",
              "      <td>0.525668</td>\n",
              "      <td>-4.791907</td>\n",
              "      <td>...</td>\n",
              "      <td>-4.904459</td>\n",
              "      <td>-8.230456</td>\n",
              "      <td>5.817830</td>\n",
              "      <td>-4.801633</td>\n",
              "      <td>8.706628</td>\n",
              "      <td>6.401688</td>\n",
              "      <td>3.451042</td>\n",
              "      <td>-4.611625</td>\n",
              "      <td>2.950501</td>\n",
              "      <td>3.883005</td>\n",
              "    </tr>\n",
              "    <tr>\n",
              "      <th>3</th>\n",
              "      <td>-6.709077</td>\n",
              "      <td>-9.377768</td>\n",
              "      <td>0.251938</td>\n",
              "      <td>-14.813190</td>\n",
              "      <td>3.551131</td>\n",
              "      <td>20.382465</td>\n",
              "      <td>13.884812</td>\n",
              "      <td>8.516470</td>\n",
              "      <td>-8.059657</td>\n",
              "      <td>-8.575867</td>\n",
              "      <td>...</td>\n",
              "      <td>-9.692103</td>\n",
              "      <td>-16.122971</td>\n",
              "      <td>-4.962281</td>\n",
              "      <td>-4.701572</td>\n",
              "      <td>4.829715</td>\n",
              "      <td>-5.270295</td>\n",
              "      <td>-6.726505</td>\n",
              "      <td>-9.467527</td>\n",
              "      <td>-2.056803</td>\n",
              "      <td>4.280687</td>\n",
              "    </tr>\n",
              "    <tr>\n",
              "      <th>4</th>\n",
              "      <td>-7.836594</td>\n",
              "      <td>-10.756968</td>\n",
              "      <td>1.229354</td>\n",
              "      <td>-10.662532</td>\n",
              "      <td>-1.204538</td>\n",
              "      <td>28.377247</td>\n",
              "      <td>19.793093</td>\n",
              "      <td>3.853610</td>\n",
              "      <td>-12.558188</td>\n",
              "      <td>-9.858937</td>\n",
              "      <td>...</td>\n",
              "      <td>-14.861003</td>\n",
              "      <td>-19.080675</td>\n",
              "      <td>-6.259854</td>\n",
              "      <td>-8.925197</td>\n",
              "      <td>0.116949</td>\n",
              "      <td>-9.833127</td>\n",
              "      <td>-13.829207</td>\n",
              "      <td>-9.692881</td>\n",
              "      <td>-5.329885</td>\n",
              "      <td>6.516525</td>\n",
              "    </tr>\n",
              "  </tbody>\n",
              "</table>\n",
              "<p>5 rows × 64 columns</p>\n",
              "</div>\n",
              "      <button class=\"colab-df-convert\" onclick=\"convertToInteractive('df-6f378b72-19e2-4c04-8492-cb665c138184')\"\n",
              "              title=\"Convert this dataframe to an interactive table.\"\n",
              "              style=\"display:none;\">\n",
              "        \n",
              "  <svg xmlns=\"http://www.w3.org/2000/svg\" height=\"24px\"viewBox=\"0 0 24 24\"\n",
              "       width=\"24px\">\n",
              "    <path d=\"M0 0h24v24H0V0z\" fill=\"none\"/>\n",
              "    <path d=\"M18.56 5.44l.94 2.06.94-2.06 2.06-.94-2.06-.94-.94-2.06-.94 2.06-2.06.94zm-11 1L8.5 8.5l.94-2.06 2.06-.94-2.06-.94L8.5 2.5l-.94 2.06-2.06.94zm10 10l.94 2.06.94-2.06 2.06-.94-2.06-.94-.94-2.06-.94 2.06-2.06.94z\"/><path d=\"M17.41 7.96l-1.37-1.37c-.4-.4-.92-.59-1.43-.59-.52 0-1.04.2-1.43.59L10.3 9.45l-7.72 7.72c-.78.78-.78 2.05 0 2.83L4 21.41c.39.39.9.59 1.41.59.51 0 1.02-.2 1.41-.59l7.78-7.78 2.81-2.81c.8-.78.8-2.07 0-2.86zM5.41 20L4 18.59l7.72-7.72 1.47 1.35L5.41 20z\"/>\n",
              "  </svg>\n",
              "      </button>\n",
              "      \n",
              "  <style>\n",
              "    .colab-df-container {\n",
              "      display:flex;\n",
              "      flex-wrap:wrap;\n",
              "      gap: 12px;\n",
              "    }\n",
              "\n",
              "    .colab-df-convert {\n",
              "      background-color: #E8F0FE;\n",
              "      border: none;\n",
              "      border-radius: 50%;\n",
              "      cursor: pointer;\n",
              "      display: none;\n",
              "      fill: #1967D2;\n",
              "      height: 32px;\n",
              "      padding: 0 0 0 0;\n",
              "      width: 32px;\n",
              "    }\n",
              "\n",
              "    .colab-df-convert:hover {\n",
              "      background-color: #E2EBFA;\n",
              "      box-shadow: 0px 1px 2px rgba(60, 64, 67, 0.3), 0px 1px 3px 1px rgba(60, 64, 67, 0.15);\n",
              "      fill: #174EA6;\n",
              "    }\n",
              "\n",
              "    [theme=dark] .colab-df-convert {\n",
              "      background-color: #3B4455;\n",
              "      fill: #D2E3FC;\n",
              "    }\n",
              "\n",
              "    [theme=dark] .colab-df-convert:hover {\n",
              "      background-color: #434B5C;\n",
              "      box-shadow: 0px 1px 3px 1px rgba(0, 0, 0, 0.15);\n",
              "      filter: drop-shadow(0px 1px 2px rgba(0, 0, 0, 0.3));\n",
              "      fill: #FFFFFF;\n",
              "    }\n",
              "  </style>\n",
              "\n",
              "      <script>\n",
              "        const buttonEl =\n",
              "          document.querySelector('#df-6f378b72-19e2-4c04-8492-cb665c138184 button.colab-df-convert');\n",
              "        buttonEl.style.display =\n",
              "          google.colab.kernel.accessAllowed ? 'block' : 'none';\n",
              "\n",
              "        async function convertToInteractive(key) {\n",
              "          const element = document.querySelector('#df-6f378b72-19e2-4c04-8492-cb665c138184');\n",
              "          const dataTable =\n",
              "            await google.colab.kernel.invokeFunction('convertToInteractive',\n",
              "                                                     [key], {});\n",
              "          if (!dataTable) return;\n",
              "\n",
              "          const docLinkHtml = 'Like what you see? Visit the ' +\n",
              "            '<a target=\"_blank\" href=https://colab.research.google.com/notebooks/data_table.ipynb>data table notebook</a>'\n",
              "            + ' to learn more about interactive tables.';\n",
              "          element.innerHTML = '';\n",
              "          dataTable['output_type'] = 'display_data';\n",
              "          await google.colab.output.renderOutput(dataTable, element);\n",
              "          const docLink = document.createElement('div');\n",
              "          docLink.innerHTML = docLinkHtml;\n",
              "          element.appendChild(docLink);\n",
              "        }\n",
              "      </script>\n",
              "    </div>\n",
              "  </div>\n",
              "  "
            ]
          },
          "metadata": {},
          "execution_count": 37
        }
      ]
    },
    {
      "cell_type": "code",
      "source": [
        "fit = umap.UMAP()\n",
        "# Use default parameters?"
      ],
      "metadata": {
        "id": "ElSTwyJORaKM"
      },
      "execution_count": 38,
      "outputs": []
    },
    {
      "cell_type": "code",
      "source": [
        "reduced_embedding = fit.fit_transform(df_embedding)"
      ],
      "metadata": {
        "id": "hGDwR4j1t96S",
        "outputId": "be8b3fe7-55a8-45af-fed2-77a79c40507f",
        "colab": {
          "base_uri": "https://localhost:8080/"
        }
      },
      "execution_count": 39,
      "outputs": [
        {
          "output_type": "stream",
          "name": "stderr",
          "text": [
            "/usr/local/lib/python3.7/dist-packages/numba/np/ufunc/parallel.py:363: NumbaWarning: The TBB threading layer requires TBB version 2019.5 or later i.e., TBB_INTERFACE_VERSION >= 11005. Found TBB_INTERFACE_VERSION = 9107. The TBB threading layer is disabled.\n",
            "  warnings.warn(problem)\n"
          ]
        }
      ]
    },
    {
      "cell_type": "code",
      "source": [
        "reduced_embedding = pd.DataFrame(reduced_embedding, columns=['dim1', 'dim2'])\n",
        "reduced_embedding[\"label\"] = np.array(label_value)"
      ],
      "metadata": {
        "id": "IttTIGZUEVDG"
      },
      "execution_count": 40,
      "outputs": []
    },
    {
      "cell_type": "code",
      "source": [
        "sns.relplot(data=reduced_embedding, x=\"dim1\", y='dim2',\n",
        "                hue='label', hue_order=label_code_1.keys(), aspect=1.61, alpha = 0.1)\n",
        "plt.show()"
      ],
      "metadata": {
        "id": "nyg-iiD9JNkt",
        "outputId": "a5a37825-ed43-4b58-cdd6-17f16125bc99",
        "colab": {
          "base_uri": "https://localhost:8080/",
          "height": 365
        }
      },
      "execution_count": 41,
      "outputs": [
        {
          "output_type": "display_data",
          "data": {
            "text/plain": [
              "<Figure size 713.7x360 with 1 Axes>"
            ],
            "image/png": "[encoded data removed]"
          },
          "metadata": {}
        }
      ]
    },
    {
      "cell_type": "markdown",
      "source": [
        "# Multitask Learning (Joint Class and Mechanism of Antibiotic Resistance Prediction)"
      ],
      "metadata": {
        "id": "kEdAa4bSoFR8"
      }
    },
    {
      "cell_type": "code",
      "source": [
        "# Creating mechanism label for known important antibiotic resistance mechanism\n",
        "df[\"labels_2\"] = \"other\"\n",
        "df.loc[(df['mechanism'].str.contains(\"nucleotidyltransferases\")),'labels_2'] = \"nucleotidyltransferases\"\n",
        "df.loc[(df['mechanism'].str.contains(\"methyltransferases\")),'labels_2'] = \"methyltransferases\"\n",
        "df.loc[(df['mechanism'].str.contains(\"phosphotransferases\")),'labels_2'] = \"phosphotransferases\"\n",
        "df.loc[(df['mechanism'].str.contains(\"acetyltransferases\")),'labels_2'] = \"acetyltransferases\"\n",
        "df.loc[(df['mechanism'].str.contains(\"Quinolone_resistance_protein_Qnr\")),'labels_2'] = \"Quinolone_resistance_protein_Qnr\"\n",
        "df.loc[(df['mechanism'].str.contains(\"Dihydrofolate_reductase\")),'labels_2'] = \"Dihydrofolate_reductase\"\n",
        "df.loc[(df['mechanism'].str.contains(\"Tetracycline_resistance_ribosomal_protection_proteins\")),\n",
        "       'labels_2'] = \"Tetracycline_resistance_ribosomal_protection_proteins\"\n",
        "df.loc[(df['mechanism'].str.contains(\"efflux_pump\")),'labels_2'] = \"efflux_pump\"\n",
        "df.loc[(df['mechanism'].str.contains(\"Fluoroquinolone-resistant_DNA_topoisomerases\")),'labels_2'] = \"Fluoroquinolone-resistant_DNA_topoisomerases\"\n",
        "df.loc[(df['mechanism'] == \"Class_A_betalactamases\"),'labels_2'] = \"Class_A_betalactamases\"\n",
        "df.loc[(df['mechanism'] == \"Class_B_betalactamases\"),'labels_2'] = \"Class_B_betalactamases\"\n",
        "df.loc[(df['mechanism'] == \"Class_C_betalactamases\"),'labels_2'] = \"Class_C_betalactamases\"\n",
        "df.loc[(df['mechanism'] == \"Class_D_betalactamases\"),'labels_2'] = \"Class_D_betalactamases\"\n",
        "label_code_2 = {}\n",
        "labels_2 = [\"nucleotidyltransferases\", \"methyltransferases\", \"phosphotransferases\",\n",
        "            \"acetyltransferases\", \"Quinolone_resistance_protein_Qnr\", \"Dihydrofolate_reductase\", \"efflux_pump\",\n",
        "            \"Tetracycline_resistance_ribosomal_protection_proteins\", \"Fluoroquinolone-resistant_DNA_topoisomerases\",\n",
        "            \"Class_A_betalactamases\", \"Class_B_betalactamases\", \"Class_C_betalactamases\",\"Class_D_betalactamases\", \"other\"]\n",
        "for (i, elem) in enumerate(labels_2):\n",
        "  label_code_2[elem] = i"
      ],
      "metadata": {
        "id": "LqtnSFAboItN"
      },
      "execution_count": 42,
      "outputs": []
    },
    {
      "cell_type": "code",
      "source": [
        "df.labels_2.value_counts()"
      ],
      "metadata": {
        "id": "grLDE1iM-TS2",
        "outputId": "73973667-aa96-4d48-da3d-d72deff042dc",
        "colab": {
          "base_uri": "https://localhost:8080/"
        }
      },
      "execution_count": 43,
      "outputs": [
        {
          "output_type": "execute_result",
          "data": {
            "text/plain": [
              "other                                                    1642\n",
              "Class_A_betalactamases                                   1580\n",
              "Class_C_betalactamases                                    950\n",
              "Class_D_betalactamases                                    900\n",
              "efflux_pump                                               826\n",
              "acetyltransferases                                        445\n",
              "Class_B_betalactamases                                    410\n",
              "nucleotidyltransferases                                   296\n",
              "Quinolone_resistance_protein_Qnr                          173\n",
              "methyltransferases                                        145\n",
              "Dihydrofolate_reductase                                   135\n",
              "Tetracycline_resistance_ribosomal_protection_proteins     134\n",
              "phosphotransferases                                       122\n",
              "Fluoroquinolone-resistant_DNA_topoisomerases              110\n",
              "Name: labels_2, dtype: int64"
            ]
          },
          "metadata": {},
          "execution_count": 43
        }
      ]
    },
    {
      "cell_type": "code",
      "source": [
        "X = df.Sequence.values\n",
        "y = np.array([df.labels.values, df.labels_2.values]).transpose()\n",
        "print(X.shape, y.shape)\n",
        "index_to_remove = []\n",
        "for (i, seq) in enumerate(X):\n",
        "  if set(seq.upper())!={\"A\", \"T\", \"C\", \"G\"}:\n",
        "    index_to_remove.append(i)\n",
        "index_to_remove\n",
        "X = np.delete(X, index_to_remove, axis=0)\n",
        "y = np.delete(y, index_to_remove, axis=0)\n",
        "\n",
        "print(X.shape,y.shape)"
      ],
      "metadata": {
        "id": "oWR3uFPA_W-K",
        "outputId": "7b3ab391-d822-44a9-d43a-f3779ccf88ba",
        "colab": {
          "base_uri": "https://localhost:8080/"
        }
      },
      "execution_count": 44,
      "outputs": [
        {
          "output_type": "stream",
          "name": "stdout",
          "text": [
            "(7868,) (7868, 2)\n",
            "(7819,) (7819, 2)\n"
          ]
        }
      ]
    },
    {
      "cell_type": "code",
      "source": [
        "X_train, X_test, y_train, y_test = train_test_split(X, y, test_size=0.2) \n",
        "X_train, X_val, y_train, y_val = train_test_split(X_train, y_train, test_size=0.1) \n",
        "X_train, X_val, y_train, y_val = train_test_split(X_train, y_train, test_size=0.1) "
      ],
      "metadata": {
        "id": "q4XRBVVs_XAb"
      },
      "execution_count": 45,
      "outputs": []
    },
    {
      "cell_type": "code",
      "source": [
        "import torch.nn.functional as F\n",
        "\n",
        "def encode_multitask(seq, label, labels_dict1, labels_dict2):\n",
        "  label_int1 = labels_dict1[label[0]]\n",
        "  label_int2 = labels_dict2[label[1]]\n",
        "  enc_seq = [code[x] for x in seq.upper()]\n",
        "  return [torch.LongTensor(enc_seq[0:2000]), torch.LongTensor([label_int1, label_int2]), len(enc_seq)]\n",
        "\n",
        "class SequenceDatasetMultitask(Dataset):\n",
        "    def __init__(self, X, y, labels_dict1, labels_dict2):\n",
        "        \n",
        "        self.X = X \n",
        "        self.y = y \n",
        "        self.labels_dict1 =labels_dict1\n",
        "        self.labels_dict2 = labels_dict2\n",
        "        self.len=len(self.X)      \n",
        "\n",
        "    def __getitem__(self, index):\n",
        "        # your implementation here: \n",
        "        X_elem, y_elem, length_seq = encode_multitask(self.X[index], self.y[index], \n",
        "                                                      labels_dict1=self.labels_dict1, labels_dict2 = self.labels_dict2)\n",
        "        return F.pad(X_elem, pad=(0, 2000 - len(X_elem))), y_elem\n",
        "\n",
        "    def __len__(self):\n",
        "        return self.len\n",
        "    \n",
        "\n",
        "\n"
      ],
      "metadata": {
        "id": "a0IqGLW3zRfG"
      },
      "execution_count": 46,
      "outputs": []
    },
    {
      "cell_type": "code",
      "source": [
        "\n",
        "train_data = SequenceDatasetMultitask(X_train, y_train, labels_dict1 = label_code_1, labels_dict2 = label_code_2)\n",
        "val_data = SequenceDatasetMultitask(X_val, y_val, labels_dict1 = label_code_1, labels_dict2 = label_code_2)\n",
        "test_data = SequenceDatasetMultitask(X_test, y_test, labels_dict1 = label_code_1, labels_dict2 = label_code_2)\n",
        "\n",
        "batch_size = 32\n",
        "train_dataloader = DataLoader(train_data, batch_size=batch_size, shuffle=True)# fill in code here\n",
        "val_dataloader = DataLoader(val_data, batch_size=batch_size, shuffle=True)# fill in code here\n",
        "test_dataloader = DataLoader(test_data, batch_size=batch_size, shuffle=True)# fill in code here"
      ],
      "metadata": {
        "id": "6tGg2g_LAuBr"
      },
      "execution_count": 47,
      "outputs": []
    },
    {
      "cell_type": "code",
      "source": [
        "class cnn1d_multitask(nn.Module):\n",
        "    def __init__(self, label_count1 = len(label_code_1), label_count2 = len(label_code_2)):\n",
        "        super(cnn1d_multitask, self).__init__()\n",
        "        count = 2*(label_count1+label_count2)\n",
        "        self.embedding = nn.Embedding(5, count)\n",
        "        self.conv1 = nn.Conv1d(count, 64, kernel_size = 3, padding='same')\n",
        "        self.maxpool1 = nn.MaxPool1d(kernel_size=5)\n",
        "        self.conv2 = nn.Conv1d(64, 64, kernel_size=3, padding=\"same\")\n",
        "        self.maxpool2 = nn.MaxPool1d(kernel_size=5)\n",
        "        self.conv3 = nn.Conv1d(64, 64, kernel_size=3, padding=\"same\")\n",
        "        self.maxpool3 = nn.MaxPool1d(kernel_size=5)\n",
        "        self.dense1 = nn.Sequential(nn.Linear(1024, 256), \n",
        "                             nn.ReLU(), nn.Linear(256, 64),\n",
        "                             nn.ReLU(), nn.Linear(64, label_count1))\n",
        "        self.dense2 = nn.Sequential(nn.Linear(1024, 256), \n",
        "                             nn.ReLU(), nn.Linear(256, 64),\n",
        "                             nn.ReLU(), nn.Linear(64, label_count2))\n",
        "\n",
        "    def forward(self, x):\n",
        "        \"\"\"Extract first fully connected feature vector\"\"\"\n",
        "        x = self.embedding(x)\n",
        "        \n",
        "        x = self.conv1(x.permute(0, 2, 1))\n",
        "        x = self.maxpool1(x)\n",
        "        x = self.conv2(x)\n",
        "        x = self.maxpool2(x)\n",
        "        x = self.conv3(x)\n",
        "        x = self.maxpool3(x)\n",
        "        x = torch.flatten(x, 1)\n",
        "        x1 = self.dense1(x)\n",
        "        x2 = self.dense2(x)\n",
        "        \n",
        "        return x1, x2"
      ],
      "metadata": {
        "id": "4WbnzWp3wseK"
      },
      "execution_count": 98,
      "outputs": []
    },
    {
      "cell_type": "code",
      "source": [
        "model = cnn1d_multitask(label_count1=len(label_code_2), label_count2 = len(label_code_2))\n",
        "model = model.to(device)"
      ],
      "metadata": {
        "id": "-wYecjaBAuEC"
      },
      "execution_count": 99,
      "outputs": []
    },
    {
      "cell_type": "code",
      "source": [
        "model"
      ],
      "metadata": {
        "id": "4pzdcks5BYVc",
        "outputId": "cd94c9ab-61e7-4b39-c33a-078e612f88c5",
        "colab": {
          "base_uri": "https://localhost:8080/"
        }
      },
      "execution_count": 100,
      "outputs": [
        {
          "output_type": "execute_result",
          "data": {
            "text/plain": [
              "cnn1d_multitask(\n",
              "  (embedding): Embedding(5, 56)\n",
              "  (conv1): Conv1d(56, 64, kernel_size=(3,), stride=(1,), padding=same)\n",
              "  (maxpool1): MaxPool1d(kernel_size=5, stride=5, padding=0, dilation=1, ceil_mode=False)\n",
              "  (conv2): Conv1d(64, 64, kernel_size=(3,), stride=(1,), padding=same)\n",
              "  (maxpool2): MaxPool1d(kernel_size=5, stride=5, padding=0, dilation=1, ceil_mode=False)\n",
              "  (conv3): Conv1d(64, 64, kernel_size=(3,), stride=(1,), padding=same)\n",
              "  (maxpool3): MaxPool1d(kernel_size=5, stride=5, padding=0, dilation=1, ceil_mode=False)\n",
              "  (dense1): Sequential(\n",
              "    (0): Linear(in_features=1024, out_features=256, bias=True)\n",
              "    (1): ReLU()\n",
              "    (2): Linear(in_features=256, out_features=64, bias=True)\n",
              "    (3): ReLU()\n",
              "    (4): Linear(in_features=64, out_features=14, bias=True)\n",
              "  )\n",
              "  (dense2): Sequential(\n",
              "    (0): Linear(in_features=1024, out_features=256, bias=True)\n",
              "    (1): ReLU()\n",
              "    (2): Linear(in_features=256, out_features=64, bias=True)\n",
              "    (3): ReLU()\n",
              "    (4): Linear(in_features=64, out_features=14, bias=True)\n",
              "  )\n",
              ")"
            ]
          },
          "metadata": {},
          "execution_count": 100
        }
      ]
    },
    {
      "cell_type": "code",
      "source": [
        "def train_multitask(model, dataloader, optimizer, device):\n",
        "    \n",
        "    '''\n",
        "    A function to train on the entire dataset for one epoch.\n",
        "    \n",
        "    Args: \n",
        "        model (torch.nn.Module): Your sequence classifier \n",
        "        dataloader (torch.utils.data.Dataloader): DataLoader object for the train data\n",
        "        optimizer (torch.optim.Optimizer): Optimizer object to interface gradient calculation and optimization \n",
        "        device (str): Your device\n",
        "        \n",
        "    Returns: \n",
        "        float: loss averaged over all the batches \n",
        "    \n",
        "    '''\n",
        "\n",
        "    batch_loss = []\n",
        "    model.train() # Set model to training mode \n",
        "    train_loss = 0 \n",
        "    count = 0\n",
        "    for batch in dataloader:    \n",
        "        seq, label = batch\n",
        "        seq = seq.to(device)\n",
        "        label = label.to(device)\n",
        "        \n",
        "        y_pred = model(seq)\n",
        "        loss1 = nn.functional.cross_entropy(y_pred[0], label.squeeze()[:, 0])# fill in loss here\n",
        "        loss2 = nn.functional.cross_entropy(y_pred[1], label.squeeze()[:, 1])\n",
        "        loss = (loss1+loss2)/2\n",
        "        train_loss += (loss)*len(label)\n",
        "        count += len(label)\n",
        "        batch_loss.append(loss.item())\n",
        "        \n",
        "        # run backpropagation given the loss you defined\n",
        "        optimizer.zero_grad()\n",
        "        loss.backward()\n",
        "        optimizer.step()\n",
        "    train_loss = train_loss/count\n",
        "    return np.array(batch_loss).mean(), train_loss.detach().cpu().numpy() \n",
        "\n",
        "\n",
        "def validate_multitask(model, dataloader, device):\n",
        "    \n",
        "    '''\n",
        "    A function to validate on the validation dataset for one epoch.\n",
        "    \n",
        "    Args: \n",
        "        model (torch.nn.Module): Your sequence classifier \n",
        "        dataloader (torch.utils.data.Dataloader): DataLoader object for the validation data\n",
        "        device (str): Your device\n",
        "        \n",
        "    Returns: \n",
        "        float: loss averaged over all the batches \n",
        "    \n",
        "    '''\n",
        "    batch_loss = []\n",
        "    val_loss = 0\n",
        "    count = 0\n",
        "    model.eval() # Set model to evaluation mode \n",
        "    with torch.no_grad():    \n",
        "        for batch in dataloader:\n",
        "            seq, label = batch\n",
        "            seq = seq.to(device)\n",
        "            label = label.to(device)\n",
        "            y_pred = model(seq)\n",
        "            \n",
        "            loss1 = nn.functional.cross_entropy(y_pred[0], label.squeeze()[:, 0])# fill in loss here\n",
        "            loss2 = nn.functional.cross_entropy(y_pred[1], label.squeeze()[:, 1])\n",
        "            loss = (loss1+loss2)/2\n",
        "            val_loss += loss*len(label)\n",
        "            count += len(label)\n",
        "            batch_loss.append(loss.item())\n",
        "            # validate your model on each batch here \n",
        "        val_loss = val_loss/count     \n",
        "    return np.array(batch_loss).mean(), val_loss.detach().cpu().numpy()    "
      ],
      "metadata": {
        "id": "Em_vDb85x15H"
      },
      "execution_count": 101,
      "outputs": []
    },
    {
      "cell_type": "code",
      "source": [
        "optimizer = torch.optim.Adam(list(model.parameters()), lr=0.5*1e-3) "
      ],
      "metadata": {
        "id": "cUNn7m_9GGxH"
      },
      "execution_count": 102,
      "outputs": []
    },
    {
      "cell_type": "code",
      "source": [
        "print(\"epoch\", \"train loss\", \"validation loss\")\n",
        "\n",
        "val_loss_curve = []\n",
        "train_loss_curve = []\n",
        "\n",
        "for epoch in range(8):\n",
        "    \n",
        "    # Compute train your model on training data\n",
        "    epoch_loss, train_loss = train_multitask(model, train_dataloader, optimizer,  device=device)\n",
        "    \n",
        "    # Validate your on validation data \n",
        "    epoch_loss , val_loss = validate_multitask(model, val_dataloader, device=device) \n",
        "    \n",
        "    # Record train and loss performance \n",
        "    train_loss_curve.append(epoch_loss)\n",
        "    val_loss_curve.append(val_loss)\n",
        "    \n",
        "    # The learning rate scheduler records the validation loss \n",
        "    # scheduler.step(val_loss)\n",
        "    \n",
        "    print(epoch, train_loss, val_loss)"
      ],
      "metadata": {
        "id": "lMmyEkNHAuGV",
        "outputId": "cab49e21-8f2e-4c13-954f-8a17c7a6dd83",
        "colab": {
          "base_uri": "https://localhost:8080/"
        }
      },
      "execution_count": 103,
      "outputs": [
        {
          "output_type": "stream",
          "name": "stdout",
          "text": [
            "epoch train loss validation loss\n",
            "0 1.3535036 1.0888348\n",
            "1 0.90666944 0.69984233\n",
            "2 0.57493836 0.54623854\n",
            "3 0.40551355 0.4421415\n",
            "4 0.2983366 0.3849027\n",
            "5 0.21093532 0.41669536\n",
            "6 0.14948368 0.4316474\n",
            "7 0.10501544 0.40340993\n"
          ]
        }
      ]
    },
    {
      "cell_type": "code",
      "source": [
        "pred_labels_class = []\n",
        "pred_labels_mechanism = []\n",
        "true_labels_class = []\n",
        "true_labels_mechanism = []\n",
        "test_loss = 0\n",
        "with torch.no_grad():\n",
        "  model.eval()\n",
        "  for batch in test_dataloader:\n",
        "    seq, label = batch\n",
        "    seq = seq.to(device)\n",
        "    label = label.to(device)\n",
        "    logits = model(seq)\n",
        "    loss1 = nn.functional.cross_entropy(logits[0], label.squeeze()[:, 0])# fill in loss here\n",
        "    loss2 = nn.functional.cross_entropy(logits[1], label.squeeze()[:, 1])\n",
        "    loss = (loss1+loss2)/2\n",
        "    test_loss += loss*len(label)\n",
        "    preds1 = logits[0].max(1).indices\n",
        "    preds2 = logits[1].max(1).indices\n",
        "    true_labels_class.extend(list(label.squeeze().detach().cpu().numpy()[:, 0]))\n",
        "    true_labels_mechanism.extend(list(label.squeeze().detach().cpu().numpy()[:, 1]))\n",
        "\n",
        "    pred_labels_class.extend(list(preds1.squeeze().detach().cpu().numpy()))\n",
        "    pred_labels_mechanism.extend(list(preds2.squeeze().detach().cpu().numpy()))\n",
        "test_loss = test_loss/len(test_data)\n",
        "test_loss = test_loss.detach().cpu().numpy()\n",
        "print(\"Test loss is {}\".format(test_loss))\n",
        "class_acc = (np.array(true_labels_class) ==  np.array(pred_labels_class)).mean()\n",
        "mechanism_acc = (np.array(true_labels_mechanism) ==  np.array(pred_labels_mechanism)).mean()\n",
        "\n",
        "print(\"Test Acc for Class Prediction is {}\".format(class_acc))\n",
        "print(\"Test Acc for Mechanism Prediction is {}\".format(mechanism_acc))"
      ],
      "metadata": {
        "id": "40J_xtUH4izK",
        "outputId": "05094706-5539-44bb-c00b-4dc27dbde5a6",
        "colab": {
          "base_uri": "https://localhost:8080/"
        }
      },
      "execution_count": 97,
      "outputs": [
        {
          "output_type": "stream",
          "name": "stdout",
          "text": [
            "Test loss is 0.40111440420150757\n",
            "Test Acc for Class Prediction is 0.9085677749360613\n",
            "Test Acc for Mechanism Prediction is 0.8849104859335039\n"
          ]
        }
      ]
    },
    {
      "cell_type": "code",
      "source": [
        "cmat = confusion_matrix(true_labels_class, pred_labels_class)"
      ],
      "metadata": {
        "id": "qbN5VP0nAuLA"
      },
      "execution_count": 55,
      "outputs": []
    },
    {
      "cell_type": "code",
      "source": [
        "sns.set(rc = {'figure.figsize':(12,8)})\n",
        "fig, ax = plt.subplots()\n",
        "sns.heatmap(cmat, annot=cmat, fmt=\"\",  ax=ax, yticklabels=(label_code_1.keys()),\n",
        "            xticklabels=label_code_1.keys())\n",
        "plt.show()"
      ],
      "metadata": {
        "id": "JIKY0igMAuNb",
        "outputId": "208da026-167d-4f27-b922-ba21f6133f1e",
        "colab": {
          "base_uri": "https://localhost:8080/",
          "height": 570
        }
      },
      "execution_count": 56,
      "outputs": [
        {
          "output_type": "display_data",
          "data": {
            "text/plain": [
              "<Figure size 864x576 with 2 Axes>"
            ],
            "image/png": "[encoded data removed]"
          },
          "metadata": {}
        }
      ]
    },
    {
      "cell_type": "code",
      "source": [
        "cmat = confusion_matrix(true_labels_mechanism, pred_labels_mechanism)"
      ],
      "metadata": {
        "id": "vtcCa-e_HGgj"
      },
      "execution_count": 57,
      "outputs": []
    },
    {
      "cell_type": "code",
      "source": [
        "sns.set(rc = {'figure.figsize':(16,10)})\n",
        "fig, ax = plt.subplots()\n",
        "sns.heatmap(cmat, annot=cmat, fmt=\"\",  ax=ax, yticklabels=(label_code_2.keys()),\n",
        "            xticklabels=label_code_2.keys())\n",
        "plt.show()"
      ],
      "metadata": {
        "id": "wBeqxkPkHELf",
        "outputId": "c69de995-63da-4526-94c1-c681a32705c3",
        "colab": {
          "base_uri": "https://localhost:8080/",
          "height": 886
        }
      },
      "execution_count": 58,
      "outputs": [
        {
          "output_type": "display_data",
          "data": {
            "text/plain": [
              "<Figure size 1152x720 with 2 Axes>"
            ],
            "image/png": "[encoded data removed]"
          },
          "metadata": {}
        }
      ]
    },
    {
      "cell_type": "code",
      "source": [
        "model_cut = torch.nn.Sequential(*(list(model.children())[:-1]), model.dense1[:-2])\n",
        "model_cut"
      ],
      "metadata": {
        "id": "STuAfKq0AuP7",
        "outputId": "007a21a2-671c-432b-a045-2718ef4c454d",
        "colab": {
          "base_uri": "https://localhost:8080/"
        }
      },
      "execution_count": 59,
      "outputs": [
        {
          "output_type": "execute_result",
          "data": {
            "text/plain": [
              "Sequential(\n",
              "  (0): Embedding(5, 56)\n",
              "  (1): Conv1d(56, 64, kernel_size=(3,), stride=(1,), padding=same)\n",
              "  (2): MaxPool1d(kernel_size=5, stride=5, padding=0, dilation=1, ceil_mode=False)\n",
              "  (3): Conv1d(64, 64, kernel_size=(3,), stride=(1,), padding=same)\n",
              "  (4): MaxPool1d(kernel_size=5, stride=5, padding=0, dilation=1, ceil_mode=False)\n",
              "  (5): Conv1d(64, 64, kernel_size=(3,), stride=(1,), padding=same)\n",
              "  (6): MaxPool1d(kernel_size=5, stride=5, padding=0, dilation=1, ceil_mode=False)\n",
              "  (7): Sequential(\n",
              "    (0): Linear(in_features=1024, out_features=256, bias=True)\n",
              "    (1): ReLU()\n",
              "    (2): Linear(in_features=256, out_features=64, bias=True)\n",
              "    (3): ReLU()\n",
              "    (4): Linear(in_features=64, out_features=14, bias=True)\n",
              "  )\n",
              "  (8): Sequential(\n",
              "    (0): Linear(in_features=1024, out_features=256, bias=True)\n",
              "    (1): ReLU()\n",
              "    (2): Linear(in_features=256, out_features=64, bias=True)\n",
              "  )\n",
              ")"
            ]
          },
          "metadata": {},
          "execution_count": 59
        }
      ]
    },
    {
      "cell_type": "code",
      "source": [
        "\n",
        "embedding_list = []\n",
        "label_list = []\n",
        "model_cut.eval() # Set model to evaluation mode \n",
        "with torch.no_grad():    \n",
        "    for batch in train_dataloader:\n",
        "        seq, label = batch\n",
        "        seq = seq.to(device)\n",
        "        label = label.to(device)\n",
        "        seq = model_cut[0](seq)\n",
        "\n",
        "       \n",
        "        seq = model_cut[1](seq.permute(0, 2, 1))\n",
        "        seq = model_cut[2:7](seq)\n",
        "        seq = torch.flatten(seq, 1)\n",
        "        y_pred = model_cut[7](seq)\n",
        "        label_list.extend(list(label.squeeze().detach().cpu().numpy()))\n",
        "        embedding_list.extend(list(y_pred.detach().cpu().numpy()))\n",
        "        \n"
      ],
      "metadata": {
        "id": "1H-Vnb5lLDj_"
      },
      "execution_count": 60,
      "outputs": []
    },
    {
      "cell_type": "code",
      "source": [
        "embedding_list = np.array(embedding_list)\n",
        "label_list = np.array(label_list)\n",
        "embedding_list.shape, label_list.shape"
      ],
      "metadata": {
        "id": "F28rLH0uLDmm",
        "outputId": "0e763097-d994-4282-f173-171328ea80b6",
        "colab": {
          "base_uri": "https://localhost:8080/"
        }
      },
      "execution_count": 61,
      "outputs": [
        {
          "output_type": "execute_result",
          "data": {
            "text/plain": [
              "((5066, 14), (5066, 2))"
            ]
          },
          "metadata": {},
          "execution_count": 61
        }
      ]
    },
    {
      "cell_type": "code",
      "source": [
        "label_value = [list(label_code_1.keys())[list(label_code_1.values()).index(p[0])] for p in label_list]"
      ],
      "metadata": {
        "id": "08t5Z5IuLDpB"
      },
      "execution_count": 62,
      "outputs": []
    },
    {
      "cell_type": "code",
      "source": [
        "df_embedding = pd.DataFrame(data = (embedding_list))\n",
        "df_embedding.head()"
      ],
      "metadata": {
        "id": "KYT4mdUYLDrj",
        "outputId": "a05fc301-b074-4378-8e22-6ef8f91791a9",
        "colab": {
          "base_uri": "https://localhost:8080/",
          "height": 206
        }
      },
      "execution_count": 63,
      "outputs": [
        {
          "output_type": "execute_result",
          "data": {
            "text/plain": [
              "          0         1         2         3          4         5          6   \\\n",
              "0  18.225178  0.600649  5.833185 -8.913911  -4.640603  3.459810 -10.302764   \n",
              "1   5.077901  8.816228 -3.435434 -6.266157  -1.426805  2.535049 -11.594605   \n",
              "2   1.134523  8.206212 -0.343969 -5.601996  -2.375505  2.140489  -7.306730   \n",
              "3   0.994328 -3.819034  0.176964 -9.768236  12.446000  4.602425  -3.009696   \n",
              "4  -3.265525 -1.751503 -1.877909  0.854637   1.327834 -3.159704  -8.342969   \n",
              "\n",
              "         7         8         9         10         11         12         13  \n",
              "0 -3.106020 -1.274046  1.784204  7.762642 -10.852709 -11.541783 -11.819493  \n",
              "1 -0.588576  0.881742  1.159348  3.729852 -13.674829  -9.676764 -12.652082  \n",
              "2 -4.354628  2.508669 -4.647129  2.242901  -8.289944  -9.546803 -11.597130  \n",
              "3 -0.902332 -5.222409  0.803971  6.512626 -24.252386 -18.951494 -21.598358  \n",
              "4 -0.746823 -7.933345 -6.885264  6.774557 -13.999176 -10.348601 -14.610744  "
            ],
            "text/html": [
              "\n",
              "  <div id=\"df-545411bb-ae2b-420c-98ff-048b2f896073\">\n",
              "    <div class=\"colab-df-container\">\n",
              "      <div>\n",
              "<style scoped>\n",
              "    .dataframe tbody tr th:only-of-type {\n",
              "        vertical-align: middle;\n",
              "    }\n",
              "\n",
              "    .dataframe tbody tr th {\n",
              "        vertical-align: top;\n",
              "    }\n",
              "\n",
              "    .dataframe thead th {\n",
              "        text-align: right;\n",
              "    }\n",
              "</style>\n",
              "<table border=\"1\" class=\"dataframe\">\n",
              "  <thead>\n",
              "    <tr style=\"text-align: right;\">\n",
              "      <th></th>\n",
              "      <th>0</th>\n",
              "      <th>1</th>\n",
              "      <th>2</th>\n",
              "      <th>3</th>\n",
              "      <th>4</th>\n",
              "      <th>5</th>\n",
              "      <th>6</th>\n",
              "      <th>7</th>\n",
              "      <th>8</th>\n",
              "      <th>9</th>\n",
              "      <th>10</th>\n",
              "      <th>11</th>\n",
              "      <th>12</th>\n",
              "      <th>13</th>\n",
              "    </tr>\n",
              "  </thead>\n",
              "  <tbody>\n",
              "    <tr>\n",
              "      <th>0</th>\n",
              "      <td>18.225178</td>\n",
              "      <td>0.600649</td>\n",
              "      <td>5.833185</td>\n",
              "      <td>-8.913911</td>\n",
              "      <td>-4.640603</td>\n",
              "      <td>3.459810</td>\n",
              "      <td>-10.302764</td>\n",
              "      <td>-3.106020</td>\n",
              "      <td>-1.274046</td>\n",
              "      <td>1.784204</td>\n",
              "      <td>7.762642</td>\n",
              "      <td>-10.852709</td>\n",
              "      <td>-11.541783</td>\n",
              "      <td>-11.819493</td>\n",
              "    </tr>\n",
              "    <tr>\n",
              "      <th>1</th>\n",
              "      <td>5.077901</td>\n",
              "      <td>8.816228</td>\n",
              "      <td>-3.435434</td>\n",
              "      <td>-6.266157</td>\n",
              "      <td>-1.426805</td>\n",
              "      <td>2.535049</td>\n",
              "      <td>-11.594605</td>\n",
              "      <td>-0.588576</td>\n",
              "      <td>0.881742</td>\n",
              "      <td>1.159348</td>\n",
              "      <td>3.729852</td>\n",
              "      <td>-13.674829</td>\n",
              "      <td>-9.676764</td>\n",
              "      <td>-12.652082</td>\n",
              "    </tr>\n",
              "    <tr>\n",
              "      <th>2</th>\n",
              "      <td>1.134523</td>\n",
              "      <td>8.206212</td>\n",
              "      <td>-0.343969</td>\n",
              "      <td>-5.601996</td>\n",
              "      <td>-2.375505</td>\n",
              "      <td>2.140489</td>\n",
              "      <td>-7.306730</td>\n",
              "      <td>-4.354628</td>\n",
              "      <td>2.508669</td>\n",
              "      <td>-4.647129</td>\n",
              "      <td>2.242901</td>\n",
              "      <td>-8.289944</td>\n",
              "      <td>-9.546803</td>\n",
              "      <td>-11.597130</td>\n",
              "    </tr>\n",
              "    <tr>\n",
              "      <th>3</th>\n",
              "      <td>0.994328</td>\n",
              "      <td>-3.819034</td>\n",
              "      <td>0.176964</td>\n",
              "      <td>-9.768236</td>\n",
              "      <td>12.446000</td>\n",
              "      <td>4.602425</td>\n",
              "      <td>-3.009696</td>\n",
              "      <td>-0.902332</td>\n",
              "      <td>-5.222409</td>\n",
              "      <td>0.803971</td>\n",
              "      <td>6.512626</td>\n",
              "      <td>-24.252386</td>\n",
              "      <td>-18.951494</td>\n",
              "      <td>-21.598358</td>\n",
              "    </tr>\n",
              "    <tr>\n",
              "      <th>4</th>\n",
              "      <td>-3.265525</td>\n",
              "      <td>-1.751503</td>\n",
              "      <td>-1.877909</td>\n",
              "      <td>0.854637</td>\n",
              "      <td>1.327834</td>\n",
              "      <td>-3.159704</td>\n",
              "      <td>-8.342969</td>\n",
              "      <td>-0.746823</td>\n",
              "      <td>-7.933345</td>\n",
              "      <td>-6.885264</td>\n",
              "      <td>6.774557</td>\n",
              "      <td>-13.999176</td>\n",
              "      <td>-10.348601</td>\n",
              "      <td>-14.610744</td>\n",
              "    </tr>\n",
              "  </tbody>\n",
              "</table>\n",
              "</div>\n",
              "      <button class=\"colab-df-convert\" onclick=\"convertToInteractive('df-545411bb-ae2b-420c-98ff-048b2f896073')\"\n",
              "              title=\"Convert this dataframe to an interactive table.\"\n",
              "              style=\"display:none;\">\n",
              "        \n",
              "  <svg xmlns=\"http://www.w3.org/2000/svg\" height=\"24px\"viewBox=\"0 0 24 24\"\n",
              "       width=\"24px\">\n",
              "    <path d=\"M0 0h24v24H0V0z\" fill=\"none\"/>\n",
              "    <path d=\"M18.56 5.44l.94 2.06.94-2.06 2.06-.94-2.06-.94-.94-2.06-.94 2.06-2.06.94zm-11 1L8.5 8.5l.94-2.06 2.06-.94-2.06-.94L8.5 2.5l-.94 2.06-2.06.94zm10 10l.94 2.06.94-2.06 2.06-.94-2.06-.94-.94-2.06-.94 2.06-2.06.94z\"/><path d=\"M17.41 7.96l-1.37-1.37c-.4-.4-.92-.59-1.43-.59-.52 0-1.04.2-1.43.59L10.3 9.45l-7.72 7.72c-.78.78-.78 2.05 0 2.83L4 21.41c.39.39.9.59 1.41.59.51 0 1.02-.2 1.41-.59l7.78-7.78 2.81-2.81c.8-.78.8-2.07 0-2.86zM5.41 20L4 18.59l7.72-7.72 1.47 1.35L5.41 20z\"/>\n",
              "  </svg>\n",
              "      </button>\n",
              "      \n",
              "  <style>\n",
              "    .colab-df-container {\n",
              "      display:flex;\n",
              "      flex-wrap:wrap;\n",
              "      gap: 12px;\n",
              "    }\n",
              "\n",
              "    .colab-df-convert {\n",
              "      background-color: #E8F0FE;\n",
              "      border: none;\n",
              "      border-radius: 50%;\n",
              "      cursor: pointer;\n",
              "      display: none;\n",
              "      fill: #1967D2;\n",
              "      height: 32px;\n",
              "      padding: 0 0 0 0;\n",
              "      width: 32px;\n",
              "    }\n",
              "\n",
              "    .colab-df-convert:hover {\n",
              "      background-color: #E2EBFA;\n",
              "      box-shadow: 0px 1px 2px rgba(60, 64, 67, 0.3), 0px 1px 3px 1px rgba(60, 64, 67, 0.15);\n",
              "      fill: #174EA6;\n",
              "    }\n",
              "\n",
              "    [theme=dark] .colab-df-convert {\n",
              "      background-color: #3B4455;\n",
              "      fill: #D2E3FC;\n",
              "    }\n",
              "\n",
              "    [theme=dark] .colab-df-convert:hover {\n",
              "      background-color: #434B5C;\n",
              "      box-shadow: 0px 1px 3px 1px rgba(0, 0, 0, 0.15);\n",
              "      filter: drop-shadow(0px 1px 2px rgba(0, 0, 0, 0.3));\n",
              "      fill: #FFFFFF;\n",
              "    }\n",
              "  </style>\n",
              "\n",
              "      <script>\n",
              "        const buttonEl =\n",
              "          document.querySelector('#df-545411bb-ae2b-420c-98ff-048b2f896073 button.colab-df-convert');\n",
              "        buttonEl.style.display =\n",
              "          google.colab.kernel.accessAllowed ? 'block' : 'none';\n",
              "\n",
              "        async function convertToInteractive(key) {\n",
              "          const element = document.querySelector('#df-545411bb-ae2b-420c-98ff-048b2f896073');\n",
              "          const dataTable =\n",
              "            await google.colab.kernel.invokeFunction('convertToInteractive',\n",
              "                                                     [key], {});\n",
              "          if (!dataTable) return;\n",
              "\n",
              "          const docLinkHtml = 'Like what you see? Visit the ' +\n",
              "            '<a target=\"_blank\" href=https://colab.research.google.com/notebooks/data_table.ipynb>data table notebook</a>'\n",
              "            + ' to learn more about interactive tables.';\n",
              "          element.innerHTML = '';\n",
              "          dataTable['output_type'] = 'display_data';\n",
              "          await google.colab.output.renderOutput(dataTable, element);\n",
              "          const docLink = document.createElement('div');\n",
              "          docLink.innerHTML = docLinkHtml;\n",
              "          element.appendChild(docLink);\n",
              "        }\n",
              "      </script>\n",
              "    </div>\n",
              "  </div>\n",
              "  "
            ]
          },
          "metadata": {},
          "execution_count": 63
        }
      ]
    },
    {
      "cell_type": "code",
      "source": [
        "fit = umap.UMAP()\n",
        "reduced_embedding = fit.fit_transform(df_embedding)"
      ],
      "metadata": {
        "id": "HdH6B0wOLDyF"
      },
      "execution_count": 64,
      "outputs": []
    },
    {
      "cell_type": "code",
      "source": [
        "reduced_embedding = pd.DataFrame(reduced_embedding, columns=['dim1', 'dim2'])\n",
        "reduced_embedding[\"label\"] = np.array(label_value)\n",
        "sns.relplot(data=reduced_embedding, x=\"dim1\", y='dim2',\n",
        "                hue='label', hue_order=label_code_1.keys(), aspect=1.61, alpha = 0.1)\n",
        "plt.show()"
      ],
      "metadata": {
        "id": "fdzQokpq_XCw",
        "outputId": "1077ea5e-2709-4158-9fa3-94556cf52207",
        "colab": {
          "base_uri": "https://localhost:8080/",
          "height": 365
        }
      },
      "execution_count": 65,
      "outputs": [
        {
          "output_type": "display_data",
          "data": {
            "text/plain": [
              "<Figure size 713.7x360 with 1 Axes>"
            ],
            "image/png": "[encoded data removed]"
          },
          "metadata": {}
        }
      ]
    },
    {
      "cell_type": "code",
      "source": [
        "model_cut = torch.nn.Sequential(*(list(model.children())[:-1]), model.dense2[:-2])\n",
        "model_cut"
      ],
      "metadata": {
        "id": "1ZMZocet_XFU",
        "outputId": "730efb44-f880-4bec-d5bb-bbb7323da8cd",
        "colab": {
          "base_uri": "https://localhost:8080/"
        }
      },
      "execution_count": 66,
      "outputs": [
        {
          "output_type": "execute_result",
          "data": {
            "text/plain": [
              "Sequential(\n",
              "  (0): Embedding(5, 56)\n",
              "  (1): Conv1d(56, 64, kernel_size=(3,), stride=(1,), padding=same)\n",
              "  (2): MaxPool1d(kernel_size=5, stride=5, padding=0, dilation=1, ceil_mode=False)\n",
              "  (3): Conv1d(64, 64, kernel_size=(3,), stride=(1,), padding=same)\n",
              "  (4): MaxPool1d(kernel_size=5, stride=5, padding=0, dilation=1, ceil_mode=False)\n",
              "  (5): Conv1d(64, 64, kernel_size=(3,), stride=(1,), padding=same)\n",
              "  (6): MaxPool1d(kernel_size=5, stride=5, padding=0, dilation=1, ceil_mode=False)\n",
              "  (7): Sequential(\n",
              "    (0): Linear(in_features=1024, out_features=256, bias=True)\n",
              "    (1): ReLU()\n",
              "    (2): Linear(in_features=256, out_features=64, bias=True)\n",
              "    (3): ReLU()\n",
              "    (4): Linear(in_features=64, out_features=14, bias=True)\n",
              "  )\n",
              "  (8): Sequential(\n",
              "    (0): Linear(in_features=1024, out_features=256, bias=True)\n",
              "    (1): ReLU()\n",
              "    (2): Linear(in_features=256, out_features=64, bias=True)\n",
              "  )\n",
              ")"
            ]
          },
          "metadata": {},
          "execution_count": 66
        }
      ]
    },
    {
      "cell_type": "code",
      "source": [
        "# model_cut = nn.Sequential(*[model.children for i in range(1)])\n",
        "# model_cut\n",
        "embedding_list = []\n",
        "label_list = []\n",
        "model_cut.eval() # Set model to evaluation mode \n",
        "with torch.no_grad():    \n",
        "    for batch in train_dataloader:\n",
        "        seq, label = batch\n",
        "        seq = seq.to(device)\n",
        "        label = label.to(device)\n",
        "        seq = model_cut[0](seq)\n",
        "\n",
        "        # print(x.shape)\n",
        "        # Apply pooling\n",
        "        seq = model_cut[1](seq.permute(0, 2, 1))\n",
        "        seq = model_cut[2:7](seq)\n",
        "        seq = torch.flatten(seq, 1)\n",
        "        y_pred = model_cut[7](seq)\n",
        "        label_list.extend(list(label.squeeze().detach().cpu().numpy()))\n",
        "        embedding_list.extend(list(y_pred.detach().cpu().numpy()))\n",
        "        \n",
        "            # validate your model on each batch here"
      ],
      "metadata": {
        "id": "d5pQDvGwLznQ"
      },
      "execution_count": 67,
      "outputs": []
    },
    {
      "cell_type": "code",
      "source": [
        "embedding_list = np.array(embedding_list)\n",
        "label_list = np.array(label_list)\n",
        "embedding_list.shape, label_list.shape"
      ],
      "metadata": {
        "id": "VQXZ6LQ5Lzp9",
        "outputId": "4df6cdbf-b10e-4aec-8f9b-9361025089de",
        "colab": {
          "base_uri": "https://localhost:8080/"
        }
      },
      "execution_count": 68,
      "outputs": [
        {
          "output_type": "execute_result",
          "data": {
            "text/plain": [
              "((5066, 14), (5066, 2))"
            ]
          },
          "metadata": {},
          "execution_count": 68
        }
      ]
    },
    {
      "cell_type": "code",
      "source": [
        "label_value1 = [list(label_code_1.keys())[list(label_code_1.values()).index(p[0])] for p in label_list]\n",
        "label_value2 = [list(label_code_2.keys())[list(label_code_2.values()).index(p[1])] for p in label_list]"
      ],
      "metadata": {
        "id": "Uo0qDahjLzsw"
      },
      "execution_count": 69,
      "outputs": []
    },
    {
      "cell_type": "code",
      "source": [
        "df_embedding = pd.DataFrame(data = (embedding_list))\n",
        "df_embedding.head()"
      ],
      "metadata": {
        "id": "Ko2Rj-dKLzuz",
        "outputId": "dd5c14cb-3d09-4386-83ab-20077cf9a567",
        "colab": {
          "base_uri": "https://localhost:8080/",
          "height": 206
        }
      },
      "execution_count": 70,
      "outputs": [
        {
          "output_type": "execute_result",
          "data": {
            "text/plain": [
              "          0         1         2         3         4         5          6   \\\n",
              "0   2.975433  4.219858  0.282622 -3.703919 -2.163585  7.020261  -9.724101   \n",
              "1   5.428309  0.092966  0.190008 -4.679052  2.776220  1.102099  -8.151155   \n",
              "2  22.942055  1.358864  6.850485 -6.596278 -6.827351  3.386593 -14.839617   \n",
              "3  24.759108 -1.723313  5.443290 -5.935229 -6.075132 -1.031348 -17.495422   \n",
              "4  21.760126  2.850815  9.319111 -8.269636 -5.951988  6.610736 -14.194607   \n",
              "\n",
              "         7         8         9          10         11         12         13  \n",
              "0 -3.121010  1.992105 -2.234179   3.089003  -6.847527  -7.277231  -8.427832  \n",
              "1 -4.191390 -0.278077 -0.099726  10.804498 -14.536344 -11.581267 -12.640295  \n",
              "2 -3.720541 -3.872358  4.745535   7.726828 -12.435326 -13.630461 -11.223248  \n",
              "3 -3.444115 -3.960181  8.787818   8.584453 -16.997160 -16.427551 -14.755532  \n",
              "4 -6.511481  0.529110  1.877243   7.255079 -15.324156 -15.603447 -13.212578  "
            ],
            "text/html": [
              "\n",
              "  <div id=\"df-21a65b2d-547d-4cac-86c1-430a72a0f9a9\">\n",
              "    <div class=\"colab-df-container\">\n",
              "      <div>\n",
              "<style scoped>\n",
              "    .dataframe tbody tr th:only-of-type {\n",
              "        vertical-align: middle;\n",
              "    }\n",
              "\n",
              "    .dataframe tbody tr th {\n",
              "        vertical-align: top;\n",
              "    }\n",
              "\n",
              "    .dataframe thead th {\n",
              "        text-align: right;\n",
              "    }\n",
              "</style>\n",
              "<table border=\"1\" class=\"dataframe\">\n",
              "  <thead>\n",
              "    <tr style=\"text-align: right;\">\n",
              "      <th></th>\n",
              "      <th>0</th>\n",
              "      <th>1</th>\n",
              "      <th>2</th>\n",
              "      <th>3</th>\n",
              "      <th>4</th>\n",
              "      <th>5</th>\n",
              "      <th>6</th>\n",
              "      <th>7</th>\n",
              "      <th>8</th>\n",
              "      <th>9</th>\n",
              "      <th>10</th>\n",
              "      <th>11</th>\n",
              "      <th>12</th>\n",
              "      <th>13</th>\n",
              "    </tr>\n",
              "  </thead>\n",
              "  <tbody>\n",
              "    <tr>\n",
              "      <th>0</th>\n",
              "      <td>2.975433</td>\n",
              "      <td>4.219858</td>\n",
              "      <td>0.282622</td>\n",
              "      <td>-3.703919</td>\n",
              "      <td>-2.163585</td>\n",
              "      <td>7.020261</td>\n",
              "      <td>-9.724101</td>\n",
              "      <td>-3.121010</td>\n",
              "      <td>1.992105</td>\n",
              "      <td>-2.234179</td>\n",
              "      <td>3.089003</td>\n",
              "      <td>-6.847527</td>\n",
              "      <td>-7.277231</td>\n",
              "      <td>-8.427832</td>\n",
              "    </tr>\n",
              "    <tr>\n",
              "      <th>1</th>\n",
              "      <td>5.428309</td>\n",
              "      <td>0.092966</td>\n",
              "      <td>0.190008</td>\n",
              "      <td>-4.679052</td>\n",
              "      <td>2.776220</td>\n",
              "      <td>1.102099</td>\n",
              "      <td>-8.151155</td>\n",
              "      <td>-4.191390</td>\n",
              "      <td>-0.278077</td>\n",
              "      <td>-0.099726</td>\n",
              "      <td>10.804498</td>\n",
              "      <td>-14.536344</td>\n",
              "      <td>-11.581267</td>\n",
              "      <td>-12.640295</td>\n",
              "    </tr>\n",
              "    <tr>\n",
              "      <th>2</th>\n",
              "      <td>22.942055</td>\n",
              "      <td>1.358864</td>\n",
              "      <td>6.850485</td>\n",
              "      <td>-6.596278</td>\n",
              "      <td>-6.827351</td>\n",
              "      <td>3.386593</td>\n",
              "      <td>-14.839617</td>\n",
              "      <td>-3.720541</td>\n",
              "      <td>-3.872358</td>\n",
              "      <td>4.745535</td>\n",
              "      <td>7.726828</td>\n",
              "      <td>-12.435326</td>\n",
              "      <td>-13.630461</td>\n",
              "      <td>-11.223248</td>\n",
              "    </tr>\n",
              "    <tr>\n",
              "      <th>3</th>\n",
              "      <td>24.759108</td>\n",
              "      <td>-1.723313</td>\n",
              "      <td>5.443290</td>\n",
              "      <td>-5.935229</td>\n",
              "      <td>-6.075132</td>\n",
              "      <td>-1.031348</td>\n",
              "      <td>-17.495422</td>\n",
              "      <td>-3.444115</td>\n",
              "      <td>-3.960181</td>\n",
              "      <td>8.787818</td>\n",
              "      <td>8.584453</td>\n",
              "      <td>-16.997160</td>\n",
              "      <td>-16.427551</td>\n",
              "      <td>-14.755532</td>\n",
              "    </tr>\n",
              "    <tr>\n",
              "      <th>4</th>\n",
              "      <td>21.760126</td>\n",
              "      <td>2.850815</td>\n",
              "      <td>9.319111</td>\n",
              "      <td>-8.269636</td>\n",
              "      <td>-5.951988</td>\n",
              "      <td>6.610736</td>\n",
              "      <td>-14.194607</td>\n",
              "      <td>-6.511481</td>\n",
              "      <td>0.529110</td>\n",
              "      <td>1.877243</td>\n",
              "      <td>7.255079</td>\n",
              "      <td>-15.324156</td>\n",
              "      <td>-15.603447</td>\n",
              "      <td>-13.212578</td>\n",
              "    </tr>\n",
              "  </tbody>\n",
              "</table>\n",
              "</div>\n",
              "      <button class=\"colab-df-convert\" onclick=\"convertToInteractive('df-21a65b2d-547d-4cac-86c1-430a72a0f9a9')\"\n",
              "              title=\"Convert this dataframe to an interactive table.\"\n",
              "              style=\"display:none;\">\n",
              "        \n",
              "  <svg xmlns=\"http://www.w3.org/2000/svg\" height=\"24px\"viewBox=\"0 0 24 24\"\n",
              "       width=\"24px\">\n",
              "    <path d=\"M0 0h24v24H0V0z\" fill=\"none\"/>\n",
              "    <path d=\"M18.56 5.44l.94 2.06.94-2.06 2.06-.94-2.06-.94-.94-2.06-.94 2.06-2.06.94zm-11 1L8.5 8.5l.94-2.06 2.06-.94-2.06-.94L8.5 2.5l-.94 2.06-2.06.94zm10 10l.94 2.06.94-2.06 2.06-.94-2.06-.94-.94-2.06-.94 2.06-2.06.94z\"/><path d=\"M17.41 7.96l-1.37-1.37c-.4-.4-.92-.59-1.43-.59-.52 0-1.04.2-1.43.59L10.3 9.45l-7.72 7.72c-.78.78-.78 2.05 0 2.83L4 21.41c.39.39.9.59 1.41.59.51 0 1.02-.2 1.41-.59l7.78-7.78 2.81-2.81c.8-.78.8-2.07 0-2.86zM5.41 20L4 18.59l7.72-7.72 1.47 1.35L5.41 20z\"/>\n",
              "  </svg>\n",
              "      </button>\n",
              "      \n",
              "  <style>\n",
              "    .colab-df-container {\n",
              "      display:flex;\n",
              "      flex-wrap:wrap;\n",
              "      gap: 12px;\n",
              "    }\n",
              "\n",
              "    .colab-df-convert {\n",
              "      background-color: #E8F0FE;\n",
              "      border: none;\n",
              "      border-radius: 50%;\n",
              "      cursor: pointer;\n",
              "      display: none;\n",
              "      fill: #1967D2;\n",
              "      height: 32px;\n",
              "      padding: 0 0 0 0;\n",
              "      width: 32px;\n",
              "    }\n",
              "\n",
              "    .colab-df-convert:hover {\n",
              "      background-color: #E2EBFA;\n",
              "      box-shadow: 0px 1px 2px rgba(60, 64, 67, 0.3), 0px 1px 3px 1px rgba(60, 64, 67, 0.15);\n",
              "      fill: #174EA6;\n",
              "    }\n",
              "\n",
              "    [theme=dark] .colab-df-convert {\n",
              "      background-color: #3B4455;\n",
              "      fill: #D2E3FC;\n",
              "    }\n",
              "\n",
              "    [theme=dark] .colab-df-convert:hover {\n",
              "      background-color: #434B5C;\n",
              "      box-shadow: 0px 1px 3px 1px rgba(0, 0, 0, 0.15);\n",
              "      filter: drop-shadow(0px 1px 2px rgba(0, 0, 0, 0.3));\n",
              "      fill: #FFFFFF;\n",
              "    }\n",
              "  </style>\n",
              "\n",
              "      <script>\n",
              "        const buttonEl =\n",
              "          document.querySelector('#df-21a65b2d-547d-4cac-86c1-430a72a0f9a9 button.colab-df-convert');\n",
              "        buttonEl.style.display =\n",
              "          google.colab.kernel.accessAllowed ? 'block' : 'none';\n",
              "\n",
              "        async function convertToInteractive(key) {\n",
              "          const element = document.querySelector('#df-21a65b2d-547d-4cac-86c1-430a72a0f9a9');\n",
              "          const dataTable =\n",
              "            await google.colab.kernel.invokeFunction('convertToInteractive',\n",
              "                                                     [key], {});\n",
              "          if (!dataTable) return;\n",
              "\n",
              "          const docLinkHtml = 'Like what you see? Visit the ' +\n",
              "            '<a target=\"_blank\" href=https://colab.research.google.com/notebooks/data_table.ipynb>data table notebook</a>'\n",
              "            + ' to learn more about interactive tables.';\n",
              "          element.innerHTML = '';\n",
              "          dataTable['output_type'] = 'display_data';\n",
              "          await google.colab.output.renderOutput(dataTable, element);\n",
              "          const docLink = document.createElement('div');\n",
              "          docLink.innerHTML = docLinkHtml;\n",
              "          element.appendChild(docLink);\n",
              "        }\n",
              "      </script>\n",
              "    </div>\n",
              "  </div>\n",
              "  "
            ]
          },
          "metadata": {},
          "execution_count": 70
        }
      ]
    },
    {
      "cell_type": "code",
      "source": [
        "fit = umap.UMAP()\n",
        "reduced_embedding = fit.fit_transform(df_embedding)"
      ],
      "metadata": {
        "id": "tdi7EOf3I5eJ"
      },
      "execution_count": 71,
      "outputs": []
    },
    {
      "cell_type": "code",
      "source": [
        "reduced_embedding = pd.DataFrame(reduced_embedding, columns=['dim1', 'dim2'])\n",
        "reduced_embedding[\"drug class\"] = np.array(label_value1)\n",
        "reduced_embedding[\"drug mechanism\"] = np.array(label_value2)\n",
        "\n",
        "sns.relplot(data=reduced_embedding, x=\"dim1\", y='dim2',\n",
        "                hue='drug class', hue_order=label_code_1.keys(), aspect=1.61, alpha = 0.1)\n",
        "plt.show()"
      ],
      "metadata": {
        "id": "3Ul60frjMS5b",
        "outputId": "a8d00877-183d-47af-a484-3c24855c6c23",
        "colab": {
          "base_uri": "https://localhost:8080/",
          "height": 365
        }
      },
      "execution_count": 72,
      "outputs": [
        {
          "output_type": "display_data",
          "data": {
            "text/plain": [
              "<Figure size 713.7x360 with 1 Axes>"
            ],
            "image/png": "[encoded data removed]"
          },
          "metadata": {}
        }
      ]
    },
    {
      "cell_type": "code",
      "source": [
        "sns.relplot(data=reduced_embedding, x=\"dim1\", y='dim2',\n",
        "                hue='drug mechanism', hue_order=label_code_2.keys(), aspect=1.61, alpha = 0.1)\n",
        "plt.show()"
      ],
      "metadata": {
        "id": "O6mrT4GQI5hC",
        "outputId": "bfc2f4c5-66b5-4353-c462-add6d593cf2b",
        "colab": {
          "base_uri": "https://localhost:8080/",
          "height": 365
        }
      },
      "execution_count": 73,
      "outputs": [
        {
          "output_type": "display_data",
          "data": {
            "text/plain": [
              "<Figure size 921.2x360 with 1 Axes>"
            ],
            "image/png": "[encoded data removed]"
          },
          "metadata": {}
        }
      ]
    },
    {
      "cell_type": "code",
      "source": [
        ""
      ],
      "metadata": {
        "id": "3p-5qElOI5jt"
      },
      "execution_count": 73,
      "outputs": []
    },
    {
      "cell_type": "markdown",
      "source": [
        "## Multitask Model Baseline"
      ],
      "metadata": {
        "id": "gYmI6DQKGn8e"
      }
    },
    {
      "cell_type": "code",
      "source": [
        "class cnn1d_multitask_baseline(nn.Module):\n",
        "    def __init__(self, label_count1 = len(label_code_1), label_count2 = len(label_code_2)):\n",
        "        super(cnn1d_multitask_baseline, self).__init__()\n",
        "        count = 2*(label_count1+label_count2)\n",
        "        self.embedding = nn.Embedding(5, count)\n",
        "        \n",
        "        self.dense1 = nn.Sequential(nn.Linear(count*2000, label_count1))\n",
        "        self.dense2 = nn.Sequential(nn.Linear(count*2000, label_count2))\n",
        "\n",
        "    def forward(self, x):\n",
        "        \"\"\"Extract first fully connected feature vector\"\"\"\n",
        "        # Apply convolutions\n",
        "        x = self.embedding(x)\n",
        "        x = torch.flatten(x, 1)\n",
        "        x1 = self.dense1(x)\n",
        "        x2 = self.dense2(x)\n",
        "        \n",
        "        return x1, x2"
      ],
      "metadata": {
        "id": "ukMSkSkiI5mY"
      },
      "execution_count": 87,
      "outputs": []
    },
    {
      "cell_type": "code",
      "source": [
        "model = cnn1d_multitask_baseline(label_count1=len(label_code_2), label_count2 = len(label_code_2))\n",
        "model = model.to(device)"
      ],
      "metadata": {
        "id": "BCJBUcE7He5r"
      },
      "execution_count": 88,
      "outputs": []
    },
    {
      "cell_type": "code",
      "source": [
        "print(\"epoch\", \"train loss\", \"validation loss\")\n",
        "optimizer = torch.optim.Adam(list(model.parameters()), lr=0.5*1e-3) \n",
        "val_loss_curve = []\n",
        "train_loss_curve = []\n",
        "\n",
        "for epoch in range(8):\n",
        "    \n",
        "    # Compute train your model on training data\n",
        "    epoch_loss, train_loss = train_multitask(model, train_dataloader, optimizer,  device=device)\n",
        "    \n",
        "    # Validate your on validation data \n",
        "    epoch_loss , val_loss = validate_multitask(model, val_dataloader, device=device) \n",
        "    \n",
        "    # Record train and loss performance \n",
        "    train_loss_curve.append(epoch_loss)\n",
        "    val_loss_curve.append(val_loss)\n",
        "    \n",
        "    \n",
        "    print(epoch, train_loss, val_loss)"
      ],
      "metadata": {
        "id": "aHEh7SD4I5os",
        "colab": {
          "base_uri": "https://localhost:8080/"
        },
        "outputId": "81b93a67-2d2f-4d8f-c47e-1693fe716bce"
      },
      "execution_count": 89,
      "outputs": [
        {
          "output_type": "stream",
          "name": "stdout",
          "text": [
            "epoch train loss validation loss\n",
            "0 0.7721579 0.5377292\n",
            "1 0.2059067 0.4288752\n",
            "2 0.09012158 0.40849414\n",
            "3 0.042949487 0.46446496\n",
            "4 0.029427113 0.4305219\n",
            "5 0.022257257 0.43932706\n",
            "6 0.017455593 0.46399453\n",
            "7 0.027116992 0.47813675\n"
          ]
        }
      ]
    },
    {
      "cell_type": "code",
      "source": [
        "pred_labels_class = []\n",
        "pred_labels_mechanism = []\n",
        "true_labels_class = []\n",
        "true_labels_mechanism = []\n",
        "test_loss = 0\n",
        "with torch.no_grad():\n",
        "  model.eval()\n",
        "  for batch in test_dataloader:\n",
        "    seq, label = batch\n",
        "    seq = seq.to(device)\n",
        "    label = label.to(device)\n",
        "    logits = model(seq)\n",
        "    loss1 = nn.functional.cross_entropy(logits[0], label.squeeze()[:, 0])# fill in loss here\n",
        "    loss2 = nn.functional.cross_entropy(logits[1], label.squeeze()[:, 1])\n",
        "    loss = (loss1+loss2)/2\n",
        "    test_loss += loss*len(label)\n",
        "    preds1 = logits[0].max(1).indices\n",
        "    preds2 = logits[1].max(1).indices\n",
        "    true_labels_class.extend(list(label.squeeze().detach().cpu().numpy()[:, 0]))\n",
        "    true_labels_mechanism.extend(list(label.squeeze().detach().cpu().numpy()[:, 1]))\n",
        "\n",
        "    pred_labels_class.extend(list(preds1.squeeze().detach().cpu().numpy()))\n",
        "    pred_labels_mechanism.extend(list(preds2.squeeze().detach().cpu().numpy()))\n",
        "test_loss = test_loss/len(test_data)\n",
        "test_loss = test_loss.detach().cpu().numpy()\n",
        "print(\"Test loss is {}\".format(test_loss))\n",
        "class_acc = (np.array(true_labels_class) ==  np.array(pred_labels_class)).mean()\n",
        "mechanism_acc = (np.array(true_labels_mechanism) ==  np.array(pred_labels_mechanism)).mean()\n",
        "\n",
        "print(\"Test Acc for Class Prediction is {}\".format(class_acc))\n",
        "print(\"Test Acc for Mechanism Prediction is {}\".format(mechanism_acc))"
      ],
      "metadata": {
        "id": "HqSnEbJ3_XHt",
        "colab": {
          "base_uri": "https://localhost:8080/"
        },
        "outputId": "453eb459-0bcd-4e87-ef29-4d83349868cd"
      },
      "execution_count": 90,
      "outputs": [
        {
          "output_type": "stream",
          "name": "stdout",
          "text": [
            "Test loss is 0.4154670536518097\n",
            "Test Acc for Class Prediction is 0.9194373401534527\n",
            "Test Acc for Mechanism Prediction is 0.8797953964194374\n"
          ]
        }
      ]
    },
    {
      "cell_type": "code",
      "source": [
        ""
      ],
      "metadata": {
        "id": "kI5003Rq_XKD"
      },
      "execution_count": 78,
      "outputs": []
    },
    {
      "cell_type": "code",
      "source": [
        ""
      ],
      "metadata": {
        "id": "5LNniIjNLnkv"
      },
      "execution_count": null,
      "outputs": []
    },
    {
      "cell_type": "code",
      "source": [
        ""
      ],
      "metadata": {
        "id": "E93PZL4YLnqK"
      },
      "execution_count": null,
      "outputs": []
    },
    {
      "cell_type": "code",
      "source": [
        ""
      ],
      "metadata": {
        "id": "v427GMW9KUI6"
      },
      "execution_count": 78,
      "outputs": []
    },
    {
      "cell_type": "code",
      "source": [
        ""
      ],
      "metadata": {
        "id": "yPntt1QaKULi"
      },
      "execution_count": 78,
      "outputs": []
    },
    {
      "cell_type": "code",
      "source": [
        ""
      ],
      "metadata": {
        "id": "M5CwkNoEKUOb"
      },
      "execution_count": 78,
      "outputs": []
    },
    {
      "cell_type": "code",
      "source": [
        "\n",
        "# Create dataloaders"
      ],
      "metadata": {
        "id": "Q054V7yjHyTu"
      },
      "execution_count": 80,
      "outputs": []
    },
    {
      "cell_type": "code",
      "source": [
        ""
      ],
      "metadata": {
        "id": "crbZQocEsj66"
      },
      "execution_count": 80,
      "outputs": []
    },
    {
      "cell_type": "code",
      "source": [
        "# Create model"
      ],
      "metadata": {
        "id": "-wusVD4NH3n2"
      },
      "execution_count": 81,
      "outputs": []
    },
    {
      "cell_type": "code",
      "source": [
        "# Train model"
      ],
      "metadata": {
        "id": "mSt5nJ-FH5Bp"
      },
      "execution_count": 82,
      "outputs": []
    },
    {
      "cell_type": "code",
      "source": [
        "# Test model"
      ],
      "metadata": {
        "id": "Q2QYo93RH6qy"
      },
      "execution_count": 83,
      "outputs": []
    }
  ]
}